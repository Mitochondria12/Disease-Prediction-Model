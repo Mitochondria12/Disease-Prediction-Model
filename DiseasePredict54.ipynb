{
 "cells": [
  {
   "cell_type": "code",
   "execution_count": 2,
   "metadata": {},
   "outputs": [
    {
     "name": "stdout",
     "output_type": "stream",
     "text": [
      "274\n",
      "Epoch 1/30\n",
      "3/3 [==============================] - 1s 6ms/step - loss: 746.9918 - accuracy: 0.4729\n",
      "Epoch 2/30\n",
      "3/3 [==============================] - 0s 4ms/step - loss: 320.4411 - accuracy: 0.4299\n",
      "Epoch 3/30\n",
      "3/3 [==============================] - 0s 3ms/step - loss: 190.0853 - accuracy: 0.5701\n",
      "Epoch 4/30\n",
      "3/3 [==============================] - 0s 3ms/step - loss: 153.3307 - accuracy: 0.5769\n",
      "Epoch 5/30\n",
      "3/3 [==============================] - 0s 4ms/step - loss: 205.1470 - accuracy: 0.5973\n",
      "Epoch 6/30\n",
      "3/3 [==============================] - 0s 4ms/step - loss: 157.7244 - accuracy: 0.5995\n",
      "Epoch 7/30\n",
      "3/3 [==============================] - 0s 4ms/step - loss: 102.5309 - accuracy: 0.6176\n",
      "Epoch 8/30\n",
      "3/3 [==============================] - 0s 4ms/step - loss: 86.2300 - accuracy: 0.6018\n",
      "Epoch 9/30\n",
      "3/3 [==============================] - 0s 3ms/step - loss: 63.1955 - accuracy: 0.6063\n",
      "Epoch 10/30\n",
      "3/3 [==============================] - 0s 4ms/step - loss: 69.7135 - accuracy: 0.5973\n",
      "Epoch 11/30\n",
      "3/3 [==============================] - 0s 4ms/step - loss: 49.8797 - accuracy: 0.5679\n",
      "Epoch 12/30\n",
      "3/3 [==============================] - 0s 14ms/step - loss: 43.1789 - accuracy: 0.6833\n",
      "Epoch 13/30\n",
      "3/3 [==============================] - 0s 4ms/step - loss: 47.7513 - accuracy: 0.6697\n",
      "Epoch 14/30\n",
      "3/3 [==============================] - 0s 4ms/step - loss: 37.2921 - accuracy: 0.6471\n",
      "Epoch 15/30\n",
      "3/3 [==============================] - 0s 4ms/step - loss: 28.1796 - accuracy: 0.6697\n",
      "Epoch 16/30\n",
      "3/3 [==============================] - 0s 3ms/step - loss: 28.8042 - accuracy: 0.6335\n",
      "Epoch 17/30\n",
      "3/3 [==============================] - 0s 4ms/step - loss: 22.8705 - accuracy: 0.6652\n",
      "Epoch 18/30\n",
      "3/3 [==============================] - 0s 3ms/step - loss: 22.7453 - accuracy: 0.6923\n",
      "Epoch 19/30\n",
      "3/3 [==============================] - 0s 3ms/step - loss: 18.1131 - accuracy: 0.7059\n",
      "Epoch 20/30\n",
      "3/3 [==============================] - 0s 3ms/step - loss: 18.3749 - accuracy: 0.6878\n",
      "Epoch 21/30\n",
      "3/3 [==============================] - 0s 3ms/step - loss: 13.8540 - accuracy: 0.7308\n",
      "Epoch 22/30\n",
      "3/3 [==============================] - 0s 4ms/step - loss: 12.7793 - accuracy: 0.7353\n",
      "Epoch 23/30\n",
      "3/3 [==============================] - 0s 3ms/step - loss: 10.5597 - accuracy: 0.7421\n",
      "Epoch 24/30\n",
      "3/3 [==============================] - 0s 4ms/step - loss: 9.8348 - accuracy: 0.7534\n",
      "Epoch 25/30\n",
      "3/3 [==============================] - 0s 4ms/step - loss: 8.5161 - accuracy: 0.7670\n",
      "Epoch 26/30\n",
      "3/3 [==============================] - 0s 4ms/step - loss: 8.4316 - accuracy: 0.7557\n",
      "Epoch 27/30\n",
      "3/3 [==============================] - 0s 3ms/step - loss: 6.2680 - accuracy: 0.7805\n",
      "Epoch 28/30\n",
      "3/3 [==============================] - 0s 3ms/step - loss: 5.1909 - accuracy: 0.7624\n",
      "Epoch 29/30\n",
      "3/3 [==============================] - 0s 5ms/step - loss: 5.2009 - accuracy: 0.7986\n",
      "Epoch 30/30\n",
      "3/3 [==============================] - 0s 3ms/step - loss: 7.1797 - accuracy: 0.7760\n",
      "I will determine the accuracy of my test data.\n",
      "9/9 [==============================] - 0s 2ms/step - loss: 41.0798 - accuracy: 0.5438\n"
     ]
    }
   ],
   "source": [
    "import tensorflow as \n",
    "import pandas as pd\n",
    "from imblearn.over_sampling import SMOTE\n",
    "from sklearn.model_selection import train_test_split\n",
    "from tensorflow import keras\n",
    "from tensorflow.keras import layers\n",
    "\n",
    "Dataset= pd.read_csv(\"Training.csv\")\n",
    "\n",
    "\n",
    "Dataset=Dataset.dropna() # remove null values\n",
    "Dataset=Dataset.drop(\"Id\",axis=1) # remove sample information\n",
    "#print(Dataset.value_counts(Dataset[\"Class\"]))\n",
    "Labels=Dataset[[\"Class\"]].copy() # generate separate class dataframe\n",
    "Dataset=Dataset.drop(\"Class\",axis=1) # drop class from feature dataframe\n",
    "mapping = {'A': 1, 'B': 0} # change object from str to int \n",
    "Dataset['EJ'] = Dataset['EJ'].replace(mapping)\n",
    "#print(Dataset.shape)\n",
    "Dataset_train, Dataset_test, Labels_train, Labels_test = train_test_split(Dataset, Labels, test_size=0.5, random_state=42)\n",
    "#print(type(Dataset_train))\n",
    "sm = SMOTE(random_state=42)\n",
    "AltDataset, AltLabels = sm.fit_resample(Dataset_train, Labels_train)\n",
    "#print(AltLabels.value_counts(AltLabels[\"Class\"]))\n",
    "AltDataset = tf.convert_to_tensor(AltDataset.values, dtype=tf.float32)\n",
    "AltLabels=tf.convert_to_tensor(AltLabels.values, dtype=tf.float32)\n",
    "print(len(Labels_train))\n",
    "DiseaseModel=keras.Sequential([layers.Dense(300,activation=\"relu\"),layers.Dense(1,activation=\"sigmoid\")])\n",
    "DiseaseModel.compile(optimizer=\"adam\",loss=\"binary_crossentropy\",metrics=[\"accuracy\"])\n",
    "DiseaseModel.fit(AltDataset,AltLabels,epochs=30,batch_size=150)\n",
    "print(\"I will determine the accuracy of my test data.\")\n",
    "Evaluations=DiseaseModel.evaluate(Dataset_test,Labels_test)"
   ]
  },
  {
   "cell_type": "code",
   "execution_count": 50,
   "metadata": {},
   "outputs": [],
   "source": [
    "import tensorflow as tf\n",
    "from tensorflow.keras.models import Sequential\n",
    "from tensorflow.keras.layers import Dense\n",
    "import numpy as np\n",
    "\n",
    "def create_model():\n",
    "    model = Sequential([Dense(140, activation=\"relu\"),Dense(30, activation=\"swish\"), Dense(1, activation=\"sigmoid\")])\n",
    "    return model\n",
    "\n",
    "loss_function = tf.keras.losses.BinaryCrossentropy()\n",
    "\n",
    "num_models = 100\n",
    "models = [create_model() for _ in range(num_models)]  # Initialize models\n",
    "\n",
    "\n",
    "for generation in range(min(50, len(AltDataset))):  # For each generation\n",
    "    losses = []\n",
    "\n",
    "    for model in models:  # For each model\n",
    "        \n",
    "        sample, label = AltDataset[generation], AltLabels[generation]\n",
    "        optimizer = tf.keras.optimizers.Adam()  # Define optimizer inside the loop\n",
    "        \n",
    "        # Train the model on the sample\n",
    "        with tf.GradientTape() as tape:\n",
    "            prediction = model(sample[None, ...], training=True)  # Forward pass\n",
    "            loss = loss_function(label[None, ...], prediction)  # Compute the loss\n",
    "\n",
    "        gradients = tape.gradient(loss, model.trainable_variables)  # Compute the gradients\n",
    "        optimizer.apply_gradients(zip(gradients, model.trainable_variables))  # Update the weights\n",
    "\n",
    "        losses.append(loss)\n",
    "\n",
    "    sorted_indices = (np.argsort(losses))[1:int((len(models)/2)+1)]\n",
    "    top_20_idx = sorted_indices[:len(models) * 20 // 100]\n",
    "    mid_40_idx = sorted_indices[len(models) * 20 // 100:len(models) * 60 // 100]\n",
    "    bottom_40_idx = sorted_indices[len(models) * 60 // 100:]\n",
    "\n",
    "    def crossover_and_create_models(parents, num_children_per_pair):\n",
    "        new_models = []\n",
    "        num_pairs = len(parents) // 2 * 2  # Ensures an even number of parents\n",
    "        for i in range(0, num_pairs, 2):  # We'll use pairs of parents\n",
    "            for _ in range(num_children_per_pair):\n",
    "                new_model = create_model()\n",
    "                new_model.build((None, sample.shape[0]))\n",
    "                for j in range(len(new_model.weights)):\n",
    "                    mask = np.random.choice([0, 1], size=new_model.weights[j].shape.as_list())\n",
    "                    new_weights = np.where(mask, models[parents[i]].weights[j].numpy(), models[parents[i + 1]].weights[j].numpy())\n",
    "                    new_model.weights[j].assign(new_weights)\n",
    "                new_models.append(new_model)\n",
    "                total_weight = sum([np.sum(w.numpy()) for w in new_model.weights])\n",
    "                #print(f\"Sum of all weights for model {_}: {total_weight}\")\n",
    "        return new_models\n",
    "\n",
    "\n",
    "    # Creating children from top 20%, mid 40%, and bottom 40%\n",
    "    #new_models_top_20 = crossover_and_create_models(top_20_idx, 3)\n",
    "    #new_models_mid_40 = crossover_and_create_models(mid_40_idx, 2)\n",
    "    #new_models_bottom_40 = crossover_and_create_models(bottom_40_idx, 1)\n",
    "    new_models=crossover_and_create_models(sorted_indices,4)\n",
    "    # Combine all the newly created models\n",
    "    #new_models = new_models_top_20 + new_models_mid_40 + new_models_bottom_40\n",
    "    \n",
    "\n",
    "    models = new_models\n",
    "    \n"
   ]
  },
  {
   "cell_type": "code",
   "execution_count": 51,
   "metadata": {},
   "outputs": [
    {
     "name": "stdout",
     "output_type": "stream",
     "text": [
      "[<keras.engine.sequential.Sequential object at 0x0000021D258D8FD0>, <keras.engine.sequential.Sequential object at 0x0000021D2287A7C0>, <keras.engine.sequential.Sequential object at 0x0000021D26FA0DC0>, <keras.engine.sequential.Sequential object at 0x0000021D26DE4B50>, <keras.engine.sequential.Sequential object at 0x0000021D519C3790>, <keras.engine.sequential.Sequential object at 0x0000021D4CDB0DF0>, <keras.engine.sequential.Sequential object at 0x0000021D272C9D90>, <keras.engine.sequential.Sequential object at 0x0000021D477FAB50>, <keras.engine.sequential.Sequential object at 0x0000021D4EA06EB0>, <keras.engine.sequential.Sequential object at 0x0000021D9A511B50>, <keras.engine.sequential.Sequential object at 0x0000021D5BF82DC0>, <keras.engine.sequential.Sequential object at 0x0000021D4CBC7FD0>, <keras.engine.sequential.Sequential object at 0x0000021D5D3C0580>, <keras.engine.sequential.Sequential object at 0x0000021D244C5C40>, <keras.engine.sequential.Sequential object at 0x0000021D1FBB1970>, <keras.engine.sequential.Sequential object at 0x0000021D1FB4E760>, <keras.engine.sequential.Sequential object at 0x0000021D26D87CD0>, <keras.engine.sequential.Sequential object at 0x0000021D519C9B80>, <keras.engine.sequential.Sequential object at 0x0000021D25546760>, <keras.engine.sequential.Sequential object at 0x0000021D26C75E50>, <keras.engine.sequential.Sequential object at 0x0000021D25616370>, <keras.engine.sequential.Sequential object at 0x0000021D271F9760>, <keras.engine.sequential.Sequential object at 0x0000021D243581F0>, <keras.engine.sequential.Sequential object at 0x0000021D25800370>, <keras.engine.sequential.Sequential object at 0x0000021D465AEB80>, <keras.engine.sequential.Sequential object at 0x0000021D1FC27940>, <keras.engine.sequential.Sequential object at 0x0000021D465AE0A0>, <keras.engine.sequential.Sequential object at 0x0000021D26C260D0>, <keras.engine.sequential.Sequential object at 0x0000021D2586F460>, <keras.engine.sequential.Sequential object at 0x0000021D5EBCD1C0>, <keras.engine.sequential.Sequential object at 0x0000021D258743D0>, <keras.engine.sequential.Sequential object at 0x0000021D465AD5E0>, <keras.engine.sequential.Sequential object at 0x0000021D27304280>, <keras.engine.sequential.Sequential object at 0x0000021D2599CEB0>, <keras.engine.sequential.Sequential object at 0x0000021D50299F70>, <keras.engine.sequential.Sequential object at 0x0000021D9A51FC10>, <keras.engine.sequential.Sequential object at 0x0000021D1FBC6430>, <keras.engine.sequential.Sequential object at 0x0000021D5D1C7730>, <keras.engine.sequential.Sequential object at 0x0000021D26F5FE50>, <keras.engine.sequential.Sequential object at 0x0000021D27220A90>, <keras.engine.sequential.Sequential object at 0x0000021D24405AC0>, <keras.engine.sequential.Sequential object at 0x0000021D4656EBE0>, <keras.engine.sequential.Sequential object at 0x0000021D272562E0>, <keras.engine.sequential.Sequential object at 0x0000021D058F3850>, <keras.engine.sequential.Sequential object at 0x0000021D270FA820>, <keras.engine.sequential.Sequential object at 0x0000021D245222B0>, <keras.engine.sequential.Sequential object at 0x0000021D25A3F2E0>, <keras.engine.sequential.Sequential object at 0x0000021D4658DE20>, <keras.engine.sequential.Sequential object at 0x0000021D27095E20>, <keras.engine.sequential.Sequential object at 0x0000021D256130D0>, <keras.engine.sequential.Sequential object at 0x0000021D505E6370>, <keras.engine.sequential.Sequential object at 0x0000021D4658D2B0>, <keras.engine.sequential.Sequential object at 0x0000021D2706F550>, <keras.engine.sequential.Sequential object at 0x0000021D256CE8B0>, <keras.engine.sequential.Sequential object at 0x0000021D27034C70>, <keras.engine.sequential.Sequential object at 0x0000021D2592B850>, <keras.engine.sequential.Sequential object at 0x0000021D2584ED30>, <keras.engine.sequential.Sequential object at 0x0000021D5D456FA0>, <keras.engine.sequential.Sequential object at 0x0000021D25B3D490>, <keras.engine.sequential.Sequential object at 0x0000021D2592ABB0>, <keras.engine.sequential.Sequential object at 0x0000021D2700DEE0>, <keras.engine.sequential.Sequential object at 0x0000021D9A5562E0>, <keras.engine.sequential.Sequential object at 0x0000021D26EB16D0>, <keras.engine.sequential.Sequential object at 0x0000021D46602F70>, <keras.engine.sequential.Sequential object at 0x0000021D26E4EC70>, <keras.engine.sequential.Sequential object at 0x0000021D2721C340>, <keras.engine.sequential.Sequential object at 0x0000021D255C3100>, <keras.engine.sequential.Sequential object at 0x0000021D25666A60>, <keras.engine.sequential.Sequential object at 0x0000021D25997BE0>, <keras.engine.sequential.Sequential object at 0x0000021D1FC49760>, <keras.engine.sequential.Sequential object at 0x0000021D26EF6A00>, <keras.engine.sequential.Sequential object at 0x0000021D2443B220>, <keras.engine.sequential.Sequential object at 0x0000021D1FD522E0>, <keras.engine.sequential.Sequential object at 0x0000021D25A92FD0>, <keras.engine.sequential.Sequential object at 0x0000021D272C3490>, <keras.engine.sequential.Sequential object at 0x0000021D27015CD0>, <keras.engine.sequential.Sequential object at 0x0000021D270155E0>, <keras.engine.sequential.Sequential object at 0x0000021D5A3B9610>, <keras.engine.sequential.Sequential object at 0x0000021D2569DFD0>, <keras.engine.sequential.Sequential object at 0x0000021D26DE15E0>, <keras.engine.sequential.Sequential object at 0x0000021D5D4D1550>, <keras.engine.sequential.Sequential object at 0x0000021D26F165B0>, <keras.engine.sequential.Sequential object at 0x0000021D258347F0>, <keras.engine.sequential.Sequential object at 0x0000021D4CBC3160>, <keras.engine.sequential.Sequential object at 0x0000021D2836DF10>, <keras.engine.sequential.Sequential object at 0x0000021D4D662220>, <keras.engine.sequential.Sequential object at 0x0000021D5A7A2550>, <keras.engine.sequential.Sequential object at 0x0000021D2450E310>, <keras.engine.sequential.Sequential object at 0x0000021D53207760>, <keras.engine.sequential.Sequential object at 0x0000021D4671E520>, <keras.engine.sequential.Sequential object at 0x0000021D2443C040>, <keras.engine.sequential.Sequential object at 0x0000021D26F82370>, <keras.engine.sequential.Sequential object at 0x0000021D1FC28E80>, <keras.engine.sequential.Sequential object at 0x0000021D531955B0>, <keras.engine.sequential.Sequential object at 0x0000021D26C495B0>, <keras.engine.sequential.Sequential object at 0x0000021D5D3EC250>, <keras.engine.sequential.Sequential object at 0x0000021D243BEA90>, <keras.engine.sequential.Sequential object at 0x0000021D243F2760>, <keras.engine.sequential.Sequential object at 0x0000021D51CB7D60>, <keras.engine.sequential.Sequential object at 0x0000021D1FD46760>]\n",
      "9/9 [==============================] - 0s 3ms/step\n",
      "1/9 [==>...........................] - ETA: 0s"
     ]
    },
    {
     "name": "stderr",
     "output_type": "stream",
     "text": [
      "C:\\Users\\James\\AppData\\Local\\Temp\\ipykernel_18756\\3629399350.py:20: RuntimeWarning: invalid value encountered in long_scalars\n",
      "  precision_class_one = TP / (TP + FP)\n"
     ]
    },
    {
     "name": "stdout",
     "output_type": "stream",
     "text": [
      "9/9 [==============================] - 0s 3ms/step\n"
     ]
    },
    {
     "name": "stderr",
     "output_type": "stream",
     "text": [
      "C:\\Users\\James\\AppData\\Local\\Temp\\ipykernel_18756\\3629399350.py:20: RuntimeWarning: invalid value encountered in long_scalars\n",
      "  precision_class_one = TP / (TP + FP)\n"
     ]
    },
    {
     "name": "stdout",
     "output_type": "stream",
     "text": [
      "9/9 [==============================] - 0s 4ms/step\n"
     ]
    },
    {
     "name": "stderr",
     "output_type": "stream",
     "text": [
      "C:\\Users\\James\\AppData\\Local\\Temp\\ipykernel_18756\\3629399350.py:20: RuntimeWarning: invalid value encountered in long_scalars\n",
      "  precision_class_one = TP / (TP + FP)\n"
     ]
    },
    {
     "name": "stdout",
     "output_type": "stream",
     "text": [
      "9/9 [==============================] - 0s 3ms/step\n",
      "1/9 [==>...........................] - ETA: 1s"
     ]
    },
    {
     "name": "stderr",
     "output_type": "stream",
     "text": [
      "C:\\Users\\James\\AppData\\Local\\Temp\\ipykernel_18756\\3629399350.py:20: RuntimeWarning: invalid value encountered in long_scalars\n",
      "  precision_class_one = TP / (TP + FP)\n"
     ]
    },
    {
     "name": "stdout",
     "output_type": "stream",
     "text": [
      "9/9 [==============================] - 0s 3ms/step\n",
      "9/9 [==============================] - 0s 2ms/step\n",
      "9/9 [==============================] - 0s 2ms/step\n"
     ]
    },
    {
     "name": "stderr",
     "output_type": "stream",
     "text": [
      "C:\\Users\\James\\AppData\\Local\\Temp\\ipykernel_18756\\3629399350.py:20: RuntimeWarning: invalid value encountered in long_scalars\n",
      "  precision_class_one = TP / (TP + FP)\n",
      "C:\\Users\\James\\AppData\\Local\\Temp\\ipykernel_18756\\3629399350.py:20: RuntimeWarning: invalid value encountered in long_scalars\n",
      "  precision_class_one = TP / (TP + FP)\n"
     ]
    },
    {
     "name": "stdout",
     "output_type": "stream",
     "text": [
      "9/9 [==============================] - 0s 4ms/step\n"
     ]
    },
    {
     "name": "stderr",
     "output_type": "stream",
     "text": [
      "C:\\Users\\James\\AppData\\Local\\Temp\\ipykernel_18756\\3629399350.py:20: RuntimeWarning: invalid value encountered in long_scalars\n",
      "  precision_class_one = TP / (TP + FP)\n"
     ]
    },
    {
     "name": "stdout",
     "output_type": "stream",
     "text": [
      "9/9 [==============================] - 0s 4ms/step\n"
     ]
    },
    {
     "name": "stderr",
     "output_type": "stream",
     "text": [
      "C:\\Users\\James\\AppData\\Local\\Temp\\ipykernel_18756\\3629399350.py:20: RuntimeWarning: invalid value encountered in long_scalars\n",
      "  precision_class_one = TP / (TP + FP)\n"
     ]
    },
    {
     "name": "stdout",
     "output_type": "stream",
     "text": [
      "9/9 [==============================] - 0s 2ms/step\n",
      "9/9 [==============================] - 0s 2ms/step\n"
     ]
    },
    {
     "name": "stderr",
     "output_type": "stream",
     "text": [
      "C:\\Users\\James\\AppData\\Local\\Temp\\ipykernel_18756\\3629399350.py:20: RuntimeWarning: invalid value encountered in long_scalars\n",
      "  precision_class_one = TP / (TP + FP)\n",
      "C:\\Users\\James\\AppData\\Local\\Temp\\ipykernel_18756\\3629399350.py:20: RuntimeWarning: invalid value encountered in long_scalars\n",
      "  precision_class_one = TP / (TP + FP)\n"
     ]
    },
    {
     "name": "stdout",
     "output_type": "stream",
     "text": [
      "9/9 [==============================] - 0s 2ms/step\n",
      "9/9 [==============================] - 0s 1ms/step\n"
     ]
    },
    {
     "name": "stderr",
     "output_type": "stream",
     "text": [
      "C:\\Users\\James\\AppData\\Local\\Temp\\ipykernel_18756\\3629399350.py:20: RuntimeWarning: invalid value encountered in long_scalars\n",
      "  precision_class_one = TP / (TP + FP)\n",
      "C:\\Users\\James\\AppData\\Local\\Temp\\ipykernel_18756\\3629399350.py:20: RuntimeWarning: invalid value encountered in long_scalars\n",
      "  precision_class_one = TP / (TP + FP)\n"
     ]
    },
    {
     "name": "stdout",
     "output_type": "stream",
     "text": [
      "9/9 [==============================] - 0s 2ms/step\n",
      "9/9 [==============================] - 0s 2ms/step\n"
     ]
    },
    {
     "name": "stderr",
     "output_type": "stream",
     "text": [
      "C:\\Users\\James\\AppData\\Local\\Temp\\ipykernel_18756\\3629399350.py:20: RuntimeWarning: invalid value encountered in long_scalars\n",
      "  precision_class_one = TP / (TP + FP)\n",
      "C:\\Users\\James\\AppData\\Local\\Temp\\ipykernel_18756\\3629399350.py:20: RuntimeWarning: invalid value encountered in long_scalars\n",
      "  precision_class_one = TP / (TP + FP)\n"
     ]
    },
    {
     "name": "stdout",
     "output_type": "stream",
     "text": [
      "9/9 [==============================] - 0s 2ms/step\n",
      "9/9 [==============================] - 0s 2ms/step\n",
      "9/9 [==============================] - 0s 2ms/step\n"
     ]
    },
    {
     "name": "stderr",
     "output_type": "stream",
     "text": [
      "C:\\Users\\James\\AppData\\Local\\Temp\\ipykernel_18756\\3629399350.py:20: RuntimeWarning: invalid value encountered in long_scalars\n",
      "  precision_class_one = TP / (TP + FP)\n",
      "C:\\Users\\James\\AppData\\Local\\Temp\\ipykernel_18756\\3629399350.py:20: RuntimeWarning: invalid value encountered in long_scalars\n",
      "  precision_class_one = TP / (TP + FP)\n"
     ]
    },
    {
     "name": "stdout",
     "output_type": "stream",
     "text": [
      "9/9 [==============================] - 0s 2ms/step\n",
      "9/9 [==============================] - 0s 2ms/step\n",
      "9/9 [==============================] - 0s 2ms/step\n",
      "9/9 [==============================] - 0s 2ms/step\n"
     ]
    },
    {
     "name": "stderr",
     "output_type": "stream",
     "text": [
      "C:\\Users\\James\\AppData\\Local\\Temp\\ipykernel_18756\\3629399350.py:20: RuntimeWarning: invalid value encountered in long_scalars\n",
      "  precision_class_one = TP / (TP + FP)\n",
      "C:\\Users\\James\\AppData\\Local\\Temp\\ipykernel_18756\\3629399350.py:20: RuntimeWarning: invalid value encountered in long_scalars\n",
      "  precision_class_one = TP / (TP + FP)\n"
     ]
    },
    {
     "name": "stdout",
     "output_type": "stream",
     "text": [
      "9/9 [==============================] - 0s 2ms/step\n",
      "9/9 [==============================] - 0s 2ms/step\n"
     ]
    },
    {
     "name": "stderr",
     "output_type": "stream",
     "text": [
      "C:\\Users\\James\\AppData\\Local\\Temp\\ipykernel_18756\\3629399350.py:20: RuntimeWarning: invalid value encountered in long_scalars\n",
      "  precision_class_one = TP / (TP + FP)\n",
      "C:\\Users\\James\\AppData\\Local\\Temp\\ipykernel_18756\\3629399350.py:20: RuntimeWarning: invalid value encountered in long_scalars\n",
      "  precision_class_one = TP / (TP + FP)\n"
     ]
    },
    {
     "name": "stdout",
     "output_type": "stream",
     "text": [
      "9/9 [==============================] - 0s 2ms/step\n",
      "9/9 [==============================] - 0s 2ms/step\n"
     ]
    },
    {
     "name": "stderr",
     "output_type": "stream",
     "text": [
      "C:\\Users\\James\\AppData\\Local\\Temp\\ipykernel_18756\\3629399350.py:20: RuntimeWarning: invalid value encountered in long_scalars\n",
      "  precision_class_one = TP / (TP + FP)\n"
     ]
    },
    {
     "name": "stdout",
     "output_type": "stream",
     "text": [
      "9/9 [==============================] - 0s 1ms/step\n",
      "9/9 [==============================] - 0s 2ms/step\n"
     ]
    },
    {
     "name": "stderr",
     "output_type": "stream",
     "text": [
      "C:\\Users\\James\\AppData\\Local\\Temp\\ipykernel_18756\\3629399350.py:20: RuntimeWarning: invalid value encountered in long_scalars\n",
      "  precision_class_one = TP / (TP + FP)\n",
      "C:\\Users\\James\\AppData\\Local\\Temp\\ipykernel_18756\\3629399350.py:20: RuntimeWarning: invalid value encountered in long_scalars\n",
      "  precision_class_one = TP / (TP + FP)\n"
     ]
    },
    {
     "name": "stdout",
     "output_type": "stream",
     "text": [
      "9/9 [==============================] - 0s 2ms/step\n",
      "9/9 [==============================] - 0s 1ms/step\n"
     ]
    },
    {
     "name": "stderr",
     "output_type": "stream",
     "text": [
      "C:\\Users\\James\\AppData\\Local\\Temp\\ipykernel_18756\\3629399350.py:20: RuntimeWarning: invalid value encountered in long_scalars\n",
      "  precision_class_one = TP / (TP + FP)\n",
      "C:\\Users\\James\\AppData\\Local\\Temp\\ipykernel_18756\\3629399350.py:20: RuntimeWarning: invalid value encountered in long_scalars\n",
      "  precision_class_one = TP / (TP + FP)\n"
     ]
    },
    {
     "name": "stdout",
     "output_type": "stream",
     "text": [
      "9/9 [==============================] - 0s 2ms/step\n",
      "9/9 [==============================] - 0s 2ms/step\n"
     ]
    },
    {
     "name": "stderr",
     "output_type": "stream",
     "text": [
      "C:\\Users\\James\\AppData\\Local\\Temp\\ipykernel_18756\\3629399350.py:20: RuntimeWarning: invalid value encountered in long_scalars\n",
      "  precision_class_one = TP / (TP + FP)\n",
      "C:\\Users\\James\\AppData\\Local\\Temp\\ipykernel_18756\\3629399350.py:20: RuntimeWarning: invalid value encountered in long_scalars\n",
      "  precision_class_one = TP / (TP + FP)\n"
     ]
    },
    {
     "name": "stdout",
     "output_type": "stream",
     "text": [
      "9/9 [==============================] - 0s 2ms/step\n",
      "9/9 [==============================] - 0s 2ms/step\n"
     ]
    },
    {
     "name": "stderr",
     "output_type": "stream",
     "text": [
      "C:\\Users\\James\\AppData\\Local\\Temp\\ipykernel_18756\\3629399350.py:20: RuntimeWarning: invalid value encountered in long_scalars\n",
      "  precision_class_one = TP / (TP + FP)\n",
      "C:\\Users\\James\\AppData\\Local\\Temp\\ipykernel_18756\\3629399350.py:20: RuntimeWarning: invalid value encountered in long_scalars\n",
      "  precision_class_one = TP / (TP + FP)\n"
     ]
    },
    {
     "name": "stdout",
     "output_type": "stream",
     "text": [
      "9/9 [==============================] - 0s 2ms/step\n",
      "9/9 [==============================] - 0s 2ms/step\n"
     ]
    },
    {
     "name": "stderr",
     "output_type": "stream",
     "text": [
      "C:\\Users\\James\\AppData\\Local\\Temp\\ipykernel_18756\\3629399350.py:20: RuntimeWarning: invalid value encountered in long_scalars\n",
      "  precision_class_one = TP / (TP + FP)\n",
      "C:\\Users\\James\\AppData\\Local\\Temp\\ipykernel_18756\\3629399350.py:20: RuntimeWarning: invalid value encountered in long_scalars\n",
      "  precision_class_one = TP / (TP + FP)\n"
     ]
    },
    {
     "name": "stdout",
     "output_type": "stream",
     "text": [
      "9/9 [==============================] - 0s 2ms/step\n",
      "9/9 [==============================] - 0s 2ms/step\n"
     ]
    },
    {
     "name": "stderr",
     "output_type": "stream",
     "text": [
      "C:\\Users\\James\\AppData\\Local\\Temp\\ipykernel_18756\\3629399350.py:20: RuntimeWarning: invalid value encountered in long_scalars\n",
      "  precision_class_one = TP / (TP + FP)\n",
      "C:\\Users\\James\\AppData\\Local\\Temp\\ipykernel_18756\\3629399350.py:20: RuntimeWarning: invalid value encountered in long_scalars\n",
      "  precision_class_one = TP / (TP + FP)\n"
     ]
    },
    {
     "name": "stdout",
     "output_type": "stream",
     "text": [
      "9/9 [==============================] - 0s 2ms/step\n",
      "9/9 [==============================] - 0s 2ms/step\n"
     ]
    },
    {
     "name": "stderr",
     "output_type": "stream",
     "text": [
      "C:\\Users\\James\\AppData\\Local\\Temp\\ipykernel_18756\\3629399350.py:20: RuntimeWarning: invalid value encountered in long_scalars\n",
      "  precision_class_one = TP / (TP + FP)\n",
      "C:\\Users\\James\\AppData\\Local\\Temp\\ipykernel_18756\\3629399350.py:20: RuntimeWarning: invalid value encountered in long_scalars\n",
      "  precision_class_one = TP / (TP + FP)\n"
     ]
    },
    {
     "name": "stdout",
     "output_type": "stream",
     "text": [
      "9/9 [==============================] - 0s 2ms/step\n",
      "9/9 [==============================] - 0s 2ms/step\n"
     ]
    },
    {
     "name": "stderr",
     "output_type": "stream",
     "text": [
      "C:\\Users\\James\\AppData\\Local\\Temp\\ipykernel_18756\\3629399350.py:20: RuntimeWarning: invalid value encountered in long_scalars\n",
      "  precision_class_one = TP / (TP + FP)\n"
     ]
    },
    {
     "name": "stdout",
     "output_type": "stream",
     "text": [
      "9/9 [==============================] - 0s 5ms/step\n",
      "9/9 [==============================] - 0s 2ms/step\n",
      "9/9 [==============================] - 0s 2ms/step\n",
      "1/9 [==>...........................] - ETA: 0s"
     ]
    },
    {
     "name": "stderr",
     "output_type": "stream",
     "text": [
      "C:\\Users\\James\\AppData\\Local\\Temp\\ipykernel_18756\\3629399350.py:20: RuntimeWarning: invalid value encountered in long_scalars\n",
      "  precision_class_one = TP / (TP + FP)\n",
      "C:\\Users\\James\\AppData\\Local\\Temp\\ipykernel_18756\\3629399350.py:20: RuntimeWarning: invalid value encountered in long_scalars\n",
      "  precision_class_one = TP / (TP + FP)\n"
     ]
    },
    {
     "name": "stdout",
     "output_type": "stream",
     "text": [
      "9/9 [==============================] - 0s 2ms/step\n",
      "9/9 [==============================] - 0s 2ms/step\n"
     ]
    },
    {
     "name": "stderr",
     "output_type": "stream",
     "text": [
      "C:\\Users\\James\\AppData\\Local\\Temp\\ipykernel_18756\\3629399350.py:20: RuntimeWarning: invalid value encountered in long_scalars\n",
      "  precision_class_one = TP / (TP + FP)\n",
      "C:\\Users\\James\\AppData\\Local\\Temp\\ipykernel_18756\\3629399350.py:20: RuntimeWarning: invalid value encountered in long_scalars\n",
      "  precision_class_one = TP / (TP + FP)\n"
     ]
    },
    {
     "name": "stdout",
     "output_type": "stream",
     "text": [
      "9/9 [==============================] - 0s 2ms/step\n",
      "9/9 [==============================] - 0s 2ms/step\n"
     ]
    },
    {
     "name": "stderr",
     "output_type": "stream",
     "text": [
      "C:\\Users\\James\\AppData\\Local\\Temp\\ipykernel_18756\\3629399350.py:20: RuntimeWarning: invalid value encountered in long_scalars\n",
      "  precision_class_one = TP / (TP + FP)\n",
      "C:\\Users\\James\\AppData\\Local\\Temp\\ipykernel_18756\\3629399350.py:20: RuntimeWarning: invalid value encountered in long_scalars\n",
      "  precision_class_one = TP / (TP + FP)\n"
     ]
    },
    {
     "name": "stdout",
     "output_type": "stream",
     "text": [
      "9/9 [==============================] - 0s 2ms/step\n",
      "9/9 [==============================] - 0s 2ms/step\n"
     ]
    },
    {
     "name": "stderr",
     "output_type": "stream",
     "text": [
      "C:\\Users\\James\\AppData\\Local\\Temp\\ipykernel_18756\\3629399350.py:20: RuntimeWarning: invalid value encountered in long_scalars\n",
      "  precision_class_one = TP / (TP + FP)\n",
      "C:\\Users\\James\\AppData\\Local\\Temp\\ipykernel_18756\\3629399350.py:20: RuntimeWarning: invalid value encountered in long_scalars\n",
      "  precision_class_one = TP / (TP + FP)\n"
     ]
    },
    {
     "name": "stdout",
     "output_type": "stream",
     "text": [
      "9/9 [==============================] - 0s 2ms/step\n",
      "9/9 [==============================] - 0s 2ms/step\n"
     ]
    },
    {
     "name": "stderr",
     "output_type": "stream",
     "text": [
      "C:\\Users\\James\\AppData\\Local\\Temp\\ipykernel_18756\\3629399350.py:20: RuntimeWarning: invalid value encountered in long_scalars\n",
      "  precision_class_one = TP / (TP + FP)\n",
      "C:\\Users\\James\\AppData\\Local\\Temp\\ipykernel_18756\\3629399350.py:20: RuntimeWarning: invalid value encountered in long_scalars\n",
      "  precision_class_one = TP / (TP + FP)\n"
     ]
    },
    {
     "name": "stdout",
     "output_type": "stream",
     "text": [
      "9/9 [==============================] - 0s 2ms/step\n",
      "9/9 [==============================] - 0s 2ms/step\n"
     ]
    },
    {
     "name": "stderr",
     "output_type": "stream",
     "text": [
      "C:\\Users\\James\\AppData\\Local\\Temp\\ipykernel_18756\\3629399350.py:20: RuntimeWarning: invalid value encountered in long_scalars\n",
      "  precision_class_one = TP / (TP + FP)\n",
      "C:\\Users\\James\\AppData\\Local\\Temp\\ipykernel_18756\\3629399350.py:20: RuntimeWarning: invalid value encountered in long_scalars\n",
      "  precision_class_one = TP / (TP + FP)\n"
     ]
    },
    {
     "name": "stdout",
     "output_type": "stream",
     "text": [
      "9/9 [==============================] - 0s 2ms/step\n",
      "9/9 [==============================] - 0s 1ms/step\n"
     ]
    },
    {
     "name": "stderr",
     "output_type": "stream",
     "text": [
      "C:\\Users\\James\\AppData\\Local\\Temp\\ipykernel_18756\\3629399350.py:20: RuntimeWarning: invalid value encountered in long_scalars\n",
      "  precision_class_one = TP / (TP + FP)\n",
      "C:\\Users\\James\\AppData\\Local\\Temp\\ipykernel_18756\\3629399350.py:20: RuntimeWarning: invalid value encountered in long_scalars\n",
      "  precision_class_one = TP / (TP + FP)\n"
     ]
    },
    {
     "name": "stdout",
     "output_type": "stream",
     "text": [
      "9/9 [==============================] - 0s 2ms/step\n",
      "9/9 [==============================] - 0s 2ms/step\n"
     ]
    },
    {
     "name": "stderr",
     "output_type": "stream",
     "text": [
      "C:\\Users\\James\\AppData\\Local\\Temp\\ipykernel_18756\\3629399350.py:20: RuntimeWarning: invalid value encountered in long_scalars\n",
      "  precision_class_one = TP / (TP + FP)\n",
      "C:\\Users\\James\\AppData\\Local\\Temp\\ipykernel_18756\\3629399350.py:20: RuntimeWarning: invalid value encountered in long_scalars\n",
      "  precision_class_one = TP / (TP + FP)\n"
     ]
    },
    {
     "name": "stdout",
     "output_type": "stream",
     "text": [
      "9/9 [==============================] - 0s 2ms/step\n",
      "9/9 [==============================] - 0s 2ms/step\n"
     ]
    },
    {
     "name": "stderr",
     "output_type": "stream",
     "text": [
      "C:\\Users\\James\\AppData\\Local\\Temp\\ipykernel_18756\\3629399350.py:20: RuntimeWarning: invalid value encountered in long_scalars\n",
      "  precision_class_one = TP / (TP + FP)\n",
      "C:\\Users\\James\\AppData\\Local\\Temp\\ipykernel_18756\\3629399350.py:20: RuntimeWarning: invalid value encountered in long_scalars\n",
      "  precision_class_one = TP / (TP + FP)\n"
     ]
    },
    {
     "name": "stdout",
     "output_type": "stream",
     "text": [
      "9/9 [==============================] - 0s 2ms/step\n",
      "9/9 [==============================] - 0s 2ms/step\n"
     ]
    },
    {
     "name": "stderr",
     "output_type": "stream",
     "text": [
      "C:\\Users\\James\\AppData\\Local\\Temp\\ipykernel_18756\\3629399350.py:20: RuntimeWarning: invalid value encountered in long_scalars\n",
      "  precision_class_one = TP / (TP + FP)\n",
      "C:\\Users\\James\\AppData\\Local\\Temp\\ipykernel_18756\\3629399350.py:20: RuntimeWarning: invalid value encountered in long_scalars\n",
      "  precision_class_one = TP / (TP + FP)\n"
     ]
    },
    {
     "name": "stdout",
     "output_type": "stream",
     "text": [
      "9/9 [==============================] - 0s 3ms/step\n",
      "9/9 [==============================] - 0s 2ms/step\n"
     ]
    },
    {
     "name": "stderr",
     "output_type": "stream",
     "text": [
      "C:\\Users\\James\\AppData\\Local\\Temp\\ipykernel_18756\\3629399350.py:20: RuntimeWarning: invalid value encountered in long_scalars\n",
      "  precision_class_one = TP / (TP + FP)\n",
      "C:\\Users\\James\\AppData\\Local\\Temp\\ipykernel_18756\\3629399350.py:20: RuntimeWarning: invalid value encountered in long_scalars\n",
      "  precision_class_one = TP / (TP + FP)\n"
     ]
    },
    {
     "name": "stdout",
     "output_type": "stream",
     "text": [
      "9/9 [==============================] - 0s 2ms/step\n",
      "9/9 [==============================] - 0s 2ms/step\n"
     ]
    },
    {
     "name": "stderr",
     "output_type": "stream",
     "text": [
      "C:\\Users\\James\\AppData\\Local\\Temp\\ipykernel_18756\\3629399350.py:20: RuntimeWarning: invalid value encountered in long_scalars\n",
      "  precision_class_one = TP / (TP + FP)\n",
      "C:\\Users\\James\\AppData\\Local\\Temp\\ipykernel_18756\\3629399350.py:20: RuntimeWarning: invalid value encountered in long_scalars\n",
      "  precision_class_one = TP / (TP + FP)\n"
     ]
    },
    {
     "name": "stdout",
     "output_type": "stream",
     "text": [
      "9/9 [==============================] - 0s 2ms/step\n",
      "9/9 [==============================] - 0s 2ms/step\n"
     ]
    },
    {
     "name": "stderr",
     "output_type": "stream",
     "text": [
      "C:\\Users\\James\\AppData\\Local\\Temp\\ipykernel_18756\\3629399350.py:20: RuntimeWarning: invalid value encountered in long_scalars\n",
      "  precision_class_one = TP / (TP + FP)\n",
      "C:\\Users\\James\\AppData\\Local\\Temp\\ipykernel_18756\\3629399350.py:20: RuntimeWarning: invalid value encountered in long_scalars\n",
      "  precision_class_one = TP / (TP + FP)\n"
     ]
    },
    {
     "name": "stdout",
     "output_type": "stream",
     "text": [
      "9/9 [==============================] - 0s 2ms/step\n",
      "9/9 [==============================] - 0s 2ms/step\n"
     ]
    },
    {
     "name": "stderr",
     "output_type": "stream",
     "text": [
      "C:\\Users\\James\\AppData\\Local\\Temp\\ipykernel_18756\\3629399350.py:20: RuntimeWarning: invalid value encountered in long_scalars\n",
      "  precision_class_one = TP / (TP + FP)\n",
      "C:\\Users\\James\\AppData\\Local\\Temp\\ipykernel_18756\\3629399350.py:20: RuntimeWarning: invalid value encountered in long_scalars\n",
      "  precision_class_one = TP / (TP + FP)\n"
     ]
    },
    {
     "name": "stdout",
     "output_type": "stream",
     "text": [
      "9/9 [==============================] - 0s 2ms/step\n",
      "9/9 [==============================] - 0s 1ms/step\n"
     ]
    },
    {
     "name": "stderr",
     "output_type": "stream",
     "text": [
      "C:\\Users\\James\\AppData\\Local\\Temp\\ipykernel_18756\\3629399350.py:20: RuntimeWarning: invalid value encountered in long_scalars\n",
      "  precision_class_one = TP / (TP + FP)\n",
      "C:\\Users\\James\\AppData\\Local\\Temp\\ipykernel_18756\\3629399350.py:20: RuntimeWarning: invalid value encountered in long_scalars\n",
      "  precision_class_one = TP / (TP + FP)\n"
     ]
    },
    {
     "name": "stdout",
     "output_type": "stream",
     "text": [
      "9/9 [==============================] - 0s 2ms/step\n",
      "9/9 [==============================] - 0s 2ms/step\n"
     ]
    },
    {
     "name": "stderr",
     "output_type": "stream",
     "text": [
      "C:\\Users\\James\\AppData\\Local\\Temp\\ipykernel_18756\\3629399350.py:20: RuntimeWarning: invalid value encountered in long_scalars\n",
      "  precision_class_one = TP / (TP + FP)\n",
      "C:\\Users\\James\\AppData\\Local\\Temp\\ipykernel_18756\\3629399350.py:20: RuntimeWarning: invalid value encountered in long_scalars\n",
      "  precision_class_one = TP / (TP + FP)\n"
     ]
    },
    {
     "name": "stdout",
     "output_type": "stream",
     "text": [
      "9/9 [==============================] - 0s 2ms/step\n",
      "9/9 [==============================] - 0s 1ms/step\n"
     ]
    },
    {
     "name": "stderr",
     "output_type": "stream",
     "text": [
      "C:\\Users\\James\\AppData\\Local\\Temp\\ipykernel_18756\\3629399350.py:20: RuntimeWarning: invalid value encountered in long_scalars\n",
      "  precision_class_one = TP / (TP + FP)\n",
      "C:\\Users\\James\\AppData\\Local\\Temp\\ipykernel_18756\\3629399350.py:20: RuntimeWarning: invalid value encountered in long_scalars\n",
      "  precision_class_one = TP / (TP + FP)\n"
     ]
    },
    {
     "name": "stdout",
     "output_type": "stream",
     "text": [
      "9/9 [==============================] - 0s 2ms/step\n",
      "9/9 [==============================] - 0s 2ms/step\n",
      "9/9 [==============================] - 0s 1ms/step\n"
     ]
    },
    {
     "name": "stderr",
     "output_type": "stream",
     "text": [
      "C:\\Users\\James\\AppData\\Local\\Temp\\ipykernel_18756\\3629399350.py:20: RuntimeWarning: invalid value encountered in long_scalars\n",
      "  precision_class_one = TP / (TP + FP)\n",
      "C:\\Users\\James\\AppData\\Local\\Temp\\ipykernel_18756\\3629399350.py:20: RuntimeWarning: invalid value encountered in long_scalars\n",
      "  precision_class_one = TP / (TP + FP)\n"
     ]
    },
    {
     "name": "stdout",
     "output_type": "stream",
     "text": [
      "9/9 [==============================] - 0s 1ms/step\n",
      "9/9 [==============================] - 0s 2ms/step\n"
     ]
    },
    {
     "name": "stderr",
     "output_type": "stream",
     "text": [
      "C:\\Users\\James\\AppData\\Local\\Temp\\ipykernel_18756\\3629399350.py:20: RuntimeWarning: invalid value encountered in long_scalars\n",
      "  precision_class_one = TP / (TP + FP)\n",
      "C:\\Users\\James\\AppData\\Local\\Temp\\ipykernel_18756\\3629399350.py:20: RuntimeWarning: invalid value encountered in long_scalars\n",
      "  precision_class_one = TP / (TP + FP)\n"
     ]
    },
    {
     "name": "stdout",
     "output_type": "stream",
     "text": [
      "9/9 [==============================] - 0s 2ms/step\n",
      "9/9 [==============================] - 0s 2ms/step\n"
     ]
    },
    {
     "name": "stderr",
     "output_type": "stream",
     "text": [
      "C:\\Users\\James\\AppData\\Local\\Temp\\ipykernel_18756\\3629399350.py:20: RuntimeWarning: invalid value encountered in long_scalars\n",
      "  precision_class_one = TP / (TP + FP)\n",
      "C:\\Users\\James\\AppData\\Local\\Temp\\ipykernel_18756\\3629399350.py:20: RuntimeWarning: invalid value encountered in long_scalars\n",
      "  precision_class_one = TP / (TP + FP)\n"
     ]
    },
    {
     "name": "stdout",
     "output_type": "stream",
     "text": [
      "9/9 [==============================] - 0s 2ms/step\n",
      "9/9 [==============================] - 0s 1ms/step\n"
     ]
    },
    {
     "name": "stderr",
     "output_type": "stream",
     "text": [
      "C:\\Users\\James\\AppData\\Local\\Temp\\ipykernel_18756\\3629399350.py:20: RuntimeWarning: invalid value encountered in long_scalars\n",
      "  precision_class_one = TP / (TP + FP)\n",
      "C:\\Users\\James\\AppData\\Local\\Temp\\ipykernel_18756\\3629399350.py:20: RuntimeWarning: invalid value encountered in long_scalars\n",
      "  precision_class_one = TP / (TP + FP)\n"
     ]
    },
    {
     "name": "stdout",
     "output_type": "stream",
     "text": [
      "9/9 [==============================] - 0s 2ms/step\n",
      "9/9 [==============================] - 0s 2ms/step\n"
     ]
    },
    {
     "name": "stderr",
     "output_type": "stream",
     "text": [
      "C:\\Users\\James\\AppData\\Local\\Temp\\ipykernel_18756\\3629399350.py:20: RuntimeWarning: invalid value encountered in long_scalars\n",
      "  precision_class_one = TP / (TP + FP)\n",
      "C:\\Users\\James\\AppData\\Local\\Temp\\ipykernel_18756\\3629399350.py:20: RuntimeWarning: invalid value encountered in long_scalars\n",
      "  precision_class_one = TP / (TP + FP)\n"
     ]
    },
    {
     "name": "stdout",
     "output_type": "stream",
     "text": [
      "9/9 [==============================] - 0s 2ms/step\n",
      "9/9 [==============================] - 0s 2ms/step\n"
     ]
    },
    {
     "name": "stderr",
     "output_type": "stream",
     "text": [
      "C:\\Users\\James\\AppData\\Local\\Temp\\ipykernel_18756\\3629399350.py:20: RuntimeWarning: invalid value encountered in long_scalars\n",
      "  precision_class_one = TP / (TP + FP)\n",
      "C:\\Users\\James\\AppData\\Local\\Temp\\ipykernel_18756\\3629399350.py:20: RuntimeWarning: invalid value encountered in long_scalars\n",
      "  precision_class_one = TP / (TP + FP)\n"
     ]
    },
    {
     "name": "stdout",
     "output_type": "stream",
     "text": [
      "9/9 [==============================] - 0s 2ms/step\n",
      "9/9 [==============================] - 0s 2ms/step\n"
     ]
    },
    {
     "name": "stderr",
     "output_type": "stream",
     "text": [
      "C:\\Users\\James\\AppData\\Local\\Temp\\ipykernel_18756\\3629399350.py:20: RuntimeWarning: invalid value encountered in long_scalars\n",
      "  precision_class_one = TP / (TP + FP)\n",
      "C:\\Users\\James\\AppData\\Local\\Temp\\ipykernel_18756\\3629399350.py:20: RuntimeWarning: invalid value encountered in long_scalars\n",
      "  precision_class_one = TP / (TP + FP)\n"
     ]
    },
    {
     "name": "stdout",
     "output_type": "stream",
     "text": [
      "9/9 [==============================] - 0s 2ms/step\n",
      "9/9 [==============================] - 0s 1ms/step\n"
     ]
    },
    {
     "name": "stderr",
     "output_type": "stream",
     "text": [
      "C:\\Users\\James\\AppData\\Local\\Temp\\ipykernel_18756\\3629399350.py:20: RuntimeWarning: invalid value encountered in long_scalars\n",
      "  precision_class_one = TP / (TP + FP)\n",
      "C:\\Users\\James\\AppData\\Local\\Temp\\ipykernel_18756\\3629399350.py:20: RuntimeWarning: invalid value encountered in long_scalars\n",
      "  precision_class_one = TP / (TP + FP)\n"
     ]
    },
    {
     "name": "stdout",
     "output_type": "stream",
     "text": [
      "9/9 [==============================] - 0s 2ms/step\n",
      "9/9 [==============================] - 0s 2ms/step\n"
     ]
    },
    {
     "name": "stderr",
     "output_type": "stream",
     "text": [
      "C:\\Users\\James\\AppData\\Local\\Temp\\ipykernel_18756\\3629399350.py:20: RuntimeWarning: invalid value encountered in long_scalars\n",
      "  precision_class_one = TP / (TP + FP)\n",
      "C:\\Users\\James\\AppData\\Local\\Temp\\ipykernel_18756\\3629399350.py:20: RuntimeWarning: invalid value encountered in long_scalars\n",
      "  precision_class_one = TP / (TP + FP)\n"
     ]
    },
    {
     "name": "stdout",
     "output_type": "stream",
     "text": [
      "9/9 [==============================] - 0s 2ms/step\n",
      "9/9 [==============================] - 0s 2ms/step\n"
     ]
    },
    {
     "name": "stderr",
     "output_type": "stream",
     "text": [
      "C:\\Users\\James\\AppData\\Local\\Temp\\ipykernel_18756\\3629399350.py:20: RuntimeWarning: invalid value encountered in long_scalars\n",
      "  precision_class_one = TP / (TP + FP)\n",
      "C:\\Users\\James\\AppData\\Local\\Temp\\ipykernel_18756\\3629399350.py:20: RuntimeWarning: invalid value encountered in long_scalars\n",
      "  precision_class_one = TP / (TP + FP)\n"
     ]
    },
    {
     "name": "stdout",
     "output_type": "stream",
     "text": [
      "9/9 [==============================] - 0s 2ms/step\n",
      "9/9 [==============================] - 0s 2ms/step\n",
      "By random chance the precision would be 17.88%\n"
     ]
    },
    {
     "name": "stderr",
     "output_type": "stream",
     "text": [
      "C:\\Users\\James\\AppData\\Local\\Temp\\ipykernel_18756\\3629399350.py:20: RuntimeWarning: invalid value encountered in long_scalars\n",
      "  precision_class_one = TP / (TP + FP)\n",
      "C:\\Users\\James\\AppData\\Local\\Temp\\ipykernel_18756\\3629399350.py:20: RuntimeWarning: invalid value encountered in long_scalars\n",
      "  precision_class_one = TP / (TP + FP)\n"
     ]
    }
   ],
   "source": [
    "print(models)\n",
    "from tensorflow.keras.metrics import BinaryAccuracy\n",
    "\n",
    "for i, model in enumerate(models):  \n",
    "      y_pred = model.predict(Dataset_test)  # Assuming Dataset_test is your test data\n",
    "      y_pred = (y_pred > 0.5).astype(int)  # Convert probabilities to class labels (0 or 1)\n",
    "\n",
    "      conf_matrix = np.zeros((2, 2), dtype=int)\n",
    "      conf_matrix[0, 0] = np.sum((Labels_test.values == 0) & (y_pred == 0))  # True Negatives (TN)\n",
    "      conf_matrix[0, 1] = np.sum((Labels_test.values == 0) & (y_pred == 1))  # False Positives (FP)\n",
    "      conf_matrix[1, 0] = np.sum((Labels_test.values == 1) & (y_pred == 0))  # False Negatives (FN)\n",
    "      conf_matrix[1, 1] = np.sum((Labels_test.values == 1) & (y_pred == 1))  # True Positives (TP)\n",
    "\n",
    "      # Extract true negatives (TN), false positives (FP), true positives (TP), and false negatives (FN) from the confusion matrix\n",
    "      TN, FP, TP, FN = conf_matrix[0, 0], conf_matrix[0, 1], conf_matrix[1, 1], conf_matrix[1, 0]\n",
    "\n",
    "      # Calculate specificity, sensitivity, precision, NPV, and accuracy\n",
    "      specificity = TN / (TN + FP)\n",
    "      sensitivity = TP / (TP + FN)\n",
    "      precision_class_one = TP / (TP + FP)\n",
    "      Negative_Predictive_Value = TN / (TN + FN)\n",
    "      accuracy = (TP + TN) / (TP + TN + FP + FN)\n",
    "\n",
    "      # Print the metrics\n",
    "      \"\"\"\n",
    "      print(f\"Model {i+1}\")\n",
    "      print(f\"Sensitivity: {sensitivity * 100:.2f}%,\",\n",
    "            f\"Specificity: {specificity * 100:.2f}%,\",\n",
    "            f\"Accuracy: {accuracy * 100:.2f}%,\",\n",
    "            f\"Negative Predictive Value: {Negative_Predictive_Value * 100:.2f}%,\",\n",
    "            f\"Precision (Class One): {precision_class_one * 100:.2f}%\")\n",
    "      print(f\"True Negatives (TN): {TN},\",\n",
    "            f\"False Positives (FP): {FP},\",\n",
    "            f\"True Positives (TP): {TP},\",\n",
    "            f\"False Negatives (FN): {FN}\")\n",
    "      \"\"\"\n",
    "\n",
    "      if sensitivity > 0.3 and specificity >0.8:\n",
    "            print(\"Green\")\n",
    "            print(f\"Model {i+1}\")\n",
    "            print(f\"Sensitivity: {sensitivity * 100:.2f}%,\",\n",
    "                  f\"Specificity: {specificity * 100:.2f}%,\",\n",
    "                  f\"Accuracy: {accuracy * 100:.2f}%,\",\n",
    "                  f\"Negative Predictive Value: {Negative_Predictive_Value * 100:.2f}%,\",\n",
    "                  f\"Precision (Class One): {precision_class_one * 100:.2f}%\")\n",
    "            print(f\"True Negatives (TN): {TN},\",\n",
    "                  f\"False Positives (FP): {FP},\",\n",
    "                  f\"True Positives (TP): {TP},\",\n",
    "                  f\"False Negatives (FN): {FN}\")\n",
    "\n",
    "Proportion = Labels_test[\"Class\"].value_counts()\n",
    "print(\"By random chance the precision would be {:.2f}%\".format(Proportion[1] / (Proportion[0] + Proportion[1]) * 100))\n"
   ]
  },
  {
   "cell_type": "code",
   "execution_count": 15,
   "metadata": {},
   "outputs": [
    {
     "name": "stdout",
     "output_type": "stream",
     "text": [
      "9/9 [==============================] - 0s 2ms/step\n",
      "Specificity: 99.54% Sensitivity: 6.25% Accuracy: 82.58% Negative Predictive Value: 82.69% Precision (Class One): 75.00%\n",
      "True Negatives (TN): 215 False Positives (FP): 1 True Positives (TP): 3 False Negatives (FN): 45\n"
     ]
    }
   ],
   "source": [
    "import numpy as np\n",
    "\n",
    "# Assuming y_true and y_pred are numpy arrays representing the true labels and predicted labels, respectively.\n",
    "# 1 represents the positive class, and 0 represents the negative class.\n",
    "y_pred=model.predict(Dataset_test)\n",
    "# Compute the confusion matrix\n",
    "conf_matrix = np.zeros((2, 2), dtype=int)\n",
    "conf_matrix[0, 0] = np.sum((Labels_test.values == 0) & (y_pred == 0))  # True Negatives (TN)\n",
    "conf_matrix[0, 1] = np.sum((Labels_test.values== 0) & (y_pred == 1))  # False Positives (FP)\n",
    "conf_matrix[1, 0] = np.sum((Labels_test.values == 1) & (y_pred == 0))  # False Negatives (FN)\n",
    "conf_matrix[1, 1] = np.sum((Labels_test.values == 1) & (y_pred == 1))  # True Positives (TP)\n",
    "\n",
    "# Extract true negatives (TN) and false positives (FP) from the confusion matrix\n",
    "TN = conf_matrix[0, 0]\n",
    "FP = conf_matrix[0, 1]\n",
    "TP = conf_matrix[1, 1]\n",
    "FN = conf_matrix[1, 0]\n",
    "# Calculate specificity\n",
    "specificity = TN / (TN + FP)\n",
    "sensitivity = TP / (TP + FN)\n",
    "precision_class_one=TP/(TP+FP)\n",
    "Negative_Predictive_Value=TN/(TN+FN)\n",
    "accuracy=(TP+TN)/(TP+TN+FP+FN)\n",
    "print(f\"Specificity: {specificity * 100:.2f}%\",\n",
    "      f\"Sensitivity: {sensitivity * 100:.2f}%\",\n",
    "      f\"Accuracy: {accuracy * 100:.2f}%\",\n",
    "      f\"Negative Predictive Value: {Negative_Predictive_Value * 100:.2f}%\",\n",
    "      f\"Precision (Class One): {precision_class_one * 100:.2f}%\")\n",
    "print(f\"True Negatives (TN): {TN}\",\n",
    "      f\"False Positives (FP): {FP}\",\n",
    "      f\"True Positives (TP): {TP}\",\n",
    "      f\"False Negatives (FN): {FN}\")\n"
   ]
  },
  {
   "cell_type": "code",
   "execution_count": null,
   "metadata": {},
   "outputs": [
    {
     "name": "stdout",
     "output_type": "stream",
     "text": [
      "9/9 [==============================] - 0s 4ms/step\n",
      "78.66666666666666 46.93877551020408 72.99270072992701 87.192118226601 32.3943661971831\n",
      "177 48 23 26\n"
     ]
    }
   ],
   "source": [
    "import tensorflow as tf\n",
    "\n",
    "# Assuming `model` is your trained model\n",
    "# Assuming `X_test` is your test data and `y_test` are your test labels\n",
    "y_pred = DiseaseModel.predict(Dataset_test)  # assuming x_test is your test data\n",
    "y_pred = (y_pred > 0.5).astype(int)\n",
    "conf_matrix = np.zeros((2, 2), dtype=int)\n",
    "conf_matrix[0, 0] = np.sum((Labels_test.values == 0) & (y_pred == 0))  # True Negatives (TN)\n",
    "conf_matrix[0, 1] = np.sum((Labels_test.values== 0) & (y_pred == 1))  # False Positives (FP)\n",
    "conf_matrix[1, 0] = np.sum((Labels_test.values == 1) & (y_pred == 0))  # False Negatives (FN)\n",
    "conf_matrix[1, 1] = np.sum((Labels_test.values == 1) & (y_pred == 1))  # True Positives (TP)\n",
    "\n",
    "# Extract true negatives (TN) and false positives (FP) from the confusion matrix\n",
    "TN = conf_matrix[0, 0]\n",
    "FP = conf_matrix[0, 1]\n",
    "TP = conf_matrix[1, 1]\n",
    "FN = conf_matrix[1, 0]\n",
    "# Calculate specificity\n",
    "specificity = TN / (TN + FP)\n",
    "sensitivity = TP / (TP + FN)\n",
    "precision_class_one=TP/(TP+FP)\n",
    "Negative_Predictive_Value=TN/(TN+FN)\n",
    "accuracy=(TP+TN)/(TP+TN+FP+FN)\n",
    "print(specificity*100,sensitivity*100,accuracy*100,Negative_Predictive_Value*100,precision_class_one*100)\n",
    "print(TN,FP,TP,FN)"
   ]
  }
 ],
 "metadata": {
  "kernelspec": {
   "display_name": "base",
   "language": "python",
   "name": "python3"
  },
  "language_info": {
   "codemirror_mode": {
    "name": "ipython",
    "version": 3
   },
   "file_extension": ".py",
   "mimetype": "text/x-python",
   "name": "python",
   "nbconvert_exporter": "python",
   "pygments_lexer": "ipython3",
   "version": "3.9.16"
  },
  "orig_nbformat": 4
 },
 "nbformat": 4,
 "nbformat_minor": 2
}
