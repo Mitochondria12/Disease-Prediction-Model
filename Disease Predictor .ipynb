{
 "cells": [
  {
   "attachments": {},
   "cell_type": "markdown",
   "id": "504c7504",
   "metadata": {},
   "source": [
    "# Binary Classification Model for Disease Prediction\n"
   ]
  },
  {
   "attachments": {},
   "cell_type": "markdown",
   "id": "b7e443a0",
   "metadata": {},
   "source": [
    "# Part 1: Installation of necessary libraries"
   ]
  },
  {
   "cell_type": "code",
   "execution_count": 3,
   "id": "075f7d68",
   "metadata": {},
   "outputs": [],
   "source": [
    "import numpy as np\n",
    "import pandas as pd\n",
    "import os \n",
    "import random\n",
    "import tensorflow\n",
    "from scipy.spatial import distance\n"
   ]
  },
  {
   "attachments": {},
   "cell_type": "markdown",
   "id": "55effada",
   "metadata": {},
   "source": [
    "# Part 2: Download of patient data with corresponding disease status"
   ]
  },
  {
   "cell_type": "code",
   "execution_count": 4,
   "id": "62fced34",
   "metadata": {},
   "outputs": [],
   "source": [
    "\n",
    "disease_data = pd.read_csv('Training.csv')\n",
    "\n"
   ]
  },
  {
   "attachments": {},
   "cell_type": "markdown",
   "id": "48b8c0f2",
   "metadata": {},
   "source": [
    "# Part 3 : Exploratory Data Analysis\n"
   ]
  },
  {
   "cell_type": "code",
   "execution_count": 15,
   "id": "88541f05",
   "metadata": {},
   "outputs": [
    {
     "data": {
      "text/plain": [
       "Id        object\n",
       "AB       float64\n",
       "AF       float64\n",
       "AH       float64\n",
       "AM       float64\n",
       "AR       float64\n",
       "AX       float64\n",
       "AY       float64\n",
       "AZ       float64\n",
       "BC       float64\n",
       "BD       float64\n",
       "BN       float64\n",
       "BP       float64\n",
       "BQ       float64\n",
       "BR       float64\n",
       "BZ       float64\n",
       "CB       float64\n",
       "CC       float64\n",
       "CD       float64\n",
       "CF       float64\n",
       "CH       float64\n",
       "CL       float64\n",
       "CR       float64\n",
       "CS       float64\n",
       "CU       float64\n",
       "CW       float64\n",
       "DA       float64\n",
       "DE       float64\n",
       "DF       float64\n",
       "DH       float64\n",
       "DI       float64\n",
       "DL       float64\n",
       "DN       float64\n",
       "DU       float64\n",
       "DV       float64\n",
       "DY       float64\n",
       "EB       float64\n",
       "EE       float64\n",
       "EG       float64\n",
       "EH       float64\n",
       "EJ        object\n",
       "EL       float64\n",
       "EP       float64\n",
       "EU       float64\n",
       "FC       float64\n",
       "FD       float64\n",
       "FE       float64\n",
       "FI       float64\n",
       "FL       float64\n",
       "FR       float64\n",
       "FS       float64\n",
       "GB       float64\n",
       "GE       float64\n",
       "GF       float64\n",
       "GH       float64\n",
       "GI       float64\n",
       "GL       float64\n",
       "Class      int64\n",
       "dtype: object"
      ]
     },
     "execution_count": 15,
     "metadata": {},
     "output_type": "execute_result"
    }
   ],
   "source": [
    "disease_data_description = disease_data.describe()\n",
    "disease_data_description\n",
    "disease_data.dtypes"
   ]
  },
  {
   "cell_type": "code",
   "execution_count": 16,
   "id": "122bc4df",
   "metadata": {},
   "outputs": [],
   "source": [
    "\n",
    "disease_data.isnull().sum()\n",
    "disease_data=disease_data.dropna()\n",
    "disease_data.isnull().sum()\n",
    "disease_data['EJ'] = disease_data['EJ'].map({'A': 0, 'B': 1})"
   ]
  },
  {
   "attachments": {},
   "cell_type": "markdown",
   "id": "dd619990",
   "metadata": {},
   "source": [
    "# Part 4 : Generating New Data Features"
   ]
  },
  {
   "cell_type": "code",
   "execution_count": null,
   "id": "7b1ce80d",
   "metadata": {},
   "outputs": [],
   "source": [
    "def euclidean_distance(sample1, sample2):\n",
    "    \"\"\"Calculate the Euclidean distance between two samples.\"\"\"\n",
    "    return distance.euclidean(sample1, sample2)\n"
   ]
  },
  {
   "attachments": {},
   "cell_type": "markdown",
   "id": "2c4a3a03",
   "metadata": {},
   "source": [
    "# Part 5 : Creation of a machine learning model"
   ]
  },
  {
   "attachments": {},
   "cell_type": "markdown",
   "id": "6484ebba",
   "metadata": {},
   "source": [
    "# Part 6 : Analysis of models efficiency and loss values"
   ]
  },
  {
   "attachments": {},
   "cell_type": "markdown",
   "id": "cda96f52",
   "metadata": {},
   "source": [
    "# Part 7 : Log of models"
   ]
  },
  {
   "cell_type": "code",
   "execution_count": null,
   "id": "aeac1bc1",
   "metadata": {},
   "outputs": [],
   "source": []
  }
 ],
 "metadata": {
  "kernelspec": {
   "display_name": "Python 3 (ipykernel)",
   "language": "python",
   "name": "python3"
  },
  "language_info": {
   "codemirror_mode": {
    "name": "ipython",
    "version": 3
   },
   "file_extension": ".py",
   "mimetype": "text/x-python",
   "name": "python",
   "nbconvert_exporter": "python",
   "pygments_lexer": "ipython3",
   "version": "3.9.16"
  },
  "varInspector": {
   "cols": {
    "lenName": 16,
    "lenType": 16,
    "lenVar": 40
   },
   "kernels_config": {
    "python": {
     "delete_cmd_postfix": "",
     "delete_cmd_prefix": "del ",
     "library": "var_list.py",
     "varRefreshCmd": "print(var_dic_list())"
    },
    "r": {
     "delete_cmd_postfix": ") ",
     "delete_cmd_prefix": "rm(",
     "library": "var_list.r",
     "varRefreshCmd": "cat(var_dic_list()) "
    }
   },
   "types_to_exclude": [
    "module",
    "function",
    "builtin_function_or_method",
    "instance",
    "_Feature"
   ],
   "window_display": false
  }
 },
 "nbformat": 4,
 "nbformat_minor": 5
}
