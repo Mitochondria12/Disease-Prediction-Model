{
 "cells": [
  {
   "attachments": {},
   "cell_type": "markdown",
   "id": "504c7504",
   "metadata": {},
   "source": [
    "# Binary Classification Model for Disease Prediction\n"
   ]
  },
  {
   "attachments": {},
   "cell_type": "markdown",
   "id": "b7e443a0",
   "metadata": {},
   "source": [
    "# Part 1: Installation of necessary libraries"
   ]
  },
  {
   "cell_type": "code",
   "execution_count": 34,
   "id": "075f7d68",
   "metadata": {},
   "outputs": [],
   "source": [
    "import numpy as np\n",
    "import pandas as pd\n",
    "import os \n",
    "import random\n",
    "import tensorflow\n",
    "from scipy.spatial import distance\n"
   ]
  },
  {
   "attachments": {},
   "cell_type": "markdown",
   "id": "55effada",
   "metadata": {},
   "source": [
    "# Part 2: Download of patient data with corresponding disease status"
   ]
  },
  {
   "cell_type": "code",
   "execution_count": 35,
   "id": "62fced34",
   "metadata": {},
   "outputs": [],
   "source": [
    "\n",
    "disease_data = pd.read_csv('Training.csv')\n",
    "\n"
   ]
  },
  {
   "attachments": {},
   "cell_type": "markdown",
   "id": "48b8c0f2",
   "metadata": {},
   "source": [
    "# Part 3 : Exploratory Data Analysis\n"
   ]
  },
  {
   "cell_type": "code",
   "execution_count": 36,
   "id": "88541f05",
   "metadata": {},
   "outputs": [
    {
     "name": "stdout",
     "output_type": "stream",
     "text": [
      "               AB            AF           AH          AM          AR   \n",
      "count  617.000000    617.000000   617.000000  617.000000  617.000000  \\\n",
      "mean     0.477149   3502.013221   118.624513   38.968552   10.128242   \n",
      "std      0.468388   2300.322717   127.838950   69.728226   10.518877   \n",
      "min      0.081187    192.593280    85.200147    3.177522    8.138688   \n",
      "25%      0.252107   2197.345480    85.200147   12.270314    8.138688   \n",
      "50%      0.354659   3120.318960    85.200147   20.533110    8.138688   \n",
      "75%      0.559763   4361.637390   113.739540   39.139886    8.138688   \n",
      "max      6.161666  28688.187660  1910.123198  630.518230  178.943634   \n",
      "\n",
      "               AX          AY          AZ           BC           BD   ...   \n",
      "count  617.000000  617.000000  617.000000   617.000000    617.000000  ...  \\\n",
      "mean     5.545576    0.060320   10.566447     8.053012   5350.388655  ...   \n",
      "std      2.551696    0.416817    4.350645    65.166943   3021.326641  ...   \n",
      "min      0.699861    0.025578    3.396778     1.229900   1693.624320  ...   \n",
      "25%      4.128294    0.025578    8.129580     1.229900   4155.702870  ...   \n",
      "50%      5.031912    0.025578   10.461320     1.229900   4997.960730  ...   \n",
      "75%      6.431634    0.036845   12.969516     5.081244   6035.885700  ...   \n",
      "max     38.270880   10.315851   38.971568  1463.693448  53060.599240  ...   \n",
      "\n",
      "               FL           FR          FS          GB           GE   \n",
      "count  616.000000   617.000000  615.000000  617.000000   617.000000  \\\n",
      "mean     5.433199     3.533905    0.421501   20.724856   131.714987   \n",
      "std     11.496257    50.181948    1.305365    9.991907   144.181524   \n",
      "min      0.173229     0.497060    0.067730    4.102182    72.611063   \n",
      "25%      0.173229     0.497060    0.067730   14.036718    72.611063   \n",
      "50%      3.028141     1.131000    0.250601   18.771436    72.611063   \n",
      "75%      6.238814     1.512060    0.535067   25.608406   127.591671   \n",
      "max    137.932739  1244.227020   31.365763  135.781294  1497.351958   \n",
      "\n",
      "                  GF          GH          GI          GL       Class  \n",
      "count     617.000000  617.000000  617.000000  616.000000  617.000000  \n",
      "mean    14679.595398   31.489716   50.584437    8.530961    0.175041  \n",
      "std     19352.959387    9.864239   36.266251   10.327010    0.380310  \n",
      "min        13.038894    9.432735    0.897628    0.001129    0.000000  \n",
      "25%      2798.992584   25.034888   23.011684    0.124392    0.000000  \n",
      "50%      7838.273610   30.608946   41.007968    0.337827    0.000000  \n",
      "75%     19035.709240   36.863947   67.931664   21.978000    0.000000  \n",
      "max    143790.071200   81.210825  191.194764   21.978000    1.000000  \n",
      "\n",
      "[8 rows x 56 columns]\n"
     ]
    }
   ],
   "source": [
    "disease_data_description = disease_data.describe()\n",
    "print(disease_data_description)\n",
    "#disease_data.dtypes"
   ]
  },
  {
   "cell_type": "code",
   "execution_count": 37,
   "id": "122bc4df",
   "metadata": {},
   "outputs": [
    {
     "name": "stdout",
     "output_type": "stream",
     "text": [
      "Id       0\n",
      "AB       0\n",
      "AF       0\n",
      "AH       0\n",
      "AM       0\n",
      "AR       0\n",
      "AX       0\n",
      "AY       0\n",
      "AZ       0\n",
      "BC       0\n",
      "BD       0\n",
      "BN       0\n",
      "BP       0\n",
      "BQ       0\n",
      "BR       0\n",
      "BZ       0\n",
      "CB       0\n",
      "CC       0\n",
      "CD       0\n",
      "CF       0\n",
      "CH       0\n",
      "CL       0\n",
      "CR       0\n",
      "CS       0\n",
      "CU       0\n",
      "CW       0\n",
      "DA       0\n",
      "DE       0\n",
      "DF       0\n",
      "DH       0\n",
      "DI       0\n",
      "DL       0\n",
      "DN       0\n",
      "DU       0\n",
      "DV       0\n",
      "DY       0\n",
      "EB       0\n",
      "EE       0\n",
      "EG       0\n",
      "EH       0\n",
      "EJ       0\n",
      "EL       0\n",
      "EP       0\n",
      "EU       0\n",
      "FC       0\n",
      "FD       0\n",
      "FE       0\n",
      "FI       0\n",
      "FL       0\n",
      "FR       0\n",
      "FS       0\n",
      "GB       0\n",
      "GE       0\n",
      "GF       0\n",
      "GH       0\n",
      "GI       0\n",
      "GL       0\n",
      "Class    0\n",
      "dtype: int64\n"
     ]
    }
   ],
   "source": [
    "\n",
    "#print(disease_data.isnull().sum())\n",
    "disease_data=disease_data.dropna()\n",
    "print(disease_data.isnull().sum())\n",
    "disease_data['EJ'] = disease_data['EJ'].map({'A': 0, 'B': 1})"
   ]
  },
  {
   "attachments": {},
   "cell_type": "markdown",
   "id": "dd619990",
   "metadata": {},
   "source": [
    "# Part 4 : Generating New Data Features"
   ]
  },
  {
   "cell_type": "code",
   "execution_count": 38,
   "id": "7b1ce80d",
   "metadata": {},
   "outputs": [],
   "source": [
    "def euclidean_distance(sample1, sample2):\n",
    "    \"\"\"Calculate the Euclidean distance between two samples.\"\"\"\n",
    "    return distance.euclidean(sample1, sample2)\n"
   ]
  },
  {
   "attachments": {},
   "cell_type": "markdown",
   "id": "2c4a3a03",
   "metadata": {},
   "source": [
    "# Part 5 : Creation of a machine learning model"
   ]
  },
  {
   "attachments": {},
   "cell_type": "markdown",
   "id": "6484ebba",
   "metadata": {},
   "source": [
    "# Part 6 : Analysis of models efficiency and loss values"
   ]
  },
  {
   "attachments": {},
   "cell_type": "markdown",
   "id": "cda96f52",
   "metadata": {},
   "source": [
    "# Part 7 : Log of models"
   ]
  },
  {
   "cell_type": "code",
   "execution_count": null,
   "id": "aeac1bc1",
   "metadata": {},
   "outputs": [],
   "source": []
  }
 ],
 "metadata": {
  "kernelspec": {
   "display_name": "Python 3 (ipykernel)",
   "language": "python",
   "name": "python3"
  },
  "language_info": {
   "codemirror_mode": {
    "name": "ipython",
    "version": 3
   },
   "file_extension": ".py",
   "mimetype": "text/x-python",
   "name": "python",
   "nbconvert_exporter": "python",
   "pygments_lexer": "ipython3",
   "version": "3.9.16"
  },
  "varInspector": {
   "cols": {
    "lenName": 16,
    "lenType": 16,
    "lenVar": 40
   },
   "kernels_config": {
    "python": {
     "delete_cmd_postfix": "",
     "delete_cmd_prefix": "del ",
     "library": "var_list.py",
     "varRefreshCmd": "print(var_dic_list())"
    },
    "r": {
     "delete_cmd_postfix": ") ",
     "delete_cmd_prefix": "rm(",
     "library": "var_list.r",
     "varRefreshCmd": "cat(var_dic_list()) "
    }
   },
   "types_to_exclude": [
    "module",
    "function",
    "builtin_function_or_method",
    "instance",
    "_Feature"
   ],
   "window_display": false
  }
 },
 "nbformat": 4,
 "nbformat_minor": 5
}
