{
 "cells": [
  {
   "cell_type": "code",
   "execution_count": 2,
   "metadata": {},
   "outputs": [
    {
     "name": "stdout",
     "output_type": "stream",
     "text": [
      "274\n",
      "Epoch 1/30\n",
      "3/3 [==============================] - 1s 6ms/step - loss: 746.9918 - accuracy: 0.4729\n",
      "Epoch 2/30\n",
      "3/3 [==============================] - 0s 4ms/step - loss: 320.4411 - accuracy: 0.4299\n",
      "Epoch 3/30\n",
      "3/3 [==============================] - 0s 3ms/step - loss: 190.0853 - accuracy: 0.5701\n",
      "Epoch 4/30\n",
      "3/3 [==============================] - 0s 3ms/step - loss: 153.3307 - accuracy: 0.5769\n",
      "Epoch 5/30\n",
      "3/3 [==============================] - 0s 4ms/step - loss: 205.1470 - accuracy: 0.5973\n",
      "Epoch 6/30\n",
      "3/3 [==============================] - 0s 4ms/step - loss: 157.7244 - accuracy: 0.5995\n",
      "Epoch 7/30\n",
      "3/3 [==============================] - 0s 4ms/step - loss: 102.5309 - accuracy: 0.6176\n",
      "Epoch 8/30\n",
      "3/3 [==============================] - 0s 4ms/step - loss: 86.2300 - accuracy: 0.6018\n",
      "Epoch 9/30\n",
      "3/3 [==============================] - 0s 3ms/step - loss: 63.1955 - accuracy: 0.6063\n",
      "Epoch 10/30\n",
      "3/3 [==============================] - 0s 4ms/step - loss: 69.7135 - accuracy: 0.5973\n",
      "Epoch 11/30\n",
      "3/3 [==============================] - 0s 4ms/step - loss: 49.8797 - accuracy: 0.5679\n",
      "Epoch 12/30\n",
      "3/3 [==============================] - 0s 14ms/step - loss: 43.1789 - accuracy: 0.6833\n",
      "Epoch 13/30\n",
      "3/3 [==============================] - 0s 4ms/step - loss: 47.7513 - accuracy: 0.6697\n",
      "Epoch 14/30\n",
      "3/3 [==============================] - 0s 4ms/step - loss: 37.2921 - accuracy: 0.6471\n",
      "Epoch 15/30\n",
      "3/3 [==============================] - 0s 4ms/step - loss: 28.1796 - accuracy: 0.6697\n",
      "Epoch 16/30\n",
      "3/3 [==============================] - 0s 3ms/step - loss: 28.8042 - accuracy: 0.6335\n",
      "Epoch 17/30\n",
      "3/3 [==============================] - 0s 4ms/step - loss: 22.8705 - accuracy: 0.6652\n",
      "Epoch 18/30\n",
      "3/3 [==============================] - 0s 3ms/step - loss: 22.7453 - accuracy: 0.6923\n",
      "Epoch 19/30\n",
      "3/3 [==============================] - 0s 3ms/step - loss: 18.1131 - accuracy: 0.7059\n",
      "Epoch 20/30\n",
      "3/3 [==============================] - 0s 3ms/step - loss: 18.3749 - accuracy: 0.6878\n",
      "Epoch 21/30\n",
      "3/3 [==============================] - 0s 3ms/step - loss: 13.8540 - accuracy: 0.7308\n",
      "Epoch 22/30\n",
      "3/3 [==============================] - 0s 4ms/step - loss: 12.7793 - accuracy: 0.7353\n",
      "Epoch 23/30\n",
      "3/3 [==============================] - 0s 3ms/step - loss: 10.5597 - accuracy: 0.7421\n",
      "Epoch 24/30\n",
      "3/3 [==============================] - 0s 4ms/step - loss: 9.8348 - accuracy: 0.7534\n",
      "Epoch 25/30\n",
      "3/3 [==============================] - 0s 4ms/step - loss: 8.5161 - accuracy: 0.7670\n",
      "Epoch 26/30\n",
      "3/3 [==============================] - 0s 4ms/step - loss: 8.4316 - accuracy: 0.7557\n",
      "Epoch 27/30\n",
      "3/3 [==============================] - 0s 3ms/step - loss: 6.2680 - accuracy: 0.7805\n",
      "Epoch 28/30\n",
      "3/3 [==============================] - 0s 3ms/step - loss: 5.1909 - accuracy: 0.7624\n",
      "Epoch 29/30\n",
      "3/3 [==============================] - 0s 5ms/step - loss: 5.2009 - accuracy: 0.7986\n",
      "Epoch 30/30\n",
      "3/3 [==============================] - 0s 3ms/step - loss: 7.1797 - accuracy: 0.7760\n",
      "I will determine the accuracy of my test data.\n",
      "9/9 [==============================] - 0s 2ms/step - loss: 41.0798 - accuracy: 0.5438\n"
     ]
    }
   ],
   "source": [
    "import tensorflow as tf\n",
    "import pandas as pd\n",
    "from imblearn.over_sampling import SMOTE\n",
    "from sklearn.model_selection import train_test_split\n",
    "from tensorflow import keras\n",
    "from tensorflow.keras import layers\n",
    "\n",
    "Dataset= pd.read_csv(\"Training.csv\")\n",
    "\n",
    "\n",
    "Dataset=Dataset.dropna() # remove null values\n",
    "Dataset=Dataset.drop(\"Id\",axis=1) # remove sample information\n",
    "#print(Dataset.value_counts(Dataset[\"Class\"]))\n",
    "Labels=Dataset[[\"Class\"]].copy() # generate separate class dataframe\n",
    "Dataset=Dataset.drop(\"Class\",axis=1) # drop class from feature dataframe\n",
    "mapping = {'A': 1, 'B': 0} # change object from str to int \n",
    "Dataset['EJ'] = Dataset['EJ'].replace(mapping)\n",
    "#print(Dataset.shape)\n",
    "Dataset_train, Dataset_test, Labels_train, Labels_test = train_test_split(Dataset, Labels, test_size=0.5, random_state=42)\n",
    "#print(type(Dataset_train))\n",
    "sm = SMOTE(random_state=42)\n",
    "AltDataset, AltLabels = sm.fit_resample(Dataset_train, Labels_train)\n",
    "#print(AltLabels.value_counts(AltLabels[\"Class\"]))\n",
    "AltDataset = tf.convert_to_tensor(AltDataset.values, dtype=tf.float32)\n",
    "AltLabels=tf.convert_to_tensor(AltLabels.values, dtype=tf.float32)\n",
    "print(len(Labels_train))\n",
    "DiseaseModel=keras.Sequential([layers.Dense(300,activation=\"relu\"),layers.Dense(1,activation=\"sigmoid\")])\n",
    "DiseaseModel.compile(optimizer=\"adam\",loss=\"binary_crossentropy\",metrics=[\"accuracy\"])\n",
    "DiseaseModel.fit(AltDataset,AltLabels,epochs=30,batch_size=150)\n",
    "print(\"I will determine the accuracy of my test data.\")\n",
    "Evaluations=DiseaseModel.evaluate(Dataset_test,Labels_test)"
   ]
  },
  {
   "cell_type": "code",
   "execution_count": 40,
   "metadata": {},
   "outputs": [],
   "source": [
    "import tensorflow as tf\n",
    "from tensorflow.keras.models import Sequential\n",
    "from tensorflow.keras.layers import Dense\n",
    "import numpy as np\n",
    "\n",
    "def create_model():\n",
    "    model = Sequential([Dense(150, activation=\"relu\"), Dense(1, activation=\"sigmoid\")])\n",
    "    return model\n",
    "\n",
    "loss_function = tf.keras.losses.BinaryCrossentropy()\n",
    "\n",
    "num_models = 100\n",
    "models = [create_model() for _ in range(num_models)]  # Initialize models\n",
    "\n",
    "\n",
    "for generation in range(min(50, len(AltDataset))):  # For each generation\n",
    "    losses = []\n",
    "\n",
    "    for model in models:  # For each model\n",
    "        \n",
    "        sample, label = AltDataset[generation], AltLabels[generation]\n",
    "        optimizer = tf.keras.optimizers.Adam()  # Define optimizer inside the loop\n",
    "        \n",
    "        # Train the model on the sample\n",
    "        with tf.GradientTape() as tape:\n",
    "            prediction = model(sample[None, ...], training=True)  # Forward pass\n",
    "            loss = loss_function(label[None, ...], prediction)  # Compute the loss\n",
    "\n",
    "        gradients = tape.gradient(loss, model.trainable_variables)  # Compute the gradients\n",
    "        optimizer.apply_gradients(zip(gradients, model.trainable_variables))  # Update the weights\n",
    "\n",
    "        losses.append(loss)\n",
    "\n",
    "    sorted_indices = (np.argsort(losses))[1:int((len(models)/2)+1)]\n",
    "    top_20_idx = sorted_indices[:len(models) * 20 // 100]\n",
    "    mid_40_idx = sorted_indices[len(models) * 20 // 100:len(models) * 60 // 100]\n",
    "    bottom_40_idx = sorted_indices[len(models) * 60 // 100:]\n",
    "\n",
    "    def crossover_and_create_models(parents, num_children_per_pair):\n",
    "        new_models = []\n",
    "        num_pairs = len(parents) // 2 * 2  # Ensures an even number of parents\n",
    "        for i in range(0, num_pairs, 2):  # We'll use pairs of parents\n",
    "            for _ in range(num_children_per_pair):\n",
    "                new_model = create_model()\n",
    "                new_model.build((None, sample.shape[0]))\n",
    "                for j in range(len(new_model.weights)):\n",
    "                    mask = np.random.choice([0, 1], size=new_model.weights[j].shape.as_list())\n",
    "                    new_weights = np.where(mask, models[parents[i]].weights[j].numpy(), models[parents[i + 1]].weights[j].numpy())\n",
    "                    new_model.weights[j].assign(new_weights)\n",
    "                new_models.append(new_model)\n",
    "                total_weight = sum([np.sum(w.numpy()) for w in new_model.weights])\n",
    "                #print(f\"Sum of all weights for model {_}: {total_weight}\")\n",
    "        return new_models\n",
    "\n",
    "\n",
    "    # Creating children from top 20%, mid 40%, and bottom 40%\n",
    "    #new_models_top_20 = crossover_and_create_models(top_20_idx, 3)\n",
    "    #new_models_mid_40 = crossover_and_create_models(mid_40_idx, 2)\n",
    "    #new_models_bottom_40 = crossover_and_create_models(bottom_40_idx, 1)\n",
    "    new_models=crossover_and_create_models(sorted_indices,4)\n",
    "    # Combine all the newly created models\n",
    "    #new_models = new_models_top_20 + new_models_mid_40 + new_models_bottom_40\n",
    "    \n",
    "\n",
    "    models = new_models\n",
    "    \n"
   ]
  },
  {
   "cell_type": "code",
   "execution_count": 42,
   "metadata": {},
   "outputs": [
    {
     "name": "stdout",
     "output_type": "stream",
     "text": [
      "[<keras.engine.sequential.Sequential object at 0x0000021D4CCCF7F0>, <keras.engine.sequential.Sequential object at 0x0000021D465ED3A0>, <keras.engine.sequential.Sequential object at 0x0000021D3E612B20>, <keras.engine.sequential.Sequential object at 0x0000021D26D14520>, <keras.engine.sequential.Sequential object at 0x0000021D51BA9BB0>, <keras.engine.sequential.Sequential object at 0x0000021D5D75CBB0>, <keras.engine.sequential.Sequential object at 0x0000021D531A0B50>, <keras.engine.sequential.Sequential object at 0x0000021D259712B0>, <keras.engine.sequential.Sequential object at 0x0000021D5313ABB0>, <keras.engine.sequential.Sequential object at 0x0000021D5025ECA0>, <keras.engine.sequential.Sequential object at 0x0000021D5A2579A0>, <keras.engine.sequential.Sequential object at 0x0000021D4D15C8B0>, <keras.engine.sequential.Sequential object at 0x0000021D5ECD4FA0>, <keras.engine.sequential.Sequential object at 0x0000021D5EC890A0>, <keras.engine.sequential.Sequential object at 0x0000021D4A8F0490>, <keras.engine.sequential.Sequential object at 0x0000021D5177AC40>, <keras.engine.sequential.Sequential object at 0x0000021D5BC81490>, <keras.engine.sequential.Sequential object at 0x0000021D4D670730>, <keras.engine.sequential.Sequential object at 0x0000021D54C1A3A0>, <keras.engine.sequential.Sequential object at 0x0000021D4C948E50>, <keras.engine.sequential.Sequential object at 0x0000021D4EE08AC0>, <keras.engine.sequential.Sequential object at 0x0000021D4D44DE20>, <keras.engine.sequential.Sequential object at 0x0000021D5A70B7F0>, <keras.engine.sequential.Sequential object at 0x0000021D5BDB6A60>, <keras.engine.sequential.Sequential object at 0x0000021D502B3DC0>, <keras.engine.sequential.Sequential object at 0x0000021D5D42CA60>, <keras.engine.sequential.Sequential object at 0x0000021D517B7640>, <keras.engine.sequential.Sequential object at 0x0000021D4EC84B50>, <keras.engine.sequential.Sequential object at 0x0000021D55DA6880>, <keras.engine.sequential.Sequential object at 0x0000021D498336A0>, <keras.engine.sequential.Sequential object at 0x0000021D5D5070D0>, <keras.engine.sequential.Sequential object at 0x0000021D4D22A430>, <keras.engine.sequential.Sequential object at 0x0000021D2705BA00>, <keras.engine.sequential.Sequential object at 0x0000021D4660BDC0>, <keras.engine.sequential.Sequential object at 0x0000021D27050280>, <keras.engine.sequential.Sequential object at 0x0000021D477E7400>, <keras.engine.sequential.Sequential object at 0x0000021D4D5F0BB0>, <keras.engine.sequential.Sequential object at 0x0000021D4CD36220>, <keras.engine.sequential.Sequential object at 0x0000021D58E5B580>, <keras.engine.sequential.Sequential object at 0x0000021D4CD3C640>, <keras.engine.sequential.Sequential object at 0x0000021D4D6F9610>, <keras.engine.sequential.Sequential object at 0x0000021D4D5D6A60>, <keras.engine.sequential.Sequential object at 0x0000021D5883AFA0>, <keras.engine.sequential.Sequential object at 0x0000021D4D3AB820>, <keras.engine.sequential.Sequential object at 0x0000021D271A0730>, <keras.engine.sequential.Sequential object at 0x0000021D577F69D0>, <keras.engine.sequential.Sequential object at 0x0000021D4D3B62B0>, <keras.engine.sequential.Sequential object at 0x0000021D4D2E0D90>, <keras.engine.sequential.Sequential object at 0x0000021D5A693100>, <keras.engine.sequential.Sequential object at 0x0000021D5A66B850>, <keras.engine.sequential.Sequential object at 0x0000021D4EBF07C0>, <keras.engine.sequential.Sequential object at 0x0000021D5BFDAEE0>, <keras.engine.sequential.Sequential object at 0x0000021D5A71BB20>, <keras.engine.sequential.Sequential object at 0x0000021D57801400>, <keras.engine.sequential.Sequential object at 0x0000021D2705B4F0>, <keras.engine.sequential.Sequential object at 0x0000021D4EFF0580>, <keras.engine.sequential.Sequential object at 0x0000021D49856E20>, <keras.engine.sequential.Sequential object at 0x0000021D5325DEB0>, <keras.engine.sequential.Sequential object at 0x0000021D4E9D3940>, <keras.engine.sequential.Sequential object at 0x0000021D4CED1B50>, <keras.engine.sequential.Sequential object at 0x0000021D465C84F0>, <keras.engine.sequential.Sequential object at 0x0000021D4EE0A7C0>, <keras.engine.sequential.Sequential object at 0x0000021D4E9A9D30>, <keras.engine.sequential.Sequential object at 0x0000021D58CFCC40>, <keras.engine.sequential.Sequential object at 0x0000021D5312D160>, <keras.engine.sequential.Sequential object at 0x0000021D5A1A8340>, <keras.engine.sequential.Sequential object at 0x0000021D4CED88B0>, <keras.engine.sequential.Sequential object at 0x0000021D5BFB6190>, <keras.engine.sequential.Sequential object at 0x0000021D57349AF0>, <keras.engine.sequential.Sequential object at 0x0000021D4D0916A0>, <keras.engine.sequential.Sequential object at 0x0000021D5A1B8AF0>, <keras.engine.sequential.Sequential object at 0x0000021D5D6A2D30>, <keras.engine.sequential.Sequential object at 0x0000021D5475A4F0>, <keras.engine.sequential.Sequential object at 0x0000021D5744D490>, <keras.engine.sequential.Sequential object at 0x0000021D572422E0>, <keras.engine.sequential.Sequential object at 0x0000021D4E794160>, <keras.engine.sequential.Sequential object at 0x0000021D530FA190>, <keras.engine.sequential.Sequential object at 0x0000021D58AF1730>, <keras.engine.sequential.Sequential object at 0x0000021D58A18160>, <keras.engine.sequential.Sequential object at 0x0000021D530FA490>, <keras.engine.sequential.Sequential object at 0x0000021D5D6A2400>, <keras.engine.sequential.Sequential object at 0x0000021D498559D0>, <keras.engine.sequential.Sequential object at 0x0000021D5069A280>, <keras.engine.sequential.Sequential object at 0x0000021D4EEEFD30>, <keras.engine.sequential.Sequential object at 0x0000021D4E741430>, <keras.engine.sequential.Sequential object at 0x0000021D4E75F550>, <keras.engine.sequential.Sequential object at 0x0000021D5D5C6E80>, <keras.engine.sequential.Sequential object at 0x0000021D58CA8670>, <keras.engine.sequential.Sequential object at 0x0000021D505CBC70>, <keras.engine.sequential.Sequential object at 0x0000021D505CBAF0>, <keras.engine.sequential.Sequential object at 0x0000021D5E962FD0>, <keras.engine.sequential.Sequential object at 0x0000021D4EAAF280>, <keras.engine.sequential.Sequential object at 0x0000021D5044FA90>, <keras.engine.sequential.Sequential object at 0x0000021D5EBBBAF0>, <keras.engine.sequential.Sequential object at 0x0000021D5A228790>, <keras.engine.sequential.Sequential object at 0x0000021D54522250>, <keras.engine.sequential.Sequential object at 0x0000021D5BCF8070>, <keras.engine.sequential.Sequential object at 0x0000021D5BD2D8E0>, <keras.engine.sequential.Sequential object at 0x0000021D4D5A55E0>, <keras.engine.sequential.Sequential object at 0x0000021D545F76D0>, <keras.engine.sequential.Sequential object at 0x0000021D576D2D00>, <keras.engine.sequential.Sequential object at 0x0000021D577434F0>, <keras.engine.sequential.Sequential object at 0x0000021D573F6100>, <keras.engine.sequential.Sequential object at 0x0000021D5A8322B0>, <keras.engine.sequential.Sequential object at 0x0000021D57739910>, <keras.engine.sequential.Sequential object at 0x0000021D46690490>, <keras.engine.sequential.Sequential object at 0x0000021D588508E0>, <keras.engine.sequential.Sequential object at 0x0000021D545F0B80>, <keras.engine.sequential.Sequential object at 0x0000021D58B1D4F0>, <keras.engine.sequential.Sequential object at 0x0000021D5BD99520>, <keras.engine.sequential.Sequential object at 0x0000021D532AC2E0>, <keras.engine.sequential.Sequential object at 0x0000021D544A7520>, <keras.engine.sequential.Sequential object at 0x0000021D5BB5EBB0>, <keras.engine.sequential.Sequential object at 0x0000021D572FEEB0>, <keras.engine.sequential.Sequential object at 0x0000021D56EBB0A0>, <keras.engine.sequential.Sequential object at 0x0000021D4D4EC7F0>, <keras.engine.sequential.Sequential object at 0x0000021D4D3F0460>, <keras.engine.sequential.Sequential object at 0x0000021D54954B50>, <keras.engine.sequential.Sequential object at 0x0000021D5A801880>, <keras.engine.sequential.Sequential object at 0x0000021D5A7E4FA0>, <keras.engine.sequential.Sequential object at 0x0000021D50646040>, <keras.engine.sequential.Sequential object at 0x0000021D58B1DC70>, <keras.engine.sequential.Sequential object at 0x0000021D54A38FD0>, <keras.engine.sequential.Sequential object at 0x0000021D5070D8E0>, <keras.engine.sequential.Sequential object at 0x0000021D50718670>, <keras.engine.sequential.Sequential object at 0x0000021D546E5220>, <keras.engine.sequential.Sequential object at 0x0000021D50765CD0>, <keras.engine.sequential.Sequential object at 0x0000021D54878640>, <keras.engine.sequential.Sequential object at 0x0000021D4987A370>, <keras.engine.sequential.Sequential object at 0x0000021D4D6E6AF0>, <keras.engine.sequential.Sequential object at 0x0000021D545876D0>, <keras.engine.sequential.Sequential object at 0x0000021D52EA05E0>, <keras.engine.sequential.Sequential object at 0x0000021D5A34E280>, <keras.engine.sequential.Sequential object at 0x0000021D4CE64820>, <keras.engine.sequential.Sequential object at 0x0000021D5ED959D0>, <keras.engine.sequential.Sequential object at 0x0000021D4665C700>, <keras.engine.sequential.Sequential object at 0x0000021D51860A90>, <keras.engine.sequential.Sequential object at 0x0000021D57612AC0>, <keras.engine.sequential.Sequential object at 0x0000021D517B00D0>, <keras.engine.sequential.Sequential object at 0x0000021D4EDD7E50>, <keras.engine.sequential.Sequential object at 0x0000021D5D6429D0>, <keras.engine.sequential.Sequential object at 0x0000021D571342E0>, <keras.engine.sequential.Sequential object at 0x0000021D571573D0>, <keras.engine.sequential.Sequential object at 0x0000021D54989130>, <keras.engine.sequential.Sequential object at 0x0000021D57489D00>, <keras.engine.sequential.Sequential object at 0x0000021D5D424D00>, <keras.engine.sequential.Sequential object at 0x0000021D5A369910>, <keras.engine.sequential.Sequential object at 0x0000021D5335C7C0>, <keras.engine.sequential.Sequential object at 0x0000021D5064F550>, <keras.engine.sequential.Sequential object at 0x0000021D4ED6E190>, <keras.engine.sequential.Sequential object at 0x0000021D5D21A8E0>, <keras.engine.sequential.Sequential object at 0x0000021D5EA672E0>, <keras.engine.sequential.Sequential object at 0x0000021D53384D30>, <keras.engine.sequential.Sequential object at 0x0000021D571E50A0>, <keras.engine.sequential.Sequential object at 0x0000021D4D0D0820>, <keras.engine.sequential.Sequential object at 0x0000021D4D1BA7F0>, <keras.engine.sequential.Sequential object at 0x0000021D4D0DE280>, <keras.engine.sequential.Sequential object at 0x0000021D51CB7F10>, <keras.engine.sequential.Sequential object at 0x0000021D572B6100>, <keras.engine.sequential.Sequential object at 0x0000021D5B9B9F70>, <keras.engine.sequential.Sequential object at 0x0000021D51C857C0>, <keras.engine.sequential.Sequential object at 0x0000021D571D8670>, <keras.engine.sequential.Sequential object at 0x0000021D5A3525E0>, <keras.engine.sequential.Sequential object at 0x0000021D56FB9910>, <keras.engine.sequential.Sequential object at 0x0000021D51CABD00>, <keras.engine.sequential.Sequential object at 0x0000021D5EABB160>, <keras.engine.sequential.Sequential object at 0x0000021D50421730>, <keras.engine.sequential.Sequential object at 0x0000021D51B79E80>, <keras.engine.sequential.Sequential object at 0x0000021D52E3CCD0>, <keras.engine.sequential.Sequential object at 0x0000021D5A78C400>, <keras.engine.sequential.Sequential object at 0x0000021D4D472A90>, <keras.engine.sequential.Sequential object at 0x0000021D4E7A29D0>, <keras.engine.sequential.Sequential object at 0x0000021D51B74700>, <keras.engine.sequential.Sequential object at 0x0000021D548C89A0>, <keras.engine.sequential.Sequential object at 0x0000021D5EB61220>, <keras.engine.sequential.Sequential object at 0x0000021D4F08A970>, <keras.engine.sequential.Sequential object at 0x0000021D5A78E8B0>, <keras.engine.sequential.Sequential object at 0x0000021D5A6A10D0>, <keras.engine.sequential.Sequential object at 0x0000021D575580D0>, <keras.engine.sequential.Sequential object at 0x0000021D5BC0F2E0>, <keras.engine.sequential.Sequential object at 0x0000021D5D34FE20>, <keras.engine.sequential.Sequential object at 0x0000021D5058F730>, <keras.engine.sequential.Sequential object at 0x0000021D4CE25100>, <keras.engine.sequential.Sequential object at 0x0000021D5BFEE910>, <keras.engine.sequential.Sequential object at 0x0000021D5D2B5F10>, <keras.engine.sequential.Sequential object at 0x0000021D51A35070>, <keras.engine.sequential.Sequential object at 0x0000021D5BC7EA30>, <keras.engine.sequential.Sequential object at 0x0000021D54835910>, <keras.engine.sequential.Sequential object at 0x0000021D5A6C2D30>, <keras.engine.sequential.Sequential object at 0x0000021D504CE250>, <keras.engine.sequential.Sequential object at 0x0000021D545720D0>, <keras.engine.sequential.Sequential object at 0x0000021D4E8F5A30>, <keras.engine.sequential.Sequential object at 0x0000021D5A1D3670>, <keras.engine.sequential.Sequential object at 0x0000021D4CE7D7C0>, <keras.engine.sequential.Sequential object at 0x0000021D544BA1F0>, <keras.engine.sequential.Sequential object at 0x0000021D573BF790>, <keras.engine.sequential.Sequential object at 0x0000021D50408E20>, <keras.engine.sequential.Sequential object at 0x0000021D4D36C0A0>, <keras.engine.sequential.Sequential object at 0x0000021D4EEA1790>, <keras.engine.sequential.Sequential object at 0x0000021D54C13C10>, <keras.engine.sequential.Sequential object at 0x0000021D55D05730>, <keras.engine.sequential.Sequential object at 0x0000021D51C5F1F0>, <keras.engine.sequential.Sequential object at 0x0000021D519CF160>, <keras.engine.sequential.Sequential object at 0x0000021D5D371DF0>, <keras.engine.sequential.Sequential object at 0x0000021D498A3190>, <keras.engine.sequential.Sequential object at 0x0000021D5772F820>, <keras.engine.sequential.Sequential object at 0x0000021D54590A30>, <keras.engine.sequential.Sequential object at 0x0000021D5A2F0430>, <keras.engine.sequential.Sequential object at 0x0000021D466446D0>, <keras.engine.sequential.Sequential object at 0x0000021D570B6BB0>, <keras.engine.sequential.Sequential object at 0x0000021D5EC6B820>, <keras.engine.sequential.Sequential object at 0x0000021D577BBEB0>, <keras.engine.sequential.Sequential object at 0x0000021D465C5A60>, <keras.engine.sequential.Sequential object at 0x0000021D4D52B3D0>, <keras.engine.sequential.Sequential object at 0x0000021D58D31B80>, <keras.engine.sequential.Sequential object at 0x0000021D5E9FD2E0>, <keras.engine.sequential.Sequential object at 0x0000021D4F01F580>, <keras.engine.sequential.Sequential object at 0x0000021D4EEF3B20>, <keras.engine.sequential.Sequential object at 0x0000021D46585A00>, <keras.engine.sequential.Sequential object at 0x0000021D271E5B80>, <keras.engine.sequential.Sequential object at 0x0000021D5E912490>, <keras.engine.sequential.Sequential object at 0x0000021D4D10EDC0>, <keras.engine.sequential.Sequential object at 0x0000021D58EBB5B0>, <keras.engine.sequential.Sequential object at 0x0000021D50581490>, <keras.engine.sequential.Sequential object at 0x0000021D50575E80>, <keras.engine.sequential.Sequential object at 0x0000021D575B7BB0>, <keras.engine.sequential.Sequential object at 0x0000021D545B5CA0>, <keras.engine.sequential.Sequential object at 0x0000021D26FFF370>, <keras.engine.sequential.Sequential object at 0x0000021D58EBB5E0>, <keras.engine.sequential.Sequential object at 0x0000021D573ADD30>, <keras.engine.sequential.Sequential object at 0x0000021D26BF8EB0>, <keras.engine.sequential.Sequential object at 0x0000021D3D5A9730>, <keras.engine.sequential.Sequential object at 0x0000021D5A791E20>, <keras.engine.sequential.Sequential object at 0x0000021D25927940>, <keras.engine.sequential.Sequential object at 0x0000021D53382040>, <keras.engine.sequential.Sequential object at 0x0000021D24323D00>, <keras.engine.sequential.Sequential object at 0x0000021D270600A0>, <keras.engine.sequential.Sequential object at 0x0000021D4EEF9EB0>, <keras.engine.sequential.Sequential object at 0x0000021D272DEB20>, <keras.engine.sequential.Sequential object at 0x0000021D25A449A0>, <keras.engine.sequential.Sequential object at 0x0000021D5D875880>, <keras.engine.sequential.Sequential object at 0x0000021D5D875520>, <keras.engine.sequential.Sequential object at 0x0000021D2701BC70>, <keras.engine.sequential.Sequential object at 0x0000021D26BF83A0>, <keras.engine.sequential.Sequential object at 0x0000021D26DEFE20>, <keras.engine.sequential.Sequential object at 0x0000021D26D90400>, <keras.engine.sequential.Sequential object at 0x0000021D2571D0A0>, <keras.engine.sequential.Sequential object at 0x0000021D2555B850>, <keras.engine.sequential.Sequential object at 0x0000021D26F56250>, <keras.engine.sequential.Sequential object at 0x0000021D1FD11730>, <keras.engine.sequential.Sequential object at 0x0000021D477BD6A0>, <keras.engine.sequential.Sequential object at 0x0000021D54CDD8E0>, <keras.engine.sequential.Sequential object at 0x0000021D503946A0>, <keras.engine.sequential.Sequential object at 0x0000021D51781280>, <keras.engine.sequential.Sequential object at 0x0000021D46686F40>, <keras.engine.sequential.Sequential object at 0x0000021D27177A00>, <keras.engine.sequential.Sequential object at 0x0000021D258106D0>, <keras.engine.sequential.Sequential object at 0x0000021D27181DF0>, <keras.engine.sequential.Sequential object at 0x0000021D5D83E190>, <keras.engine.sequential.Sequential object at 0x0000021D27181970>, <keras.engine.sequential.Sequential object at 0x0000021D59140580>, <keras.engine.sequential.Sequential object at 0x0000021D589FAC40>, <keras.engine.sequential.Sequential object at 0x0000021D4D1A3DF0>, <keras.engine.sequential.Sequential object at 0x0000021D58B277F0>, <keras.engine.sequential.Sequential object at 0x0000021D5A1E1970>, <keras.engine.sequential.Sequential object at 0x0000021D5A4123D0>, <keras.engine.sequential.Sequential object at 0x0000021D58B31850>, <keras.engine.sequential.Sequential object at 0x0000021D58924E20>, <keras.engine.sequential.Sequential object at 0x0000021D58924910>, <keras.engine.sequential.Sequential object at 0x0000021D498A4C70>, <keras.engine.sequential.Sequential object at 0x0000021D26E5D220>, <keras.engine.sequential.Sequential object at 0x0000021D4CFEEDC0>, <keras.engine.sequential.Sequential object at 0x0000021D5D6B4400>, <keras.engine.sequential.Sequential object at 0x0000021D5D7E1A60>, <keras.engine.sequential.Sequential object at 0x0000021D5475CB80>, <keras.engine.sequential.Sequential object at 0x0000021D5D087D00>, <keras.engine.sequential.Sequential object at 0x0000021D4D2F60A0>, <keras.engine.sequential.Sequential object at 0x0000021D5726CCA0>, <keras.engine.sequential.Sequential object at 0x0000021D58DCE7F0>, <keras.engine.sequential.Sequential object at 0x0000021D4F05CA30>, <keras.engine.sequential.Sequential object at 0x0000021D58DA02B0>, <keras.engine.sequential.Sequential object at 0x0000021D5499C7F0>, <keras.engine.sequential.Sequential object at 0x0000021D5D374370>, <keras.engine.sequential.Sequential object at 0x0000021D5ECF1A60>, <keras.engine.sequential.Sequential object at 0x0000021D4F19FB20>, <keras.engine.sequential.Sequential object at 0x0000021D54711550>, <keras.engine.sequential.Sequential object at 0x0000021D54711220>, <keras.engine.sequential.Sequential object at 0x0000021D56EF48B0>, <keras.engine.sequential.Sequential object at 0x0000021D573F7190>, <keras.engine.sequential.Sequential object at 0x0000021D506157F0>, <keras.engine.sequential.Sequential object at 0x0000021D5330DE50>, <keras.engine.sequential.Sequential object at 0x0000021D4ED97220>, <keras.engine.sequential.Sequential object at 0x0000021D5D79A430>, <keras.engine.sequential.Sequential object at 0x0000021D573E9F70>, <keras.engine.sequential.Sequential object at 0x0000021D4D111E50>, <keras.engine.sequential.Sequential object at 0x0000021D4D111520>, <keras.engine.sequential.Sequential object at 0x0000021D5A662550>, <keras.engine.sequential.Sequential object at 0x0000021D4F19FFA0>, <keras.engine.sequential.Sequential object at 0x0000021D5B9C0820>, <keras.engine.sequential.Sequential object at 0x0000021D545AE460>, <keras.engine.sequential.Sequential object at 0x0000021D51CA93D0>, <keras.engine.sequential.Sequential object at 0x0000021D5B9D0DC0>, <keras.engine.sequential.Sequential object at 0x0000021D58D438B0>, <keras.engine.sequential.Sequential object at 0x0000021D50249310>, <keras.engine.sequential.Sequential object at 0x0000021D50432B20>, <keras.engine.sequential.Sequential object at 0x0000021D590C4E80>, <keras.engine.sequential.Sequential object at 0x0000021D58964310>, <keras.engine.sequential.Sequential object at 0x0000021D4ECEB700>, <keras.engine.sequential.Sequential object at 0x0000021D4EE85F70>, <keras.engine.sequential.Sequential object at 0x0000021D4E8F2A00>, <keras.engine.sequential.Sequential object at 0x0000021D58994430>, <keras.engine.sequential.Sequential object at 0x0000021D549A93D0>, <keras.engine.sequential.Sequential object at 0x0000021D58AEB430>, <keras.engine.sequential.Sequential object at 0x0000021D4EEA8190>, <keras.engine.sequential.Sequential object at 0x0000021D549E5FA0>, <keras.engine.sequential.Sequential object at 0x0000021D533DB700>, <keras.engine.sequential.Sequential object at 0x0000021D5BC5AAF0>, <keras.engine.sequential.Sequential object at 0x0000021D51B73D30>, <keras.engine.sequential.Sequential object at 0x0000021D57809400>, <keras.engine.sequential.Sequential object at 0x0000021D5EDDD940>, <keras.engine.sequential.Sequential object at 0x0000021D54A40370>, <keras.engine.sequential.Sequential object at 0x0000021D4EEA95B0>, <keras.engine.sequential.Sequential object at 0x0000021D50450DC0>, <keras.engine.sequential.Sequential object at 0x0000021D54B31280>, <keras.engine.sequential.Sequential object at 0x0000021D549A98B0>, <keras.engine.sequential.Sequential object at 0x0000021D50506250>, <keras.engine.sequential.Sequential object at 0x0000021D5A2E2A60>, <keras.engine.sequential.Sequential object at 0x0000021D575DA100>, <keras.engine.sequential.Sequential object at 0x0000021D5D5AA1F0>, <keras.engine.sequential.Sequential object at 0x0000021D26EDA280>, <keras.engine.sequential.Sequential object at 0x0000021D4D0B24F0>, <keras.engine.sequential.Sequential object at 0x0000021D4ED08BE0>, <keras.engine.sequential.Sequential object at 0x0000021D4D37CD00>, <keras.engine.sequential.Sequential object at 0x0000021D57756C10>, <keras.engine.sequential.Sequential object at 0x0000021D54C79F70>, <keras.engine.sequential.Sequential object at 0x0000021D4D506DC0>, <keras.engine.sequential.Sequential object at 0x0000021D575F7FA0>, <keras.engine.sequential.Sequential object at 0x0000021D5A662CA0>, <keras.engine.sequential.Sequential object at 0x0000021D4F132C70>, <keras.engine.sequential.Sequential object at 0x0000021D54BCF430>, <keras.engine.sequential.Sequential object at 0x0000021D54BCF190>, <keras.engine.sequential.Sequential object at 0x0000021D54BCF0A0>, <keras.engine.sequential.Sequential object at 0x0000021D5BD4AE20>, <keras.engine.sequential.Sequential object at 0x0000021D4D603040>, <keras.engine.sequential.Sequential object at 0x0000021D5D6A5820>, <keras.engine.sequential.Sequential object at 0x0000021D5BE29940>, <keras.engine.sequential.Sequential object at 0x0000021D5D27F520>, <keras.engine.sequential.Sequential object at 0x0000021D4D6625B0>, <keras.engine.sequential.Sequential object at 0x0000021D51936550>, <keras.engine.sequential.Sequential object at 0x0000021D51936B80>, <keras.engine.sequential.Sequential object at 0x0000021D51AA1D60>, <keras.engine.sequential.Sequential object at 0x0000021D4F132370>, <keras.engine.sequential.Sequential object at 0x0000021D5EEB5BB0>, <keras.engine.sequential.Sequential object at 0x0000021D5BCA0DF0>, <keras.engine.sequential.Sequential object at 0x0000021D57058BB0>, <keras.engine.sequential.Sequential object at 0x0000021D2587C760>, <keras.engine.sequential.Sequential object at 0x0000021D4D63C9D0>, <keras.engine.sequential.Sequential object at 0x0000021D25826A60>, <keras.engine.sequential.Sequential object at 0x0000021D530CE370>, <keras.engine.sequential.Sequential object at 0x0000021D5A79D3A0>, <keras.engine.sequential.Sequential object at 0x0000021D4D58BA30>, <keras.engine.sequential.Sequential object at 0x0000021D530B3D90>, <keras.engine.sequential.Sequential object at 0x0000021D51AC4640>, <keras.engine.sequential.Sequential object at 0x0000021D4E904D60>, <keras.engine.sequential.Sequential object at 0x0000021D4C94F940>, <keras.engine.sequential.Sequential object at 0x0000021D5A233DF0>, <keras.engine.sequential.Sequential object at 0x0000021D518D58E0>, <keras.engine.sequential.Sequential object at 0x0000021D574F5FA0>, <keras.engine.sequential.Sequential object at 0x0000021D5490AE80>, <keras.engine.sequential.Sequential object at 0x0000021D4D5BA820>, <keras.engine.sequential.Sequential object at 0x0000021D5A799160>, <keras.engine.sequential.Sequential object at 0x0000021D5D0F8490>, <keras.engine.sequential.Sequential object at 0x0000021D5D631430>, <keras.engine.sequential.Sequential object at 0x0000021D58A021F0>, <keras.engine.sequential.Sequential object at 0x0000021D549E64F0>, <keras.engine.sequential.Sequential object at 0x0000021D244C5040>, <keras.engine.sequential.Sequential object at 0x0000021D244C55B0>, <keras.engine.sequential.Sequential object at 0x0000021D5490ABB0>, <keras.engine.sequential.Sequential object at 0x0000021D5EDA2DC0>, <keras.engine.sequential.Sequential object at 0x0000021D4EEDCAC0>, <keras.engine.sequential.Sequential object at 0x0000021D5ED1A4C0>, <keras.engine.sequential.Sequential object at 0x0000021D5D608220>, <keras.engine.sequential.Sequential object at 0x0000021D25A14670>, <keras.engine.sequential.Sequential object at 0x0000021D547BC7C0>, <keras.engine.sequential.Sequential object at 0x0000021D54A0DD30>, <keras.engine.sequential.Sequential object at 0x0000021D5BE19FD0>, <keras.engine.sequential.Sequential object at 0x0000021D256ABF10>, <keras.engine.sequential.Sequential object at 0x0000021D4D1C3040>, <keras.engine.sequential.Sequential object at 0x0000021D5D6C5B20>, <keras.engine.sequential.Sequential object at 0x0000021D4D445520>, <keras.engine.sequential.Sequential object at 0x0000021D5D606730>, <keras.engine.sequential.Sequential object at 0x0000021D58B78130>, <keras.engine.sequential.Sequential object at 0x0000021D24543940>, <keras.engine.sequential.Sequential object at 0x0000021D532B4B20>, <keras.engine.sequential.Sequential object at 0x0000021D55CC13A0>, <keras.engine.sequential.Sequential object at 0x0000021D532B4DC0>, <keras.engine.sequential.Sequential object at 0x0000021D5A812400>, <keras.engine.sequential.Sequential object at 0x0000021D589F48E0>, <keras.engine.sequential.Sequential object at 0x0000021D4D6AFCA0>, <keras.engine.sequential.Sequential object at 0x0000021D5D525DC0>, <keras.engine.sequential.Sequential object at 0x0000021D547B7910>, <keras.engine.sequential.Sequential object at 0x0000021D26DDA8E0>, <keras.engine.sequential.Sequential object at 0x0000021D5D124520>, <keras.engine.sequential.Sequential object at 0x0000021D5D124AF0>, <keras.engine.sequential.Sequential object at 0x0000021D58CB51F0>, <keras.engine.sequential.Sequential object at 0x0000021D4D39D880>, <keras.engine.sequential.Sequential object at 0x0000021D465B32E0>, <keras.engine.sequential.Sequential object at 0x0000021D4E7B0AC0>, <keras.engine.sequential.Sequential object at 0x0000021D5347E850>, <keras.engine.sequential.Sequential object at 0x0000021D5D11EDC0>, <keras.engine.sequential.Sequential object at 0x0000021D5D10D3A0>, <keras.engine.sequential.Sequential object at 0x0000021D5308E370>, <keras.engine.sequential.Sequential object at 0x0000021D58BA60D0>, <keras.engine.sequential.Sequential object at 0x0000021D56F2A430>, <keras.engine.sequential.Sequential object at 0x0000021D4A8FACD0>, <keras.engine.sequential.Sequential object at 0x0000021D5D3AAF70>, <keras.engine.sequential.Sequential object at 0x0000021D53086880>, <keras.engine.sequential.Sequential object at 0x0000021D4E957970>, <keras.engine.sequential.Sequential object at 0x0000021D24543670>, <keras.engine.sequential.Sequential object at 0x0000021D53074A60>, <keras.engine.sequential.Sequential object at 0x0000021D1FCF4370>, <keras.engine.sequential.Sequential object at 0x0000021D5BED4B80>, <keras.engine.sequential.Sequential object at 0x0000021D57416BB0>, <keras.engine.sequential.Sequential object at 0x0000021D4CE89C40>, <keras.engine.sequential.Sequential object at 0x0000021D4CADB8E0>, <keras.engine.sequential.Sequential object at 0x0000021D5EDE1DF0>, <keras.engine.sequential.Sequential object at 0x0000021D5028D0D0>, <keras.engine.sequential.Sequential object at 0x0000021D5D060940>, <keras.engine.sequential.Sequential object at 0x0000021D5D6123A0>, <keras.engine.sequential.Sequential object at 0x0000021D55D50B20>, <keras.engine.sequential.Sequential object at 0x0000021D55D50070>, <keras.engine.sequential.Sequential object at 0x0000021D4CE89820>, <keras.engine.sequential.Sequential object at 0x0000021D53074F40>, <keras.engine.sequential.Sequential object at 0x0000021D4D5C5D30>, <keras.engine.sequential.Sequential object at 0x0000021D547D0790>, <keras.engine.sequential.Sequential object at 0x0000021D4D50F5E0>, <keras.engine.sequential.Sequential object at 0x0000021D58A06280>, <keras.engine.sequential.Sequential object at 0x0000021D4EE3F760>, <keras.engine.sequential.Sequential object at 0x0000021D518BDAF0>, <keras.engine.sequential.Sequential object at 0x0000021D5773F8B0>, <keras.engine.sequential.Sequential object at 0x0000021D5A3F9490>, <keras.engine.sequential.Sequential object at 0x0000021D58884250>, <keras.engine.sequential.Sequential object at 0x0000021D27272A00>, <keras.engine.sequential.Sequential object at 0x0000021D5D01C9D0>, <keras.engine.sequential.Sequential object at 0x0000021D55D1ED90>, <keras.engine.sequential.Sequential object at 0x0000021D5890E100>, <keras.engine.sequential.Sequential object at 0x0000021D5D2E67C0>, <keras.engine.sequential.Sequential object at 0x0000021D5E9E37C0>, <keras.engine.sequential.Sequential object at 0x0000021D1FCF4700>, <keras.engine.sequential.Sequential object at 0x0000021D5D533040>, <keras.engine.sequential.Sequential object at 0x0000021D2598C9A0>, <keras.engine.sequential.Sequential object at 0x0000021D5D86BF10>, <keras.engine.sequential.Sequential object at 0x0000021D51A0E6D0>, <keras.engine.sequential.Sequential object at 0x0000021D5D858D90>, <keras.engine.sequential.Sequential object at 0x0000021D5D5B8700>, <keras.engine.sequential.Sequential object at 0x0000021D5D44F880>, <keras.engine.sequential.Sequential object at 0x0000021D533D59A0>, <keras.engine.sequential.Sequential object at 0x0000021D5BD7B9D0>, <keras.engine.sequential.Sequential object at 0x0000021D5D511250>, <keras.engine.sequential.Sequential object at 0x0000021D4C9583D0>, <keras.engine.sequential.Sequential object at 0x0000021D54A6E340>, <keras.engine.sequential.Sequential object at 0x0000021D57309490>, <keras.engine.sequential.Sequential object at 0x0000021D5BBE8760>, <keras.engine.sequential.Sequential object at 0x0000021D5BBCC400>, <keras.engine.sequential.Sequential object at 0x0000021D4E82F3A0>, <keras.engine.sequential.Sequential object at 0x0000021D5CFFCEB0>, <keras.engine.sequential.Sequential object at 0x0000021D5CFFCDF0>, <keras.engine.sequential.Sequential object at 0x0000021D5A837400>, <keras.engine.sequential.Sequential object at 0x0000021D243EE9A0>, <keras.engine.sequential.Sequential object at 0x0000021D5ED755B0>, <keras.engine.sequential.Sequential object at 0x0000021D2836D970>, <keras.engine.sequential.Sequential object at 0x0000021D257EC100>, <keras.engine.sequential.Sequential object at 0x0000021D54BDDEB0>, <keras.engine.sequential.Sequential object at 0x0000021D57321970>, <keras.engine.sequential.Sequential object at 0x0000021D5770DEE0>, <keras.engine.sequential.Sequential object at 0x0000021D54AAC940>, <keras.engine.sequential.Sequential object at 0x0000021D4D32DAC0>, <keras.engine.sequential.Sequential object at 0x0000021D26F4AD00>, <keras.engine.sequential.Sequential object at 0x0000021D549B00D0>, <keras.engine.sequential.Sequential object at 0x0000021D58F34A30>, <keras.engine.sequential.Sequential object at 0x0000021D4A8C21C0>, <keras.engine.sequential.Sequential object at 0x0000021D5D63AA90>, <keras.engine.sequential.Sequential object at 0x0000021D547C48E0>, <keras.engine.sequential.Sequential object at 0x0000021D588B2F40>, <keras.engine.sequential.Sequential object at 0x0000021D5EEEB0D0>, <keras.engine.sequential.Sequential object at 0x0000021D4D32DE20>, <keras.engine.sequential.Sequential object at 0x0000021D5198F340>, <keras.engine.sequential.Sequential object at 0x0000021D5D0E6100>, <keras.engine.sequential.Sequential object at 0x0000021D58A04610>, <keras.engine.sequential.Sequential object at 0x0000021D4E8BE2B0>, <keras.engine.sequential.Sequential object at 0x0000021D54A4DD30>, <keras.engine.sequential.Sequential object at 0x0000021D54A47160>, <keras.engine.sequential.Sequential object at 0x0000021D5D18B100>, <keras.engine.sequential.Sequential object at 0x0000021D57211F70>, <keras.engine.sequential.Sequential object at 0x0000021D5BD68C10>, <keras.engine.sequential.Sequential object at 0x0000021D5A8776D0>, <keras.engine.sequential.Sequential object at 0x0000021D51AA2340>, <keras.engine.sequential.Sequential object at 0x0000021D5ED6F3A0>, <keras.engine.sequential.Sequential object at 0x0000021D5D7E6790>, <keras.engine.sequential.Sequential object at 0x0000021D56F59790>, <keras.engine.sequential.Sequential object at 0x0000021D5BFD6640>, <keras.engine.sequential.Sequential object at 0x0000021D588757F0>, <keras.engine.sequential.Sequential object at 0x0000021D5A428A90>, <keras.engine.sequential.Sequential object at 0x0000021D57715D60>, <keras.engine.sequential.Sequential object at 0x0000021D258EC640>, <keras.engine.sequential.Sequential object at 0x0000021D5ECBA6A0>, <keras.engine.sequential.Sequential object at 0x0000021D505793D0>, <keras.engine.sequential.Sequential object at 0x0000021D4D595850>, <keras.engine.sequential.Sequential object at 0x0000021D5EE1D190>, <keras.engine.sequential.Sequential object at 0x0000021D4E902AF0>, <keras.engine.sequential.Sequential object at 0x0000021D588CBF10>, <keras.engine.sequential.Sequential object at 0x0000021D1FD2FF40>, <keras.engine.sequential.Sequential object at 0x0000021D5BE7BA90>, <keras.engine.sequential.Sequential object at 0x0000021D5D628640>, <keras.engine.sequential.Sequential object at 0x0000021D57071700>, <keras.engine.sequential.Sequential object at 0x0000021D5BAE3DC0>, <keras.engine.sequential.Sequential object at 0x0000021D5EAD5160>, <keras.engine.sequential.Sequential object at 0x0000021D4882DC10>, <keras.engine.sequential.Sequential object at 0x0000021D5A6668E0>, <keras.engine.sequential.Sequential object at 0x0000021D5E9712B0>, <keras.engine.sequential.Sequential object at 0x0000021D4E766E50>, <keras.engine.sequential.Sequential object at 0x0000021D5A7F9040>, <keras.engine.sequential.Sequential object at 0x0000021D4E82DE50>, <keras.engine.sequential.Sequential object at 0x0000021D4D1F1D30>, <keras.engine.sequential.Sequential object at 0x0000021D5A7E3B50>, <keras.engine.sequential.Sequential object at 0x0000021D5E9719D0>, <keras.engine.sequential.Sequential object at 0x0000021D258ECD00>, <keras.engine.sequential.Sequential object at 0x0000021D505A0460>, <keras.engine.sequential.Sequential object at 0x0000021D574F6160>, <keras.engine.sequential.Sequential object at 0x0000021D5BC784F0>, <keras.engine.sequential.Sequential object at 0x0000021D5D2E8610>, <keras.engine.sequential.Sequential object at 0x0000021D4E895E20>, <keras.engine.sequential.Sequential object at 0x0000021D4D59AFD0>, <keras.engine.sequential.Sequential object at 0x0000021D257CE4C0>, <keras.engine.sequential.Sequential object at 0x0000021D53334370>, <keras.engine.sequential.Sequential object at 0x0000021D5A466DF0>, <keras.engine.sequential.Sequential object at 0x0000021D4E865340>, <keras.engine.sequential.Sequential object at 0x0000021D465DBD60>, <keras.engine.sequential.Sequential object at 0x0000021D256CE2B0>, <keras.engine.sequential.Sequential object at 0x0000021D5A84FDC0>, <keras.engine.sequential.Sequential object at 0x0000021D4EF165E0>, <keras.engine.sequential.Sequential object at 0x0000021D4CF32FD0>, <keras.engine.sequential.Sequential object at 0x0000021D5D58FA00>, <keras.engine.sequential.Sequential object at 0x0000021D4F189F70>, <keras.engine.sequential.Sequential object at 0x0000021D533EFD60>, <keras.engine.sequential.Sequential object at 0x0000021D5185D250>, <keras.engine.sequential.Sequential object at 0x0000021D502A16A0>, <keras.engine.sequential.Sequential object at 0x0000021D51A78BB0>, <keras.engine.sequential.Sequential object at 0x0000021D5338FA90>, <keras.engine.sequential.Sequential object at 0x0000021D5336BB20>, <keras.engine.sequential.Sequential object at 0x0000021D4A8DE460>, <keras.engine.sequential.Sequential object at 0x0000021D5D0E8190>, <keras.engine.sequential.Sequential object at 0x0000021D4D60BFA0>, <keras.engine.sequential.Sequential object at 0x0000021D4F1CFA60>, <keras.engine.sequential.Sequential object at 0x0000021D5A441BB0>, <keras.engine.sequential.Sequential object at 0x0000021D517CE1C0>, <keras.engine.sequential.Sequential object at 0x0000021D4D4DD310>, <keras.engine.sequential.Sequential object at 0x0000021D533778B0>, <keras.engine.sequential.Sequential object at 0x0000021D53417730>, <keras.engine.sequential.Sequential object at 0x0000021D5E8CE790>, <keras.engine.sequential.Sequential object at 0x0000021D4CE65EE0>, <keras.engine.sequential.Sequential object at 0x0000021D4C9590D0>, <keras.engine.sequential.Sequential object at 0x0000021D5BEBB730>, <keras.engine.sequential.Sequential object at 0x0000021D25556820>, <keras.engine.sequential.Sequential object at 0x0000021D5D7DA970>, <keras.engine.sequential.Sequential object at 0x0000021D26D5F1C0>, <keras.engine.sequential.Sequential object at 0x0000021D4EF99C40>, <keras.engine.sequential.Sequential object at 0x0000021D1FC9B9D0>, <keras.engine.sequential.Sequential object at 0x0000021D4EDC3EE0>, <keras.engine.sequential.Sequential object at 0x0000021D5057AB80>, <keras.engine.sequential.Sequential object at 0x0000021D5A6C6FA0>, <keras.engine.sequential.Sequential object at 0x0000021D27015A00>, <keras.engine.sequential.Sequential object at 0x0000021D498A1FD0>, <keras.engine.sequential.Sequential object at 0x0000021D4286D220>, <keras.engine.sequential.Sequential object at 0x0000021D5BE21AF0>, <keras.engine.sequential.Sequential object at 0x0000021D505F9B80>, <keras.engine.sequential.Sequential object at 0x0000021D5EC96D30>, <keras.engine.sequential.Sequential object at 0x0000021D51880100>, <keras.engine.sequential.Sequential object at 0x0000021D4D7359A0>, <keras.engine.sequential.Sequential object at 0x0000021D5A8363A0>, <keras.engine.sequential.Sequential object at 0x0000021D2571E4F0>, <keras.engine.sequential.Sequential object at 0x0000021D58BEFA90>, <keras.engine.sequential.Sequential object at 0x0000021D58E72670>, <keras.engine.sequential.Sequential object at 0x0000021D55D57AC0>, <keras.engine.sequential.Sequential object at 0x0000021D55D62340>, <keras.engine.sequential.Sequential object at 0x0000021D4F13A2B0>, <keras.engine.sequential.Sequential object at 0x0000021D590E8040>, <keras.engine.sequential.Sequential object at 0x0000021D55D2A610>, <keras.engine.sequential.Sequential object at 0x0000021D4ECBE940>, <keras.engine.sequential.Sequential object at 0x0000021D4EEB1B80>, <keras.engine.sequential.Sequential object at 0x0000021D58DBAEB0>, <keras.engine.sequential.Sequential object at 0x0000021D506C0700>, <keras.engine.sequential.Sequential object at 0x0000021D506C0580>, <keras.engine.sequential.Sequential object at 0x0000021D5EBEB880>, <keras.engine.sequential.Sequential object at 0x0000021D549F1370>, <keras.engine.sequential.Sequential object at 0x0000021D5320A6D0>, <keras.engine.sequential.Sequential object at 0x0000021D4D001CD0>, <keras.engine.sequential.Sequential object at 0x0000021D531AECD0>, <keras.engine.sequential.Sequential object at 0x0000021D4E8676D0>, <keras.engine.sequential.Sequential object at 0x0000021D58DF0310>, <keras.engine.sequential.Sequential object at 0x0000021D58B47B20>, <keras.engine.sequential.Sequential object at 0x0000021D531826A0>, <keras.engine.sequential.Sequential object at 0x0000021D5737B310>, <keras.engine.sequential.Sequential object at 0x0000021D5884B940>, <keras.engine.sequential.Sequential object at 0x0000021D5899B610>, <keras.engine.sequential.Sequential object at 0x0000021D57807BE0>, <keras.engine.sequential.Sequential object at 0x0000021D530B4DF0>, <keras.engine.sequential.Sequential object at 0x0000021D5027EE80>, <keras.engine.sequential.Sequential object at 0x0000021D57429D30>, <keras.engine.sequential.Sequential object at 0x0000021D465359D0>, <keras.engine.sequential.Sequential object at 0x0000021D50287250>, <keras.engine.sequential.Sequential object at 0x0000021D574293D0>, <keras.engine.sequential.Sequential object at 0x0000021D2596DFA0>, <keras.engine.sequential.Sequential object at 0x0000021D4EEC61C0>, <keras.engine.sequential.Sequential object at 0x0000021D22875580>, <keras.engine.sequential.Sequential object at 0x0000021D51B6BFD0>, <keras.engine.sequential.Sequential object at 0x0000021D5D506190>, <keras.engine.sequential.Sequential object at 0x0000021D4EC4DF10>, <keras.engine.sequential.Sequential object at 0x0000021D5D84D700>, <keras.engine.sequential.Sequential object at 0x0000021D5D4C9040>, <keras.engine.sequential.Sequential object at 0x0000021D58B41790>, <keras.engine.sequential.Sequential object at 0x0000021D5A66F550>, <keras.engine.sequential.Sequential object at 0x0000021D4F17D100>, <keras.engine.sequential.Sequential object at 0x0000021D5185C520>, <keras.engine.sequential.Sequential object at 0x0000021D52E99E20>, <keras.engine.sequential.Sequential object at 0x0000021D5703F040>, <keras.engine.sequential.Sequential object at 0x0000021D570E0580>, <keras.engine.sequential.Sequential object at 0x0000021D25A7B0A0>, <keras.engine.sequential.Sequential object at 0x0000021D56ED7100>, <keras.engine.sequential.Sequential object at 0x0000021D5EF05040>, <keras.engine.sequential.Sequential object at 0x0000021D5D88F9A0>, <keras.engine.sequential.Sequential object at 0x0000021D5478E430>, <keras.engine.sequential.Sequential object at 0x0000021D5B90D4F0>, <keras.engine.sequential.Sequential object at 0x0000021D25A7BD90>, <keras.engine.sequential.Sequential object at 0x0000021D5D6E5CD0>, <keras.engine.sequential.Sequential object at 0x0000021D5D789910>, <keras.engine.sequential.Sequential object at 0x0000021D573EC700>, <keras.engine.sequential.Sequential object at 0x0000021D573ECAC0>, <keras.engine.sequential.Sequential object at 0x0000021D5D430520>, <keras.engine.sequential.Sequential object at 0x0000021D4D431670>, <keras.engine.sequential.Sequential object at 0x0000021D4E7B6250>, <keras.engine.sequential.Sequential object at 0x0000021D55D37CD0>, <keras.engine.sequential.Sequential object at 0x0000021D54656D30>, <keras.engine.sequential.Sequential object at 0x0000021D58A2C910>, <keras.engine.sequential.Sequential object at 0x0000021D544EB5E0>, <keras.engine.sequential.Sequential object at 0x0000021D5BF50B50>, <keras.engine.sequential.Sequential object at 0x0000021D5BF50DC0>, <keras.engine.sequential.Sequential object at 0x0000021D58A2CBE0>, <keras.engine.sequential.Sequential object at 0x0000021D506B0CD0>, <keras.engine.sequential.Sequential object at 0x0000021D5ED9A730>, <keras.engine.sequential.Sequential object at 0x0000021D503A0A90>, <keras.engine.sequential.Sequential object at 0x0000021D4F1161F0>, <keras.engine.sequential.Sequential object at 0x0000021D5D616AF0>, <keras.engine.sequential.Sequential object at 0x0000021D26D514C0>, <keras.engine.sequential.Sequential object at 0x0000021D4EEE0C70>, <keras.engine.sequential.Sequential object at 0x0000021D54CC4490>, <keras.engine.sequential.Sequential object at 0x0000021D54CC43D0>, <keras.engine.sequential.Sequential object at 0x0000021D5A1C64F0>, <keras.engine.sequential.Sequential object at 0x0000021D5EE22E20>, <keras.engine.sequential.Sequential object at 0x0000021D54B26C10>, <keras.engine.sequential.Sequential object at 0x0000021D4EEE05E0>, <keras.engine.sequential.Sequential object at 0x0000021D5ED9A5E0>, <keras.engine.sequential.Sequential object at 0x0000021D545B1D90>, <keras.engine.sequential.Sequential object at 0x0000021D5A387610>, <keras.engine.sequential.Sequential object at 0x0000021D570A7AF0>, <keras.engine.sequential.Sequential object at 0x0000021D570A7400>, <keras.engine.sequential.Sequential object at 0x0000021D54CDBE50>, <keras.engine.sequential.Sequential object at 0x0000021D4EF2CD30>, <keras.engine.sequential.Sequential object at 0x0000021D498949A0>, <keras.engine.sequential.Sequential object at 0x0000021D1FC46C40>, <keras.engine.sequential.Sequential object at 0x0000021D26BE2AC0>, <keras.engine.sequential.Sequential object at 0x0000021D54B5EDF0>, <keras.engine.sequential.Sequential object at 0x0000021D4ECFF9D0>, <keras.engine.sequential.Sequential object at 0x0000021D4ECFFD00>, <keras.engine.sequential.Sequential object at 0x0000021D54CDB040>, <keras.engine.sequential.Sequential object at 0x0000021D54CC4FA0>, <keras.engine.sequential.Sequential object at 0x0000021D2700D2B0>, <keras.engine.sequential.Sequential object at 0x0000021D54827DF0>, <keras.engine.sequential.Sequential object at 0x0000021D5477B5E0>, <keras.engine.sequential.Sequential object at 0x0000021D5D02E0D0>, <keras.engine.sequential.Sequential object at 0x0000021D55CECE50>, <keras.engine.sequential.Sequential object at 0x0000021D5A1C7A60>, <keras.engine.sequential.Sequential object at 0x0000021D49884280>, <keras.engine.sequential.Sequential object at 0x0000021D498840D0>, <keras.engine.sequential.Sequential object at 0x0000021D4EED6850>, <keras.engine.sequential.Sequential object at 0x0000021D5A1C48E0>, <keras.engine.sequential.Sequential object at 0x0000021D547CAAC0>, <keras.engine.sequential.Sequential object at 0x0000021D5A1C7B50>, <keras.engine.sequential.Sequential object at 0x0000021D2287AA30>, <keras.engine.sequential.Sequential object at 0x0000021D26F80B50>, <keras.engine.sequential.Sequential object at 0x0000021D25B3D940>, <keras.engine.sequential.Sequential object at 0x0000021D25AB1910>, <keras.engine.sequential.Sequential object at 0x0000021D232E3220>, <keras.engine.sequential.Sequential object at 0x0000021D2575FF40>, <keras.engine.sequential.Sequential object at 0x0000021D498664C0>, <keras.engine.sequential.Sequential object at 0x0000021D51880730>, <keras.engine.sequential.Sequential object at 0x0000021D4D146160>, <keras.engine.sequential.Sequential object at 0x0000021D4D3A2AC0>, <keras.engine.sequential.Sequential object at 0x0000021D1FCBF880>, <keras.engine.sequential.Sequential object at 0x0000021D27182340>, <keras.engine.sequential.Sequential object at 0x0000021D533DB340>, <keras.engine.sequential.Sequential object at 0x0000021D26DE13A0>, <keras.engine.sequential.Sequential object at 0x0000021D546D6790>, <keras.engine.sequential.Sequential object at 0x0000021D24421E20>, <keras.engine.sequential.Sequential object at 0x0000021D4EE78400>, <keras.engine.sequential.Sequential object at 0x0000021D5BC0F040>, <keras.engine.sequential.Sequential object at 0x0000021D5A2AE430>, <keras.engine.sequential.Sequential object at 0x0000021D5D159880>, <keras.engine.sequential.Sequential object at 0x0000021D5D14EC10>, <keras.engine.sequential.Sequential object at 0x0000021D5A4551C0>, <keras.engine.sequential.Sequential object at 0x0000021D5BF6AA90>, <keras.engine.sequential.Sequential object at 0x0000021D259AB0D0>, <keras.engine.sequential.Sequential object at 0x0000021D2443B280>, <keras.engine.sequential.Sequential object at 0x0000021D5D518D00>, <keras.engine.sequential.Sequential object at 0x0000021D58E1B370>, <keras.engine.sequential.Sequential object at 0x0000021D26BEB370>, <keras.engine.sequential.Sequential object at 0x0000021D5A6A1D60>, <keras.engine.sequential.Sequential object at 0x0000021D5A6AC970>, <keras.engine.sequential.Sequential object at 0x0000021D519F3130>, <keras.engine.sequential.Sequential object at 0x0000021D519E15B0>, <keras.engine.sequential.Sequential object at 0x0000021D5BB902B0>, <keras.engine.sequential.Sequential object at 0x0000021D4E7F76A0>, <keras.engine.sequential.Sequential object at 0x0000021D5319D250>, <keras.engine.sequential.Sequential object at 0x0000021D5BF8E6D0>, <keras.engine.sequential.Sequential object at 0x0000021D548D8340>, <keras.engine.sequential.Sequential object at 0x0000021D4E7A2310>, <keras.engine.sequential.Sequential object at 0x0000021D5192FC70>, <keras.engine.sequential.Sequential object at 0x0000021D4D478A90>, <keras.engine.sequential.Sequential object at 0x0000021D4D475790>, <keras.engine.sequential.Sequential object at 0x0000021D5D4CE2E0>, <keras.engine.sequential.Sequential object at 0x0000021D5D4C47F0>, <keras.engine.sequential.Sequential object at 0x0000021D5D4FFB80>, <keras.engine.sequential.Sequential object at 0x0000021D4EF6BEB0>, <keras.engine.sequential.Sequential object at 0x0000021D4EF94EB0>, <keras.engine.sequential.Sequential object at 0x0000021D4CEC1280>, <keras.engine.sequential.Sequential object at 0x0000021D52E2BFD0>, <keras.engine.sequential.Sequential object at 0x0000021D51B79970>, <keras.engine.sequential.Sequential object at 0x0000021D51B64790>, <keras.engine.sequential.Sequential object at 0x0000021D5A7629A0>, <keras.engine.sequential.Sequential object at 0x0000021D5A78E850>, <keras.engine.sequential.Sequential object at 0x0000021D5EABBEB0>, <keras.engine.sequential.Sequential object at 0x0000021D50427FD0>, <keras.engine.sequential.Sequential object at 0x0000021D477AF3A0>, <keras.engine.sequential.Sequential object at 0x0000021D5D456580>, <keras.engine.sequential.Sequential object at 0x0000021D5029F040>, <keras.engine.sequential.Sequential object at 0x0000021D5A7C24F0>, <keras.engine.sequential.Sequential object at 0x0000021D5A7AD190>, <keras.engine.sequential.Sequential object at 0x0000021D50533430>, <keras.engine.sequential.Sequential object at 0x0000021D53346A00>, <keras.engine.sequential.Sequential object at 0x0000021D5BE25880>, <keras.engine.sequential.Sequential object at 0x0000021D53346460>, <keras.engine.sequential.Sequential object at 0x0000021D5BE25CA0>, <keras.engine.sequential.Sequential object at 0x0000021D56FE3B20>, <keras.engine.sequential.Sequential object at 0x0000021D4F0614C0>, <keras.engine.sequential.Sequential object at 0x0000021D518F6670>, <keras.engine.sequential.Sequential object at 0x0000021D57062B80>, <keras.engine.sequential.Sequential object at 0x0000021D5705D2B0>, <keras.engine.sequential.Sequential object at 0x0000021D577A7A90>, <keras.engine.sequential.Sequential object at 0x0000021D5D278FD0>, <keras.engine.sequential.Sequential object at 0x0000021D4CFB1C70>, <keras.engine.sequential.Sequential object at 0x0000021D51CABA30>, <keras.engine.sequential.Sequential object at 0x0000021D572B6E20>, <keras.engine.sequential.Sequential object at 0x0000021D572B6E80>, <keras.engine.sequential.Sequential object at 0x0000021D4CFB11F0>, <keras.engine.sequential.Sequential object at 0x0000021D56FE86A0>, <keras.engine.sequential.Sequential object at 0x0000021D4CD96490>, <keras.engine.sequential.Sequential object at 0x0000021D5752F400>, <keras.engine.sequential.Sequential object at 0x0000021D4CE16A60>, <keras.engine.sequential.Sequential object at 0x0000021D4CE040D0>, <keras.engine.sequential.Sequential object at 0x0000021D4CDEC2E0>, <keras.engine.sequential.Sequential object at 0x0000021D4D1BA160>, <keras.engine.sequential.Sequential object at 0x0000021D4D1CC1C0>, <keras.engine.sequential.Sequential object at 0x0000021D4D1CCB80>, <keras.engine.sequential.Sequential object at 0x0000021D5ED85550>, <keras.engine.sequential.Sequential object at 0x0000021D5B9B4700>, <keras.engine.sequential.Sequential object at 0x0000021D5062BA90>, <keras.engine.sequential.Sequential object at 0x0000021D4CDEC9D0>, <keras.engine.sequential.Sequential object at 0x0000021D5B9B4DC0>, <keras.engine.sequential.Sequential object at 0x0000021D4D0D07F0>, <keras.engine.sequential.Sequential object at 0x0000021D571E5BB0>, <keras.engine.sequential.Sequential object at 0x0000021D5D12ABB0>, <keras.engine.sequential.Sequential object at 0x0000021D4CD6CF70>, <keras.engine.sequential.Sequential object at 0x0000021D4CD6C1F0>, <keras.engine.sequential.Sequential object at 0x0000021D5D842CD0>, <keras.engine.sequential.Sequential object at 0x0000021D5911EEE0>, <keras.engine.sequential.Sequential object at 0x0000021D59118E50>, <keras.engine.sequential.Sequential object at 0x0000021D575B26A0>, <keras.engine.sequential.Sequential object at 0x0000021D5D354E80>, <keras.engine.sequential.Sequential object at 0x0000021D5D21A790>, <keras.engine.sequential.Sequential object at 0x0000021D5D8632B0>, <keras.engine.sequential.Sequential object at 0x0000021D5D21A700>, <keras.engine.sequential.Sequential object at 0x0000021D517DACD0>, <keras.engine.sequential.Sequential object at 0x0000021D517DA0D0>, <keras.engine.sequential.Sequential object at 0x0000021D4ED6E580>, <keras.engine.sequential.Sequential object at 0x0000021D5A352CA0>, <keras.engine.sequential.Sequential object at 0x0000021D5A361A60>, <keras.engine.sequential.Sequential object at 0x0000021D5ECBBD30>, <keras.engine.sequential.Sequential object at 0x0000021D55CC4700>, <keras.engine.sequential.Sequential object at 0x0000021D55CB90D0>, <keras.engine.sequential.Sequential object at 0x0000021D574A4CD0>, <keras.engine.sequential.Sequential object at 0x0000021D5EA68F40>, <keras.engine.sequential.Sequential object at 0x0000021D4D52AD90>, <keras.engine.sequential.Sequential object at 0x0000021D4D53F610>, <keras.engine.sequential.Sequential object at 0x0000021D5A3527F0>, <keras.engine.sequential.Sequential object at 0x0000021D590F1820>, <keras.engine.sequential.Sequential object at 0x0000021D5A3086A0>, <keras.engine.sequential.Sequential object at 0x0000021D5A2E0CD0>, <keras.engine.sequential.Sequential object at 0x0000021D5D098FD0>, <keras.engine.sequential.Sequential object at 0x0000021D4F18E0A0>, <keras.engine.sequential.Sequential object at 0x0000021D5335CEE0>, <keras.engine.sequential.Sequential object at 0x0000021D5189A7C0>, <keras.engine.sequential.Sequential object at 0x0000021D533757C0>, <keras.engine.sequential.Sequential object at 0x0000021D52E5F340>, <keras.engine.sequential.Sequential object at 0x0000021D52E60970>, <keras.engine.sequential.Sequential object at 0x0000021D5048AB20>, <keras.engine.sequential.Sequential object at 0x0000021D5048A100>, <keras.engine.sequential.Sequential object at 0x0000021D5D098400>, <keras.engine.sequential.Sequential object at 0x0000021D5499B130>, <keras.engine.sequential.Sequential object at 0x0000021D5497C310>, <keras.engine.sequential.Sequential object at 0x0000021D4D74B580>, <keras.engine.sequential.Sequential object at 0x0000021D4EDD6BB0>, <keras.engine.sequential.Sequential object at 0x0000021D4D74B520>, <keras.engine.sequential.Sequential object at 0x0000021D5D40DC70>, <keras.engine.sequential.Sequential object at 0x0000021D51792D60>, <keras.engine.sequential.Sequential object at 0x0000021D503AEA60>, <keras.engine.sequential.Sequential object at 0x0000021D503767C0>, <keras.engine.sequential.Sequential object at 0x0000021D57604130>, <keras.engine.sequential.Sequential object at 0x0000021D487EBF40>, <keras.engine.sequential.Sequential object at 0x0000021D54825CA0>, <keras.engine.sequential.Sequential object at 0x0000021D503AE130>, <keras.engine.sequential.Sequential object at 0x0000021D5335CAC0>, <keras.engine.sequential.Sequential object at 0x0000021D51869940>, <keras.engine.sequential.Sequential object at 0x0000021D518608E0>, <keras.engine.sequential.Sequential object at 0x0000021D51869F70>, <keras.engine.sequential.Sequential object at 0x0000021D4F050430>, <keras.engine.sequential.Sequential object at 0x0000021D477607C0>, <keras.engine.sequential.Sequential object at 0x0000021D477460A0>, <keras.engine.sequential.Sequential object at 0x0000021D5D646580>, <keras.engine.sequential.Sequential object at 0x0000021D5769E9D0>, <keras.engine.sequential.Sequential object at 0x0000021D4CE6B8E0>, <keras.engine.sequential.Sequential object at 0x0000021D5D1BE520>, <keras.engine.sequential.Sequential object at 0x0000021D4CE6B9A0>, <keras.engine.sequential.Sequential object at 0x0000021D52EA0BE0>, <keras.engine.sequential.Sequential object at 0x0000021D4CE6B940>, <keras.engine.sequential.Sequential object at 0x0000021D5497C850>, <keras.engine.sequential.Sequential object at 0x0000021D5456BD30>, <keras.engine.sequential.Sequential object at 0x0000021D5D554250>, <keras.engine.sequential.Sequential object at 0x0000021D51A68280>, <keras.engine.sequential.Sequential object at 0x0000021D4D6E60D0>, <keras.engine.sequential.Sequential object at 0x0000021D4987A8B0>, <keras.engine.sequential.Sequential object at 0x0000021D534C9580>, <keras.engine.sequential.Sequential object at 0x0000021D4987A550>, <keras.engine.sequential.Sequential object at 0x0000021D5E9D0CD0>, <keras.engine.sequential.Sequential object at 0x0000021D4EE23430>, <keras.engine.sequential.Sequential object at 0x0000021D58F047F0>, <keras.engine.sequential.Sequential object at 0x0000021D4EE4EFA0>, <keras.engine.sequential.Sequential object at 0x0000021D498696D0>, <keras.engine.sequential.Sequential object at 0x0000021D58F37910>, <keras.engine.sequential.Sequential object at 0x0000021D50244EE0>, <keras.engine.sequential.Sequential object at 0x0000021D507654F0>, <keras.engine.sequential.Sequential object at 0x0000021D5BE66220>, <keras.engine.sequential.Sequential object at 0x0000021D54C48130>, <keras.engine.sequential.Sequential object at 0x0000021D54C48E50>, <keras.engine.sequential.Sequential object at 0x0000021D54C595E0>, <keras.engine.sequential.Sequential object at 0x0000021D5A3C9C70>, <keras.engine.sequential.Sequential object at 0x0000021D55D9DAC0>, <keras.engine.sequential.Sequential object at 0x0000021D546E5A00>, <keras.engine.sequential.Sequential object at 0x0000021D4EBA8730>, <keras.engine.sequential.Sequential object at 0x0000021D5D2B5400>, <keras.engine.sequential.Sequential object at 0x0000021D5A3C9790>, <keras.engine.sequential.Sequential object at 0x0000021D5BE650D0>, <keras.engine.sequential.Sequential object at 0x0000021D57394F40>, <keras.engine.sequential.Sequential object at 0x0000021D5898FC40>, <keras.engine.sequential.Sequential object at 0x0000021D573949D0>, <keras.engine.sequential.Sequential object at 0x0000021D56F44340>, <keras.engine.sequential.Sequential object at 0x0000021D4F0E35E0>, <keras.engine.sequential.Sequential object at 0x0000021D4F0EF0A0>, <keras.engine.sequential.Sequential object at 0x0000021D5D5BDC10>, <keras.engine.sequential.Sequential object at 0x0000021D5A7E48E0>, <keras.engine.sequential.Sequential object at 0x0000021D5D8A51F0>, <keras.engine.sequential.Sequential object at 0x0000021D54761D60>, <keras.engine.sequential.Sequential object at 0x0000021D5E8B3640>, <keras.engine.sequential.Sequential object at 0x0000021D5E89E1C0>, <keras.engine.sequential.Sequential object at 0x0000021D547613A0>, <keras.engine.sequential.Sequential object at 0x0000021D5BE66460>, <keras.engine.sequential.Sequential object at 0x0000021D4D034220>, <keras.engine.sequential.Sequential object at 0x0000021D4D360730>, <keras.engine.sequential.Sequential object at 0x0000021D5021E430>, <keras.engine.sequential.Sequential object at 0x0000021D54CBF1C0>, <keras.engine.sequential.Sequential object at 0x0000021D5059EF40>, <keras.engine.sequential.Sequential object at 0x0000021D5CFFD7C0>, <keras.engine.sequential.Sequential object at 0x0000021D575A82E0>, <keras.engine.sequential.Sequential object at 0x0000021D501DC1C0>, <keras.engine.sequential.Sequential object at 0x0000021D4D3DBD00>, <keras.engine.sequential.Sequential object at 0x0000021D50646A60>, <keras.engine.sequential.Sequential object at 0x0000021D4D3F0FA0>, <keras.engine.sequential.Sequential object at 0x0000021D54CBF0A0>, <keras.engine.sequential.Sequential object at 0x0000021D59033040>, <keras.engine.sequential.Sequential object at 0x0000021D59025190>, <keras.engine.sequential.Sequential object at 0x0000021D54A38670>, <keras.engine.sequential.Sequential object at 0x0000021D4D4ECA90>, <keras.engine.sequential.Sequential object at 0x0000021D54C0D0A0>, <keras.engine.sequential.Sequential object at 0x0000021D54BE29A0>, <keras.engine.sequential.Sequential object at 0x0000021D54C0DDC0>, <keras.engine.sequential.Sequential object at 0x0000021D56ED5A90>, <keras.engine.sequential.Sequential object at 0x0000021D4CF1BFD0>, <keras.engine.sequential.Sequential object at 0x0000021D4CF1B8B0>, <keras.engine.sequential.Sequential object at 0x0000021D502BE100>, <keras.engine.sequential.Sequential object at 0x0000021D544A7B80>, <keras.engine.sequential.Sequential object at 0x0000021D4CF1DE80>, <keras.engine.sequential.Sequential object at 0x0000021D4D4ECC10>, <keras.engine.sequential.Sequential object at 0x0000021D58E853D0>, <keras.engine.sequential.Sequential object at 0x0000021D4C964160>, <keras.engine.sequential.Sequential object at 0x0000021D570E10A0>, <keras.engine.sequential.Sequential object at 0x0000021D532AC3D0>, <keras.engine.sequential.Sequential object at 0x0000021D4D686250>, <keras.engine.sequential.Sequential object at 0x0000021D58D118B0>, <keras.engine.sequential.Sequential object at 0x0000021D54BA60A0>, <keras.engine.sequential.Sequential object at 0x0000021D58B1DBE0>, <keras.engine.sequential.Sequential object at 0x0000021D4F124B20>, <keras.engine.sequential.Sequential object at 0x0000021D5A40EFD0>, <keras.engine.sequential.Sequential object at 0x0000021D5BD99820>, <keras.engine.sequential.Sequential object at 0x0000021D5BD990A0>, <keras.engine.sequential.Sequential object at 0x0000021D58B1DF10>, <keras.engine.sequential.Sequential object at 0x0000021D58E85880>, <keras.engine.sequential.Sequential object at 0x0000021D56F731F0>, <keras.engine.sequential.Sequential object at 0x0000021D56F73820>, <keras.engine.sequential.Sequential object at 0x0000021D56EF2370>, <keras.engine.sequential.Sequential object at 0x0000021D4D31C340>, <keras.engine.sequential.Sequential object at 0x0000021D5450B160>, <keras.engine.sequential.Sequential object at 0x0000021D4CF62D30>, <keras.engine.sequential.Sequential object at 0x0000021D4EFD0160>, <keras.engine.sequential.Sequential object at 0x0000021D4EFD0670>, <keras.engine.sequential.Sequential object at 0x0000021D4EFD0190>, <keras.engine.sequential.Sequential object at 0x0000021D5A845970>, <keras.engine.sequential.Sequential object at 0x0000021D573F62B0>, <keras.engine.sequential.Sequential object at 0x0000021D5450B2E0>, <keras.engine.sequential.Sequential object at 0x0000021D5A845BE0>, <keras.engine.sequential.Sequential object at 0x0000021D532DA280>, <keras.engine.sequential.Sequential object at 0x0000021D532EB340>, <keras.engine.sequential.Sequential object at 0x0000021D576D2850>, <keras.engine.sequential.Sequential object at 0x0000021D588C2B20>, <keras.engine.sequential.Sequential object at 0x0000021D588C2670>, <keras.engine.sequential.Sequential object at 0x0000021D51773BB0>, <keras.engine.sequential.Sequential object at 0x0000021D545F0340>, <keras.engine.sequential.Sequential object at 0x0000021D4D2BFA90>, <keras.engine.sequential.Sequential object at 0x0000021D58C46AC0>, <keras.engine.sequential.Sequential object at 0x0000021D4D088220>, <keras.engine.sequential.Sequential object at 0x0000021D5EA3A7C0>, <keras.engine.sequential.Sequential object at 0x0000021D545F7C70>, <keras.engine.sequential.Sequential object at 0x0000021D576D2100>, <keras.engine.sequential.Sequential object at 0x0000021D5D0618E0>, <keras.engine.sequential.Sequential object at 0x0000021D533DABE0>, <keras.engine.sequential.Sequential object at 0x0000021D533D2190>, <keras.engine.sequential.Sequential object at 0x0000021D547FD250>, <keras.engine.sequential.Sequential object at 0x0000021D4EC923A0>, <keras.engine.sequential.Sequential object at 0x0000021D53213580>, <keras.engine.sequential.Sequential object at 0x0000021D570FF9A0>, <keras.engine.sequential.Sequential object at 0x0000021D54AC04C0>, <keras.engine.sequential.Sequential object at 0x0000021D5044F910>, <keras.engine.sequential.Sequential object at 0x0000021D57648BE0>, <keras.engine.sequential.Sequential object at 0x0000021D4CFE37C0>, <keras.engine.sequential.Sequential object at 0x0000021D4CFE3610>, <keras.engine.sequential.Sequential object at 0x0000021D54AC0070>, <keras.engine.sequential.Sequential object at 0x0000021D498AE340>, <keras.engine.sequential.Sequential object at 0x0000021D4D5A5C10>, <keras.engine.sequential.Sequential object at 0x0000021D4D5A5A90>, <keras.engine.sequential.Sequential object at 0x0000021D51800DF0>, <keras.engine.sequential.Sequential object at 0x0000021D51A35C10>, <keras.engine.sequential.Sequential object at 0x0000021D51A06400>, <keras.engine.sequential.Sequential object at 0x0000021D51955310>, <keras.engine.sequential.Sequential object at 0x0000021D4EABD610>, <keras.engine.sequential.Sequential object at 0x0000021D576F2C70>, <keras.engine.sequential.Sequential object at 0x0000021D58AA8B80>, <keras.engine.sequential.Sequential object at 0x0000021D54522BE0>, <keras.engine.sequential.Sequential object at 0x0000021D5888CF10>, <keras.engine.sequential.Sequential object at 0x0000021D532DACD0>, <keras.engine.sequential.Sequential object at 0x0000021D5889D0D0>, <keras.engine.sequential.Sequential object at 0x0000021D5E9871C0>, <keras.engine.sequential.Sequential object at 0x0000021D5E962670>, <keras.engine.sequential.Sequential object at 0x0000021D58BF7FD0>, <keras.engine.sequential.Sequential object at 0x0000021D505E60D0>, <keras.engine.sequential.Sequential object at 0x0000021D505E6970>, <keras.engine.sequential.Sequential object at 0x0000021D4D4AE580>, <keras.engine.sequential.Sequential object at 0x0000021D5D1E83D0>, <keras.engine.sequential.Sequential object at 0x0000021D5EB97F10>, <keras.engine.sequential.Sequential object at 0x0000021D4EC24040>, <keras.engine.sequential.Sequential object at 0x0000021D5D0C6880>, <keras.engine.sequential.Sequential object at 0x0000021D5EBE74C0>, <keras.engine.sequential.Sequential object at 0x0000021D5D1E8A30>, <keras.engine.sequential.Sequential object at 0x0000021D5A426820>, <keras.engine.sequential.Sequential object at 0x0000021D4E741C40>, <keras.engine.sequential.Sequential object at 0x0000021D4E7418E0>, <keras.engine.sequential.Sequential object at 0x0000021D4CBC9C10>, <keras.engine.sequential.Sequential object at 0x0000021D5EDE9EB0>, <keras.engine.sequential.Sequential object at 0x0000021D546CF0D0>, <keras.engine.sequential.Sequential object at 0x0000021D591588E0>, <keras.engine.sequential.Sequential object at 0x0000021D5D761820>, <keras.engine.sequential.Sequential object at 0x0000021D5D5FDDF0>, <keras.engine.sequential.Sequential object at 0x0000021D51C51610>]\n",
      "9/9 [==============================] - 0s 2ms/step\n",
      "9/9 [==============================] - 0s 2ms/step\n",
      "9/9 [==============================] - 0s 1ms/step\n"
     ]
    },
    {
     "name": "stderr",
     "output_type": "stream",
     "text": [
      "C:\\Users\\James\\AppData\\Local\\Temp\\ipykernel_18756\\1740219387.py:20: RuntimeWarning: invalid value encountered in long_scalars\n",
      "  precision_class_one = TP / (TP + FP)\n",
      "C:\\Users\\James\\AppData\\Local\\Temp\\ipykernel_18756\\1740219387.py:20: RuntimeWarning: invalid value encountered in long_scalars\n",
      "  precision_class_one = TP / (TP + FP)\n"
     ]
    },
    {
     "name": "stdout",
     "output_type": "stream",
     "text": [
      "9/9 [==============================] - 0s 2ms/step\n",
      "9/9 [==============================] - 0s 2ms/step\n",
      "9/9 [==============================] - 0s 2ms/step\n"
     ]
    },
    {
     "name": "stderr",
     "output_type": "stream",
     "text": [
      "C:\\Users\\James\\AppData\\Local\\Temp\\ipykernel_18756\\1740219387.py:20: RuntimeWarning: invalid value encountered in long_scalars\n",
      "  precision_class_one = TP / (TP + FP)\n",
      "C:\\Users\\James\\AppData\\Local\\Temp\\ipykernel_18756\\1740219387.py:20: RuntimeWarning: invalid value encountered in long_scalars\n",
      "  precision_class_one = TP / (TP + FP)\n"
     ]
    },
    {
     "name": "stdout",
     "output_type": "stream",
     "text": [
      "9/9 [==============================] - 0s 2ms/step\n",
      "9/9 [==============================] - 0s 2ms/step\n",
      "9/9 [==============================] - 0s 2ms/step\n"
     ]
    },
    {
     "name": "stderr",
     "output_type": "stream",
     "text": [
      "C:\\Users\\James\\AppData\\Local\\Temp\\ipykernel_18756\\1740219387.py:20: RuntimeWarning: invalid value encountered in long_scalars\n",
      "  precision_class_one = TP / (TP + FP)\n",
      "C:\\Users\\James\\AppData\\Local\\Temp\\ipykernel_18756\\1740219387.py:20: RuntimeWarning: invalid value encountered in long_scalars\n",
      "  precision_class_one = TP / (TP + FP)\n"
     ]
    },
    {
     "name": "stdout",
     "output_type": "stream",
     "text": [
      "9/9 [==============================] - 0s 2ms/step\n",
      "9/9 [==============================] - 0s 1ms/step\n",
      "9/9 [==============================] - 0s 1ms/step\n",
      "9/9 [==============================] - 0s 2ms/step\n",
      "9/9 [==============================] - 0s 2ms/step\n"
     ]
    },
    {
     "name": "stderr",
     "output_type": "stream",
     "text": [
      "C:\\Users\\James\\AppData\\Local\\Temp\\ipykernel_18756\\1740219387.py:20: RuntimeWarning: invalid value encountered in long_scalars\n",
      "  precision_class_one = TP / (TP + FP)\n",
      "C:\\Users\\James\\AppData\\Local\\Temp\\ipykernel_18756\\1740219387.py:20: RuntimeWarning: invalid value encountered in long_scalars\n",
      "  precision_class_one = TP / (TP + FP)\n",
      "C:\\Users\\James\\AppData\\Local\\Temp\\ipykernel_18756\\1740219387.py:20: RuntimeWarning: invalid value encountered in long_scalars\n",
      "  precision_class_one = TP / (TP + FP)\n"
     ]
    },
    {
     "name": "stdout",
     "output_type": "stream",
     "text": [
      "9/9 [==============================] - 0s 2ms/step\n",
      "9/9 [==============================] - 0s 2ms/step\n",
      "9/9 [==============================] - 0s 2ms/step\n",
      "9/9 [==============================] - 0s 1ms/step\n",
      "9/9 [==============================] - 0s 2ms/step\n"
     ]
    },
    {
     "name": "stderr",
     "output_type": "stream",
     "text": [
      "C:\\Users\\James\\AppData\\Local\\Temp\\ipykernel_18756\\1740219387.py:20: RuntimeWarning: invalid value encountered in long_scalars\n",
      "  precision_class_one = TP / (TP + FP)\n",
      "C:\\Users\\James\\AppData\\Local\\Temp\\ipykernel_18756\\1740219387.py:20: RuntimeWarning: invalid value encountered in long_scalars\n",
      "  precision_class_one = TP / (TP + FP)\n",
      "C:\\Users\\James\\AppData\\Local\\Temp\\ipykernel_18756\\1740219387.py:20: RuntimeWarning: invalid value encountered in long_scalars\n",
      "  precision_class_one = TP / (TP + FP)\n"
     ]
    },
    {
     "name": "stdout",
     "output_type": "stream",
     "text": [
      "9/9 [==============================] - 0s 1ms/step\n",
      "9/9 [==============================] - 0s 2ms/step\n",
      "9/9 [==============================] - 0s 2ms/step\n"
     ]
    },
    {
     "name": "stderr",
     "output_type": "stream",
     "text": [
      "C:\\Users\\James\\AppData\\Local\\Temp\\ipykernel_18756\\1740219387.py:20: RuntimeWarning: invalid value encountered in long_scalars\n",
      "  precision_class_one = TP / (TP + FP)\n"
     ]
    },
    {
     "name": "stdout",
     "output_type": "stream",
     "text": [
      "9/9 [==============================] - 0s 2ms/step\n",
      "9/9 [==============================] - 0s 1ms/step\n",
      "9/9 [==============================] - 0s 1ms/step\n"
     ]
    },
    {
     "name": "stderr",
     "output_type": "stream",
     "text": [
      "C:\\Users\\James\\AppData\\Local\\Temp\\ipykernel_18756\\1740219387.py:20: RuntimeWarning: invalid value encountered in long_scalars\n",
      "  precision_class_one = TP / (TP + FP)\n",
      "C:\\Users\\James\\AppData\\Local\\Temp\\ipykernel_18756\\1740219387.py:20: RuntimeWarning: invalid value encountered in long_scalars\n",
      "  precision_class_one = TP / (TP + FP)\n"
     ]
    },
    {
     "name": "stdout",
     "output_type": "stream",
     "text": [
      "9/9 [==============================] - 0s 2ms/step\n",
      "9/9 [==============================] - 0s 2ms/step\n",
      "9/9 [==============================] - 0s 2ms/step\n"
     ]
    },
    {
     "name": "stderr",
     "output_type": "stream",
     "text": [
      "C:\\Users\\James\\AppData\\Local\\Temp\\ipykernel_18756\\1740219387.py:20: RuntimeWarning: invalid value encountered in long_scalars\n",
      "  precision_class_one = TP / (TP + FP)\n"
     ]
    },
    {
     "name": "stdout",
     "output_type": "stream",
     "text": [
      "9/9 [==============================] - 0s 2ms/step\n",
      "9/9 [==============================] - 0s 2ms/step\n",
      "9/9 [==============================] - 0s 2ms/step\n"
     ]
    },
    {
     "name": "stderr",
     "output_type": "stream",
     "text": [
      "C:\\Users\\James\\AppData\\Local\\Temp\\ipykernel_18756\\1740219387.py:20: RuntimeWarning: invalid value encountered in long_scalars\n",
      "  precision_class_one = TP / (TP + FP)\n",
      "C:\\Users\\James\\AppData\\Local\\Temp\\ipykernel_18756\\1740219387.py:20: RuntimeWarning: invalid value encountered in long_scalars\n",
      "  precision_class_one = TP / (TP + FP)\n",
      "C:\\Users\\James\\AppData\\Local\\Temp\\ipykernel_18756\\1740219387.py:20: RuntimeWarning: invalid value encountered in long_scalars\n",
      "  precision_class_one = TP / (TP + FP)\n"
     ]
    },
    {
     "name": "stdout",
     "output_type": "stream",
     "text": [
      "9/9 [==============================] - 0s 2ms/step\n",
      "9/9 [==============================] - 0s 2ms/step\n",
      "9/9 [==============================] - 0s 1ms/step\n"
     ]
    },
    {
     "name": "stderr",
     "output_type": "stream",
     "text": [
      "C:\\Users\\James\\AppData\\Local\\Temp\\ipykernel_18756\\1740219387.py:20: RuntimeWarning: invalid value encountered in long_scalars\n",
      "  precision_class_one = TP / (TP + FP)\n",
      "C:\\Users\\James\\AppData\\Local\\Temp\\ipykernel_18756\\1740219387.py:20: RuntimeWarning: invalid value encountered in long_scalars\n",
      "  precision_class_one = TP / (TP + FP)\n"
     ]
    },
    {
     "name": "stdout",
     "output_type": "stream",
     "text": [
      "9/9 [==============================] - 0s 2ms/step\n",
      "9/9 [==============================] - 0s 2ms/step\n"
     ]
    },
    {
     "name": "stderr",
     "output_type": "stream",
     "text": [
      "C:\\Users\\James\\AppData\\Local\\Temp\\ipykernel_18756\\1740219387.py:20: RuntimeWarning: invalid value encountered in long_scalars\n",
      "  precision_class_one = TP / (TP + FP)\n",
      "C:\\Users\\James\\AppData\\Local\\Temp\\ipykernel_18756\\1740219387.py:20: RuntimeWarning: invalid value encountered in long_scalars\n",
      "  precision_class_one = TP / (TP + FP)\n",
      "C:\\Users\\James\\AppData\\Local\\Temp\\ipykernel_18756\\1740219387.py:20: RuntimeWarning: invalid value encountered in long_scalars\n",
      "  precision_class_one = TP / (TP + FP)\n"
     ]
    },
    {
     "name": "stdout",
     "output_type": "stream",
     "text": [
      "9/9 [==============================] - 0s 2ms/step\n",
      "9/9 [==============================] - 0s 2ms/step\n",
      "9/9 [==============================] - 0s 2ms/step\n"
     ]
    },
    {
     "name": "stderr",
     "output_type": "stream",
     "text": [
      "C:\\Users\\James\\AppData\\Local\\Temp\\ipykernel_18756\\1740219387.py:20: RuntimeWarning: invalid value encountered in long_scalars\n",
      "  precision_class_one = TP / (TP + FP)\n",
      "C:\\Users\\James\\AppData\\Local\\Temp\\ipykernel_18756\\1740219387.py:20: RuntimeWarning: invalid value encountered in long_scalars\n",
      "  precision_class_one = TP / (TP + FP)\n",
      "C:\\Users\\James\\AppData\\Local\\Temp\\ipykernel_18756\\1740219387.py:20: RuntimeWarning: invalid value encountered in long_scalars\n",
      "  precision_class_one = TP / (TP + FP)\n"
     ]
    },
    {
     "name": "stdout",
     "output_type": "stream",
     "text": [
      "9/9 [==============================] - 0s 2ms/step\n",
      "9/9 [==============================] - 0s 1ms/step\n",
      "9/9 [==============================] - 0s 1ms/step\n",
      "9/9 [==============================] - 0s 1ms/step\n",
      "9/9 [==============================] - 0s 1ms/step\n",
      "9/9 [==============================] - 0s 2ms/step\n"
     ]
    },
    {
     "name": "stderr",
     "output_type": "stream",
     "text": [
      "C:\\Users\\James\\AppData\\Local\\Temp\\ipykernel_18756\\1740219387.py:20: RuntimeWarning: invalid value encountered in long_scalars\n",
      "  precision_class_one = TP / (TP + FP)\n",
      "C:\\Users\\James\\AppData\\Local\\Temp\\ipykernel_18756\\1740219387.py:20: RuntimeWarning: invalid value encountered in long_scalars\n",
      "  precision_class_one = TP / (TP + FP)\n"
     ]
    },
    {
     "name": "stdout",
     "output_type": "stream",
     "text": [
      "9/9 [==============================] - 0s 2ms/step\n",
      "9/9 [==============================] - 0s 1ms/step\n",
      "9/9 [==============================] - 0s 2ms/step\n",
      "9/9 [==============================] - 0s 2ms/step\n",
      "9/9 [==============================] - 0s 2ms/step\n"
     ]
    },
    {
     "name": "stderr",
     "output_type": "stream",
     "text": [
      "C:\\Users\\James\\AppData\\Local\\Temp\\ipykernel_18756\\1740219387.py:20: RuntimeWarning: invalid value encountered in long_scalars\n",
      "  precision_class_one = TP / (TP + FP)\n"
     ]
    },
    {
     "name": "stdout",
     "output_type": "stream",
     "text": [
      "9/9 [==============================] - 0s 5ms/step\n",
      "9/9 [==============================] - 0s 1ms/step\n",
      "9/9 [==============================] - 0s 1ms/step\n",
      "9/9 [==============================] - 0s 2ms/step\n",
      "9/9 [==============================] - 0s 2ms/step\n"
     ]
    },
    {
     "name": "stderr",
     "output_type": "stream",
     "text": [
      "C:\\Users\\James\\AppData\\Local\\Temp\\ipykernel_18756\\1740219387.py:20: RuntimeWarning: invalid value encountered in long_scalars\n",
      "  precision_class_one = TP / (TP + FP)\n",
      "C:\\Users\\James\\AppData\\Local\\Temp\\ipykernel_18756\\1740219387.py:20: RuntimeWarning: invalid value encountered in long_scalars\n",
      "  precision_class_one = TP / (TP + FP)\n",
      "C:\\Users\\James\\AppData\\Local\\Temp\\ipykernel_18756\\1740219387.py:20: RuntimeWarning: invalid value encountered in long_scalars\n",
      "  precision_class_one = TP / (TP + FP)\n"
     ]
    },
    {
     "name": "stdout",
     "output_type": "stream",
     "text": [
      "9/9 [==============================] - 0s 2ms/step\n",
      "9/9 [==============================] - 0s 1ms/step\n",
      "9/9 [==============================] - 0s 2ms/step\n"
     ]
    },
    {
     "name": "stderr",
     "output_type": "stream",
     "text": [
      "C:\\Users\\James\\AppData\\Local\\Temp\\ipykernel_18756\\1740219387.py:20: RuntimeWarning: invalid value encountered in long_scalars\n",
      "  precision_class_one = TP / (TP + FP)\n",
      "C:\\Users\\James\\AppData\\Local\\Temp\\ipykernel_18756\\1740219387.py:20: RuntimeWarning: invalid value encountered in long_scalars\n",
      "  precision_class_one = TP / (TP + FP)\n",
      "C:\\Users\\James\\AppData\\Local\\Temp\\ipykernel_18756\\1740219387.py:20: RuntimeWarning: invalid value encountered in long_scalars\n",
      "  precision_class_one = TP / (TP + FP)\n"
     ]
    },
    {
     "name": "stdout",
     "output_type": "stream",
     "text": [
      "9/9 [==============================] - 0s 2ms/step\n",
      "9/9 [==============================] - 0s 2ms/step\n",
      "9/9 [==============================] - 0s 2ms/step\n"
     ]
    },
    {
     "name": "stderr",
     "output_type": "stream",
     "text": [
      "C:\\Users\\James\\AppData\\Local\\Temp\\ipykernel_18756\\1740219387.py:20: RuntimeWarning: invalid value encountered in long_scalars\n",
      "  precision_class_one = TP / (TP + FP)\n",
      "C:\\Users\\James\\AppData\\Local\\Temp\\ipykernel_18756\\1740219387.py:20: RuntimeWarning: invalid value encountered in long_scalars\n",
      "  precision_class_one = TP / (TP + FP)\n",
      "C:\\Users\\James\\AppData\\Local\\Temp\\ipykernel_18756\\1740219387.py:20: RuntimeWarning: invalid value encountered in long_scalars\n",
      "  precision_class_one = TP / (TP + FP)\n"
     ]
    },
    {
     "name": "stdout",
     "output_type": "stream",
     "text": [
      "9/9 [==============================] - 0s 2ms/step\n",
      "9/9 [==============================] - 0s 2ms/step\n",
      "9/9 [==============================] - 0s 2ms/step\n"
     ]
    },
    {
     "name": "stderr",
     "output_type": "stream",
     "text": [
      "C:\\Users\\James\\AppData\\Local\\Temp\\ipykernel_18756\\1740219387.py:20: RuntimeWarning: invalid value encountered in long_scalars\n",
      "  precision_class_one = TP / (TP + FP)\n",
      "C:\\Users\\James\\AppData\\Local\\Temp\\ipykernel_18756\\1740219387.py:20: RuntimeWarning: invalid value encountered in long_scalars\n",
      "  precision_class_one = TP / (TP + FP)\n"
     ]
    },
    {
     "name": "stdout",
     "output_type": "stream",
     "text": [
      "9/9 [==============================] - 0s 2ms/step\n",
      "9/9 [==============================] - 0s 2ms/step\n",
      "9/9 [==============================] - 0s 2ms/step\n",
      "9/9 [==============================] - 0s 2ms/step\n",
      "9/9 [==============================] - 0s 2ms/step\n",
      "9/9 [==============================] - 0s 1ms/step\n"
     ]
    },
    {
     "name": "stderr",
     "output_type": "stream",
     "text": [
      "C:\\Users\\James\\AppData\\Local\\Temp\\ipykernel_18756\\1740219387.py:20: RuntimeWarning: invalid value encountered in long_scalars\n",
      "  precision_class_one = TP / (TP + FP)\n",
      "C:\\Users\\James\\AppData\\Local\\Temp\\ipykernel_18756\\1740219387.py:20: RuntimeWarning: invalid value encountered in long_scalars\n",
      "  precision_class_one = TP / (TP + FP)\n",
      "C:\\Users\\James\\AppData\\Local\\Temp\\ipykernel_18756\\1740219387.py:20: RuntimeWarning: invalid value encountered in long_scalars\n",
      "  precision_class_one = TP / (TP + FP)\n"
     ]
    },
    {
     "name": "stdout",
     "output_type": "stream",
     "text": [
      "9/9 [==============================] - 0s 2ms/step\n",
      "9/9 [==============================] - 0s 2ms/step\n",
      "9/9 [==============================] - 0s 1ms/step\n",
      "Green\n",
      "Model 73\n",
      "Sensitivity: 46.94%, Specificity: 88.00%, Accuracy: 80.66%, Negative Predictive Value: 88.39%, Precision (Class One): 46.00%\n",
      "True Negatives (TN): 198, False Positives (FP): 27, True Positives (TP): 23, False Negatives (FN): 26\n",
      "9/9 [==============================] - 0s 2ms/step\n"
     ]
    },
    {
     "name": "stderr",
     "output_type": "stream",
     "text": [
      "C:\\Users\\James\\AppData\\Local\\Temp\\ipykernel_18756\\1740219387.py:20: RuntimeWarning: invalid value encountered in long_scalars\n",
      "  precision_class_one = TP / (TP + FP)\n",
      "C:\\Users\\James\\AppData\\Local\\Temp\\ipykernel_18756\\1740219387.py:20: RuntimeWarning: invalid value encountered in long_scalars\n",
      "  precision_class_one = TP / (TP + FP)\n"
     ]
    },
    {
     "name": "stdout",
     "output_type": "stream",
     "text": [
      "9/9 [==============================] - 0s 2ms/step\n",
      "9/9 [==============================] - 0s 2ms/step\n",
      "9/9 [==============================] - 0s 2ms/step\n"
     ]
    },
    {
     "name": "stderr",
     "output_type": "stream",
     "text": [
      "C:\\Users\\James\\AppData\\Local\\Temp\\ipykernel_18756\\1740219387.py:20: RuntimeWarning: invalid value encountered in long_scalars\n",
      "  precision_class_one = TP / (TP + FP)\n",
      "C:\\Users\\James\\AppData\\Local\\Temp\\ipykernel_18756\\1740219387.py:20: RuntimeWarning: invalid value encountered in long_scalars\n",
      "  precision_class_one = TP / (TP + FP)\n"
     ]
    },
    {
     "name": "stdout",
     "output_type": "stream",
     "text": [
      "9/9 [==============================] - 0s 2ms/step\n",
      "9/9 [==============================] - 0s 2ms/step\n",
      "9/9 [==============================] - 0s 2ms/step\n",
      "9/9 [==============================] - 0s 2ms/step\n",
      "9/9 [==============================] - 0s 2ms/step\n",
      "9/9 [==============================] - 0s 2ms/step\n",
      "9/9 [==============================] - 0s 2ms/step\n",
      "9/9 [==============================] - 0s 2ms/step\n"
     ]
    },
    {
     "name": "stderr",
     "output_type": "stream",
     "text": [
      "C:\\Users\\James\\AppData\\Local\\Temp\\ipykernel_18756\\1740219387.py:20: RuntimeWarning: invalid value encountered in long_scalars\n",
      "  precision_class_one = TP / (TP + FP)\n",
      "C:\\Users\\James\\AppData\\Local\\Temp\\ipykernel_18756\\1740219387.py:20: RuntimeWarning: invalid value encountered in long_scalars\n",
      "  precision_class_one = TP / (TP + FP)\n"
     ]
    },
    {
     "name": "stdout",
     "output_type": "stream",
     "text": [
      "9/9 [==============================] - 0s 2ms/step\n",
      "9/9 [==============================] - 0s 2ms/step\n",
      "9/9 [==============================] - 0s 2ms/step\n",
      "9/9 [==============================] - 0s 2ms/step\n"
     ]
    },
    {
     "name": "stderr",
     "output_type": "stream",
     "text": [
      "C:\\Users\\James\\AppData\\Local\\Temp\\ipykernel_18756\\1740219387.py:20: RuntimeWarning: invalid value encountered in long_scalars\n",
      "  precision_class_one = TP / (TP + FP)\n",
      "C:\\Users\\James\\AppData\\Local\\Temp\\ipykernel_18756\\1740219387.py:20: RuntimeWarning: invalid value encountered in long_scalars\n",
      "  precision_class_one = TP / (TP + FP)\n"
     ]
    },
    {
     "name": "stdout",
     "output_type": "stream",
     "text": [
      "9/9 [==============================] - 0s 2ms/step\n",
      "1/9 [==>...........................] - ETA: 0s"
     ]
    },
    {
     "name": "stderr",
     "output_type": "stream",
     "text": [
      "C:\\Users\\James\\AppData\\Local\\Temp\\ipykernel_18756\\1740219387.py:20: RuntimeWarning: invalid value encountered in long_scalars\n",
      "  precision_class_one = TP / (TP + FP)\n",
      "C:\\Users\\James\\AppData\\Local\\Temp\\ipykernel_18756\\1740219387.py:20: RuntimeWarning: invalid value encountered in long_scalars\n",
      "  precision_class_one = TP / (TP + FP)\n"
     ]
    },
    {
     "name": "stdout",
     "output_type": "stream",
     "text": [
      "9/9 [==============================] - 0s 2ms/step\n",
      "9/9 [==============================] - 0s 2ms/step\n",
      "1/9 [==>...........................] - ETA: 0s"
     ]
    },
    {
     "name": "stderr",
     "output_type": "stream",
     "text": [
      "C:\\Users\\James\\AppData\\Local\\Temp\\ipykernel_18756\\1740219387.py:20: RuntimeWarning: invalid value encountered in long_scalars\n",
      "  precision_class_one = TP / (TP + FP)\n",
      "C:\\Users\\James\\AppData\\Local\\Temp\\ipykernel_18756\\1740219387.py:20: RuntimeWarning: invalid value encountered in long_scalars\n",
      "  precision_class_one = TP / (TP + FP)\n"
     ]
    },
    {
     "name": "stdout",
     "output_type": "stream",
     "text": [
      "9/9 [==============================] - 0s 2ms/step\n",
      "9/9 [==============================] - 0s 2ms/step\n",
      "9/9 [==============================] - 0s 2ms/step\n",
      "9/9 [==============================] - 0s 2ms/step\n",
      "9/9 [==============================] - 0s 1ms/step\n",
      "9/9 [==============================] - 0s 2ms/step\n",
      "9/9 [==============================] - 0s 2ms/step\n"
     ]
    },
    {
     "name": "stderr",
     "output_type": "stream",
     "text": [
      "C:\\Users\\James\\AppData\\Local\\Temp\\ipykernel_18756\\1740219387.py:20: RuntimeWarning: invalid value encountered in long_scalars\n",
      "  precision_class_one = TP / (TP + FP)\n",
      "C:\\Users\\James\\AppData\\Local\\Temp\\ipykernel_18756\\1740219387.py:20: RuntimeWarning: invalid value encountered in long_scalars\n",
      "  precision_class_one = TP / (TP + FP)\n"
     ]
    },
    {
     "name": "stdout",
     "output_type": "stream",
     "text": [
      "9/9 [==============================] - 0s 2ms/step\n",
      "9/9 [==============================] - 0s 2ms/step\n",
      "9/9 [==============================] - 0s 2ms/step\n"
     ]
    },
    {
     "name": "stderr",
     "output_type": "stream",
     "text": [
      "C:\\Users\\James\\AppData\\Local\\Temp\\ipykernel_18756\\1740219387.py:20: RuntimeWarning: invalid value encountered in long_scalars\n",
      "  precision_class_one = TP / (TP + FP)\n",
      "C:\\Users\\James\\AppData\\Local\\Temp\\ipykernel_18756\\1740219387.py:20: RuntimeWarning: invalid value encountered in long_scalars\n",
      "  precision_class_one = TP / (TP + FP)\n"
     ]
    },
    {
     "name": "stdout",
     "output_type": "stream",
     "text": [
      "9/9 [==============================] - 0s 2ms/step\n",
      "9/9 [==============================] - 0s 1ms/step\n",
      "9/9 [==============================] - 0s 2ms/step\n"
     ]
    },
    {
     "name": "stderr",
     "output_type": "stream",
     "text": [
      "C:\\Users\\James\\AppData\\Local\\Temp\\ipykernel_18756\\1740219387.py:20: RuntimeWarning: invalid value encountered in long_scalars\n",
      "  precision_class_one = TP / (TP + FP)\n"
     ]
    },
    {
     "name": "stdout",
     "output_type": "stream",
     "text": [
      "9/9 [==============================] - 0s 2ms/step\n",
      "9/9 [==============================] - 0s 1ms/step\n",
      "9/9 [==============================] - 0s 2ms/step\n"
     ]
    },
    {
     "name": "stderr",
     "output_type": "stream",
     "text": [
      "C:\\Users\\James\\AppData\\Local\\Temp\\ipykernel_18756\\1740219387.py:20: RuntimeWarning: invalid value encountered in long_scalars\n",
      "  precision_class_one = TP / (TP + FP)\n",
      "C:\\Users\\James\\AppData\\Local\\Temp\\ipykernel_18756\\1740219387.py:20: RuntimeWarning: invalid value encountered in long_scalars\n",
      "  precision_class_one = TP / (TP + FP)\n",
      "C:\\Users\\James\\AppData\\Local\\Temp\\ipykernel_18756\\1740219387.py:20: RuntimeWarning: invalid value encountered in long_scalars\n",
      "  precision_class_one = TP / (TP + FP)\n"
     ]
    },
    {
     "name": "stdout",
     "output_type": "stream",
     "text": [
      "9/9 [==============================] - 0s 2ms/step\n",
      "9/9 [==============================] - 0s 2ms/step\n",
      "9/9 [==============================] - 0s 2ms/step\n"
     ]
    },
    {
     "name": "stderr",
     "output_type": "stream",
     "text": [
      "C:\\Users\\James\\AppData\\Local\\Temp\\ipykernel_18756\\1740219387.py:20: RuntimeWarning: invalid value encountered in long_scalars\n",
      "  precision_class_one = TP / (TP + FP)\n",
      "C:\\Users\\James\\AppData\\Local\\Temp\\ipykernel_18756\\1740219387.py:20: RuntimeWarning: invalid value encountered in long_scalars\n",
      "  precision_class_one = TP / (TP + FP)\n",
      "C:\\Users\\James\\AppData\\Local\\Temp\\ipykernel_18756\\1740219387.py:20: RuntimeWarning: invalid value encountered in long_scalars\n",
      "  precision_class_one = TP / (TP + FP)\n"
     ]
    },
    {
     "name": "stdout",
     "output_type": "stream",
     "text": [
      "9/9 [==============================] - 0s 2ms/step\n",
      "9/9 [==============================] - 0s 2ms/step\n",
      "9/9 [==============================] - 0s 2ms/step\n"
     ]
    },
    {
     "name": "stderr",
     "output_type": "stream",
     "text": [
      "C:\\Users\\James\\AppData\\Local\\Temp\\ipykernel_18756\\1740219387.py:20: RuntimeWarning: invalid value encountered in long_scalars\n",
      "  precision_class_one = TP / (TP + FP)\n"
     ]
    },
    {
     "name": "stdout",
     "output_type": "stream",
     "text": [
      "9/9 [==============================] - 0s 2ms/step\n",
      "9/9 [==============================] - 0s 2ms/step\n",
      "9/9 [==============================] - 0s 2ms/step\n",
      "1/9 [==>...........................] - ETA: 0s"
     ]
    },
    {
     "name": "stderr",
     "output_type": "stream",
     "text": [
      "C:\\Users\\James\\AppData\\Local\\Temp\\ipykernel_18756\\1740219387.py:20: RuntimeWarning: invalid value encountered in long_scalars\n",
      "  precision_class_one = TP / (TP + FP)\n"
     ]
    },
    {
     "name": "stdout",
     "output_type": "stream",
     "text": [
      "9/9 [==============================] - 0s 1ms/step\n",
      "9/9 [==============================] - 0s 2ms/step\n",
      "9/9 [==============================] - 0s 2ms/step\n",
      "9/9 [==============================] - 0s 2ms/step\n",
      "9/9 [==============================] - 0s 2ms/step\n",
      "9/9 [==============================] - 0s 1ms/step\n",
      "9/9 [==============================] - 0s 2ms/step\n",
      "9/9 [==============================] - 0s 2ms/step\n",
      "9/9 [==============================] - 0s 2ms/step\n",
      "9/9 [==============================] - 0s 2ms/step\n"
     ]
    },
    {
     "name": "stderr",
     "output_type": "stream",
     "text": [
      "C:\\Users\\James\\AppData\\Local\\Temp\\ipykernel_18756\\1740219387.py:20: RuntimeWarning: invalid value encountered in long_scalars\n",
      "  precision_class_one = TP / (TP + FP)\n",
      "C:\\Users\\James\\AppData\\Local\\Temp\\ipykernel_18756\\1740219387.py:20: RuntimeWarning: invalid value encountered in long_scalars\n",
      "  precision_class_one = TP / (TP + FP)\n"
     ]
    },
    {
     "name": "stdout",
     "output_type": "stream",
     "text": [
      "9/9 [==============================] - 0s 2ms/step\n",
      "9/9 [==============================] - 0s 2ms/step\n",
      "9/9 [==============================] - 0s 2ms/step\n"
     ]
    },
    {
     "name": "stderr",
     "output_type": "stream",
     "text": [
      "C:\\Users\\James\\AppData\\Local\\Temp\\ipykernel_18756\\1740219387.py:20: RuntimeWarning: invalid value encountered in long_scalars\n",
      "  precision_class_one = TP / (TP + FP)\n"
     ]
    },
    {
     "name": "stdout",
     "output_type": "stream",
     "text": [
      "9/9 [==============================] - 0s 2ms/step\n",
      "9/9 [==============================] - 0s 2ms/step\n",
      "9/9 [==============================] - 0s 2ms/step\n"
     ]
    },
    {
     "name": "stderr",
     "output_type": "stream",
     "text": [
      "C:\\Users\\James\\AppData\\Local\\Temp\\ipykernel_18756\\1740219387.py:20: RuntimeWarning: invalid value encountered in long_scalars\n",
      "  precision_class_one = TP / (TP + FP)\n",
      "C:\\Users\\James\\AppData\\Local\\Temp\\ipykernel_18756\\1740219387.py:20: RuntimeWarning: invalid value encountered in long_scalars\n",
      "  precision_class_one = TP / (TP + FP)\n"
     ]
    },
    {
     "name": "stdout",
     "output_type": "stream",
     "text": [
      "9/9 [==============================] - 0s 2ms/step\n",
      "9/9 [==============================] - 0s 1ms/step\n",
      "9/9 [==============================] - 0s 2ms/step\n",
      "9/9 [==============================] - 0s 2ms/step\n"
     ]
    },
    {
     "name": "stderr",
     "output_type": "stream",
     "text": [
      "C:\\Users\\James\\AppData\\Local\\Temp\\ipykernel_18756\\1740219387.py:20: RuntimeWarning: invalid value encountered in long_scalars\n",
      "  precision_class_one = TP / (TP + FP)\n",
      "C:\\Users\\James\\AppData\\Local\\Temp\\ipykernel_18756\\1740219387.py:20: RuntimeWarning: invalid value encountered in long_scalars\n",
      "  precision_class_one = TP / (TP + FP)\n",
      "C:\\Users\\James\\AppData\\Local\\Temp\\ipykernel_18756\\1740219387.py:20: RuntimeWarning: invalid value encountered in long_scalars\n",
      "  precision_class_one = TP / (TP + FP)\n"
     ]
    },
    {
     "name": "stdout",
     "output_type": "stream",
     "text": [
      "9/9 [==============================] - 0s 2ms/step\n",
      "9/9 [==============================] - 0s 2ms/step\n",
      "9/9 [==============================] - 0s 2ms/step\n"
     ]
    },
    {
     "name": "stderr",
     "output_type": "stream",
     "text": [
      "C:\\Users\\James\\AppData\\Local\\Temp\\ipykernel_18756\\1740219387.py:20: RuntimeWarning: invalid value encountered in long_scalars\n",
      "  precision_class_one = TP / (TP + FP)\n",
      "C:\\Users\\James\\AppData\\Local\\Temp\\ipykernel_18756\\1740219387.py:20: RuntimeWarning: invalid value encountered in long_scalars\n",
      "  precision_class_one = TP / (TP + FP)\n",
      "C:\\Users\\James\\AppData\\Local\\Temp\\ipykernel_18756\\1740219387.py:20: RuntimeWarning: invalid value encountered in long_scalars\n",
      "  precision_class_one = TP / (TP + FP)\n"
     ]
    },
    {
     "name": "stdout",
     "output_type": "stream",
     "text": [
      "9/9 [==============================] - 0s 2ms/step\n",
      "9/9 [==============================] - 0s 2ms/step\n",
      "9/9 [==============================] - 0s 2ms/step\n"
     ]
    },
    {
     "name": "stderr",
     "output_type": "stream",
     "text": [
      "C:\\Users\\James\\AppData\\Local\\Temp\\ipykernel_18756\\1740219387.py:20: RuntimeWarning: invalid value encountered in long_scalars\n",
      "  precision_class_one = TP / (TP + FP)\n",
      "C:\\Users\\James\\AppData\\Local\\Temp\\ipykernel_18756\\1740219387.py:20: RuntimeWarning: invalid value encountered in long_scalars\n",
      "  precision_class_one = TP / (TP + FP)\n",
      "C:\\Users\\James\\AppData\\Local\\Temp\\ipykernel_18756\\1740219387.py:20: RuntimeWarning: invalid value encountered in long_scalars\n",
      "  precision_class_one = TP / (TP + FP)\n"
     ]
    },
    {
     "name": "stdout",
     "output_type": "stream",
     "text": [
      "9/9 [==============================] - 0s 2ms/step\n",
      "9/9 [==============================] - 0s 2ms/step\n",
      "9/9 [==============================] - 0s 1ms/step\n"
     ]
    },
    {
     "name": "stderr",
     "output_type": "stream",
     "text": [
      "C:\\Users\\James\\AppData\\Local\\Temp\\ipykernel_18756\\1740219387.py:20: RuntimeWarning: invalid value encountered in long_scalars\n",
      "  precision_class_one = TP / (TP + FP)\n",
      "C:\\Users\\James\\AppData\\Local\\Temp\\ipykernel_18756\\1740219387.py:20: RuntimeWarning: invalid value encountered in long_scalars\n",
      "  precision_class_one = TP / (TP + FP)\n",
      "C:\\Users\\James\\AppData\\Local\\Temp\\ipykernel_18756\\1740219387.py:20: RuntimeWarning: invalid value encountered in long_scalars\n",
      "  precision_class_one = TP / (TP + FP)\n"
     ]
    },
    {
     "name": "stdout",
     "output_type": "stream",
     "text": [
      "9/9 [==============================] - 0s 2ms/step\n",
      "9/9 [==============================] - 0s 1ms/step\n",
      "9/9 [==============================] - 0s 2ms/step\n"
     ]
    },
    {
     "name": "stderr",
     "output_type": "stream",
     "text": [
      "C:\\Users\\James\\AppData\\Local\\Temp\\ipykernel_18756\\1740219387.py:20: RuntimeWarning: invalid value encountered in long_scalars\n",
      "  precision_class_one = TP / (TP + FP)\n",
      "C:\\Users\\James\\AppData\\Local\\Temp\\ipykernel_18756\\1740219387.py:20: RuntimeWarning: invalid value encountered in long_scalars\n",
      "  precision_class_one = TP / (TP + FP)\n",
      "C:\\Users\\James\\AppData\\Local\\Temp\\ipykernel_18756\\1740219387.py:20: RuntimeWarning: invalid value encountered in long_scalars\n",
      "  precision_class_one = TP / (TP + FP)\n"
     ]
    },
    {
     "name": "stdout",
     "output_type": "stream",
     "text": [
      "9/9 [==============================] - 0s 2ms/step\n",
      "9/9 [==============================] - 0s 2ms/step\n",
      "1/9 [==>...........................] - ETA: 0s"
     ]
    },
    {
     "name": "stderr",
     "output_type": "stream",
     "text": [
      "C:\\Users\\James\\AppData\\Local\\Temp\\ipykernel_18756\\1740219387.py:20: RuntimeWarning: invalid value encountered in long_scalars\n",
      "  precision_class_one = TP / (TP + FP)\n"
     ]
    },
    {
     "name": "stdout",
     "output_type": "stream",
     "text": [
      "9/9 [==============================] - 0s 2ms/step\n",
      "9/9 [==============================] - 0s 2ms/step\n",
      "9/9 [==============================] - 0s 2ms/step\n",
      "9/9 [==============================] - 0s 2ms/step\n"
     ]
    },
    {
     "name": "stderr",
     "output_type": "stream",
     "text": [
      "C:\\Users\\James\\AppData\\Local\\Temp\\ipykernel_18756\\1740219387.py:20: RuntimeWarning: invalid value encountered in long_scalars\n",
      "  precision_class_one = TP / (TP + FP)\n",
      "C:\\Users\\James\\AppData\\Local\\Temp\\ipykernel_18756\\1740219387.py:20: RuntimeWarning: invalid value encountered in long_scalars\n",
      "  precision_class_one = TP / (TP + FP)\n",
      "C:\\Users\\James\\AppData\\Local\\Temp\\ipykernel_18756\\1740219387.py:20: RuntimeWarning: invalid value encountered in long_scalars\n",
      "  precision_class_one = TP / (TP + FP)\n"
     ]
    },
    {
     "name": "stdout",
     "output_type": "stream",
     "text": [
      "9/9 [==============================] - 0s 2ms/step\n",
      "9/9 [==============================] - 0s 2ms/step\n",
      "9/9 [==============================] - 0s 2ms/step\n"
     ]
    },
    {
     "name": "stderr",
     "output_type": "stream",
     "text": [
      "C:\\Users\\James\\AppData\\Local\\Temp\\ipykernel_18756\\1740219387.py:20: RuntimeWarning: invalid value encountered in long_scalars\n",
      "  precision_class_one = TP / (TP + FP)\n",
      "C:\\Users\\James\\AppData\\Local\\Temp\\ipykernel_18756\\1740219387.py:20: RuntimeWarning: invalid value encountered in long_scalars\n",
      "  precision_class_one = TP / (TP + FP)\n"
     ]
    },
    {
     "name": "stdout",
     "output_type": "stream",
     "text": [
      "9/9 [==============================] - 0s 2ms/step\n",
      "9/9 [==============================] - 0s 2ms/step\n",
      "9/9 [==============================] - 0s 2ms/step\n"
     ]
    },
    {
     "name": "stderr",
     "output_type": "stream",
     "text": [
      "C:\\Users\\James\\AppData\\Local\\Temp\\ipykernel_18756\\1740219387.py:20: RuntimeWarning: invalid value encountered in long_scalars\n",
      "  precision_class_one = TP / (TP + FP)\n",
      "C:\\Users\\James\\AppData\\Local\\Temp\\ipykernel_18756\\1740219387.py:20: RuntimeWarning: invalid value encountered in long_scalars\n",
      "  precision_class_one = TP / (TP + FP)\n"
     ]
    },
    {
     "name": "stdout",
     "output_type": "stream",
     "text": [
      "9/9 [==============================] - 0s 1ms/step\n",
      "9/9 [==============================] - 0s 2ms/step\n",
      "9/9 [==============================] - 0s 2ms/step\n",
      "9/9 [==============================] - 0s 2ms/step\n",
      "9/9 [==============================] - 0s 1ms/step\n",
      "9/9 [==============================] - 0s 2ms/step\n",
      "9/9 [==============================] - 0s 2ms/step\n",
      "9/9 [==============================] - 0s 1ms/step\n",
      "9/9 [==============================] - 0s 1ms/step\n",
      "9/9 [==============================] - 0s 2ms/step\n"
     ]
    },
    {
     "name": "stderr",
     "output_type": "stream",
     "text": [
      "C:\\Users\\James\\AppData\\Local\\Temp\\ipykernel_18756\\1740219387.py:20: RuntimeWarning: invalid value encountered in long_scalars\n",
      "  precision_class_one = TP / (TP + FP)\n"
     ]
    },
    {
     "name": "stdout",
     "output_type": "stream",
     "text": [
      "9/9 [==============================] - 0s 2ms/step\n",
      "9/9 [==============================] - 0s 2ms/step\n",
      "9/9 [==============================] - 0s 1ms/step\n"
     ]
    },
    {
     "name": "stderr",
     "output_type": "stream",
     "text": [
      "C:\\Users\\James\\AppData\\Local\\Temp\\ipykernel_18756\\1740219387.py:20: RuntimeWarning: invalid value encountered in long_scalars\n",
      "  precision_class_one = TP / (TP + FP)\n",
      "C:\\Users\\James\\AppData\\Local\\Temp\\ipykernel_18756\\1740219387.py:20: RuntimeWarning: invalid value encountered in long_scalars\n",
      "  precision_class_one = TP / (TP + FP)\n"
     ]
    },
    {
     "name": "stdout",
     "output_type": "stream",
     "text": [
      "9/9 [==============================] - 0s 2ms/step\n",
      "9/9 [==============================] - 0s 2ms/step\n",
      "9/9 [==============================] - 0s 1ms/step\n"
     ]
    },
    {
     "name": "stderr",
     "output_type": "stream",
     "text": [
      "C:\\Users\\James\\AppData\\Local\\Temp\\ipykernel_18756\\1740219387.py:20: RuntimeWarning: invalid value encountered in long_scalars\n",
      "  precision_class_one = TP / (TP + FP)\n",
      "C:\\Users\\James\\AppData\\Local\\Temp\\ipykernel_18756\\1740219387.py:20: RuntimeWarning: invalid value encountered in long_scalars\n",
      "  precision_class_one = TP / (TP + FP)\n"
     ]
    },
    {
     "name": "stdout",
     "output_type": "stream",
     "text": [
      "9/9 [==============================] - 0s 2ms/step\n",
      "1/9 [==>...........................] - ETA: 0s"
     ]
    },
    {
     "name": "stderr",
     "output_type": "stream",
     "text": [
      "C:\\Users\\James\\AppData\\Local\\Temp\\ipykernel_18756\\1740219387.py:20: RuntimeWarning: invalid value encountered in long_scalars\n",
      "  precision_class_one = TP / (TP + FP)\n"
     ]
    },
    {
     "name": "stdout",
     "output_type": "stream",
     "text": [
      "9/9 [==============================] - 0s 2ms/step\n",
      "9/9 [==============================] - 0s 2ms/step\n",
      "9/9 [==============================] - 0s 2ms/step\n"
     ]
    },
    {
     "name": "stderr",
     "output_type": "stream",
     "text": [
      "C:\\Users\\James\\AppData\\Local\\Temp\\ipykernel_18756\\1740219387.py:20: RuntimeWarning: invalid value encountered in long_scalars\n",
      "  precision_class_one = TP / (TP + FP)\n",
      "C:\\Users\\James\\AppData\\Local\\Temp\\ipykernel_18756\\1740219387.py:20: RuntimeWarning: invalid value encountered in long_scalars\n",
      "  precision_class_one = TP / (TP + FP)\n",
      "C:\\Users\\James\\AppData\\Local\\Temp\\ipykernel_18756\\1740219387.py:20: RuntimeWarning: invalid value encountered in long_scalars\n",
      "  precision_class_one = TP / (TP + FP)\n"
     ]
    },
    {
     "name": "stdout",
     "output_type": "stream",
     "text": [
      "9/9 [==============================] - 0s 2ms/step\n",
      "9/9 [==============================] - 0s 1ms/step\n",
      "9/9 [==============================] - 0s 2ms/step\n"
     ]
    },
    {
     "name": "stderr",
     "output_type": "stream",
     "text": [
      "C:\\Users\\James\\AppData\\Local\\Temp\\ipykernel_18756\\1740219387.py:20: RuntimeWarning: invalid value encountered in long_scalars\n",
      "  precision_class_one = TP / (TP + FP)\n",
      "C:\\Users\\James\\AppData\\Local\\Temp\\ipykernel_18756\\1740219387.py:20: RuntimeWarning: invalid value encountered in long_scalars\n",
      "  precision_class_one = TP / (TP + FP)\n",
      "C:\\Users\\James\\AppData\\Local\\Temp\\ipykernel_18756\\1740219387.py:20: RuntimeWarning: invalid value encountered in long_scalars\n",
      "  precision_class_one = TP / (TP + FP)\n"
     ]
    },
    {
     "name": "stdout",
     "output_type": "stream",
     "text": [
      "9/9 [==============================] - 0s 2ms/step\n",
      "9/9 [==============================] - 0s 1ms/step\n",
      "9/9 [==============================] - 0s 1ms/step\n"
     ]
    },
    {
     "name": "stderr",
     "output_type": "stream",
     "text": [
      "C:\\Users\\James\\AppData\\Local\\Temp\\ipykernel_18756\\1740219387.py:20: RuntimeWarning: invalid value encountered in long_scalars\n",
      "  precision_class_one = TP / (TP + FP)\n",
      "C:\\Users\\James\\AppData\\Local\\Temp\\ipykernel_18756\\1740219387.py:20: RuntimeWarning: invalid value encountered in long_scalars\n",
      "  precision_class_one = TP / (TP + FP)\n",
      "C:\\Users\\James\\AppData\\Local\\Temp\\ipykernel_18756\\1740219387.py:20: RuntimeWarning: invalid value encountered in long_scalars\n",
      "  precision_class_one = TP / (TP + FP)\n"
     ]
    },
    {
     "name": "stdout",
     "output_type": "stream",
     "text": [
      "9/9 [==============================] - 0s 2ms/step\n",
      "9/9 [==============================] - 0s 2ms/step\n",
      "9/9 [==============================] - 0s 2ms/step\n"
     ]
    },
    {
     "name": "stderr",
     "output_type": "stream",
     "text": [
      "C:\\Users\\James\\AppData\\Local\\Temp\\ipykernel_18756\\1740219387.py:20: RuntimeWarning: invalid value encountered in long_scalars\n",
      "  precision_class_one = TP / (TP + FP)\n",
      "C:\\Users\\James\\AppData\\Local\\Temp\\ipykernel_18756\\1740219387.py:20: RuntimeWarning: invalid value encountered in long_scalars\n",
      "  precision_class_one = TP / (TP + FP)\n",
      "C:\\Users\\James\\AppData\\Local\\Temp\\ipykernel_18756\\1740219387.py:20: RuntimeWarning: invalid value encountered in long_scalars\n",
      "  precision_class_one = TP / (TP + FP)\n"
     ]
    },
    {
     "name": "stdout",
     "output_type": "stream",
     "text": [
      "9/9 [==============================] - 0s 2ms/step\n",
      "9/9 [==============================] - 0s 2ms/step\n",
      "9/9 [==============================] - 0s 2ms/step\n"
     ]
    },
    {
     "name": "stderr",
     "output_type": "stream",
     "text": [
      "C:\\Users\\James\\AppData\\Local\\Temp\\ipykernel_18756\\1740219387.py:20: RuntimeWarning: invalid value encountered in long_scalars\n",
      "  precision_class_one = TP / (TP + FP)\n",
      "C:\\Users\\James\\AppData\\Local\\Temp\\ipykernel_18756\\1740219387.py:20: RuntimeWarning: invalid value encountered in long_scalars\n",
      "  precision_class_one = TP / (TP + FP)\n",
      "C:\\Users\\James\\AppData\\Local\\Temp\\ipykernel_18756\\1740219387.py:20: RuntimeWarning: invalid value encountered in long_scalars\n",
      "  precision_class_one = TP / (TP + FP)\n"
     ]
    },
    {
     "name": "stdout",
     "output_type": "stream",
     "text": [
      "9/9 [==============================] - 0s 2ms/step\n",
      "9/9 [==============================] - 0s 2ms/step\n",
      "9/9 [==============================] - 0s 2ms/step\n"
     ]
    },
    {
     "name": "stderr",
     "output_type": "stream",
     "text": [
      "C:\\Users\\James\\AppData\\Local\\Temp\\ipykernel_18756\\1740219387.py:20: RuntimeWarning: invalid value encountered in long_scalars\n",
      "  precision_class_one = TP / (TP + FP)\n",
      "C:\\Users\\James\\AppData\\Local\\Temp\\ipykernel_18756\\1740219387.py:20: RuntimeWarning: invalid value encountered in long_scalars\n",
      "  precision_class_one = TP / (TP + FP)\n",
      "C:\\Users\\James\\AppData\\Local\\Temp\\ipykernel_18756\\1740219387.py:20: RuntimeWarning: invalid value encountered in long_scalars\n",
      "  precision_class_one = TP / (TP + FP)\n"
     ]
    },
    {
     "name": "stdout",
     "output_type": "stream",
     "text": [
      "9/9 [==============================] - 0s 2ms/step\n",
      "9/9 [==============================] - 0s 2ms/step\n",
      "9/9 [==============================] - 0s 2ms/step\n"
     ]
    },
    {
     "name": "stderr",
     "output_type": "stream",
     "text": [
      "C:\\Users\\James\\AppData\\Local\\Temp\\ipykernel_18756\\1740219387.py:20: RuntimeWarning: invalid value encountered in long_scalars\n",
      "  precision_class_one = TP / (TP + FP)\n",
      "C:\\Users\\James\\AppData\\Local\\Temp\\ipykernel_18756\\1740219387.py:20: RuntimeWarning: invalid value encountered in long_scalars\n",
      "  precision_class_one = TP / (TP + FP)\n",
      "C:\\Users\\James\\AppData\\Local\\Temp\\ipykernel_18756\\1740219387.py:20: RuntimeWarning: invalid value encountered in long_scalars\n",
      "  precision_class_one = TP / (TP + FP)\n"
     ]
    },
    {
     "name": "stdout",
     "output_type": "stream",
     "text": [
      "9/9 [==============================] - 0s 2ms/step\n",
      "9/9 [==============================] - 0s 2ms/step\n",
      "9/9 [==============================] - 0s 2ms/step\n"
     ]
    },
    {
     "name": "stderr",
     "output_type": "stream",
     "text": [
      "C:\\Users\\James\\AppData\\Local\\Temp\\ipykernel_18756\\1740219387.py:20: RuntimeWarning: invalid value encountered in long_scalars\n",
      "  precision_class_one = TP / (TP + FP)\n",
      "C:\\Users\\James\\AppData\\Local\\Temp\\ipykernel_18756\\1740219387.py:20: RuntimeWarning: invalid value encountered in long_scalars\n",
      "  precision_class_one = TP / (TP + FP)\n",
      "C:\\Users\\James\\AppData\\Local\\Temp\\ipykernel_18756\\1740219387.py:20: RuntimeWarning: invalid value encountered in long_scalars\n",
      "  precision_class_one = TP / (TP + FP)\n"
     ]
    },
    {
     "name": "stdout",
     "output_type": "stream",
     "text": [
      "9/9 [==============================] - 0s 2ms/step\n",
      "9/9 [==============================] - 0s 2ms/step\n",
      "9/9 [==============================] - 0s 1ms/step\n"
     ]
    },
    {
     "name": "stderr",
     "output_type": "stream",
     "text": [
      "C:\\Users\\James\\AppData\\Local\\Temp\\ipykernel_18756\\1740219387.py:20: RuntimeWarning: invalid value encountered in long_scalars\n",
      "  precision_class_one = TP / (TP + FP)\n",
      "C:\\Users\\James\\AppData\\Local\\Temp\\ipykernel_18756\\1740219387.py:20: RuntimeWarning: invalid value encountered in long_scalars\n",
      "  precision_class_one = TP / (TP + FP)\n"
     ]
    },
    {
     "name": "stdout",
     "output_type": "stream",
     "text": [
      "9/9 [==============================] - 0s 1ms/step\n",
      "9/9 [==============================] - 0s 2ms/step\n",
      "9/9 [==============================] - 0s 2ms/step\n"
     ]
    },
    {
     "name": "stderr",
     "output_type": "stream",
     "text": [
      "C:\\Users\\James\\AppData\\Local\\Temp\\ipykernel_18756\\1740219387.py:20: RuntimeWarning: invalid value encountered in long_scalars\n",
      "  precision_class_one = TP / (TP + FP)\n",
      "C:\\Users\\James\\AppData\\Local\\Temp\\ipykernel_18756\\1740219387.py:20: RuntimeWarning: invalid value encountered in long_scalars\n",
      "  precision_class_one = TP / (TP + FP)\n"
     ]
    },
    {
     "name": "stdout",
     "output_type": "stream",
     "text": [
      "9/9 [==============================] - 0s 2ms/step\n",
      "9/9 [==============================] - 0s 2ms/step\n",
      "1/9 [==>...........................] - ETA: 0s"
     ]
    },
    {
     "name": "stderr",
     "output_type": "stream",
     "text": [
      "C:\\Users\\James\\AppData\\Local\\Temp\\ipykernel_18756\\1740219387.py:20: RuntimeWarning: invalid value encountered in long_scalars\n",
      "  precision_class_one = TP / (TP + FP)\n",
      "C:\\Users\\James\\AppData\\Local\\Temp\\ipykernel_18756\\1740219387.py:20: RuntimeWarning: invalid value encountered in long_scalars\n",
      "  precision_class_one = TP / (TP + FP)\n"
     ]
    },
    {
     "name": "stdout",
     "output_type": "stream",
     "text": [
      "9/9 [==============================] - 0s 2ms/step\n",
      "9/9 [==============================] - 0s 2ms/step\n",
      "9/9 [==============================] - 0s 2ms/step\n"
     ]
    },
    {
     "name": "stderr",
     "output_type": "stream",
     "text": [
      "C:\\Users\\James\\AppData\\Local\\Temp\\ipykernel_18756\\1740219387.py:20: RuntimeWarning: invalid value encountered in long_scalars\n",
      "  precision_class_one = TP / (TP + FP)\n",
      "C:\\Users\\James\\AppData\\Local\\Temp\\ipykernel_18756\\1740219387.py:20: RuntimeWarning: invalid value encountered in long_scalars\n",
      "  precision_class_one = TP / (TP + FP)\n"
     ]
    },
    {
     "name": "stdout",
     "output_type": "stream",
     "text": [
      "9/9 [==============================] - 0s 2ms/step\n",
      "9/9 [==============================] - 0s 2ms/step\n",
      "9/9 [==============================] - 0s 2ms/step\n"
     ]
    },
    {
     "name": "stderr",
     "output_type": "stream",
     "text": [
      "C:\\Users\\James\\AppData\\Local\\Temp\\ipykernel_18756\\1740219387.py:20: RuntimeWarning: invalid value encountered in long_scalars\n",
      "  precision_class_one = TP / (TP + FP)\n",
      "C:\\Users\\James\\AppData\\Local\\Temp\\ipykernel_18756\\1740219387.py:20: RuntimeWarning: invalid value encountered in long_scalars\n",
      "  precision_class_one = TP / (TP + FP)\n"
     ]
    },
    {
     "name": "stdout",
     "output_type": "stream",
     "text": [
      "9/9 [==============================] - 0s 2ms/step\n",
      "9/9 [==============================] - 0s 2ms/step\n",
      "9/9 [==============================] - 0s 1ms/step\n",
      "9/9 [==============================] - 0s 1ms/step\n"
     ]
    },
    {
     "name": "stderr",
     "output_type": "stream",
     "text": [
      "C:\\Users\\James\\AppData\\Local\\Temp\\ipykernel_18756\\1740219387.py:20: RuntimeWarning: invalid value encountered in long_scalars\n",
      "  precision_class_one = TP / (TP + FP)\n",
      "C:\\Users\\James\\AppData\\Local\\Temp\\ipykernel_18756\\1740219387.py:20: RuntimeWarning: invalid value encountered in long_scalars\n",
      "  precision_class_one = TP / (TP + FP)\n",
      "C:\\Users\\James\\AppData\\Local\\Temp\\ipykernel_18756\\1740219387.py:20: RuntimeWarning: invalid value encountered in long_scalars\n",
      "  precision_class_one = TP / (TP + FP)\n"
     ]
    },
    {
     "name": "stdout",
     "output_type": "stream",
     "text": [
      "9/9 [==============================] - 0s 1ms/step\n",
      "9/9 [==============================] - 0s 2ms/step\n",
      "9/9 [==============================] - 0s 1ms/step\n"
     ]
    },
    {
     "name": "stderr",
     "output_type": "stream",
     "text": [
      "C:\\Users\\James\\AppData\\Local\\Temp\\ipykernel_18756\\1740219387.py:20: RuntimeWarning: invalid value encountered in long_scalars\n",
      "  precision_class_one = TP / (TP + FP)\n",
      "C:\\Users\\James\\AppData\\Local\\Temp\\ipykernel_18756\\1740219387.py:20: RuntimeWarning: invalid value encountered in long_scalars\n",
      "  precision_class_one = TP / (TP + FP)\n",
      "C:\\Users\\James\\AppData\\Local\\Temp\\ipykernel_18756\\1740219387.py:20: RuntimeWarning: invalid value encountered in long_scalars\n",
      "  precision_class_one = TP / (TP + FP)\n"
     ]
    },
    {
     "name": "stdout",
     "output_type": "stream",
     "text": [
      "9/9 [==============================] - 0s 2ms/step\n",
      "9/9 [==============================] - 0s 2ms/step\n",
      "9/9 [==============================] - 0s 1ms/step\n"
     ]
    },
    {
     "name": "stderr",
     "output_type": "stream",
     "text": [
      "C:\\Users\\James\\AppData\\Local\\Temp\\ipykernel_18756\\1740219387.py:20: RuntimeWarning: invalid value encountered in long_scalars\n",
      "  precision_class_one = TP / (TP + FP)\n",
      "C:\\Users\\James\\AppData\\Local\\Temp\\ipykernel_18756\\1740219387.py:20: RuntimeWarning: invalid value encountered in long_scalars\n",
      "  precision_class_one = TP / (TP + FP)\n"
     ]
    },
    {
     "name": "stdout",
     "output_type": "stream",
     "text": [
      "9/9 [==============================] - 0s 2ms/step\n",
      "9/9 [==============================] - 0s 1ms/step\n",
      "9/9 [==============================] - 0s 2ms/step\n"
     ]
    },
    {
     "name": "stderr",
     "output_type": "stream",
     "text": [
      "C:\\Users\\James\\AppData\\Local\\Temp\\ipykernel_18756\\1740219387.py:20: RuntimeWarning: invalid value encountered in long_scalars\n",
      "  precision_class_one = TP / (TP + FP)\n",
      "C:\\Users\\James\\AppData\\Local\\Temp\\ipykernel_18756\\1740219387.py:20: RuntimeWarning: invalid value encountered in long_scalars\n",
      "  precision_class_one = TP / (TP + FP)\n"
     ]
    },
    {
     "name": "stdout",
     "output_type": "stream",
     "text": [
      "9/9 [==============================] - 0s 2ms/step\n",
      "1/9 [==>...........................] - ETA: 0s"
     ]
    },
    {
     "name": "stderr",
     "output_type": "stream",
     "text": [
      "C:\\Users\\James\\AppData\\Local\\Temp\\ipykernel_18756\\1740219387.py:20: RuntimeWarning: invalid value encountered in long_scalars\n",
      "  precision_class_one = TP / (TP + FP)\n",
      "C:\\Users\\James\\AppData\\Local\\Temp\\ipykernel_18756\\1740219387.py:20: RuntimeWarning: invalid value encountered in long_scalars\n",
      "  precision_class_one = TP / (TP + FP)\n"
     ]
    },
    {
     "name": "stdout",
     "output_type": "stream",
     "text": [
      "9/9 [==============================] - 0s 2ms/step\n",
      "9/9 [==============================] - 0s 2ms/step\n",
      "1/9 [==>...........................] - ETA: 0s"
     ]
    },
    {
     "name": "stderr",
     "output_type": "stream",
     "text": [
      "C:\\Users\\James\\AppData\\Local\\Temp\\ipykernel_18756\\1740219387.py:20: RuntimeWarning: invalid value encountered in long_scalars\n",
      "  precision_class_one = TP / (TP + FP)\n",
      "C:\\Users\\James\\AppData\\Local\\Temp\\ipykernel_18756\\1740219387.py:20: RuntimeWarning: invalid value encountered in long_scalars\n",
      "  precision_class_one = TP / (TP + FP)\n"
     ]
    },
    {
     "name": "stdout",
     "output_type": "stream",
     "text": [
      "9/9 [==============================] - 0s 2ms/step\n",
      "9/9 [==============================] - 0s 1ms/step\n",
      "1/9 [==>...........................] - ETA: 0s"
     ]
    },
    {
     "name": "stderr",
     "output_type": "stream",
     "text": [
      "C:\\Users\\James\\AppData\\Local\\Temp\\ipykernel_18756\\1740219387.py:20: RuntimeWarning: invalid value encountered in long_scalars\n",
      "  precision_class_one = TP / (TP + FP)\n"
     ]
    },
    {
     "name": "stdout",
     "output_type": "stream",
     "text": [
      "9/9 [==============================] - 0s 2ms/step\n",
      "9/9 [==============================] - 0s 2ms/step\n"
     ]
    },
    {
     "name": "stderr",
     "output_type": "stream",
     "text": [
      "C:\\Users\\James\\AppData\\Local\\Temp\\ipykernel_18756\\1740219387.py:20: RuntimeWarning: invalid value encountered in long_scalars\n",
      "  precision_class_one = TP / (TP + FP)\n",
      "C:\\Users\\James\\AppData\\Local\\Temp\\ipykernel_18756\\1740219387.py:20: RuntimeWarning: invalid value encountered in long_scalars\n",
      "  precision_class_one = TP / (TP + FP)\n"
     ]
    },
    {
     "name": "stdout",
     "output_type": "stream",
     "text": [
      "9/9 [==============================] - 0s 2ms/step\n",
      "9/9 [==============================] - 0s 2ms/step\n",
      "9/9 [==============================] - 0s 2ms/step\n",
      "9/9 [==============================] - 0s 2ms/step\n",
      "9/9 [==============================] - 0s 2ms/step\n",
      "9/9 [==============================] - 0s 1ms/step\n",
      "9/9 [==============================] - 0s 1ms/step\n"
     ]
    },
    {
     "name": "stderr",
     "output_type": "stream",
     "text": [
      "C:\\Users\\James\\AppData\\Local\\Temp\\ipykernel_18756\\1740219387.py:20: RuntimeWarning: invalid value encountered in long_scalars\n",
      "  precision_class_one = TP / (TP + FP)\n",
      "C:\\Users\\James\\AppData\\Local\\Temp\\ipykernel_18756\\1740219387.py:20: RuntimeWarning: invalid value encountered in long_scalars\n",
      "  precision_class_one = TP / (TP + FP)\n"
     ]
    },
    {
     "name": "stdout",
     "output_type": "stream",
     "text": [
      "9/9 [==============================] - 0s 2ms/step\n",
      "9/9 [==============================] - 0s 2ms/step\n"
     ]
    },
    {
     "name": "stderr",
     "output_type": "stream",
     "text": [
      "C:\\Users\\James\\AppData\\Local\\Temp\\ipykernel_18756\\1740219387.py:20: RuntimeWarning: invalid value encountered in long_scalars\n",
      "  precision_class_one = TP / (TP + FP)\n",
      "C:\\Users\\James\\AppData\\Local\\Temp\\ipykernel_18756\\1740219387.py:20: RuntimeWarning: invalid value encountered in long_scalars\n",
      "  precision_class_one = TP / (TP + FP)\n"
     ]
    },
    {
     "name": "stdout",
     "output_type": "stream",
     "text": [
      "9/9 [==============================] - 0s 2ms/step\n",
      "1/9 [==>...........................] - ETA: 0s"
     ]
    },
    {
     "name": "stderr",
     "output_type": "stream",
     "text": [
      "C:\\Users\\James\\AppData\\Local\\Temp\\ipykernel_18756\\1740219387.py:20: RuntimeWarning: invalid value encountered in long_scalars\n",
      "  precision_class_one = TP / (TP + FP)\n",
      "C:\\Users\\James\\AppData\\Local\\Temp\\ipykernel_18756\\1740219387.py:20: RuntimeWarning: invalid value encountered in long_scalars\n",
      "  precision_class_one = TP / (TP + FP)\n"
     ]
    },
    {
     "name": "stdout",
     "output_type": "stream",
     "text": [
      "9/9 [==============================] - 0s 2ms/step\n",
      "9/9 [==============================] - 0s 1ms/step\n",
      "9/9 [==============================] - 0s 2ms/step\n"
     ]
    },
    {
     "name": "stderr",
     "output_type": "stream",
     "text": [
      "C:\\Users\\James\\AppData\\Local\\Temp\\ipykernel_18756\\1740219387.py:20: RuntimeWarning: invalid value encountered in long_scalars\n",
      "  precision_class_one = TP / (TP + FP)\n",
      "C:\\Users\\James\\AppData\\Local\\Temp\\ipykernel_18756\\1740219387.py:20: RuntimeWarning: invalid value encountered in long_scalars\n",
      "  precision_class_one = TP / (TP + FP)\n"
     ]
    },
    {
     "name": "stdout",
     "output_type": "stream",
     "text": [
      "9/9 [==============================] - 0s 2ms/step\n"
     ]
    },
    {
     "name": "stderr",
     "output_type": "stream",
     "text": [
      "C:\\Users\\James\\AppData\\Local\\Temp\\ipykernel_18756\\1740219387.py:20: RuntimeWarning: invalid value encountered in long_scalars\n",
      "  precision_class_one = TP / (TP + FP)\n",
      "C:\\Users\\James\\AppData\\Local\\Temp\\ipykernel_18756\\1740219387.py:20: RuntimeWarning: invalid value encountered in long_scalars\n",
      "  precision_class_one = TP / (TP + FP)\n"
     ]
    },
    {
     "name": "stdout",
     "output_type": "stream",
     "text": [
      "9/9 [==============================] - 0s 2ms/step\n",
      "9/9 [==============================] - 0s 1ms/step\n",
      "9/9 [==============================] - 0s 2ms/step\n"
     ]
    },
    {
     "name": "stderr",
     "output_type": "stream",
     "text": [
      "C:\\Users\\James\\AppData\\Local\\Temp\\ipykernel_18756\\1740219387.py:20: RuntimeWarning: invalid value encountered in long_scalars\n",
      "  precision_class_one = TP / (TP + FP)\n",
      "C:\\Users\\James\\AppData\\Local\\Temp\\ipykernel_18756\\1740219387.py:20: RuntimeWarning: invalid value encountered in long_scalars\n",
      "  precision_class_one = TP / (TP + FP)\n"
     ]
    },
    {
     "name": "stdout",
     "output_type": "stream",
     "text": [
      "9/9 [==============================] - 0s 2ms/step\n",
      "9/9 [==============================] - 0s 2ms/step\n",
      "9/9 [==============================] - 0s 1ms/step\n"
     ]
    },
    {
     "name": "stderr",
     "output_type": "stream",
     "text": [
      "C:\\Users\\James\\AppData\\Local\\Temp\\ipykernel_18756\\1740219387.py:20: RuntimeWarning: invalid value encountered in long_scalars\n",
      "  precision_class_one = TP / (TP + FP)\n",
      "C:\\Users\\James\\AppData\\Local\\Temp\\ipykernel_18756\\1740219387.py:20: RuntimeWarning: invalid value encountered in long_scalars\n",
      "  precision_class_one = TP / (TP + FP)\n"
     ]
    },
    {
     "name": "stdout",
     "output_type": "stream",
     "text": [
      "9/9 [==============================] - 0s 2ms/step\n",
      "9/9 [==============================] - 0s 2ms/step\n",
      "9/9 [==============================] - 0s 2ms/step\n",
      "9/9 [==============================] - 0s 2ms/step\n"
     ]
    },
    {
     "name": "stderr",
     "output_type": "stream",
     "text": [
      "C:\\Users\\James\\AppData\\Local\\Temp\\ipykernel_18756\\1740219387.py:20: RuntimeWarning: invalid value encountered in long_scalars\n",
      "  precision_class_one = TP / (TP + FP)\n",
      "C:\\Users\\James\\AppData\\Local\\Temp\\ipykernel_18756\\1740219387.py:20: RuntimeWarning: invalid value encountered in long_scalars\n",
      "  precision_class_one = TP / (TP + FP)\n",
      "C:\\Users\\James\\AppData\\Local\\Temp\\ipykernel_18756\\1740219387.py:20: RuntimeWarning: invalid value encountered in long_scalars\n",
      "  precision_class_one = TP / (TP + FP)\n"
     ]
    },
    {
     "name": "stdout",
     "output_type": "stream",
     "text": [
      "9/9 [==============================] - 0s 2ms/step\n",
      "9/9 [==============================] - 0s 2ms/step\n",
      "9/9 [==============================] - 0s 1ms/step\n"
     ]
    },
    {
     "name": "stderr",
     "output_type": "stream",
     "text": [
      "C:\\Users\\James\\AppData\\Local\\Temp\\ipykernel_18756\\1740219387.py:20: RuntimeWarning: invalid value encountered in long_scalars\n",
      "  precision_class_one = TP / (TP + FP)\n",
      "C:\\Users\\James\\AppData\\Local\\Temp\\ipykernel_18756\\1740219387.py:20: RuntimeWarning: invalid value encountered in long_scalars\n",
      "  precision_class_one = TP / (TP + FP)\n",
      "C:\\Users\\James\\AppData\\Local\\Temp\\ipykernel_18756\\1740219387.py:20: RuntimeWarning: invalid value encountered in long_scalars\n",
      "  precision_class_one = TP / (TP + FP)\n"
     ]
    },
    {
     "name": "stdout",
     "output_type": "stream",
     "text": [
      "9/9 [==============================] - 0s 2ms/step\n",
      "9/9 [==============================] - 0s 1ms/step\n",
      "9/9 [==============================] - 0s 1ms/step\n"
     ]
    },
    {
     "name": "stderr",
     "output_type": "stream",
     "text": [
      "C:\\Users\\James\\AppData\\Local\\Temp\\ipykernel_18756\\1740219387.py:20: RuntimeWarning: invalid value encountered in long_scalars\n",
      "  precision_class_one = TP / (TP + FP)\n",
      "C:\\Users\\James\\AppData\\Local\\Temp\\ipykernel_18756\\1740219387.py:20: RuntimeWarning: invalid value encountered in long_scalars\n",
      "  precision_class_one = TP / (TP + FP)\n"
     ]
    },
    {
     "name": "stdout",
     "output_type": "stream",
     "text": [
      "9/9 [==============================] - 0s 3ms/step\n",
      "1/9 [==>...........................] - ETA: 0s"
     ]
    },
    {
     "name": "stderr",
     "output_type": "stream",
     "text": [
      "C:\\Users\\James\\AppData\\Local\\Temp\\ipykernel_18756\\1740219387.py:20: RuntimeWarning: invalid value encountered in long_scalars\n",
      "  precision_class_one = TP / (TP + FP)\n",
      "C:\\Users\\James\\AppData\\Local\\Temp\\ipykernel_18756\\1740219387.py:20: RuntimeWarning: invalid value encountered in long_scalars\n",
      "  precision_class_one = TP / (TP + FP)\n"
     ]
    },
    {
     "name": "stdout",
     "output_type": "stream",
     "text": [
      "9/9 [==============================] - 0s 2ms/step\n",
      "9/9 [==============================] - 0s 2ms/step\n",
      "1/9 [==>...........................] - ETA: 0s"
     ]
    },
    {
     "name": "stderr",
     "output_type": "stream",
     "text": [
      "C:\\Users\\James\\AppData\\Local\\Temp\\ipykernel_18756\\1740219387.py:20: RuntimeWarning: invalid value encountered in long_scalars\n",
      "  precision_class_one = TP / (TP + FP)\n",
      "C:\\Users\\James\\AppData\\Local\\Temp\\ipykernel_18756\\1740219387.py:20: RuntimeWarning: invalid value encountered in long_scalars\n",
      "  precision_class_one = TP / (TP + FP)\n"
     ]
    },
    {
     "name": "stdout",
     "output_type": "stream",
     "text": [
      "9/9 [==============================] - 0s 2ms/step\n",
      "9/9 [==============================] - 0s 2ms/step\n",
      "1/9 [==>...........................] - ETA: 0s"
     ]
    },
    {
     "name": "stderr",
     "output_type": "stream",
     "text": [
      "C:\\Users\\James\\AppData\\Local\\Temp\\ipykernel_18756\\1740219387.py:20: RuntimeWarning: invalid value encountered in long_scalars\n",
      "  precision_class_one = TP / (TP + FP)\n",
      "C:\\Users\\James\\AppData\\Local\\Temp\\ipykernel_18756\\1740219387.py:20: RuntimeWarning: invalid value encountered in long_scalars\n",
      "  precision_class_one = TP / (TP + FP)\n"
     ]
    },
    {
     "name": "stdout",
     "output_type": "stream",
     "text": [
      "9/9 [==============================] - 0s 2ms/step\n",
      "9/9 [==============================] - 0s 2ms/step\n"
     ]
    },
    {
     "name": "stderr",
     "output_type": "stream",
     "text": [
      "C:\\Users\\James\\AppData\\Local\\Temp\\ipykernel_18756\\1740219387.py:20: RuntimeWarning: invalid value encountered in long_scalars\n",
      "  precision_class_one = TP / (TP + FP)\n"
     ]
    },
    {
     "name": "stdout",
     "output_type": "stream",
     "text": [
      "9/9 [==============================] - 0s 2ms/step\n",
      "9/9 [==============================] - 0s 2ms/step\n"
     ]
    },
    {
     "name": "stderr",
     "output_type": "stream",
     "text": [
      "C:\\Users\\James\\AppData\\Local\\Temp\\ipykernel_18756\\1740219387.py:20: RuntimeWarning: invalid value encountered in long_scalars\n",
      "  precision_class_one = TP / (TP + FP)\n",
      "C:\\Users\\James\\AppData\\Local\\Temp\\ipykernel_18756\\1740219387.py:20: RuntimeWarning: invalid value encountered in long_scalars\n",
      "  precision_class_one = TP / (TP + FP)\n"
     ]
    },
    {
     "name": "stdout",
     "output_type": "stream",
     "text": [
      "9/9 [==============================] - 0s 2ms/step\n",
      "9/9 [==============================] - 0s 2ms/step\n"
     ]
    },
    {
     "name": "stderr",
     "output_type": "stream",
     "text": [
      "C:\\Users\\James\\AppData\\Local\\Temp\\ipykernel_18756\\1740219387.py:20: RuntimeWarning: invalid value encountered in long_scalars\n",
      "  precision_class_one = TP / (TP + FP)\n"
     ]
    },
    {
     "name": "stdout",
     "output_type": "stream",
     "text": [
      "9/9 [==============================] - 0s 2ms/step\n",
      "9/9 [==============================] - 0s 2ms/step\n",
      "1/9 [==>...........................] - ETA: 0s"
     ]
    },
    {
     "name": "stderr",
     "output_type": "stream",
     "text": [
      "C:\\Users\\James\\AppData\\Local\\Temp\\ipykernel_18756\\1740219387.py:20: RuntimeWarning: invalid value encountered in long_scalars\n",
      "  precision_class_one = TP / (TP + FP)\n",
      "C:\\Users\\James\\AppData\\Local\\Temp\\ipykernel_18756\\1740219387.py:20: RuntimeWarning: invalid value encountered in long_scalars\n",
      "  precision_class_one = TP / (TP + FP)\n"
     ]
    },
    {
     "name": "stdout",
     "output_type": "stream",
     "text": [
      "9/9 [==============================] - 0s 2ms/step\n",
      "9/9 [==============================] - 0s 1ms/step\n"
     ]
    },
    {
     "name": "stderr",
     "output_type": "stream",
     "text": [
      "C:\\Users\\James\\AppData\\Local\\Temp\\ipykernel_18756\\1740219387.py:20: RuntimeWarning: invalid value encountered in long_scalars\n",
      "  precision_class_one = TP / (TP + FP)\n",
      "C:\\Users\\James\\AppData\\Local\\Temp\\ipykernel_18756\\1740219387.py:20: RuntimeWarning: invalid value encountered in long_scalars\n",
      "  precision_class_one = TP / (TP + FP)\n"
     ]
    },
    {
     "name": "stdout",
     "output_type": "stream",
     "text": [
      "9/9 [==============================] - 0s 2ms/step\n",
      "9/9 [==============================] - 0s 2ms/step\n",
      "1/9 [==>...........................] - ETA: 0s"
     ]
    },
    {
     "name": "stderr",
     "output_type": "stream",
     "text": [
      "C:\\Users\\James\\AppData\\Local\\Temp\\ipykernel_18756\\1740219387.py:20: RuntimeWarning: invalid value encountered in long_scalars\n",
      "  precision_class_one = TP / (TP + FP)\n",
      "C:\\Users\\James\\AppData\\Local\\Temp\\ipykernel_18756\\1740219387.py:20: RuntimeWarning: invalid value encountered in long_scalars\n",
      "  precision_class_one = TP / (TP + FP)\n"
     ]
    },
    {
     "name": "stdout",
     "output_type": "stream",
     "text": [
      "9/9 [==============================] - 0s 2ms/step\n",
      "9/9 [==============================] - 0s 2ms/step\n"
     ]
    },
    {
     "name": "stderr",
     "output_type": "stream",
     "text": [
      "C:\\Users\\James\\AppData\\Local\\Temp\\ipykernel_18756\\1740219387.py:20: RuntimeWarning: invalid value encountered in long_scalars\n",
      "  precision_class_one = TP / (TP + FP)\n",
      "C:\\Users\\James\\AppData\\Local\\Temp\\ipykernel_18756\\1740219387.py:20: RuntimeWarning: invalid value encountered in long_scalars\n",
      "  precision_class_one = TP / (TP + FP)\n"
     ]
    },
    {
     "name": "stdout",
     "output_type": "stream",
     "text": [
      "9/9 [==============================] - 0s 3ms/step\n",
      "9/9 [==============================] - 0s 2ms/step\n"
     ]
    },
    {
     "name": "stderr",
     "output_type": "stream",
     "text": [
      "C:\\Users\\James\\AppData\\Local\\Temp\\ipykernel_18756\\1740219387.py:20: RuntimeWarning: invalid value encountered in long_scalars\n",
      "  precision_class_one = TP / (TP + FP)\n"
     ]
    },
    {
     "name": "stdout",
     "output_type": "stream",
     "text": [
      "9/9 [==============================] - 0s 3ms/step\n",
      "9/9 [==============================] - 0s 2ms/step\n"
     ]
    },
    {
     "name": "stderr",
     "output_type": "stream",
     "text": [
      "C:\\Users\\James\\AppData\\Local\\Temp\\ipykernel_18756\\1740219387.py:20: RuntimeWarning: invalid value encountered in long_scalars\n",
      "  precision_class_one = TP / (TP + FP)\n",
      "C:\\Users\\James\\AppData\\Local\\Temp\\ipykernel_18756\\1740219387.py:20: RuntimeWarning: invalid value encountered in long_scalars\n",
      "  precision_class_one = TP / (TP + FP)\n"
     ]
    },
    {
     "name": "stdout",
     "output_type": "stream",
     "text": [
      "9/9 [==============================] - 0s 2ms/step\n",
      "9/9 [==============================] - 0s 1ms/step\n"
     ]
    },
    {
     "name": "stderr",
     "output_type": "stream",
     "text": [
      "C:\\Users\\James\\AppData\\Local\\Temp\\ipykernel_18756\\1740219387.py:20: RuntimeWarning: invalid value encountered in long_scalars\n",
      "  precision_class_one = TP / (TP + FP)\n"
     ]
    },
    {
     "name": "stdout",
     "output_type": "stream",
     "text": [
      "9/9 [==============================] - 0s 2ms/step\n",
      "9/9 [==============================] - 0s 2ms/step\n",
      "9/9 [==============================] - 0s 2ms/step\n",
      "1/9 [==>...........................] - ETA: 0s"
     ]
    },
    {
     "name": "stderr",
     "output_type": "stream",
     "text": [
      "C:\\Users\\James\\AppData\\Local\\Temp\\ipykernel_18756\\1740219387.py:20: RuntimeWarning: invalid value encountered in long_scalars\n",
      "  precision_class_one = TP / (TP + FP)\n",
      "C:\\Users\\James\\AppData\\Local\\Temp\\ipykernel_18756\\1740219387.py:20: RuntimeWarning: invalid value encountered in long_scalars\n",
      "  precision_class_one = TP / (TP + FP)\n"
     ]
    },
    {
     "name": "stdout",
     "output_type": "stream",
     "text": [
      "9/9 [==============================] - 0s 2ms/step\n",
      "9/9 [==============================] - 0s 2ms/step\n",
      "9/9 [==============================] - 0s 2ms/step\n",
      "1/9 [==>...........................] - ETA: 0s"
     ]
    },
    {
     "name": "stderr",
     "output_type": "stream",
     "text": [
      "C:\\Users\\James\\AppData\\Local\\Temp\\ipykernel_18756\\1740219387.py:20: RuntimeWarning: invalid value encountered in long_scalars\n",
      "  precision_class_one = TP / (TP + FP)\n",
      "C:\\Users\\James\\AppData\\Local\\Temp\\ipykernel_18756\\1740219387.py:20: RuntimeWarning: invalid value encountered in long_scalars\n",
      "  precision_class_one = TP / (TP + FP)\n"
     ]
    },
    {
     "name": "stdout",
     "output_type": "stream",
     "text": [
      "9/9 [==============================] - 0s 2ms/step\n",
      "9/9 [==============================] - 0s 2ms/step\n"
     ]
    },
    {
     "name": "stderr",
     "output_type": "stream",
     "text": [
      "C:\\Users\\James\\AppData\\Local\\Temp\\ipykernel_18756\\1740219387.py:20: RuntimeWarning: invalid value encountered in long_scalars\n",
      "  precision_class_one = TP / (TP + FP)\n"
     ]
    },
    {
     "name": "stdout",
     "output_type": "stream",
     "text": [
      "9/9 [==============================] - 0s 2ms/step\n",
      "9/9 [==============================] - 0s 2ms/step\n"
     ]
    },
    {
     "name": "stderr",
     "output_type": "stream",
     "text": [
      "C:\\Users\\James\\AppData\\Local\\Temp\\ipykernel_18756\\1740219387.py:20: RuntimeWarning: invalid value encountered in long_scalars\n",
      "  precision_class_one = TP / (TP + FP)\n",
      "C:\\Users\\James\\AppData\\Local\\Temp\\ipykernel_18756\\1740219387.py:20: RuntimeWarning: invalid value encountered in long_scalars\n",
      "  precision_class_one = TP / (TP + FP)\n"
     ]
    },
    {
     "name": "stdout",
     "output_type": "stream",
     "text": [
      "9/9 [==============================] - 0s 2ms/step\n",
      "9/9 [==============================] - 0s 2ms/step\n",
      "9/9 [==============================] - 0s 1ms/step\n"
     ]
    },
    {
     "name": "stderr",
     "output_type": "stream",
     "text": [
      "C:\\Users\\James\\AppData\\Local\\Temp\\ipykernel_18756\\1740219387.py:20: RuntimeWarning: invalid value encountered in long_scalars\n",
      "  precision_class_one = TP / (TP + FP)\n",
      "C:\\Users\\James\\AppData\\Local\\Temp\\ipykernel_18756\\1740219387.py:20: RuntimeWarning: invalid value encountered in long_scalars\n",
      "  precision_class_one = TP / (TP + FP)\n"
     ]
    },
    {
     "name": "stdout",
     "output_type": "stream",
     "text": [
      "9/9 [==============================] - 0s 2ms/step\n",
      "9/9 [==============================] - 0s 2ms/step\n"
     ]
    },
    {
     "name": "stderr",
     "output_type": "stream",
     "text": [
      "C:\\Users\\James\\AppData\\Local\\Temp\\ipykernel_18756\\1740219387.py:20: RuntimeWarning: invalid value encountered in long_scalars\n",
      "  precision_class_one = TP / (TP + FP)\n",
      "C:\\Users\\James\\AppData\\Local\\Temp\\ipykernel_18756\\1740219387.py:20: RuntimeWarning: invalid value encountered in long_scalars\n",
      "  precision_class_one = TP / (TP + FP)\n"
     ]
    },
    {
     "name": "stdout",
     "output_type": "stream",
     "text": [
      "9/9 [==============================] - 0s 2ms/step\n",
      "9/9 [==============================] - 0s 2ms/step\n"
     ]
    },
    {
     "name": "stderr",
     "output_type": "stream",
     "text": [
      "C:\\Users\\James\\AppData\\Local\\Temp\\ipykernel_18756\\1740219387.py:20: RuntimeWarning: invalid value encountered in long_scalars\n",
      "  precision_class_one = TP / (TP + FP)\n",
      "C:\\Users\\James\\AppData\\Local\\Temp\\ipykernel_18756\\1740219387.py:20: RuntimeWarning: invalid value encountered in long_scalars\n",
      "  precision_class_one = TP / (TP + FP)\n"
     ]
    },
    {
     "name": "stdout",
     "output_type": "stream",
     "text": [
      "9/9 [==============================] - 0s 3ms/step\n",
      "9/9 [==============================] - 0s 2ms/step\n"
     ]
    },
    {
     "name": "stderr",
     "output_type": "stream",
     "text": [
      "C:\\Users\\James\\AppData\\Local\\Temp\\ipykernel_18756\\1740219387.py:20: RuntimeWarning: invalid value encountered in long_scalars\n",
      "  precision_class_one = TP / (TP + FP)\n",
      "C:\\Users\\James\\AppData\\Local\\Temp\\ipykernel_18756\\1740219387.py:20: RuntimeWarning: invalid value encountered in long_scalars\n",
      "  precision_class_one = TP / (TP + FP)\n"
     ]
    },
    {
     "name": "stdout",
     "output_type": "stream",
     "text": [
      "9/9 [==============================] - 0s 2ms/step\n",
      "9/9 [==============================] - 0s 2ms/step\n"
     ]
    },
    {
     "name": "stderr",
     "output_type": "stream",
     "text": [
      "C:\\Users\\James\\AppData\\Local\\Temp\\ipykernel_18756\\1740219387.py:20: RuntimeWarning: invalid value encountered in long_scalars\n",
      "  precision_class_one = TP / (TP + FP)\n",
      "C:\\Users\\James\\AppData\\Local\\Temp\\ipykernel_18756\\1740219387.py:20: RuntimeWarning: invalid value encountered in long_scalars\n",
      "  precision_class_one = TP / (TP + FP)\n"
     ]
    },
    {
     "name": "stdout",
     "output_type": "stream",
     "text": [
      "9/9 [==============================] - 0s 2ms/step\n",
      "9/9 [==============================] - 0s 2ms/step\n"
     ]
    },
    {
     "name": "stderr",
     "output_type": "stream",
     "text": [
      "C:\\Users\\James\\AppData\\Local\\Temp\\ipykernel_18756\\1740219387.py:20: RuntimeWarning: invalid value encountered in long_scalars\n",
      "  precision_class_one = TP / (TP + FP)\n",
      "C:\\Users\\James\\AppData\\Local\\Temp\\ipykernel_18756\\1740219387.py:20: RuntimeWarning: invalid value encountered in long_scalars\n",
      "  precision_class_one = TP / (TP + FP)\n"
     ]
    },
    {
     "name": "stdout",
     "output_type": "stream",
     "text": [
      "9/9 [==============================] - 0s 3ms/step\n",
      "9/9 [==============================] - 0s 2ms/step\n",
      "1/9 [==>...........................] - ETA: 0s"
     ]
    },
    {
     "name": "stderr",
     "output_type": "stream",
     "text": [
      "C:\\Users\\James\\AppData\\Local\\Temp\\ipykernel_18756\\1740219387.py:20: RuntimeWarning: invalid value encountered in long_scalars\n",
      "  precision_class_one = TP / (TP + FP)\n",
      "C:\\Users\\James\\AppData\\Local\\Temp\\ipykernel_18756\\1740219387.py:20: RuntimeWarning: invalid value encountered in long_scalars\n",
      "  precision_class_one = TP / (TP + FP)\n"
     ]
    },
    {
     "name": "stdout",
     "output_type": "stream",
     "text": [
      "9/9 [==============================] - 0s 2ms/step\n",
      "9/9 [==============================] - 0s 2ms/step\n"
     ]
    },
    {
     "name": "stderr",
     "output_type": "stream",
     "text": [
      "C:\\Users\\James\\AppData\\Local\\Temp\\ipykernel_18756\\1740219387.py:20: RuntimeWarning: invalid value encountered in long_scalars\n",
      "  precision_class_one = TP / (TP + FP)\n",
      "C:\\Users\\James\\AppData\\Local\\Temp\\ipykernel_18756\\1740219387.py:20: RuntimeWarning: invalid value encountered in long_scalars\n",
      "  precision_class_one = TP / (TP + FP)\n"
     ]
    },
    {
     "name": "stdout",
     "output_type": "stream",
     "text": [
      "9/9 [==============================] - 0s 2ms/step\n",
      "9/9 [==============================] - 0s 2ms/step\n",
      "1/9 [==>...........................] - ETA: 0s"
     ]
    },
    {
     "name": "stderr",
     "output_type": "stream",
     "text": [
      "C:\\Users\\James\\AppData\\Local\\Temp\\ipykernel_18756\\1740219387.py:20: RuntimeWarning: invalid value encountered in long_scalars\n",
      "  precision_class_one = TP / (TP + FP)\n",
      "C:\\Users\\James\\AppData\\Local\\Temp\\ipykernel_18756\\1740219387.py:20: RuntimeWarning: invalid value encountered in long_scalars\n",
      "  precision_class_one = TP / (TP + FP)\n"
     ]
    },
    {
     "name": "stdout",
     "output_type": "stream",
     "text": [
      "9/9 [==============================] - 0s 2ms/step\n",
      "9/9 [==============================] - 0s 2ms/step\n"
     ]
    },
    {
     "name": "stderr",
     "output_type": "stream",
     "text": [
      "C:\\Users\\James\\AppData\\Local\\Temp\\ipykernel_18756\\1740219387.py:20: RuntimeWarning: invalid value encountered in long_scalars\n",
      "  precision_class_one = TP / (TP + FP)\n",
      "C:\\Users\\James\\AppData\\Local\\Temp\\ipykernel_18756\\1740219387.py:20: RuntimeWarning: invalid value encountered in long_scalars\n",
      "  precision_class_one = TP / (TP + FP)\n"
     ]
    },
    {
     "name": "stdout",
     "output_type": "stream",
     "text": [
      "9/9 [==============================] - 0s 6ms/step\n",
      "9/9 [==============================] - 0s 3ms/step\n"
     ]
    },
    {
     "name": "stderr",
     "output_type": "stream",
     "text": [
      "C:\\Users\\James\\AppData\\Local\\Temp\\ipykernel_18756\\1740219387.py:20: RuntimeWarning: invalid value encountered in long_scalars\n",
      "  precision_class_one = TP / (TP + FP)\n",
      "C:\\Users\\James\\AppData\\Local\\Temp\\ipykernel_18756\\1740219387.py:20: RuntimeWarning: invalid value encountered in long_scalars\n",
      "  precision_class_one = TP / (TP + FP)\n"
     ]
    },
    {
     "name": "stdout",
     "output_type": "stream",
     "text": [
      "9/9 [==============================] - 0s 2ms/step\n",
      "9/9 [==============================] - 0s 2ms/step\n"
     ]
    },
    {
     "name": "stderr",
     "output_type": "stream",
     "text": [
      "C:\\Users\\James\\AppData\\Local\\Temp\\ipykernel_18756\\1740219387.py:20: RuntimeWarning: invalid value encountered in long_scalars\n",
      "  precision_class_one = TP / (TP + FP)\n"
     ]
    },
    {
     "name": "stdout",
     "output_type": "stream",
     "text": [
      "9/9 [==============================] - 0s 2ms/step\n",
      "9/9 [==============================] - 0s 2ms/step\n",
      "1/9 [==>...........................] - ETA: 0s"
     ]
    },
    {
     "name": "stderr",
     "output_type": "stream",
     "text": [
      "C:\\Users\\James\\AppData\\Local\\Temp\\ipykernel_18756\\1740219387.py:20: RuntimeWarning: invalid value encountered in long_scalars\n",
      "  precision_class_one = TP / (TP + FP)\n"
     ]
    },
    {
     "name": "stdout",
     "output_type": "stream",
     "text": [
      "9/9 [==============================] - 0s 2ms/step\n",
      "9/9 [==============================] - 0s 2ms/step\n",
      "9/9 [==============================] - 0s 2ms/step\n",
      "9/9 [==============================] - 0s 2ms/step\n",
      "9/9 [==============================] - 0s 2ms/step\n",
      "9/9 [==============================] - 0s 2ms/step\n"
     ]
    },
    {
     "name": "stderr",
     "output_type": "stream",
     "text": [
      "C:\\Users\\James\\AppData\\Local\\Temp\\ipykernel_18756\\1740219387.py:20: RuntimeWarning: invalid value encountered in long_scalars\n",
      "  precision_class_one = TP / (TP + FP)\n",
      "C:\\Users\\James\\AppData\\Local\\Temp\\ipykernel_18756\\1740219387.py:20: RuntimeWarning: invalid value encountered in long_scalars\n",
      "  precision_class_one = TP / (TP + FP)\n"
     ]
    },
    {
     "name": "stdout",
     "output_type": "stream",
     "text": [
      "9/9 [==============================] - 0s 2ms/step\n"
     ]
    },
    {
     "name": "stderr",
     "output_type": "stream",
     "text": [
      "C:\\Users\\James\\AppData\\Local\\Temp\\ipykernel_18756\\1740219387.py:20: RuntimeWarning: invalid value encountered in long_scalars\n",
      "  precision_class_one = TP / (TP + FP)\n",
      "C:\\Users\\James\\AppData\\Local\\Temp\\ipykernel_18756\\1740219387.py:20: RuntimeWarning: invalid value encountered in long_scalars\n",
      "  precision_class_one = TP / (TP + FP)\n"
     ]
    },
    {
     "name": "stdout",
     "output_type": "stream",
     "text": [
      "9/9 [==============================] - 0s 6ms/step\n",
      "9/9 [==============================] - 0s 2ms/step\n"
     ]
    },
    {
     "name": "stderr",
     "output_type": "stream",
     "text": [
      "C:\\Users\\James\\AppData\\Local\\Temp\\ipykernel_18756\\1740219387.py:20: RuntimeWarning: invalid value encountered in long_scalars\n",
      "  precision_class_one = TP / (TP + FP)\n",
      "C:\\Users\\James\\AppData\\Local\\Temp\\ipykernel_18756\\1740219387.py:20: RuntimeWarning: invalid value encountered in long_scalars\n",
      "  precision_class_one = TP / (TP + FP)\n"
     ]
    },
    {
     "name": "stdout",
     "output_type": "stream",
     "text": [
      "9/9 [==============================] - 0s 2ms/step\n",
      "9/9 [==============================] - 0s 2ms/step\n"
     ]
    },
    {
     "name": "stderr",
     "output_type": "stream",
     "text": [
      "C:\\Users\\James\\AppData\\Local\\Temp\\ipykernel_18756\\1740219387.py:20: RuntimeWarning: invalid value encountered in long_scalars\n",
      "  precision_class_one = TP / (TP + FP)\n",
      "C:\\Users\\James\\AppData\\Local\\Temp\\ipykernel_18756\\1740219387.py:20: RuntimeWarning: invalid value encountered in long_scalars\n",
      "  precision_class_one = TP / (TP + FP)\n"
     ]
    },
    {
     "name": "stdout",
     "output_type": "stream",
     "text": [
      "9/9 [==============================] - 0s 2ms/step\n",
      "9/9 [==============================] - 0s 2ms/step\n"
     ]
    },
    {
     "name": "stderr",
     "output_type": "stream",
     "text": [
      "C:\\Users\\James\\AppData\\Local\\Temp\\ipykernel_18756\\1740219387.py:20: RuntimeWarning: invalid value encountered in long_scalars\n",
      "  precision_class_one = TP / (TP + FP)\n",
      "C:\\Users\\James\\AppData\\Local\\Temp\\ipykernel_18756\\1740219387.py:20: RuntimeWarning: invalid value encountered in long_scalars\n",
      "  precision_class_one = TP / (TP + FP)\n"
     ]
    },
    {
     "name": "stdout",
     "output_type": "stream",
     "text": [
      "9/9 [==============================] - 0s 3ms/step\n",
      "9/9 [==============================] - 0s 2ms/step\n"
     ]
    },
    {
     "name": "stderr",
     "output_type": "stream",
     "text": [
      "C:\\Users\\James\\AppData\\Local\\Temp\\ipykernel_18756\\1740219387.py:20: RuntimeWarning: invalid value encountered in long_scalars\n",
      "  precision_class_one = TP / (TP + FP)\n",
      "C:\\Users\\James\\AppData\\Local\\Temp\\ipykernel_18756\\1740219387.py:20: RuntimeWarning: invalid value encountered in long_scalars\n",
      "  precision_class_one = TP / (TP + FP)\n"
     ]
    },
    {
     "name": "stdout",
     "output_type": "stream",
     "text": [
      "9/9 [==============================] - 0s 2ms/step\n",
      "9/9 [==============================] - 0s 2ms/step\n"
     ]
    },
    {
     "name": "stderr",
     "output_type": "stream",
     "text": [
      "C:\\Users\\James\\AppData\\Local\\Temp\\ipykernel_18756\\1740219387.py:20: RuntimeWarning: invalid value encountered in long_scalars\n",
      "  precision_class_one = TP / (TP + FP)\n",
      "C:\\Users\\James\\AppData\\Local\\Temp\\ipykernel_18756\\1740219387.py:20: RuntimeWarning: invalid value encountered in long_scalars\n",
      "  precision_class_one = TP / (TP + FP)\n"
     ]
    },
    {
     "name": "stdout",
     "output_type": "stream",
     "text": [
      "9/9 [==============================] - 0s 2ms/step\n",
      "9/9 [==============================] - 0s 2ms/step\n"
     ]
    },
    {
     "name": "stderr",
     "output_type": "stream",
     "text": [
      "C:\\Users\\James\\AppData\\Local\\Temp\\ipykernel_18756\\1740219387.py:20: RuntimeWarning: invalid value encountered in long_scalars\n",
      "  precision_class_one = TP / (TP + FP)\n",
      "C:\\Users\\James\\AppData\\Local\\Temp\\ipykernel_18756\\1740219387.py:20: RuntimeWarning: invalid value encountered in long_scalars\n",
      "  precision_class_one = TP / (TP + FP)\n"
     ]
    },
    {
     "name": "stdout",
     "output_type": "stream",
     "text": [
      "9/9 [==============================] - 0s 2ms/step\n",
      "9/9 [==============================] - 0s 2ms/step\n"
     ]
    },
    {
     "name": "stderr",
     "output_type": "stream",
     "text": [
      "C:\\Users\\James\\AppData\\Local\\Temp\\ipykernel_18756\\1740219387.py:20: RuntimeWarning: invalid value encountered in long_scalars\n",
      "  precision_class_one = TP / (TP + FP)\n",
      "C:\\Users\\James\\AppData\\Local\\Temp\\ipykernel_18756\\1740219387.py:20: RuntimeWarning: invalid value encountered in long_scalars\n",
      "  precision_class_one = TP / (TP + FP)\n"
     ]
    },
    {
     "name": "stdout",
     "output_type": "stream",
     "text": [
      "9/9 [==============================] - 0s 2ms/step\n",
      "9/9 [==============================] - 0s 2ms/step\n"
     ]
    },
    {
     "name": "stderr",
     "output_type": "stream",
     "text": [
      "C:\\Users\\James\\AppData\\Local\\Temp\\ipykernel_18756\\1740219387.py:20: RuntimeWarning: invalid value encountered in long_scalars\n",
      "  precision_class_one = TP / (TP + FP)\n",
      "C:\\Users\\James\\AppData\\Local\\Temp\\ipykernel_18756\\1740219387.py:20: RuntimeWarning: invalid value encountered in long_scalars\n",
      "  precision_class_one = TP / (TP + FP)\n"
     ]
    },
    {
     "name": "stdout",
     "output_type": "stream",
     "text": [
      "9/9 [==============================] - 0s 2ms/step\n",
      "9/9 [==============================] - 0s 2ms/step\n"
     ]
    },
    {
     "name": "stderr",
     "output_type": "stream",
     "text": [
      "C:\\Users\\James\\AppData\\Local\\Temp\\ipykernel_18756\\1740219387.py:20: RuntimeWarning: invalid value encountered in long_scalars\n",
      "  precision_class_one = TP / (TP + FP)\n",
      "C:\\Users\\James\\AppData\\Local\\Temp\\ipykernel_18756\\1740219387.py:20: RuntimeWarning: invalid value encountered in long_scalars\n",
      "  precision_class_one = TP / (TP + FP)\n"
     ]
    },
    {
     "name": "stdout",
     "output_type": "stream",
     "text": [
      "9/9 [==============================] - 0s 2ms/step\n",
      "9/9 [==============================] - 0s 2ms/step\n",
      "9/9 [==============================] - 0s 2ms/step\n",
      "9/9 [==============================] - 0s 2ms/step\n",
      "9/9 [==============================] - 0s 2ms/step\n",
      "1/9 [==>...........................] - ETA: 0s"
     ]
    },
    {
     "name": "stderr",
     "output_type": "stream",
     "text": [
      "C:\\Users\\James\\AppData\\Local\\Temp\\ipykernel_18756\\1740219387.py:20: RuntimeWarning: invalid value encountered in long_scalars\n",
      "  precision_class_one = TP / (TP + FP)\n"
     ]
    },
    {
     "name": "stdout",
     "output_type": "stream",
     "text": [
      "9/9 [==============================] - 0s 2ms/step\n",
      "9/9 [==============================] - 0s 2ms/step\n",
      "9/9 [==============================] - 0s 2ms/step\n",
      "1/9 [==>...........................] - ETA: 0s"
     ]
    },
    {
     "name": "stderr",
     "output_type": "stream",
     "text": [
      "C:\\Users\\James\\AppData\\Local\\Temp\\ipykernel_18756\\1740219387.py:20: RuntimeWarning: invalid value encountered in long_scalars\n",
      "  precision_class_one = TP / (TP + FP)\n",
      "C:\\Users\\James\\AppData\\Local\\Temp\\ipykernel_18756\\1740219387.py:20: RuntimeWarning: invalid value encountered in long_scalars\n",
      "  precision_class_one = TP / (TP + FP)\n"
     ]
    },
    {
     "name": "stdout",
     "output_type": "stream",
     "text": [
      "9/9 [==============================] - 0s 2ms/step\n",
      "9/9 [==============================] - 0s 2ms/step\n"
     ]
    },
    {
     "name": "stderr",
     "output_type": "stream",
     "text": [
      "C:\\Users\\James\\AppData\\Local\\Temp\\ipykernel_18756\\1740219387.py:20: RuntimeWarning: invalid value encountered in long_scalars\n",
      "  precision_class_one = TP / (TP + FP)\n",
      "C:\\Users\\James\\AppData\\Local\\Temp\\ipykernel_18756\\1740219387.py:20: RuntimeWarning: invalid value encountered in long_scalars\n",
      "  precision_class_one = TP / (TP + FP)\n"
     ]
    },
    {
     "name": "stdout",
     "output_type": "stream",
     "text": [
      "9/9 [==============================] - 0s 2ms/step\n",
      "9/9 [==============================] - 0s 2ms/step\n"
     ]
    },
    {
     "name": "stderr",
     "output_type": "stream",
     "text": [
      "C:\\Users\\James\\AppData\\Local\\Temp\\ipykernel_18756\\1740219387.py:20: RuntimeWarning: invalid value encountered in long_scalars\n",
      "  precision_class_one = TP / (TP + FP)\n",
      "C:\\Users\\James\\AppData\\Local\\Temp\\ipykernel_18756\\1740219387.py:20: RuntimeWarning: invalid value encountered in long_scalars\n",
      "  precision_class_one = TP / (TP + FP)\n"
     ]
    },
    {
     "name": "stdout",
     "output_type": "stream",
     "text": [
      "9/9 [==============================] - 0s 2ms/step\n",
      "9/9 [==============================] - 0s 2ms/step\n"
     ]
    },
    {
     "name": "stderr",
     "output_type": "stream",
     "text": [
      "C:\\Users\\James\\AppData\\Local\\Temp\\ipykernel_18756\\1740219387.py:20: RuntimeWarning: invalid value encountered in long_scalars\n",
      "  precision_class_one = TP / (TP + FP)\n",
      "C:\\Users\\James\\AppData\\Local\\Temp\\ipykernel_18756\\1740219387.py:20: RuntimeWarning: invalid value encountered in long_scalars\n",
      "  precision_class_one = TP / (TP + FP)\n"
     ]
    },
    {
     "name": "stdout",
     "output_type": "stream",
     "text": [
      "9/9 [==============================] - 0s 3ms/step\n",
      "9/9 [==============================] - 0s 2ms/step\n",
      "9/9 [==============================] - 0s 854us/step\n",
      "1/9 [==>...........................] - ETA: 0s"
     ]
    },
    {
     "name": "stderr",
     "output_type": "stream",
     "text": [
      "C:\\Users\\James\\AppData\\Local\\Temp\\ipykernel_18756\\1740219387.py:20: RuntimeWarning: invalid value encountered in long_scalars\n",
      "  precision_class_one = TP / (TP + FP)\n",
      "C:\\Users\\James\\AppData\\Local\\Temp\\ipykernel_18756\\1740219387.py:20: RuntimeWarning: invalid value encountered in long_scalars\n",
      "  precision_class_one = TP / (TP + FP)\n"
     ]
    },
    {
     "name": "stdout",
     "output_type": "stream",
     "text": [
      "9/9 [==============================] - 0s 2ms/step\n",
      "9/9 [==============================] - 0s 2ms/step\n"
     ]
    },
    {
     "name": "stderr",
     "output_type": "stream",
     "text": [
      "C:\\Users\\James\\AppData\\Local\\Temp\\ipykernel_18756\\1740219387.py:20: RuntimeWarning: invalid value encountered in long_scalars\n",
      "  precision_class_one = TP / (TP + FP)\n",
      "C:\\Users\\James\\AppData\\Local\\Temp\\ipykernel_18756\\1740219387.py:20: RuntimeWarning: invalid value encountered in long_scalars\n",
      "  precision_class_one = TP / (TP + FP)\n"
     ]
    },
    {
     "name": "stdout",
     "output_type": "stream",
     "text": [
      "9/9 [==============================] - 0s 2ms/step\n",
      "9/9 [==============================] - 0s 2ms/step\n"
     ]
    },
    {
     "name": "stderr",
     "output_type": "stream",
     "text": [
      "C:\\Users\\James\\AppData\\Local\\Temp\\ipykernel_18756\\1740219387.py:20: RuntimeWarning: invalid value encountered in long_scalars\n",
      "  precision_class_one = TP / (TP + FP)\n",
      "C:\\Users\\James\\AppData\\Local\\Temp\\ipykernel_18756\\1740219387.py:20: RuntimeWarning: invalid value encountered in long_scalars\n",
      "  precision_class_one = TP / (TP + FP)\n"
     ]
    },
    {
     "name": "stdout",
     "output_type": "stream",
     "text": [
      "9/9 [==============================] - 0s 2ms/step\n",
      "9/9 [==============================] - 0s 2ms/step\n"
     ]
    },
    {
     "name": "stderr",
     "output_type": "stream",
     "text": [
      "C:\\Users\\James\\AppData\\Local\\Temp\\ipykernel_18756\\1740219387.py:20: RuntimeWarning: invalid value encountered in long_scalars\n",
      "  precision_class_one = TP / (TP + FP)\n",
      "C:\\Users\\James\\AppData\\Local\\Temp\\ipykernel_18756\\1740219387.py:20: RuntimeWarning: invalid value encountered in long_scalars\n",
      "  precision_class_one = TP / (TP + FP)\n"
     ]
    },
    {
     "name": "stdout",
     "output_type": "stream",
     "text": [
      "9/9 [==============================] - 0s 2ms/step\n",
      "9/9 [==============================] - 0s 2ms/step\n"
     ]
    },
    {
     "name": "stderr",
     "output_type": "stream",
     "text": [
      "C:\\Users\\James\\AppData\\Local\\Temp\\ipykernel_18756\\1740219387.py:20: RuntimeWarning: invalid value encountered in long_scalars\n",
      "  precision_class_one = TP / (TP + FP)\n",
      "C:\\Users\\James\\AppData\\Local\\Temp\\ipykernel_18756\\1740219387.py:20: RuntimeWarning: invalid value encountered in long_scalars\n",
      "  precision_class_one = TP / (TP + FP)\n"
     ]
    },
    {
     "name": "stdout",
     "output_type": "stream",
     "text": [
      "9/9 [==============================] - 0s 2ms/step\n",
      "9/9 [==============================] - 0s 2ms/step\n"
     ]
    },
    {
     "name": "stderr",
     "output_type": "stream",
     "text": [
      "C:\\Users\\James\\AppData\\Local\\Temp\\ipykernel_18756\\1740219387.py:20: RuntimeWarning: invalid value encountered in long_scalars\n",
      "  precision_class_one = TP / (TP + FP)\n",
      "C:\\Users\\James\\AppData\\Local\\Temp\\ipykernel_18756\\1740219387.py:20: RuntimeWarning: invalid value encountered in long_scalars\n",
      "  precision_class_one = TP / (TP + FP)\n"
     ]
    },
    {
     "name": "stdout",
     "output_type": "stream",
     "text": [
      "9/9 [==============================] - 0s 2ms/step\n",
      "9/9 [==============================] - 0s 2ms/step\n"
     ]
    },
    {
     "name": "stderr",
     "output_type": "stream",
     "text": [
      "C:\\Users\\James\\AppData\\Local\\Temp\\ipykernel_18756\\1740219387.py:20: RuntimeWarning: invalid value encountered in long_scalars\n",
      "  precision_class_one = TP / (TP + FP)\n",
      "C:\\Users\\James\\AppData\\Local\\Temp\\ipykernel_18756\\1740219387.py:20: RuntimeWarning: invalid value encountered in long_scalars\n",
      "  precision_class_one = TP / (TP + FP)\n"
     ]
    },
    {
     "name": "stdout",
     "output_type": "stream",
     "text": [
      "9/9 [==============================] - 0s 2ms/step\n",
      "9/9 [==============================] - 0s 2ms/step\n"
     ]
    },
    {
     "name": "stderr",
     "output_type": "stream",
     "text": [
      "C:\\Users\\James\\AppData\\Local\\Temp\\ipykernel_18756\\1740219387.py:20: RuntimeWarning: invalid value encountered in long_scalars\n",
      "  precision_class_one = TP / (TP + FP)\n",
      "C:\\Users\\James\\AppData\\Local\\Temp\\ipykernel_18756\\1740219387.py:20: RuntimeWarning: invalid value encountered in long_scalars\n",
      "  precision_class_one = TP / (TP + FP)\n"
     ]
    },
    {
     "name": "stdout",
     "output_type": "stream",
     "text": [
      "9/9 [==============================] - 0s 2ms/step\n",
      "9/9 [==============================] - 0s 2ms/step\n",
      "9/9 [==============================] - 0s 2ms/step\n",
      "1/9 [==>...........................] - ETA: 0s"
     ]
    },
    {
     "name": "stderr",
     "output_type": "stream",
     "text": [
      "C:\\Users\\James\\AppData\\Local\\Temp\\ipykernel_18756\\1740219387.py:20: RuntimeWarning: invalid value encountered in long_scalars\n",
      "  precision_class_one = TP / (TP + FP)\n",
      "C:\\Users\\James\\AppData\\Local\\Temp\\ipykernel_18756\\1740219387.py:20: RuntimeWarning: invalid value encountered in long_scalars\n",
      "  precision_class_one = TP / (TP + FP)\n"
     ]
    },
    {
     "name": "stdout",
     "output_type": "stream",
     "text": [
      "9/9 [==============================] - 0s 2ms/step\n",
      "9/9 [==============================] - 0s 2ms/step\n",
      "9/9 [==============================] - 0s 2ms/step\n",
      "9/9 [==============================] - 0s 2ms/step\n",
      "9/9 [==============================] - 0s 1ms/step\n",
      "9/9 [==============================] - 0s 2ms/step\n",
      "9/9 [==============================] - 0s 2ms/step\n",
      "9/9 [==============================] - 0s 2ms/step\n",
      "9/9 [==============================] - 0s 2ms/step\n",
      "9/9 [==============================] - 0s 2ms/step\n",
      "9/9 [==============================] - 0s 3ms/step\n",
      "9/9 [==============================] - 0s 1ms/step\n",
      "9/9 [==============================] - 0s 2ms/step\n",
      "9/9 [==============================] - 0s 2ms/step\n"
     ]
    },
    {
     "name": "stderr",
     "output_type": "stream",
     "text": [
      "C:\\Users\\James\\AppData\\Local\\Temp\\ipykernel_18756\\1740219387.py:20: RuntimeWarning: invalid value encountered in long_scalars\n",
      "  precision_class_one = TP / (TP + FP)\n"
     ]
    },
    {
     "name": "stdout",
     "output_type": "stream",
     "text": [
      "9/9 [==============================] - 0s 2ms/step\n",
      "9/9 [==============================] - 0s 2ms/step\n",
      "9/9 [==============================] - 0s 2ms/step\n",
      "9/9 [==============================] - 0s 2ms/step\n"
     ]
    },
    {
     "name": "stderr",
     "output_type": "stream",
     "text": [
      "C:\\Users\\James\\AppData\\Local\\Temp\\ipykernel_18756\\1740219387.py:20: RuntimeWarning: invalid value encountered in long_scalars\n",
      "  precision_class_one = TP / (TP + FP)\n",
      "C:\\Users\\James\\AppData\\Local\\Temp\\ipykernel_18756\\1740219387.py:20: RuntimeWarning: invalid value encountered in long_scalars\n",
      "  precision_class_one = TP / (TP + FP)\n"
     ]
    },
    {
     "name": "stdout",
     "output_type": "stream",
     "text": [
      "9/9 [==============================] - 0s 2ms/step\n",
      "9/9 [==============================] - 0s 2ms/step\n",
      "9/9 [==============================] - 0s 2ms/step\n"
     ]
    },
    {
     "name": "stderr",
     "output_type": "stream",
     "text": [
      "C:\\Users\\James\\AppData\\Local\\Temp\\ipykernel_18756\\1740219387.py:20: RuntimeWarning: invalid value encountered in long_scalars\n",
      "  precision_class_one = TP / (TP + FP)\n",
      "C:\\Users\\James\\AppData\\Local\\Temp\\ipykernel_18756\\1740219387.py:20: RuntimeWarning: invalid value encountered in long_scalars\n",
      "  precision_class_one = TP / (TP + FP)\n"
     ]
    },
    {
     "name": "stdout",
     "output_type": "stream",
     "text": [
      "9/9 [==============================] - 0s 2ms/step\n",
      "9/9 [==============================] - 0s 2ms/step\n",
      "9/9 [==============================] - 0s 2ms/step\n",
      "9/9 [==============================] - 0s 2ms/step\n",
      "9/9 [==============================] - 0s 2ms/step\n",
      "9/9 [==============================] - 0s 2ms/step\n",
      "9/9 [==============================] - 0s 2ms/step\n",
      "9/9 [==============================] - 0s 1ms/step\n",
      "1/9 [==>...........................] - ETA: 0s"
     ]
    },
    {
     "name": "stderr",
     "output_type": "stream",
     "text": [
      "C:\\Users\\James\\AppData\\Local\\Temp\\ipykernel_18756\\1740219387.py:20: RuntimeWarning: invalid value encountered in long_scalars\n",
      "  precision_class_one = TP / (TP + FP)\n",
      "C:\\Users\\James\\AppData\\Local\\Temp\\ipykernel_18756\\1740219387.py:20: RuntimeWarning: invalid value encountered in long_scalars\n",
      "  precision_class_one = TP / (TP + FP)\n"
     ]
    },
    {
     "name": "stdout",
     "output_type": "stream",
     "text": [
      "9/9 [==============================] - 0s 2ms/step\n",
      "9/9 [==============================] - 0s 2ms/step\n"
     ]
    },
    {
     "name": "stderr",
     "output_type": "stream",
     "text": [
      "C:\\Users\\James\\AppData\\Local\\Temp\\ipykernel_18756\\1740219387.py:20: RuntimeWarning: invalid value encountered in long_scalars\n",
      "  precision_class_one = TP / (TP + FP)\n",
      "C:\\Users\\James\\AppData\\Local\\Temp\\ipykernel_18756\\1740219387.py:20: RuntimeWarning: invalid value encountered in long_scalars\n",
      "  precision_class_one = TP / (TP + FP)\n"
     ]
    },
    {
     "name": "stdout",
     "output_type": "stream",
     "text": [
      "9/9 [==============================] - 0s 2ms/step\n",
      "9/9 [==============================] - 0s 2ms/step\n",
      "1/9 [==>...........................] - ETA: 0s"
     ]
    },
    {
     "name": "stderr",
     "output_type": "stream",
     "text": [
      "C:\\Users\\James\\AppData\\Local\\Temp\\ipykernel_18756\\1740219387.py:20: RuntimeWarning: invalid value encountered in long_scalars\n",
      "  precision_class_one = TP / (TP + FP)\n",
      "C:\\Users\\James\\AppData\\Local\\Temp\\ipykernel_18756\\1740219387.py:20: RuntimeWarning: invalid value encountered in long_scalars\n",
      "  precision_class_one = TP / (TP + FP)\n"
     ]
    },
    {
     "name": "stdout",
     "output_type": "stream",
     "text": [
      "9/9 [==============================] - 0s 2ms/step\n",
      "9/9 [==============================] - 0s 2ms/step\n",
      "9/9 [==============================] - 0s 2ms/step\n"
     ]
    },
    {
     "name": "stderr",
     "output_type": "stream",
     "text": [
      "C:\\Users\\James\\AppData\\Local\\Temp\\ipykernel_18756\\1740219387.py:20: RuntimeWarning: invalid value encountered in long_scalars\n",
      "  precision_class_one = TP / (TP + FP)\n"
     ]
    },
    {
     "name": "stdout",
     "output_type": "stream",
     "text": [
      "9/9 [==============================] - 0s 2ms/step\n",
      "9/9 [==============================] - 0s 2ms/step\n",
      "9/9 [==============================] - 0s 2ms/step\n",
      "9/9 [==============================] - 0s 2ms/step\n"
     ]
    },
    {
     "name": "stderr",
     "output_type": "stream",
     "text": [
      "C:\\Users\\James\\AppData\\Local\\Temp\\ipykernel_18756\\1740219387.py:20: RuntimeWarning: invalid value encountered in long_scalars\n",
      "  precision_class_one = TP / (TP + FP)\n"
     ]
    },
    {
     "name": "stdout",
     "output_type": "stream",
     "text": [
      "9/9 [==============================] - 0s 2ms/step\n",
      "9/9 [==============================] - 0s 2ms/step\n",
      "1/9 [==>...........................] - ETA: 0s"
     ]
    },
    {
     "name": "stderr",
     "output_type": "stream",
     "text": [
      "C:\\Users\\James\\AppData\\Local\\Temp\\ipykernel_18756\\1740219387.py:20: RuntimeWarning: invalid value encountered in long_scalars\n",
      "  precision_class_one = TP / (TP + FP)\n",
      "C:\\Users\\James\\AppData\\Local\\Temp\\ipykernel_18756\\1740219387.py:20: RuntimeWarning: invalid value encountered in long_scalars\n",
      "  precision_class_one = TP / (TP + FP)\n"
     ]
    },
    {
     "name": "stdout",
     "output_type": "stream",
     "text": [
      "9/9 [==============================] - 0s 2ms/step\n",
      "9/9 [==============================] - 0s 2ms/step\n",
      "9/9 [==============================] - 0s 2ms/step\n",
      "9/9 [==============================] - 0s 2ms/step\n",
      "9/9 [==============================] - 0s 2ms/step\n"
     ]
    },
    {
     "name": "stderr",
     "output_type": "stream",
     "text": [
      "C:\\Users\\James\\AppData\\Local\\Temp\\ipykernel_18756\\1740219387.py:20: RuntimeWarning: invalid value encountered in long_scalars\n",
      "  precision_class_one = TP / (TP + FP)\n"
     ]
    },
    {
     "name": "stdout",
     "output_type": "stream",
     "text": [
      "9/9 [==============================] - 0s 2ms/step\n",
      "9/9 [==============================] - 0s 2ms/step\n"
     ]
    },
    {
     "name": "stderr",
     "output_type": "stream",
     "text": [
      "C:\\Users\\James\\AppData\\Local\\Temp\\ipykernel_18756\\1740219387.py:20: RuntimeWarning: invalid value encountered in long_scalars\n",
      "  precision_class_one = TP / (TP + FP)\n"
     ]
    },
    {
     "name": "stdout",
     "output_type": "stream",
     "text": [
      "9/9 [==============================] - 0s 2ms/step\n",
      "9/9 [==============================] - 0s 2ms/step\n"
     ]
    },
    {
     "name": "stderr",
     "output_type": "stream",
     "text": [
      "C:\\Users\\James\\AppData\\Local\\Temp\\ipykernel_18756\\1740219387.py:20: RuntimeWarning: invalid value encountered in long_scalars\n",
      "  precision_class_one = TP / (TP + FP)\n",
      "C:\\Users\\James\\AppData\\Local\\Temp\\ipykernel_18756\\1740219387.py:20: RuntimeWarning: invalid value encountered in long_scalars\n",
      "  precision_class_one = TP / (TP + FP)\n"
     ]
    },
    {
     "name": "stdout",
     "output_type": "stream",
     "text": [
      "9/9 [==============================] - 0s 2ms/step\n",
      "9/9 [==============================] - 0s 2ms/step\n"
     ]
    },
    {
     "name": "stderr",
     "output_type": "stream",
     "text": [
      "C:\\Users\\James\\AppData\\Local\\Temp\\ipykernel_18756\\1740219387.py:20: RuntimeWarning: invalid value encountered in long_scalars\n",
      "  precision_class_one = TP / (TP + FP)\n"
     ]
    },
    {
     "name": "stdout",
     "output_type": "stream",
     "text": [
      "9/9 [==============================] - 0s 2ms/step\n",
      "9/9 [==============================] - 0s 2ms/step\n",
      "9/9 [==============================] - 0s 2ms/step\n",
      "9/9 [==============================] - 0s 2ms/step\n"
     ]
    },
    {
     "name": "stderr",
     "output_type": "stream",
     "text": [
      "C:\\Users\\James\\AppData\\Local\\Temp\\ipykernel_18756\\1740219387.py:20: RuntimeWarning: invalid value encountered in long_scalars\n",
      "  precision_class_one = TP / (TP + FP)\n",
      "C:\\Users\\James\\AppData\\Local\\Temp\\ipykernel_18756\\1740219387.py:20: RuntimeWarning: invalid value encountered in long_scalars\n",
      "  precision_class_one = TP / (TP + FP)\n"
     ]
    },
    {
     "name": "stdout",
     "output_type": "stream",
     "text": [
      "9/9 [==============================] - 0s 2ms/step\n",
      "9/9 [==============================] - 0s 2ms/step\n"
     ]
    },
    {
     "name": "stderr",
     "output_type": "stream",
     "text": [
      "C:\\Users\\James\\AppData\\Local\\Temp\\ipykernel_18756\\1740219387.py:20: RuntimeWarning: invalid value encountered in long_scalars\n",
      "  precision_class_one = TP / (TP + FP)\n"
     ]
    },
    {
     "name": "stdout",
     "output_type": "stream",
     "text": [
      "9/9 [==============================] - 0s 2ms/step\n",
      "9/9 [==============================] - 0s 2ms/step\n"
     ]
    },
    {
     "name": "stderr",
     "output_type": "stream",
     "text": [
      "C:\\Users\\James\\AppData\\Local\\Temp\\ipykernel_18756\\1740219387.py:20: RuntimeWarning: invalid value encountered in long_scalars\n",
      "  precision_class_one = TP / (TP + FP)\n"
     ]
    },
    {
     "name": "stdout",
     "output_type": "stream",
     "text": [
      "9/9 [==============================] - 0s 2ms/step\n",
      "9/9 [==============================] - 0s 2ms/step\n"
     ]
    },
    {
     "name": "stderr",
     "output_type": "stream",
     "text": [
      "C:\\Users\\James\\AppData\\Local\\Temp\\ipykernel_18756\\1740219387.py:20: RuntimeWarning: invalid value encountered in long_scalars\n",
      "  precision_class_one = TP / (TP + FP)\n",
      "C:\\Users\\James\\AppData\\Local\\Temp\\ipykernel_18756\\1740219387.py:20: RuntimeWarning: invalid value encountered in long_scalars\n",
      "  precision_class_one = TP / (TP + FP)\n"
     ]
    },
    {
     "name": "stdout",
     "output_type": "stream",
     "text": [
      "9/9 [==============================] - 0s 3ms/step\n",
      "9/9 [==============================] - 0s 2ms/step\n"
     ]
    },
    {
     "name": "stderr",
     "output_type": "stream",
     "text": [
      "C:\\Users\\James\\AppData\\Local\\Temp\\ipykernel_18756\\1740219387.py:20: RuntimeWarning: invalid value encountered in long_scalars\n",
      "  precision_class_one = TP / (TP + FP)\n",
      "C:\\Users\\James\\AppData\\Local\\Temp\\ipykernel_18756\\1740219387.py:20: RuntimeWarning: invalid value encountered in long_scalars\n",
      "  precision_class_one = TP / (TP + FP)\n"
     ]
    },
    {
     "name": "stdout",
     "output_type": "stream",
     "text": [
      "9/9 [==============================] - 0s 2ms/step\n",
      "1/9 [==>...........................] - ETA: 0s"
     ]
    },
    {
     "name": "stderr",
     "output_type": "stream",
     "text": [
      "C:\\Users\\James\\AppData\\Local\\Temp\\ipykernel_18756\\1740219387.py:20: RuntimeWarning: invalid value encountered in long_scalars\n",
      "  precision_class_one = TP / (TP + FP)\n"
     ]
    },
    {
     "name": "stdout",
     "output_type": "stream",
     "text": [
      "9/9 [==============================] - 0s 4ms/step\n",
      "9/9 [==============================] - 0s 4ms/step\n",
      "9/9 [==============================] - 0s 3ms/step\n",
      "9/9 [==============================] - 0s 3ms/step\n"
     ]
    },
    {
     "name": "stderr",
     "output_type": "stream",
     "text": [
      "C:\\Users\\James\\AppData\\Local\\Temp\\ipykernel_18756\\1740219387.py:20: RuntimeWarning: invalid value encountered in long_scalars\n",
      "  precision_class_one = TP / (TP + FP)\n"
     ]
    },
    {
     "name": "stdout",
     "output_type": "stream",
     "text": [
      "9/9 [==============================] - 0s 3ms/step\n",
      "9/9 [==============================] - 0s 2ms/step\n",
      "9/9 [==============================] - 0s 2ms/step\n",
      "9/9 [==============================] - 0s 2ms/step\n",
      "9/9 [==============================] - 0s 2ms/step\n",
      "9/9 [==============================] - 0s 2ms/step\n",
      "9/9 [==============================] - 0s 2ms/step\n"
     ]
    },
    {
     "name": "stderr",
     "output_type": "stream",
     "text": [
      "C:\\Users\\James\\AppData\\Local\\Temp\\ipykernel_18756\\1740219387.py:20: RuntimeWarning: invalid value encountered in long_scalars\n",
      "  precision_class_one = TP / (TP + FP)\n"
     ]
    },
    {
     "name": "stdout",
     "output_type": "stream",
     "text": [
      "9/9 [==============================] - 0s 3ms/step\n",
      "9/9 [==============================] - 0s 2ms/step\n",
      "9/9 [==============================] - 0s 2ms/step\n"
     ]
    },
    {
     "name": "stderr",
     "output_type": "stream",
     "text": [
      "C:\\Users\\James\\AppData\\Local\\Temp\\ipykernel_18756\\1740219387.py:20: RuntimeWarning: invalid value encountered in long_scalars\n",
      "  precision_class_one = TP / (TP + FP)\n",
      "C:\\Users\\James\\AppData\\Local\\Temp\\ipykernel_18756\\1740219387.py:20: RuntimeWarning: invalid value encountered in long_scalars\n",
      "  precision_class_one = TP / (TP + FP)\n"
     ]
    },
    {
     "name": "stdout",
     "output_type": "stream",
     "text": [
      "9/9 [==============================] - 0s 3ms/step\n",
      "9/9 [==============================] - 0s 2ms/step\n",
      "9/9 [==============================] - 0s 3ms/step\n"
     ]
    },
    {
     "name": "stderr",
     "output_type": "stream",
     "text": [
      "C:\\Users\\James\\AppData\\Local\\Temp\\ipykernel_18756\\1740219387.py:20: RuntimeWarning: invalid value encountered in long_scalars\n",
      "  precision_class_one = TP / (TP + FP)\n"
     ]
    },
    {
     "name": "stdout",
     "output_type": "stream",
     "text": [
      "9/9 [==============================] - 0s 3ms/step\n",
      "9/9 [==============================] - 0s 3ms/step\n"
     ]
    },
    {
     "name": "stderr",
     "output_type": "stream",
     "text": [
      "C:\\Users\\James\\AppData\\Local\\Temp\\ipykernel_18756\\1740219387.py:20: RuntimeWarning: invalid value encountered in long_scalars\n",
      "  precision_class_one = TP / (TP + FP)\n",
      "C:\\Users\\James\\AppData\\Local\\Temp\\ipykernel_18756\\1740219387.py:20: RuntimeWarning: invalid value encountered in long_scalars\n",
      "  precision_class_one = TP / (TP + FP)\n"
     ]
    },
    {
     "name": "stdout",
     "output_type": "stream",
     "text": [
      "9/9 [==============================] - 0s 2ms/step\n",
      "9/9 [==============================] - 0s 2ms/step\n"
     ]
    },
    {
     "name": "stderr",
     "output_type": "stream",
     "text": [
      "C:\\Users\\James\\AppData\\Local\\Temp\\ipykernel_18756\\1740219387.py:20: RuntimeWarning: invalid value encountered in long_scalars\n",
      "  precision_class_one = TP / (TP + FP)\n"
     ]
    },
    {
     "name": "stdout",
     "output_type": "stream",
     "text": [
      "9/9 [==============================] - 0s 2ms/step\n",
      "9/9 [==============================] - 0s 2ms/step\n"
     ]
    },
    {
     "name": "stderr",
     "output_type": "stream",
     "text": [
      "C:\\Users\\James\\AppData\\Local\\Temp\\ipykernel_18756\\1740219387.py:20: RuntimeWarning: invalid value encountered in long_scalars\n",
      "  precision_class_one = TP / (TP + FP)\n",
      "C:\\Users\\James\\AppData\\Local\\Temp\\ipykernel_18756\\1740219387.py:20: RuntimeWarning: invalid value encountered in long_scalars\n",
      "  precision_class_one = TP / (TP + FP)\n"
     ]
    },
    {
     "name": "stdout",
     "output_type": "stream",
     "text": [
      "9/9 [==============================] - 0s 2ms/step\n",
      "9/9 [==============================] - 0s 2ms/step\n"
     ]
    },
    {
     "name": "stderr",
     "output_type": "stream",
     "text": [
      "C:\\Users\\James\\AppData\\Local\\Temp\\ipykernel_18756\\1740219387.py:20: RuntimeWarning: invalid value encountered in long_scalars\n",
      "  precision_class_one = TP / (TP + FP)\n",
      "C:\\Users\\James\\AppData\\Local\\Temp\\ipykernel_18756\\1740219387.py:20: RuntimeWarning: invalid value encountered in long_scalars\n",
      "  precision_class_one = TP / (TP + FP)\n"
     ]
    },
    {
     "name": "stdout",
     "output_type": "stream",
     "text": [
      "9/9 [==============================] - 0s 3ms/step\n",
      "9/9 [==============================] - 0s 2ms/step\n"
     ]
    },
    {
     "name": "stderr",
     "output_type": "stream",
     "text": [
      "C:\\Users\\James\\AppData\\Local\\Temp\\ipykernel_18756\\1740219387.py:20: RuntimeWarning: invalid value encountered in long_scalars\n",
      "  precision_class_one = TP / (TP + FP)\n"
     ]
    },
    {
     "name": "stdout",
     "output_type": "stream",
     "text": [
      "9/9 [==============================] - 0s 3ms/step\n",
      "9/9 [==============================] - 0s 2ms/step\n"
     ]
    },
    {
     "name": "stderr",
     "output_type": "stream",
     "text": [
      "C:\\Users\\James\\AppData\\Local\\Temp\\ipykernel_18756\\1740219387.py:20: RuntimeWarning: invalid value encountered in long_scalars\n",
      "  precision_class_one = TP / (TP + FP)\n",
      "C:\\Users\\James\\AppData\\Local\\Temp\\ipykernel_18756\\1740219387.py:20: RuntimeWarning: invalid value encountered in long_scalars\n",
      "  precision_class_one = TP / (TP + FP)\n"
     ]
    },
    {
     "name": "stdout",
     "output_type": "stream",
     "text": [
      "9/9 [==============================] - 0s 2ms/step\n",
      "9/9 [==============================] - 0s 2ms/step\n"
     ]
    },
    {
     "name": "stderr",
     "output_type": "stream",
     "text": [
      "C:\\Users\\James\\AppData\\Local\\Temp\\ipykernel_18756\\1740219387.py:20: RuntimeWarning: invalid value encountered in long_scalars\n",
      "  precision_class_one = TP / (TP + FP)\n",
      "C:\\Users\\James\\AppData\\Local\\Temp\\ipykernel_18756\\1740219387.py:20: RuntimeWarning: invalid value encountered in long_scalars\n",
      "  precision_class_one = TP / (TP + FP)\n"
     ]
    },
    {
     "name": "stdout",
     "output_type": "stream",
     "text": [
      "9/9 [==============================] - 0s 3ms/step\n",
      "9/9 [==============================] - 0s 2ms/step\n"
     ]
    },
    {
     "name": "stderr",
     "output_type": "stream",
     "text": [
      "C:\\Users\\James\\AppData\\Local\\Temp\\ipykernel_18756\\1740219387.py:20: RuntimeWarning: invalid value encountered in long_scalars\n",
      "  precision_class_one = TP / (TP + FP)\n",
      "C:\\Users\\James\\AppData\\Local\\Temp\\ipykernel_18756\\1740219387.py:20: RuntimeWarning: invalid value encountered in long_scalars\n",
      "  precision_class_one = TP / (TP + FP)\n"
     ]
    },
    {
     "name": "stdout",
     "output_type": "stream",
     "text": [
      "9/9 [==============================] - 0s 2ms/step\n",
      "9/9 [==============================] - 0s 2ms/step\n"
     ]
    },
    {
     "name": "stderr",
     "output_type": "stream",
     "text": [
      "C:\\Users\\James\\AppData\\Local\\Temp\\ipykernel_18756\\1740219387.py:20: RuntimeWarning: invalid value encountered in long_scalars\n",
      "  precision_class_one = TP / (TP + FP)\n",
      "C:\\Users\\James\\AppData\\Local\\Temp\\ipykernel_18756\\1740219387.py:20: RuntimeWarning: invalid value encountered in long_scalars\n",
      "  precision_class_one = TP / (TP + FP)\n"
     ]
    },
    {
     "name": "stdout",
     "output_type": "stream",
     "text": [
      "9/9 [==============================] - 0s 2ms/step\n",
      "9/9 [==============================] - 0s 2ms/step\n",
      "9/9 [==============================] - 0s 6ms/step\n",
      "9/9 [==============================] - 0s 2ms/step\n",
      "9/9 [==============================] - 0s 2ms/step\n",
      "9/9 [==============================] - 0s 2ms/step\n",
      "9/9 [==============================] - 0s 2ms/step\n",
      "9/9 [==============================] - 0s 2ms/step\n",
      "9/9 [==============================] - 0s 2ms/step\n",
      "9/9 [==============================] - 0s 2ms/step\n",
      "9/9 [==============================] - 0s 1ms/step\n",
      "9/9 [==============================] - 0s 2ms/step\n",
      "9/9 [==============================] - 0s 2ms/step\n",
      "9/9 [==============================] - 0s 2ms/step\n",
      "1/9 [==>...........................] - ETA: 0s"
     ]
    },
    {
     "name": "stderr",
     "output_type": "stream",
     "text": [
      "C:\\Users\\James\\AppData\\Local\\Temp\\ipykernel_18756\\1740219387.py:20: RuntimeWarning: invalid value encountered in long_scalars\n",
      "  precision_class_one = TP / (TP + FP)\n"
     ]
    },
    {
     "name": "stdout",
     "output_type": "stream",
     "text": [
      "9/9 [==============================] - 0s 2ms/step\n",
      "9/9 [==============================] - 0s 2ms/step\n"
     ]
    },
    {
     "name": "stderr",
     "output_type": "stream",
     "text": [
      "C:\\Users\\James\\AppData\\Local\\Temp\\ipykernel_18756\\1740219387.py:20: RuntimeWarning: invalid value encountered in long_scalars\n",
      "  precision_class_one = TP / (TP + FP)\n",
      "C:\\Users\\James\\AppData\\Local\\Temp\\ipykernel_18756\\1740219387.py:20: RuntimeWarning: invalid value encountered in long_scalars\n",
      "  precision_class_one = TP / (TP + FP)\n"
     ]
    },
    {
     "name": "stdout",
     "output_type": "stream",
     "text": [
      "9/9 [==============================] - 0s 3ms/step\n",
      "9/9 [==============================] - 0s 1ms/step\n"
     ]
    },
    {
     "name": "stderr",
     "output_type": "stream",
     "text": [
      "C:\\Users\\James\\AppData\\Local\\Temp\\ipykernel_18756\\1740219387.py:20: RuntimeWarning: invalid value encountered in long_scalars\n",
      "  precision_class_one = TP / (TP + FP)\n",
      "C:\\Users\\James\\AppData\\Local\\Temp\\ipykernel_18756\\1740219387.py:20: RuntimeWarning: invalid value encountered in long_scalars\n",
      "  precision_class_one = TP / (TP + FP)\n"
     ]
    },
    {
     "name": "stdout",
     "output_type": "stream",
     "text": [
      "9/9 [==============================] - 0s 2ms/step\n",
      "9/9 [==============================] - 0s 2ms/step\n"
     ]
    },
    {
     "name": "stderr",
     "output_type": "stream",
     "text": [
      "C:\\Users\\James\\AppData\\Local\\Temp\\ipykernel_18756\\1740219387.py:20: RuntimeWarning: invalid value encountered in long_scalars\n",
      "  precision_class_one = TP / (TP + FP)\n",
      "C:\\Users\\James\\AppData\\Local\\Temp\\ipykernel_18756\\1740219387.py:20: RuntimeWarning: invalid value encountered in long_scalars\n",
      "  precision_class_one = TP / (TP + FP)\n"
     ]
    },
    {
     "name": "stdout",
     "output_type": "stream",
     "text": [
      "9/9 [==============================] - 0s 3ms/step\n",
      "9/9 [==============================] - 0s 2ms/step\n",
      "1/9 [==>...........................] - ETA: 0s"
     ]
    },
    {
     "name": "stderr",
     "output_type": "stream",
     "text": [
      "C:\\Users\\James\\AppData\\Local\\Temp\\ipykernel_18756\\1740219387.py:20: RuntimeWarning: invalid value encountered in long_scalars\n",
      "  precision_class_one = TP / (TP + FP)\n",
      "C:\\Users\\James\\AppData\\Local\\Temp\\ipykernel_18756\\1740219387.py:20: RuntimeWarning: invalid value encountered in long_scalars\n",
      "  precision_class_one = TP / (TP + FP)\n"
     ]
    },
    {
     "name": "stdout",
     "output_type": "stream",
     "text": [
      "9/9 [==============================] - 0s 2ms/step\n",
      "9/9 [==============================] - 0s 2ms/step\n"
     ]
    },
    {
     "name": "stderr",
     "output_type": "stream",
     "text": [
      "C:\\Users\\James\\AppData\\Local\\Temp\\ipykernel_18756\\1740219387.py:20: RuntimeWarning: invalid value encountered in long_scalars\n",
      "  precision_class_one = TP / (TP + FP)\n",
      "C:\\Users\\James\\AppData\\Local\\Temp\\ipykernel_18756\\1740219387.py:20: RuntimeWarning: invalid value encountered in long_scalars\n",
      "  precision_class_one = TP / (TP + FP)\n"
     ]
    },
    {
     "name": "stdout",
     "output_type": "stream",
     "text": [
      "9/9 [==============================] - 0s 3ms/step\n",
      "9/9 [==============================] - 0s 2ms/step\n"
     ]
    },
    {
     "name": "stderr",
     "output_type": "stream",
     "text": [
      "C:\\Users\\James\\AppData\\Local\\Temp\\ipykernel_18756\\1740219387.py:20: RuntimeWarning: invalid value encountered in long_scalars\n",
      "  precision_class_one = TP / (TP + FP)\n",
      "C:\\Users\\James\\AppData\\Local\\Temp\\ipykernel_18756\\1740219387.py:20: RuntimeWarning: invalid value encountered in long_scalars\n",
      "  precision_class_one = TP / (TP + FP)\n"
     ]
    },
    {
     "name": "stdout",
     "output_type": "stream",
     "text": [
      "9/9 [==============================] - 0s 3ms/step\n",
      "9/9 [==============================] - 0s 2ms/step\n",
      "9/9 [==============================] - 0s 2ms/step\n",
      "9/9 [==============================] - 0s 2ms/step\n"
     ]
    },
    {
     "name": "stderr",
     "output_type": "stream",
     "text": [
      "C:\\Users\\James\\AppData\\Local\\Temp\\ipykernel_18756\\1740219387.py:20: RuntimeWarning: invalid value encountered in long_scalars\n",
      "  precision_class_one = TP / (TP + FP)\n",
      "C:\\Users\\James\\AppData\\Local\\Temp\\ipykernel_18756\\1740219387.py:20: RuntimeWarning: invalid value encountered in long_scalars\n",
      "  precision_class_one = TP / (TP + FP)\n"
     ]
    },
    {
     "name": "stdout",
     "output_type": "stream",
     "text": [
      "9/9 [==============================] - 0s 2ms/step\n",
      "9/9 [==============================] - 0s 2ms/step\n"
     ]
    },
    {
     "name": "stderr",
     "output_type": "stream",
     "text": [
      "C:\\Users\\James\\AppData\\Local\\Temp\\ipykernel_18756\\1740219387.py:20: RuntimeWarning: invalid value encountered in long_scalars\n",
      "  precision_class_one = TP / (TP + FP)\n"
     ]
    },
    {
     "name": "stdout",
     "output_type": "stream",
     "text": [
      "9/9 [==============================] - 0s 2ms/step\n",
      "9/9 [==============================] - 0s 2ms/step\n",
      "9/9 [==============================] - 0s 2ms/step\n",
      "9/9 [==============================] - 0s 2ms/step\n",
      "1/9 [==>...........................] - ETA: 0s"
     ]
    },
    {
     "name": "stderr",
     "output_type": "stream",
     "text": [
      "C:\\Users\\James\\AppData\\Local\\Temp\\ipykernel_18756\\1740219387.py:20: RuntimeWarning: invalid value encountered in long_scalars\n",
      "  precision_class_one = TP / (TP + FP)\n",
      "C:\\Users\\James\\AppData\\Local\\Temp\\ipykernel_18756\\1740219387.py:20: RuntimeWarning: invalid value encountered in long_scalars\n",
      "  precision_class_one = TP / (TP + FP)\n"
     ]
    },
    {
     "name": "stdout",
     "output_type": "stream",
     "text": [
      "9/9 [==============================] - 0s 2ms/step\n",
      "9/9 [==============================] - 0s 2ms/step\n"
     ]
    },
    {
     "name": "stderr",
     "output_type": "stream",
     "text": [
      "C:\\Users\\James\\AppData\\Local\\Temp\\ipykernel_18756\\1740219387.py:20: RuntimeWarning: invalid value encountered in long_scalars\n",
      "  precision_class_one = TP / (TP + FP)\n"
     ]
    },
    {
     "name": "stdout",
     "output_type": "stream",
     "text": [
      "9/9 [==============================] - 0s 2ms/step\n",
      "9/9 [==============================] - 0s 2ms/step\n",
      "9/9 [==============================] - 0s 2ms/step\n",
      "9/9 [==============================] - 0s 2ms/step\n"
     ]
    },
    {
     "name": "stderr",
     "output_type": "stream",
     "text": [
      "C:\\Users\\James\\AppData\\Local\\Temp\\ipykernel_18756\\1740219387.py:20: RuntimeWarning: invalid value encountered in long_scalars\n",
      "  precision_class_one = TP / (TP + FP)\n",
      "C:\\Users\\James\\AppData\\Local\\Temp\\ipykernel_18756\\1740219387.py:20: RuntimeWarning: invalid value encountered in long_scalars\n",
      "  precision_class_one = TP / (TP + FP)\n"
     ]
    },
    {
     "name": "stdout",
     "output_type": "stream",
     "text": [
      "9/9 [==============================] - 0s 2ms/step\n",
      "9/9 [==============================] - 0s 2ms/step\n"
     ]
    },
    {
     "name": "stderr",
     "output_type": "stream",
     "text": [
      "C:\\Users\\James\\AppData\\Local\\Temp\\ipykernel_18756\\1740219387.py:20: RuntimeWarning: invalid value encountered in long_scalars\n",
      "  precision_class_one = TP / (TP + FP)\n",
      "C:\\Users\\James\\AppData\\Local\\Temp\\ipykernel_18756\\1740219387.py:20: RuntimeWarning: invalid value encountered in long_scalars\n",
      "  precision_class_one = TP / (TP + FP)\n"
     ]
    },
    {
     "name": "stdout",
     "output_type": "stream",
     "text": [
      "9/9 [==============================] - 0s 3ms/step\n",
      "9/9 [==============================] - 0s 2ms/step\n"
     ]
    },
    {
     "name": "stderr",
     "output_type": "stream",
     "text": [
      "C:\\Users\\James\\AppData\\Local\\Temp\\ipykernel_18756\\1740219387.py:20: RuntimeWarning: invalid value encountered in long_scalars\n",
      "  precision_class_one = TP / (TP + FP)\n"
     ]
    },
    {
     "name": "stdout",
     "output_type": "stream",
     "text": [
      "9/9 [==============================] - 0s 2ms/step\n",
      "9/9 [==============================] - 0s 2ms/step\n"
     ]
    },
    {
     "name": "stderr",
     "output_type": "stream",
     "text": [
      "C:\\Users\\James\\AppData\\Local\\Temp\\ipykernel_18756\\1740219387.py:20: RuntimeWarning: invalid value encountered in long_scalars\n",
      "  precision_class_one = TP / (TP + FP)\n"
     ]
    },
    {
     "name": "stdout",
     "output_type": "stream",
     "text": [
      "9/9 [==============================] - 0s 2ms/step\n",
      "9/9 [==============================] - 0s 2ms/step\n"
     ]
    },
    {
     "name": "stderr",
     "output_type": "stream",
     "text": [
      "C:\\Users\\James\\AppData\\Local\\Temp\\ipykernel_18756\\1740219387.py:20: RuntimeWarning: invalid value encountered in long_scalars\n",
      "  precision_class_one = TP / (TP + FP)\n",
      "C:\\Users\\James\\AppData\\Local\\Temp\\ipykernel_18756\\1740219387.py:20: RuntimeWarning: invalid value encountered in long_scalars\n",
      "  precision_class_one = TP / (TP + FP)\n"
     ]
    },
    {
     "name": "stdout",
     "output_type": "stream",
     "text": [
      "9/9 [==============================] - 0s 3ms/step\n",
      "9/9 [==============================] - 0s 2ms/step\n"
     ]
    },
    {
     "name": "stderr",
     "output_type": "stream",
     "text": [
      "C:\\Users\\James\\AppData\\Local\\Temp\\ipykernel_18756\\1740219387.py:20: RuntimeWarning: invalid value encountered in long_scalars\n",
      "  precision_class_one = TP / (TP + FP)\n",
      "C:\\Users\\James\\AppData\\Local\\Temp\\ipykernel_18756\\1740219387.py:20: RuntimeWarning: invalid value encountered in long_scalars\n",
      "  precision_class_one = TP / (TP + FP)\n"
     ]
    },
    {
     "name": "stdout",
     "output_type": "stream",
     "text": [
      "9/9 [==============================] - 0s 2ms/step\n",
      "9/9 [==============================] - 0s 2ms/step\n"
     ]
    },
    {
     "name": "stderr",
     "output_type": "stream",
     "text": [
      "C:\\Users\\James\\AppData\\Local\\Temp\\ipykernel_18756\\1740219387.py:20: RuntimeWarning: invalid value encountered in long_scalars\n",
      "  precision_class_one = TP / (TP + FP)\n",
      "C:\\Users\\James\\AppData\\Local\\Temp\\ipykernel_18756\\1740219387.py:20: RuntimeWarning: invalid value encountered in long_scalars\n",
      "  precision_class_one = TP / (TP + FP)\n"
     ]
    },
    {
     "name": "stdout",
     "output_type": "stream",
     "text": [
      "9/9 [==============================] - 0s 3ms/step\n",
      "9/9 [==============================] - 0s 2ms/step\n",
      "1/9 [==>...........................] - ETA: 0s"
     ]
    },
    {
     "name": "stderr",
     "output_type": "stream",
     "text": [
      "C:\\Users\\James\\AppData\\Local\\Temp\\ipykernel_18756\\1740219387.py:20: RuntimeWarning: invalid value encountered in long_scalars\n",
      "  precision_class_one = TP / (TP + FP)\n",
      "C:\\Users\\James\\AppData\\Local\\Temp\\ipykernel_18756\\1740219387.py:20: RuntimeWarning: invalid value encountered in long_scalars\n",
      "  precision_class_one = TP / (TP + FP)\n"
     ]
    },
    {
     "name": "stdout",
     "output_type": "stream",
     "text": [
      "9/9 [==============================] - 0s 2ms/step\n",
      "9/9 [==============================] - 0s 2ms/step\n"
     ]
    },
    {
     "name": "stderr",
     "output_type": "stream",
     "text": [
      "C:\\Users\\James\\AppData\\Local\\Temp\\ipykernel_18756\\1740219387.py:20: RuntimeWarning: invalid value encountered in long_scalars\n",
      "  precision_class_one = TP / (TP + FP)\n",
      "C:\\Users\\James\\AppData\\Local\\Temp\\ipykernel_18756\\1740219387.py:20: RuntimeWarning: invalid value encountered in long_scalars\n",
      "  precision_class_one = TP / (TP + FP)\n"
     ]
    },
    {
     "name": "stdout",
     "output_type": "stream",
     "text": [
      "9/9 [==============================] - 0s 2ms/step\n",
      "9/9 [==============================] - 0s 2ms/step\n"
     ]
    },
    {
     "name": "stderr",
     "output_type": "stream",
     "text": [
      "C:\\Users\\James\\AppData\\Local\\Temp\\ipykernel_18756\\1740219387.py:20: RuntimeWarning: invalid value encountered in long_scalars\n",
      "  precision_class_one = TP / (TP + FP)\n",
      "C:\\Users\\James\\AppData\\Local\\Temp\\ipykernel_18756\\1740219387.py:20: RuntimeWarning: invalid value encountered in long_scalars\n",
      "  precision_class_one = TP / (TP + FP)\n"
     ]
    },
    {
     "name": "stdout",
     "output_type": "stream",
     "text": [
      "9/9 [==============================] - 0s 2ms/step\n",
      "9/9 [==============================] - 0s 2ms/step\n"
     ]
    },
    {
     "name": "stderr",
     "output_type": "stream",
     "text": [
      "C:\\Users\\James\\AppData\\Local\\Temp\\ipykernel_18756\\1740219387.py:20: RuntimeWarning: invalid value encountered in long_scalars\n",
      "  precision_class_one = TP / (TP + FP)\n"
     ]
    },
    {
     "name": "stdout",
     "output_type": "stream",
     "text": [
      "9/9 [==============================] - 0s 3ms/step\n",
      "9/9 [==============================] - 0s 2ms/step\n",
      "9/9 [==============================] - 0s 2ms/step\n",
      "9/9 [==============================] - 0s 2ms/step\n"
     ]
    },
    {
     "name": "stderr",
     "output_type": "stream",
     "text": [
      "C:\\Users\\James\\AppData\\Local\\Temp\\ipykernel_18756\\1740219387.py:20: RuntimeWarning: invalid value encountered in long_scalars\n",
      "  precision_class_one = TP / (TP + FP)\n",
      "C:\\Users\\James\\AppData\\Local\\Temp\\ipykernel_18756\\1740219387.py:20: RuntimeWarning: invalid value encountered in long_scalars\n",
      "  precision_class_one = TP / (TP + FP)\n"
     ]
    },
    {
     "name": "stdout",
     "output_type": "stream",
     "text": [
      "9/9 [==============================] - 0s 2ms/step\n",
      "9/9 [==============================] - 0s 2ms/step\n"
     ]
    },
    {
     "name": "stderr",
     "output_type": "stream",
     "text": [
      "C:\\Users\\James\\AppData\\Local\\Temp\\ipykernel_18756\\1740219387.py:20: RuntimeWarning: invalid value encountered in long_scalars\n",
      "  precision_class_one = TP / (TP + FP)\n",
      "C:\\Users\\James\\AppData\\Local\\Temp\\ipykernel_18756\\1740219387.py:20: RuntimeWarning: invalid value encountered in long_scalars\n",
      "  precision_class_one = TP / (TP + FP)\n"
     ]
    },
    {
     "name": "stdout",
     "output_type": "stream",
     "text": [
      "9/9 [==============================] - 0s 2ms/step\n",
      "9/9 [==============================] - 0s 2ms/step\n",
      "9/9 [==============================] - 0s 2ms/step\n"
     ]
    },
    {
     "name": "stderr",
     "output_type": "stream",
     "text": [
      "C:\\Users\\James\\AppData\\Local\\Temp\\ipykernel_18756\\1740219387.py:20: RuntimeWarning: invalid value encountered in long_scalars\n",
      "  precision_class_one = TP / (TP + FP)\n"
     ]
    },
    {
     "name": "stdout",
     "output_type": "stream",
     "text": [
      "9/9 [==============================] - 0s 2ms/step\n",
      "9/9 [==============================] - 0s 2ms/step\n"
     ]
    },
    {
     "name": "stderr",
     "output_type": "stream",
     "text": [
      "C:\\Users\\James\\AppData\\Local\\Temp\\ipykernel_18756\\1740219387.py:20: RuntimeWarning: invalid value encountered in long_scalars\n",
      "  precision_class_one = TP / (TP + FP)\n",
      "C:\\Users\\James\\AppData\\Local\\Temp\\ipykernel_18756\\1740219387.py:20: RuntimeWarning: invalid value encountered in long_scalars\n",
      "  precision_class_one = TP / (TP + FP)\n"
     ]
    },
    {
     "name": "stdout",
     "output_type": "stream",
     "text": [
      "9/9 [==============================] - 0s 3ms/step\n",
      "9/9 [==============================] - 0s 2ms/step\n"
     ]
    },
    {
     "name": "stderr",
     "output_type": "stream",
     "text": [
      "C:\\Users\\James\\AppData\\Local\\Temp\\ipykernel_18756\\1740219387.py:20: RuntimeWarning: invalid value encountered in long_scalars\n",
      "  precision_class_one = TP / (TP + FP)\n",
      "C:\\Users\\James\\AppData\\Local\\Temp\\ipykernel_18756\\1740219387.py:20: RuntimeWarning: invalid value encountered in long_scalars\n",
      "  precision_class_one = TP / (TP + FP)\n"
     ]
    },
    {
     "name": "stdout",
     "output_type": "stream",
     "text": [
      "9/9 [==============================] - 0s 3ms/step\n",
      "9/9 [==============================] - 0s 2ms/step\n"
     ]
    },
    {
     "name": "stderr",
     "output_type": "stream",
     "text": [
      "C:\\Users\\James\\AppData\\Local\\Temp\\ipykernel_18756\\1740219387.py:20: RuntimeWarning: invalid value encountered in long_scalars\n",
      "  precision_class_one = TP / (TP + FP)\n",
      "C:\\Users\\James\\AppData\\Local\\Temp\\ipykernel_18756\\1740219387.py:20: RuntimeWarning: invalid value encountered in long_scalars\n",
      "  precision_class_one = TP / (TP + FP)\n"
     ]
    },
    {
     "name": "stdout",
     "output_type": "stream",
     "text": [
      "9/9 [==============================] - 0s 2ms/step\n",
      "9/9 [==============================] - 0s 2ms/step\n"
     ]
    },
    {
     "name": "stderr",
     "output_type": "stream",
     "text": [
      "C:\\Users\\James\\AppData\\Local\\Temp\\ipykernel_18756\\1740219387.py:20: RuntimeWarning: invalid value encountered in long_scalars\n",
      "  precision_class_one = TP / (TP + FP)\n"
     ]
    },
    {
     "name": "stdout",
     "output_type": "stream",
     "text": [
      "9/9 [==============================] - 0s 2ms/step\n",
      "9/9 [==============================] - 0s 2ms/step\n"
     ]
    },
    {
     "name": "stderr",
     "output_type": "stream",
     "text": [
      "C:\\Users\\James\\AppData\\Local\\Temp\\ipykernel_18756\\1740219387.py:20: RuntimeWarning: invalid value encountered in long_scalars\n",
      "  precision_class_one = TP / (TP + FP)\n"
     ]
    },
    {
     "name": "stdout",
     "output_type": "stream",
     "text": [
      "9/9 [==============================] - 0s 2ms/step\n",
      "9/9 [==============================] - 0s 2ms/step\n",
      "9/9 [==============================] - 0s 2ms/step\n",
      "9/9 [==============================] - 0s 2ms/step\n",
      "9/9 [==============================] - 0s 2ms/step\n",
      "9/9 [==============================] - 0s 2ms/step\n",
      "9/9 [==============================] - 0s 2ms/step\n"
     ]
    },
    {
     "name": "stderr",
     "output_type": "stream",
     "text": [
      "C:\\Users\\James\\AppData\\Local\\Temp\\ipykernel_18756\\1740219387.py:20: RuntimeWarning: invalid value encountered in long_scalars\n",
      "  precision_class_one = TP / (TP + FP)\n",
      "C:\\Users\\James\\AppData\\Local\\Temp\\ipykernel_18756\\1740219387.py:20: RuntimeWarning: invalid value encountered in long_scalars\n",
      "  precision_class_one = TP / (TP + FP)\n"
     ]
    },
    {
     "name": "stdout",
     "output_type": "stream",
     "text": [
      "9/9 [==============================] - 0s 2ms/step\n",
      "9/9 [==============================] - 0s 2ms/step\n"
     ]
    },
    {
     "name": "stderr",
     "output_type": "stream",
     "text": [
      "C:\\Users\\James\\AppData\\Local\\Temp\\ipykernel_18756\\1740219387.py:20: RuntimeWarning: invalid value encountered in long_scalars\n",
      "  precision_class_one = TP / (TP + FP)\n"
     ]
    },
    {
     "name": "stdout",
     "output_type": "stream",
     "text": [
      "9/9 [==============================] - 0s 3ms/step\n",
      "9/9 [==============================] - 0s 2ms/step\n"
     ]
    },
    {
     "name": "stderr",
     "output_type": "stream",
     "text": [
      "C:\\Users\\James\\AppData\\Local\\Temp\\ipykernel_18756\\1740219387.py:20: RuntimeWarning: invalid value encountered in long_scalars\n",
      "  precision_class_one = TP / (TP + FP)\n",
      "C:\\Users\\James\\AppData\\Local\\Temp\\ipykernel_18756\\1740219387.py:20: RuntimeWarning: invalid value encountered in long_scalars\n",
      "  precision_class_one = TP / (TP + FP)\n"
     ]
    },
    {
     "name": "stdout",
     "output_type": "stream",
     "text": [
      "9/9 [==============================] - 0s 3ms/step\n",
      "9/9 [==============================] - 0s 2ms/step\n",
      "9/9 [==============================] - 0s 2ms/step\n"
     ]
    },
    {
     "name": "stderr",
     "output_type": "stream",
     "text": [
      "C:\\Users\\James\\AppData\\Local\\Temp\\ipykernel_18756\\1740219387.py:20: RuntimeWarning: invalid value encountered in long_scalars\n",
      "  precision_class_one = TP / (TP + FP)\n"
     ]
    },
    {
     "name": "stdout",
     "output_type": "stream",
     "text": [
      "9/9 [==============================] - 0s 2ms/step\n",
      "9/9 [==============================] - 0s 2ms/step\n",
      "9/9 [==============================] - 0s 2ms/step\n",
      "9/9 [==============================] - 0s 2ms/step\n",
      "9/9 [==============================] - 0s 1ms/step\n",
      "9/9 [==============================] - 0s 2ms/step\n",
      "9/9 [==============================] - 0s 2ms/step\n",
      "9/9 [==============================] - 0s 2ms/step\n",
      "9/9 [==============================] - 0s 2ms/step\n",
      "9/9 [==============================] - 0s 2ms/step\n",
      "9/9 [==============================] - 0s 2ms/step\n",
      "9/9 [==============================] - 0s 2ms/step\n"
     ]
    },
    {
     "name": "stderr",
     "output_type": "stream",
     "text": [
      "C:\\Users\\James\\AppData\\Local\\Temp\\ipykernel_18756\\1740219387.py:20: RuntimeWarning: invalid value encountered in long_scalars\n",
      "  precision_class_one = TP / (TP + FP)\n",
      "C:\\Users\\James\\AppData\\Local\\Temp\\ipykernel_18756\\1740219387.py:20: RuntimeWarning: invalid value encountered in long_scalars\n",
      "  precision_class_one = TP / (TP + FP)\n"
     ]
    },
    {
     "name": "stdout",
     "output_type": "stream",
     "text": [
      "9/9 [==============================] - 0s 2ms/step\n",
      "9/9 [==============================] - 0s 2ms/step\n",
      "9/9 [==============================] - 0s 2ms/step\n"
     ]
    },
    {
     "name": "stderr",
     "output_type": "stream",
     "text": [
      "C:\\Users\\James\\AppData\\Local\\Temp\\ipykernel_18756\\1740219387.py:20: RuntimeWarning: invalid value encountered in long_scalars\n",
      "  precision_class_one = TP / (TP + FP)\n",
      "C:\\Users\\James\\AppData\\Local\\Temp\\ipykernel_18756\\1740219387.py:20: RuntimeWarning: invalid value encountered in long_scalars\n",
      "  precision_class_one = TP / (TP + FP)\n"
     ]
    },
    {
     "name": "stdout",
     "output_type": "stream",
     "text": [
      "9/9 [==============================] - 0s 2ms/step\n",
      "9/9 [==============================] - 0s 2ms/step\n"
     ]
    },
    {
     "name": "stderr",
     "output_type": "stream",
     "text": [
      "C:\\Users\\James\\AppData\\Local\\Temp\\ipykernel_18756\\1740219387.py:20: RuntimeWarning: invalid value encountered in long_scalars\n",
      "  precision_class_one = TP / (TP + FP)\n",
      "C:\\Users\\James\\AppData\\Local\\Temp\\ipykernel_18756\\1740219387.py:20: RuntimeWarning: invalid value encountered in long_scalars\n",
      "  precision_class_one = TP / (TP + FP)\n"
     ]
    },
    {
     "name": "stdout",
     "output_type": "stream",
     "text": [
      "9/9 [==============================] - 0s 2ms/step\n",
      "9/9 [==============================] - 0s 2ms/step\n"
     ]
    },
    {
     "name": "stderr",
     "output_type": "stream",
     "text": [
      "C:\\Users\\James\\AppData\\Local\\Temp\\ipykernel_18756\\1740219387.py:20: RuntimeWarning: invalid value encountered in long_scalars\n",
      "  precision_class_one = TP / (TP + FP)\n",
      "C:\\Users\\James\\AppData\\Local\\Temp\\ipykernel_18756\\1740219387.py:20: RuntimeWarning: invalid value encountered in long_scalars\n",
      "  precision_class_one = TP / (TP + FP)\n"
     ]
    },
    {
     "name": "stdout",
     "output_type": "stream",
     "text": [
      "9/9 [==============================] - 0s 3ms/step\n",
      "9/9 [==============================] - 0s 2ms/step\n"
     ]
    },
    {
     "name": "stderr",
     "output_type": "stream",
     "text": [
      "C:\\Users\\James\\AppData\\Local\\Temp\\ipykernel_18756\\1740219387.py:20: RuntimeWarning: invalid value encountered in long_scalars\n",
      "  precision_class_one = TP / (TP + FP)\n",
      "C:\\Users\\James\\AppData\\Local\\Temp\\ipykernel_18756\\1740219387.py:20: RuntimeWarning: invalid value encountered in long_scalars\n",
      "  precision_class_one = TP / (TP + FP)\n"
     ]
    },
    {
     "name": "stdout",
     "output_type": "stream",
     "text": [
      "9/9 [==============================] - 0s 2ms/step\n",
      "9/9 [==============================] - 0s 2ms/step\n"
     ]
    },
    {
     "name": "stderr",
     "output_type": "stream",
     "text": [
      "C:\\Users\\James\\AppData\\Local\\Temp\\ipykernel_18756\\1740219387.py:20: RuntimeWarning: invalid value encountered in long_scalars\n",
      "  precision_class_one = TP / (TP + FP)\n",
      "C:\\Users\\James\\AppData\\Local\\Temp\\ipykernel_18756\\1740219387.py:20: RuntimeWarning: invalid value encountered in long_scalars\n",
      "  precision_class_one = TP / (TP + FP)\n"
     ]
    },
    {
     "name": "stdout",
     "output_type": "stream",
     "text": [
      "9/9 [==============================] - 0s 3ms/step\n",
      "9/9 [==============================] - 0s 2ms/step\n",
      "9/9 [==============================] - 0s 2ms/step\n",
      "9/9 [==============================] - 0s 2ms/step\n",
      "9/9 [==============================] - 0s 2ms/step\n"
     ]
    },
    {
     "name": "stderr",
     "output_type": "stream",
     "text": [
      "C:\\Users\\James\\AppData\\Local\\Temp\\ipykernel_18756\\1740219387.py:20: RuntimeWarning: invalid value encountered in long_scalars\n",
      "  precision_class_one = TP / (TP + FP)\n",
      "C:\\Users\\James\\AppData\\Local\\Temp\\ipykernel_18756\\1740219387.py:20: RuntimeWarning: invalid value encountered in long_scalars\n",
      "  precision_class_one = TP / (TP + FP)\n"
     ]
    },
    {
     "name": "stdout",
     "output_type": "stream",
     "text": [
      "9/9 [==============================] - 0s 3ms/step\n",
      "9/9 [==============================] - 0s 2ms/step\n"
     ]
    },
    {
     "name": "stderr",
     "output_type": "stream",
     "text": [
      "C:\\Users\\James\\AppData\\Local\\Temp\\ipykernel_18756\\1740219387.py:20: RuntimeWarning: invalid value encountered in long_scalars\n",
      "  precision_class_one = TP / (TP + FP)\n",
      "C:\\Users\\James\\AppData\\Local\\Temp\\ipykernel_18756\\1740219387.py:20: RuntimeWarning: invalid value encountered in long_scalars\n",
      "  precision_class_one = TP / (TP + FP)\n"
     ]
    },
    {
     "name": "stdout",
     "output_type": "stream",
     "text": [
      "9/9 [==============================] - 0s 2ms/step\n",
      "9/9 [==============================] - 0s 2ms/step\n"
     ]
    },
    {
     "name": "stderr",
     "output_type": "stream",
     "text": [
      "C:\\Users\\James\\AppData\\Local\\Temp\\ipykernel_18756\\1740219387.py:20: RuntimeWarning: invalid value encountered in long_scalars\n",
      "  precision_class_one = TP / (TP + FP)\n",
      "C:\\Users\\James\\AppData\\Local\\Temp\\ipykernel_18756\\1740219387.py:20: RuntimeWarning: invalid value encountered in long_scalars\n",
      "  precision_class_one = TP / (TP + FP)\n"
     ]
    },
    {
     "name": "stdout",
     "output_type": "stream",
     "text": [
      "9/9 [==============================] - 0s 3ms/step\n",
      "9/9 [==============================] - 0s 2ms/step\n"
     ]
    },
    {
     "name": "stderr",
     "output_type": "stream",
     "text": [
      "C:\\Users\\James\\AppData\\Local\\Temp\\ipykernel_18756\\1740219387.py:20: RuntimeWarning: invalid value encountered in long_scalars\n",
      "  precision_class_one = TP / (TP + FP)\n"
     ]
    },
    {
     "name": "stdout",
     "output_type": "stream",
     "text": [
      "9/9 [==============================] - 0s 2ms/step\n",
      "9/9 [==============================] - 0s 2ms/step\n"
     ]
    },
    {
     "name": "stderr",
     "output_type": "stream",
     "text": [
      "C:\\Users\\James\\AppData\\Local\\Temp\\ipykernel_18756\\1740219387.py:20: RuntimeWarning: invalid value encountered in long_scalars\n",
      "  precision_class_one = TP / (TP + FP)\n",
      "C:\\Users\\James\\AppData\\Local\\Temp\\ipykernel_18756\\1740219387.py:20: RuntimeWarning: invalid value encountered in long_scalars\n",
      "  precision_class_one = TP / (TP + FP)\n"
     ]
    },
    {
     "name": "stdout",
     "output_type": "stream",
     "text": [
      "9/9 [==============================] - 0s 3ms/step\n",
      "9/9 [==============================] - 0s 2ms/step\n"
     ]
    },
    {
     "name": "stderr",
     "output_type": "stream",
     "text": [
      "C:\\Users\\James\\AppData\\Local\\Temp\\ipykernel_18756\\1740219387.py:20: RuntimeWarning: invalid value encountered in long_scalars\n",
      "  precision_class_one = TP / (TP + FP)\n",
      "C:\\Users\\James\\AppData\\Local\\Temp\\ipykernel_18756\\1740219387.py:20: RuntimeWarning: invalid value encountered in long_scalars\n",
      "  precision_class_one = TP / (TP + FP)\n"
     ]
    },
    {
     "name": "stdout",
     "output_type": "stream",
     "text": [
      "9/9 [==============================] - 0s 3ms/step\n",
      "9/9 [==============================] - 0s 2ms/step\n"
     ]
    },
    {
     "name": "stderr",
     "output_type": "stream",
     "text": [
      "C:\\Users\\James\\AppData\\Local\\Temp\\ipykernel_18756\\1740219387.py:20: RuntimeWarning: invalid value encountered in long_scalars\n",
      "  precision_class_one = TP / (TP + FP)\n",
      "C:\\Users\\James\\AppData\\Local\\Temp\\ipykernel_18756\\1740219387.py:20: RuntimeWarning: invalid value encountered in long_scalars\n",
      "  precision_class_one = TP / (TP + FP)\n"
     ]
    },
    {
     "name": "stdout",
     "output_type": "stream",
     "text": [
      "9/9 [==============================] - 0s 7ms/step\n",
      "9/9 [==============================] - 0s 2ms/step\n"
     ]
    },
    {
     "name": "stderr",
     "output_type": "stream",
     "text": [
      "C:\\Users\\James\\AppData\\Local\\Temp\\ipykernel_18756\\1740219387.py:20: RuntimeWarning: invalid value encountered in long_scalars\n",
      "  precision_class_one = TP / (TP + FP)\n"
     ]
    },
    {
     "name": "stdout",
     "output_type": "stream",
     "text": [
      "9/9 [==============================] - 0s 2ms/step\n",
      "9/9 [==============================] - 0s 2ms/step\n"
     ]
    },
    {
     "name": "stderr",
     "output_type": "stream",
     "text": [
      "C:\\Users\\James\\AppData\\Local\\Temp\\ipykernel_18756\\1740219387.py:20: RuntimeWarning: invalid value encountered in long_scalars\n",
      "  precision_class_one = TP / (TP + FP)\n"
     ]
    },
    {
     "name": "stdout",
     "output_type": "stream",
     "text": [
      "9/9 [==============================] - 0s 2ms/step\n",
      "9/9 [==============================] - 0s 2ms/step\n",
      "9/9 [==============================] - 0s 2ms/step\n"
     ]
    },
    {
     "name": "stderr",
     "output_type": "stream",
     "text": [
      "C:\\Users\\James\\AppData\\Local\\Temp\\ipykernel_18756\\1740219387.py:20: RuntimeWarning: invalid value encountered in long_scalars\n",
      "  precision_class_one = TP / (TP + FP)\n",
      "C:\\Users\\James\\AppData\\Local\\Temp\\ipykernel_18756\\1740219387.py:20: RuntimeWarning: invalid value encountered in long_scalars\n",
      "  precision_class_one = TP / (TP + FP)\n"
     ]
    },
    {
     "name": "stdout",
     "output_type": "stream",
     "text": [
      "9/9 [==============================] - 0s 2ms/step\n",
      "9/9 [==============================] - 0s 2ms/step\n"
     ]
    },
    {
     "name": "stderr",
     "output_type": "stream",
     "text": [
      "C:\\Users\\James\\AppData\\Local\\Temp\\ipykernel_18756\\1740219387.py:20: RuntimeWarning: invalid value encountered in long_scalars\n",
      "  precision_class_one = TP / (TP + FP)\n",
      "C:\\Users\\James\\AppData\\Local\\Temp\\ipykernel_18756\\1740219387.py:20: RuntimeWarning: invalid value encountered in long_scalars\n",
      "  precision_class_one = TP / (TP + FP)\n"
     ]
    },
    {
     "name": "stdout",
     "output_type": "stream",
     "text": [
      "9/9 [==============================] - 0s 2ms/step\n",
      "9/9 [==============================] - 0s 2ms/step\n",
      "9/9 [==============================] - 0s 2ms/step\n"
     ]
    },
    {
     "name": "stderr",
     "output_type": "stream",
     "text": [
      "C:\\Users\\James\\AppData\\Local\\Temp\\ipykernel_18756\\1740219387.py:20: RuntimeWarning: invalid value encountered in long_scalars\n",
      "  precision_class_one = TP / (TP + FP)\n",
      "C:\\Users\\James\\AppData\\Local\\Temp\\ipykernel_18756\\1740219387.py:20: RuntimeWarning: invalid value encountered in long_scalars\n",
      "  precision_class_one = TP / (TP + FP)\n"
     ]
    },
    {
     "name": "stdout",
     "output_type": "stream",
     "text": [
      "9/9 [==============================] - 0s 3ms/step\n",
      "9/9 [==============================] - 0s 2ms/step\n"
     ]
    },
    {
     "name": "stderr",
     "output_type": "stream",
     "text": [
      "C:\\Users\\James\\AppData\\Local\\Temp\\ipykernel_18756\\1740219387.py:20: RuntimeWarning: invalid value encountered in long_scalars\n",
      "  precision_class_one = TP / (TP + FP)\n",
      "C:\\Users\\James\\AppData\\Local\\Temp\\ipykernel_18756\\1740219387.py:20: RuntimeWarning: invalid value encountered in long_scalars\n",
      "  precision_class_one = TP / (TP + FP)\n"
     ]
    },
    {
     "name": "stdout",
     "output_type": "stream",
     "text": [
      "9/9 [==============================] - 0s 3ms/step\n",
      "9/9 [==============================] - 0s 2ms/step\n"
     ]
    },
    {
     "name": "stderr",
     "output_type": "stream",
     "text": [
      "C:\\Users\\James\\AppData\\Local\\Temp\\ipykernel_18756\\1740219387.py:20: RuntimeWarning: invalid value encountered in long_scalars\n",
      "  precision_class_one = TP / (TP + FP)\n",
      "C:\\Users\\James\\AppData\\Local\\Temp\\ipykernel_18756\\1740219387.py:20: RuntimeWarning: invalid value encountered in long_scalars\n",
      "  precision_class_one = TP / (TP + FP)\n"
     ]
    },
    {
     "name": "stdout",
     "output_type": "stream",
     "text": [
      "9/9 [==============================] - 0s 3ms/step\n",
      "9/9 [==============================] - 0s 2ms/step\n"
     ]
    },
    {
     "name": "stderr",
     "output_type": "stream",
     "text": [
      "C:\\Users\\James\\AppData\\Local\\Temp\\ipykernel_18756\\1740219387.py:20: RuntimeWarning: invalid value encountered in long_scalars\n",
      "  precision_class_one = TP / (TP + FP)\n",
      "C:\\Users\\James\\AppData\\Local\\Temp\\ipykernel_18756\\1740219387.py:20: RuntimeWarning: invalid value encountered in long_scalars\n",
      "  precision_class_one = TP / (TP + FP)\n"
     ]
    },
    {
     "name": "stdout",
     "output_type": "stream",
     "text": [
      "9/9 [==============================] - 0s 3ms/step\n",
      "9/9 [==============================] - 0s 2ms/step\n",
      "9/9 [==============================] - 0s 2ms/step\n"
     ]
    },
    {
     "name": "stderr",
     "output_type": "stream",
     "text": [
      "C:\\Users\\James\\AppData\\Local\\Temp\\ipykernel_18756\\1740219387.py:20: RuntimeWarning: invalid value encountered in long_scalars\n",
      "  precision_class_one = TP / (TP + FP)\n"
     ]
    },
    {
     "name": "stdout",
     "output_type": "stream",
     "text": [
      "9/9 [==============================] - 0s 2ms/step\n",
      "9/9 [==============================] - 0s 2ms/step\n"
     ]
    },
    {
     "name": "stderr",
     "output_type": "stream",
     "text": [
      "C:\\Users\\James\\AppData\\Local\\Temp\\ipykernel_18756\\1740219387.py:20: RuntimeWarning: invalid value encountered in long_scalars\n",
      "  precision_class_one = TP / (TP + FP)\n",
      "C:\\Users\\James\\AppData\\Local\\Temp\\ipykernel_18756\\1740219387.py:20: RuntimeWarning: invalid value encountered in long_scalars\n",
      "  precision_class_one = TP / (TP + FP)\n"
     ]
    },
    {
     "name": "stdout",
     "output_type": "stream",
     "text": [
      "9/9 [==============================] - 0s 3ms/step\n",
      "9/9 [==============================] - 0s 2ms/step\n",
      "9/9 [==============================] - 0s 2ms/step\n"
     ]
    },
    {
     "name": "stderr",
     "output_type": "stream",
     "text": [
      "C:\\Users\\James\\AppData\\Local\\Temp\\ipykernel_18756\\1740219387.py:20: RuntimeWarning: invalid value encountered in long_scalars\n",
      "  precision_class_one = TP / (TP + FP)\n",
      "C:\\Users\\James\\AppData\\Local\\Temp\\ipykernel_18756\\1740219387.py:20: RuntimeWarning: invalid value encountered in long_scalars\n",
      "  precision_class_one = TP / (TP + FP)\n"
     ]
    },
    {
     "name": "stdout",
     "output_type": "stream",
     "text": [
      "9/9 [==============================] - 0s 2ms/step\n",
      "9/9 [==============================] - 0s 2ms/step\n",
      "9/9 [==============================] - 0s 2ms/step\n",
      "9/9 [==============================] - 0s 2ms/step\n",
      "9/9 [==============================] - 0s 2ms/step\n"
     ]
    },
    {
     "name": "stderr",
     "output_type": "stream",
     "text": [
      "C:\\Users\\James\\AppData\\Local\\Temp\\ipykernel_18756\\1740219387.py:20: RuntimeWarning: invalid value encountered in long_scalars\n",
      "  precision_class_one = TP / (TP + FP)\n"
     ]
    },
    {
     "name": "stdout",
     "output_type": "stream",
     "text": [
      "9/9 [==============================] - 0s 2ms/step\n",
      "9/9 [==============================] - 0s 2ms/step\n",
      "1/9 [==>...........................] - ETA: 0s"
     ]
    },
    {
     "name": "stderr",
     "output_type": "stream",
     "text": [
      "C:\\Users\\James\\AppData\\Local\\Temp\\ipykernel_18756\\1740219387.py:20: RuntimeWarning: invalid value encountered in long_scalars\n",
      "  precision_class_one = TP / (TP + FP)\n",
      "C:\\Users\\James\\AppData\\Local\\Temp\\ipykernel_18756\\1740219387.py:20: RuntimeWarning: invalid value encountered in long_scalars\n",
      "  precision_class_one = TP / (TP + FP)\n"
     ]
    },
    {
     "name": "stdout",
     "output_type": "stream",
     "text": [
      "9/9 [==============================] - 0s 2ms/step\n",
      "9/9 [==============================] - 0s 2ms/step\n",
      "9/9 [==============================] - 0s 2ms/step\n",
      "9/9 [==============================] - 0s 2ms/step\n"
     ]
    },
    {
     "name": "stderr",
     "output_type": "stream",
     "text": [
      "C:\\Users\\James\\AppData\\Local\\Temp\\ipykernel_18756\\1740219387.py:20: RuntimeWarning: invalid value encountered in long_scalars\n",
      "  precision_class_one = TP / (TP + FP)\n"
     ]
    },
    {
     "name": "stdout",
     "output_type": "stream",
     "text": [
      "9/9 [==============================] - 0s 2ms/step\n",
      "9/9 [==============================] - 0s 2ms/step\n"
     ]
    },
    {
     "name": "stderr",
     "output_type": "stream",
     "text": [
      "C:\\Users\\James\\AppData\\Local\\Temp\\ipykernel_18756\\1740219387.py:20: RuntimeWarning: invalid value encountered in long_scalars\n",
      "  precision_class_one = TP / (TP + FP)\n",
      "C:\\Users\\James\\AppData\\Local\\Temp\\ipykernel_18756\\1740219387.py:20: RuntimeWarning: invalid value encountered in long_scalars\n",
      "  precision_class_one = TP / (TP + FP)\n"
     ]
    },
    {
     "name": "stdout",
     "output_type": "stream",
     "text": [
      "9/9 [==============================] - 0s 2ms/step\n",
      "9/9 [==============================] - 0s 2ms/step\n"
     ]
    },
    {
     "name": "stderr",
     "output_type": "stream",
     "text": [
      "C:\\Users\\James\\AppData\\Local\\Temp\\ipykernel_18756\\1740219387.py:20: RuntimeWarning: invalid value encountered in long_scalars\n",
      "  precision_class_one = TP / (TP + FP)\n"
     ]
    },
    {
     "name": "stdout",
     "output_type": "stream",
     "text": [
      "9/9 [==============================] - 0s 3ms/step\n",
      "9/9 [==============================] - 0s 2ms/step\n",
      "9/9 [==============================] - 0s 2ms/step\n",
      "9/9 [==============================] - 0s 2ms/step\n",
      "9/9 [==============================] - 0s 2ms/step\n",
      "9/9 [==============================] - 0s 2ms/step\n",
      "9/9 [==============================] - 0s 2ms/step\n",
      "9/9 [==============================] - 0s 2ms/step\n",
      "9/9 [==============================] - 0s 2ms/step\n",
      "9/9 [==============================] - 0s 2ms/step\n",
      "9/9 [==============================] - 0s 2ms/step\n"
     ]
    },
    {
     "name": "stderr",
     "output_type": "stream",
     "text": [
      "C:\\Users\\James\\AppData\\Local\\Temp\\ipykernel_18756\\1740219387.py:20: RuntimeWarning: invalid value encountered in long_scalars\n",
      "  precision_class_one = TP / (TP + FP)\n"
     ]
    },
    {
     "name": "stdout",
     "output_type": "stream",
     "text": [
      "9/9 [==============================] - 0s 3ms/step\n",
      "9/9 [==============================] - 0s 2ms/step\n",
      "9/9 [==============================] - 0s 2ms/step\n"
     ]
    },
    {
     "name": "stderr",
     "output_type": "stream",
     "text": [
      "C:\\Users\\James\\AppData\\Local\\Temp\\ipykernel_18756\\1740219387.py:20: RuntimeWarning: invalid value encountered in long_scalars\n",
      "  precision_class_one = TP / (TP + FP)\n",
      "C:\\Users\\James\\AppData\\Local\\Temp\\ipykernel_18756\\1740219387.py:20: RuntimeWarning: invalid value encountered in long_scalars\n",
      "  precision_class_one = TP / (TP + FP)\n"
     ]
    },
    {
     "name": "stdout",
     "output_type": "stream",
     "text": [
      "9/9 [==============================] - 0s 2ms/step\n",
      "9/9 [==============================] - 0s 2ms/step\n"
     ]
    },
    {
     "name": "stderr",
     "output_type": "stream",
     "text": [
      "C:\\Users\\James\\AppData\\Local\\Temp\\ipykernel_18756\\1740219387.py:20: RuntimeWarning: invalid value encountered in long_scalars\n",
      "  precision_class_one = TP / (TP + FP)\n",
      "C:\\Users\\James\\AppData\\Local\\Temp\\ipykernel_18756\\1740219387.py:20: RuntimeWarning: invalid value encountered in long_scalars\n",
      "  precision_class_one = TP / (TP + FP)\n"
     ]
    },
    {
     "name": "stdout",
     "output_type": "stream",
     "text": [
      "9/9 [==============================] - 0s 2ms/step\n",
      "9/9 [==============================] - 0s 2ms/step\n"
     ]
    },
    {
     "name": "stderr",
     "output_type": "stream",
     "text": [
      "C:\\Users\\James\\AppData\\Local\\Temp\\ipykernel_18756\\1740219387.py:20: RuntimeWarning: invalid value encountered in long_scalars\n",
      "  precision_class_one = TP / (TP + FP)\n",
      "C:\\Users\\James\\AppData\\Local\\Temp\\ipykernel_18756\\1740219387.py:20: RuntimeWarning: invalid value encountered in long_scalars\n",
      "  precision_class_one = TP / (TP + FP)\n"
     ]
    },
    {
     "name": "stdout",
     "output_type": "stream",
     "text": [
      "9/9 [==============================] - 0s 2ms/step\n",
      "9/9 [==============================] - 0s 2ms/step\n"
     ]
    },
    {
     "name": "stderr",
     "output_type": "stream",
     "text": [
      "C:\\Users\\James\\AppData\\Local\\Temp\\ipykernel_18756\\1740219387.py:20: RuntimeWarning: invalid value encountered in long_scalars\n",
      "  precision_class_one = TP / (TP + FP)\n"
     ]
    },
    {
     "name": "stdout",
     "output_type": "stream",
     "text": [
      "9/9 [==============================] - 0s 2ms/step\n",
      "9/9 [==============================] - 0s 2ms/step\n"
     ]
    },
    {
     "name": "stderr",
     "output_type": "stream",
     "text": [
      "C:\\Users\\James\\AppData\\Local\\Temp\\ipykernel_18756\\1740219387.py:20: RuntimeWarning: invalid value encountered in long_scalars\n",
      "  precision_class_one = TP / (TP + FP)\n",
      "C:\\Users\\James\\AppData\\Local\\Temp\\ipykernel_18756\\1740219387.py:20: RuntimeWarning: invalid value encountered in long_scalars\n",
      "  precision_class_one = TP / (TP + FP)\n"
     ]
    },
    {
     "name": "stdout",
     "output_type": "stream",
     "text": [
      "9/9 [==============================] - 0s 2ms/step\n",
      "9/9 [==============================] - 0s 3ms/step\n",
      "9/9 [==============================] - 0s 2ms/step\n"
     ]
    },
    {
     "name": "stderr",
     "output_type": "stream",
     "text": [
      "C:\\Users\\James\\AppData\\Local\\Temp\\ipykernel_18756\\1740219387.py:20: RuntimeWarning: invalid value encountered in long_scalars\n",
      "  precision_class_one = TP / (TP + FP)\n",
      "C:\\Users\\James\\AppData\\Local\\Temp\\ipykernel_18756\\1740219387.py:20: RuntimeWarning: invalid value encountered in long_scalars\n",
      "  precision_class_one = TP / (TP + FP)\n"
     ]
    },
    {
     "name": "stdout",
     "output_type": "stream",
     "text": [
      "9/9 [==============================] - 0s 2ms/step\n",
      "9/9 [==============================] - 0s 2ms/step\n"
     ]
    },
    {
     "name": "stderr",
     "output_type": "stream",
     "text": [
      "C:\\Users\\James\\AppData\\Local\\Temp\\ipykernel_18756\\1740219387.py:20: RuntimeWarning: invalid value encountered in long_scalars\n",
      "  precision_class_one = TP / (TP + FP)\n"
     ]
    },
    {
     "name": "stdout",
     "output_type": "stream",
     "text": [
      "9/9 [==============================] - 0s 2ms/step\n",
      "9/9 [==============================] - 0s 2ms/step\n"
     ]
    },
    {
     "name": "stderr",
     "output_type": "stream",
     "text": [
      "C:\\Users\\James\\AppData\\Local\\Temp\\ipykernel_18756\\1740219387.py:20: RuntimeWarning: invalid value encountered in long_scalars\n",
      "  precision_class_one = TP / (TP + FP)\n",
      "C:\\Users\\James\\AppData\\Local\\Temp\\ipykernel_18756\\1740219387.py:20: RuntimeWarning: invalid value encountered in long_scalars\n",
      "  precision_class_one = TP / (TP + FP)\n"
     ]
    },
    {
     "name": "stdout",
     "output_type": "stream",
     "text": [
      "9/9 [==============================] - 0s 3ms/step\n",
      "9/9 [==============================] - 0s 2ms/step\n"
     ]
    },
    {
     "name": "stderr",
     "output_type": "stream",
     "text": [
      "C:\\Users\\James\\AppData\\Local\\Temp\\ipykernel_18756\\1740219387.py:20: RuntimeWarning: invalid value encountered in long_scalars\n",
      "  precision_class_one = TP / (TP + FP)\n",
      "C:\\Users\\James\\AppData\\Local\\Temp\\ipykernel_18756\\1740219387.py:20: RuntimeWarning: invalid value encountered in long_scalars\n",
      "  precision_class_one = TP / (TP + FP)\n"
     ]
    },
    {
     "name": "stdout",
     "output_type": "stream",
     "text": [
      "9/9 [==============================] - 0s 2ms/step\n",
      "9/9 [==============================] - 0s 2ms/step\n"
     ]
    },
    {
     "name": "stderr",
     "output_type": "stream",
     "text": [
      "C:\\Users\\James\\AppData\\Local\\Temp\\ipykernel_18756\\1740219387.py:20: RuntimeWarning: invalid value encountered in long_scalars\n",
      "  precision_class_one = TP / (TP + FP)\n"
     ]
    },
    {
     "name": "stdout",
     "output_type": "stream",
     "text": [
      "9/9 [==============================] - 0s 3ms/step\n",
      "9/9 [==============================] - 0s 2ms/step\n"
     ]
    },
    {
     "name": "stderr",
     "output_type": "stream",
     "text": [
      "C:\\Users\\James\\AppData\\Local\\Temp\\ipykernel_18756\\1740219387.py:20: RuntimeWarning: invalid value encountered in long_scalars\n",
      "  precision_class_one = TP / (TP + FP)\n"
     ]
    },
    {
     "name": "stdout",
     "output_type": "stream",
     "text": [
      "9/9 [==============================] - 0s 8ms/step\n",
      "9/9 [==============================] - 0s 2ms/step\n"
     ]
    },
    {
     "name": "stderr",
     "output_type": "stream",
     "text": [
      "C:\\Users\\James\\AppData\\Local\\Temp\\ipykernel_18756\\1740219387.py:20: RuntimeWarning: invalid value encountered in long_scalars\n",
      "  precision_class_one = TP / (TP + FP)\n",
      "C:\\Users\\James\\AppData\\Local\\Temp\\ipykernel_18756\\1740219387.py:20: RuntimeWarning: invalid value encountered in long_scalars\n",
      "  precision_class_one = TP / (TP + FP)\n"
     ]
    },
    {
     "name": "stdout",
     "output_type": "stream",
     "text": [
      "9/9 [==============================] - 0s 2ms/step\n",
      "9/9 [==============================] - 0s 3ms/step\n"
     ]
    },
    {
     "name": "stderr",
     "output_type": "stream",
     "text": [
      "C:\\Users\\James\\AppData\\Local\\Temp\\ipykernel_18756\\1740219387.py:20: RuntimeWarning: invalid value encountered in long_scalars\n",
      "  precision_class_one = TP / (TP + FP)\n",
      "C:\\Users\\James\\AppData\\Local\\Temp\\ipykernel_18756\\1740219387.py:20: RuntimeWarning: invalid value encountered in long_scalars\n",
      "  precision_class_one = TP / (TP + FP)\n"
     ]
    },
    {
     "name": "stdout",
     "output_type": "stream",
     "text": [
      "9/9 [==============================] - 0s 3ms/step\n",
      "9/9 [==============================] - 0s 3ms/step\n"
     ]
    },
    {
     "name": "stderr",
     "output_type": "stream",
     "text": [
      "C:\\Users\\James\\AppData\\Local\\Temp\\ipykernel_18756\\1740219387.py:20: RuntimeWarning: invalid value encountered in long_scalars\n",
      "  precision_class_one = TP / (TP + FP)\n",
      "C:\\Users\\James\\AppData\\Local\\Temp\\ipykernel_18756\\1740219387.py:20: RuntimeWarning: invalid value encountered in long_scalars\n",
      "  precision_class_one = TP / (TP + FP)\n"
     ]
    },
    {
     "name": "stdout",
     "output_type": "stream",
     "text": [
      "9/9 [==============================] - 0s 3ms/step\n",
      "1/9 [==>...........................] - ETA: 0s"
     ]
    },
    {
     "name": "stderr",
     "output_type": "stream",
     "text": [
      "C:\\Users\\James\\AppData\\Local\\Temp\\ipykernel_18756\\1740219387.py:20: RuntimeWarning: invalid value encountered in long_scalars\n",
      "  precision_class_one = TP / (TP + FP)\n"
     ]
    },
    {
     "name": "stdout",
     "output_type": "stream",
     "text": [
      "9/9 [==============================] - 0s 3ms/step\n",
      "9/9 [==============================] - 0s 3ms/step\n"
     ]
    },
    {
     "name": "stderr",
     "output_type": "stream",
     "text": [
      "C:\\Users\\James\\AppData\\Local\\Temp\\ipykernel_18756\\1740219387.py:20: RuntimeWarning: invalid value encountered in long_scalars\n",
      "  precision_class_one = TP / (TP + FP)\n",
      "C:\\Users\\James\\AppData\\Local\\Temp\\ipykernel_18756\\1740219387.py:20: RuntimeWarning: invalid value encountered in long_scalars\n",
      "  precision_class_one = TP / (TP + FP)\n"
     ]
    },
    {
     "name": "stdout",
     "output_type": "stream",
     "text": [
      "9/9 [==============================] - 0s 2ms/step\n",
      "9/9 [==============================] - 0s 2ms/step\n",
      "9/9 [==============================] - 0s 2ms/step\n",
      "9/9 [==============================] - 0s 2ms/step\n",
      "9/9 [==============================] - 0s 2ms/step\n",
      "9/9 [==============================] - 0s 2ms/step\n"
     ]
    },
    {
     "name": "stderr",
     "output_type": "stream",
     "text": [
      "C:\\Users\\James\\AppData\\Local\\Temp\\ipykernel_18756\\1740219387.py:20: RuntimeWarning: invalid value encountered in long_scalars\n",
      "  precision_class_one = TP / (TP + FP)\n",
      "C:\\Users\\James\\AppData\\Local\\Temp\\ipykernel_18756\\1740219387.py:20: RuntimeWarning: invalid value encountered in long_scalars\n",
      "  precision_class_one = TP / (TP + FP)\n"
     ]
    },
    {
     "name": "stdout",
     "output_type": "stream",
     "text": [
      "9/9 [==============================] - 0s 2ms/step\n",
      "9/9 [==============================] - 0s 2ms/step\n"
     ]
    },
    {
     "name": "stderr",
     "output_type": "stream",
     "text": [
      "C:\\Users\\James\\AppData\\Local\\Temp\\ipykernel_18756\\1740219387.py:20: RuntimeWarning: invalid value encountered in long_scalars\n",
      "  precision_class_one = TP / (TP + FP)\n",
      "C:\\Users\\James\\AppData\\Local\\Temp\\ipykernel_18756\\1740219387.py:20: RuntimeWarning: invalid value encountered in long_scalars\n",
      "  precision_class_one = TP / (TP + FP)\n"
     ]
    },
    {
     "name": "stdout",
     "output_type": "stream",
     "text": [
      "9/9 [==============================] - 0s 7ms/step\n",
      "9/9 [==============================] - 0s 3ms/step\n"
     ]
    },
    {
     "name": "stderr",
     "output_type": "stream",
     "text": [
      "C:\\Users\\James\\AppData\\Local\\Temp\\ipykernel_18756\\1740219387.py:20: RuntimeWarning: invalid value encountered in long_scalars\n",
      "  precision_class_one = TP / (TP + FP)\n",
      "C:\\Users\\James\\AppData\\Local\\Temp\\ipykernel_18756\\1740219387.py:20: RuntimeWarning: invalid value encountered in long_scalars\n",
      "  precision_class_one = TP / (TP + FP)\n"
     ]
    },
    {
     "name": "stdout",
     "output_type": "stream",
     "text": [
      "9/9 [==============================] - 0s 3ms/step\n",
      "9/9 [==============================] - 0s 2ms/step\n"
     ]
    },
    {
     "name": "stderr",
     "output_type": "stream",
     "text": [
      "C:\\Users\\James\\AppData\\Local\\Temp\\ipykernel_18756\\1740219387.py:20: RuntimeWarning: invalid value encountered in long_scalars\n",
      "  precision_class_one = TP / (TP + FP)\n",
      "C:\\Users\\James\\AppData\\Local\\Temp\\ipykernel_18756\\1740219387.py:20: RuntimeWarning: invalid value encountered in long_scalars\n",
      "  precision_class_one = TP / (TP + FP)\n"
     ]
    },
    {
     "name": "stdout",
     "output_type": "stream",
     "text": [
      "9/9 [==============================] - 0s 2ms/step\n",
      "9/9 [==============================] - 0s 2ms/step\n",
      "1/9 [==>...........................] - ETA: 0s"
     ]
    },
    {
     "name": "stderr",
     "output_type": "stream",
     "text": [
      "C:\\Users\\James\\AppData\\Local\\Temp\\ipykernel_18756\\1740219387.py:20: RuntimeWarning: invalid value encountered in long_scalars\n",
      "  precision_class_one = TP / (TP + FP)\n",
      "C:\\Users\\James\\AppData\\Local\\Temp\\ipykernel_18756\\1740219387.py:20: RuntimeWarning: invalid value encountered in long_scalars\n",
      "  precision_class_one = TP / (TP + FP)\n"
     ]
    },
    {
     "name": "stdout",
     "output_type": "stream",
     "text": [
      "9/9 [==============================] - 0s 2ms/step\n",
      "9/9 [==============================] - 0s 2ms/step\n",
      "9/9 [==============================] - 0s 2ms/step\n"
     ]
    },
    {
     "name": "stderr",
     "output_type": "stream",
     "text": [
      "C:\\Users\\James\\AppData\\Local\\Temp\\ipykernel_18756\\1740219387.py:20: RuntimeWarning: invalid value encountered in long_scalars\n",
      "  precision_class_one = TP / (TP + FP)\n",
      "C:\\Users\\James\\AppData\\Local\\Temp\\ipykernel_18756\\1740219387.py:20: RuntimeWarning: invalid value encountered in long_scalars\n",
      "  precision_class_one = TP / (TP + FP)\n"
     ]
    },
    {
     "name": "stdout",
     "output_type": "stream",
     "text": [
      "9/9 [==============================] - 0s 1ms/step\n",
      "9/9 [==============================] - 0s 2ms/step\n"
     ]
    },
    {
     "name": "stderr",
     "output_type": "stream",
     "text": [
      "C:\\Users\\James\\AppData\\Local\\Temp\\ipykernel_18756\\1740219387.py:20: RuntimeWarning: invalid value encountered in long_scalars\n",
      "  precision_class_one = TP / (TP + FP)\n",
      "C:\\Users\\James\\AppData\\Local\\Temp\\ipykernel_18756\\1740219387.py:20: RuntimeWarning: invalid value encountered in long_scalars\n",
      "  precision_class_one = TP / (TP + FP)\n"
     ]
    },
    {
     "name": "stdout",
     "output_type": "stream",
     "text": [
      "9/9 [==============================] - 0s 2ms/step\n",
      "9/9 [==============================] - 0s 2ms/step\n",
      "9/9 [==============================] - 0s 2ms/step\n"
     ]
    },
    {
     "name": "stderr",
     "output_type": "stream",
     "text": [
      "C:\\Users\\James\\AppData\\Local\\Temp\\ipykernel_18756\\1740219387.py:20: RuntimeWarning: invalid value encountered in long_scalars\n",
      "  precision_class_one = TP / (TP + FP)\n",
      "C:\\Users\\James\\AppData\\Local\\Temp\\ipykernel_18756\\1740219387.py:20: RuntimeWarning: invalid value encountered in long_scalars\n",
      "  precision_class_one = TP / (TP + FP)\n",
      "C:\\Users\\James\\AppData\\Local\\Temp\\ipykernel_18756\\1740219387.py:20: RuntimeWarning: invalid value encountered in long_scalars\n",
      "  precision_class_one = TP / (TP + FP)\n"
     ]
    },
    {
     "name": "stdout",
     "output_type": "stream",
     "text": [
      "9/9 [==============================] - 0s 4ms/step\n",
      "9/9 [==============================] - 0s 2ms/step\n",
      "9/9 [==============================] - 0s 2ms/step\n",
      "9/9 [==============================] - 0s 1ms/step\n"
     ]
    },
    {
     "name": "stderr",
     "output_type": "stream",
     "text": [
      "C:\\Users\\James\\AppData\\Local\\Temp\\ipykernel_18756\\1740219387.py:20: RuntimeWarning: invalid value encountered in long_scalars\n",
      "  precision_class_one = TP / (TP + FP)\n",
      "C:\\Users\\James\\AppData\\Local\\Temp\\ipykernel_18756\\1740219387.py:20: RuntimeWarning: invalid value encountered in long_scalars\n",
      "  precision_class_one = TP / (TP + FP)\n"
     ]
    },
    {
     "name": "stdout",
     "output_type": "stream",
     "text": [
      "9/9 [==============================] - 0s 2ms/step\n",
      "9/9 [==============================] - 0s 2ms/step\n"
     ]
    },
    {
     "name": "stderr",
     "output_type": "stream",
     "text": [
      "C:\\Users\\James\\AppData\\Local\\Temp\\ipykernel_18756\\1740219387.py:20: RuntimeWarning: invalid value encountered in long_scalars\n",
      "  precision_class_one = TP / (TP + FP)\n",
      "C:\\Users\\James\\AppData\\Local\\Temp\\ipykernel_18756\\1740219387.py:20: RuntimeWarning: invalid value encountered in long_scalars\n",
      "  precision_class_one = TP / (TP + FP)\n",
      "C:\\Users\\James\\AppData\\Local\\Temp\\ipykernel_18756\\1740219387.py:20: RuntimeWarning: invalid value encountered in long_scalars\n",
      "  precision_class_one = TP / (TP + FP)\n"
     ]
    },
    {
     "name": "stdout",
     "output_type": "stream",
     "text": [
      "9/9 [==============================] - 0s 1ms/step\n",
      "9/9 [==============================] - 0s 2ms/step\n",
      "9/9 [==============================] - 0s 2ms/step\n",
      "9/9 [==============================] - 0s 2ms/step\n",
      "9/9 [==============================] - 0s 2ms/step\n",
      "9/9 [==============================] - 0s 1ms/step\n",
      "9/9 [==============================] - 0s 1ms/step\n"
     ]
    },
    {
     "name": "stderr",
     "output_type": "stream",
     "text": [
      "C:\\Users\\James\\AppData\\Local\\Temp\\ipykernel_18756\\1740219387.py:20: RuntimeWarning: invalid value encountered in long_scalars\n",
      "  precision_class_one = TP / (TP + FP)\n",
      "C:\\Users\\James\\AppData\\Local\\Temp\\ipykernel_18756\\1740219387.py:20: RuntimeWarning: invalid value encountered in long_scalars\n",
      "  precision_class_one = TP / (TP + FP)\n",
      "C:\\Users\\James\\AppData\\Local\\Temp\\ipykernel_18756\\1740219387.py:20: RuntimeWarning: invalid value encountered in long_scalars\n",
      "  precision_class_one = TP / (TP + FP)\n"
     ]
    },
    {
     "name": "stdout",
     "output_type": "stream",
     "text": [
      "9/9 [==============================] - 0s 2ms/step\n",
      "9/9 [==============================] - 0s 2ms/step\n",
      "9/9 [==============================] - 0s 2ms/step\n"
     ]
    },
    {
     "name": "stderr",
     "output_type": "stream",
     "text": [
      "C:\\Users\\James\\AppData\\Local\\Temp\\ipykernel_18756\\1740219387.py:20: RuntimeWarning: invalid value encountered in long_scalars\n",
      "  precision_class_one = TP / (TP + FP)\n",
      "C:\\Users\\James\\AppData\\Local\\Temp\\ipykernel_18756\\1740219387.py:20: RuntimeWarning: invalid value encountered in long_scalars\n",
      "  precision_class_one = TP / (TP + FP)\n"
     ]
    },
    {
     "name": "stdout",
     "output_type": "stream",
     "text": [
      "9/9 [==============================] - 0s 1ms/step\n",
      "9/9 [==============================] - 0s 2ms/step\n"
     ]
    },
    {
     "name": "stderr",
     "output_type": "stream",
     "text": [
      "C:\\Users\\James\\AppData\\Local\\Temp\\ipykernel_18756\\1740219387.py:20: RuntimeWarning: invalid value encountered in long_scalars\n",
      "  precision_class_one = TP / (TP + FP)\n",
      "C:\\Users\\James\\AppData\\Local\\Temp\\ipykernel_18756\\1740219387.py:20: RuntimeWarning: invalid value encountered in long_scalars\n",
      "  precision_class_one = TP / (TP + FP)\n",
      "C:\\Users\\James\\AppData\\Local\\Temp\\ipykernel_18756\\1740219387.py:20: RuntimeWarning: invalid value encountered in long_scalars\n",
      "  precision_class_one = TP / (TP + FP)\n"
     ]
    },
    {
     "name": "stdout",
     "output_type": "stream",
     "text": [
      "9/9 [==============================] - 0s 1ms/step\n",
      "9/9 [==============================] - 0s 1ms/step\n",
      "9/9 [==============================] - 0s 1ms/step\n"
     ]
    },
    {
     "name": "stderr",
     "output_type": "stream",
     "text": [
      "C:\\Users\\James\\AppData\\Local\\Temp\\ipykernel_18756\\1740219387.py:20: RuntimeWarning: invalid value encountered in long_scalars\n",
      "  precision_class_one = TP / (TP + FP)\n",
      "C:\\Users\\James\\AppData\\Local\\Temp\\ipykernel_18756\\1740219387.py:20: RuntimeWarning: invalid value encountered in long_scalars\n",
      "  precision_class_one = TP / (TP + FP)\n",
      "C:\\Users\\James\\AppData\\Local\\Temp\\ipykernel_18756\\1740219387.py:20: RuntimeWarning: invalid value encountered in long_scalars\n",
      "  precision_class_one = TP / (TP + FP)\n"
     ]
    },
    {
     "name": "stdout",
     "output_type": "stream",
     "text": [
      "9/9 [==============================] - 0s 2ms/step\n",
      "9/9 [==============================] - 0s 1ms/step\n",
      "9/9 [==============================] - 0s 1ms/step\n"
     ]
    },
    {
     "name": "stderr",
     "output_type": "stream",
     "text": [
      "C:\\Users\\James\\AppData\\Local\\Temp\\ipykernel_18756\\1740219387.py:20: RuntimeWarning: invalid value encountered in long_scalars\n",
      "  precision_class_one = TP / (TP + FP)\n"
     ]
    },
    {
     "name": "stdout",
     "output_type": "stream",
     "text": [
      "9/9 [==============================] - 0s 1ms/step\n",
      "9/9 [==============================] - 0s 1ms/step\n",
      "1/9 [==>...........................] - ETA: 0s"
     ]
    },
    {
     "name": "stderr",
     "output_type": "stream",
     "text": [
      "C:\\Users\\James\\AppData\\Local\\Temp\\ipykernel_18756\\1740219387.py:20: RuntimeWarning: invalid value encountered in long_scalars\n",
      "  precision_class_one = TP / (TP + FP)\n",
      "C:\\Users\\James\\AppData\\Local\\Temp\\ipykernel_18756\\1740219387.py:20: RuntimeWarning: invalid value encountered in long_scalars\n",
      "  precision_class_one = TP / (TP + FP)\n"
     ]
    },
    {
     "name": "stdout",
     "output_type": "stream",
     "text": [
      "9/9 [==============================] - 0s 2ms/step\n",
      "9/9 [==============================] - 0s 1ms/step\n",
      "9/9 [==============================] - 0s 2ms/step\n"
     ]
    },
    {
     "name": "stderr",
     "output_type": "stream",
     "text": [
      "C:\\Users\\James\\AppData\\Local\\Temp\\ipykernel_18756\\1740219387.py:20: RuntimeWarning: invalid value encountered in long_scalars\n",
      "  precision_class_one = TP / (TP + FP)\n",
      "C:\\Users\\James\\AppData\\Local\\Temp\\ipykernel_18756\\1740219387.py:20: RuntimeWarning: invalid value encountered in long_scalars\n",
      "  precision_class_one = TP / (TP + FP)\n",
      "C:\\Users\\James\\AppData\\Local\\Temp\\ipykernel_18756\\1740219387.py:20: RuntimeWarning: invalid value encountered in long_scalars\n",
      "  precision_class_one = TP / (TP + FP)\n"
     ]
    },
    {
     "name": "stdout",
     "output_type": "stream",
     "text": [
      "9/9 [==============================] - 0s 1ms/step\n",
      "9/9 [==============================] - 0s 1ms/step\n",
      "9/9 [==============================] - 0s 2ms/step\n"
     ]
    },
    {
     "name": "stderr",
     "output_type": "stream",
     "text": [
      "C:\\Users\\James\\AppData\\Local\\Temp\\ipykernel_18756\\1740219387.py:20: RuntimeWarning: invalid value encountered in long_scalars\n",
      "  precision_class_one = TP / (TP + FP)\n",
      "C:\\Users\\James\\AppData\\Local\\Temp\\ipykernel_18756\\1740219387.py:20: RuntimeWarning: invalid value encountered in long_scalars\n",
      "  precision_class_one = TP / (TP + FP)\n",
      "C:\\Users\\James\\AppData\\Local\\Temp\\ipykernel_18756\\1740219387.py:20: RuntimeWarning: invalid value encountered in long_scalars\n",
      "  precision_class_one = TP / (TP + FP)\n"
     ]
    },
    {
     "name": "stdout",
     "output_type": "stream",
     "text": [
      "9/9 [==============================] - 0s 2ms/step\n",
      "9/9 [==============================] - 0s 2ms/step\n",
      "9/9 [==============================] - 0s 2ms/step\n"
     ]
    },
    {
     "name": "stderr",
     "output_type": "stream",
     "text": [
      "C:\\Users\\James\\AppData\\Local\\Temp\\ipykernel_18756\\1740219387.py:20: RuntimeWarning: invalid value encountered in long_scalars\n",
      "  precision_class_one = TP / (TP + FP)\n",
      "C:\\Users\\James\\AppData\\Local\\Temp\\ipykernel_18756\\1740219387.py:20: RuntimeWarning: invalid value encountered in long_scalars\n",
      "  precision_class_one = TP / (TP + FP)\n",
      "C:\\Users\\James\\AppData\\Local\\Temp\\ipykernel_18756\\1740219387.py:20: RuntimeWarning: invalid value encountered in long_scalars\n",
      "  precision_class_one = TP / (TP + FP)\n"
     ]
    },
    {
     "name": "stdout",
     "output_type": "stream",
     "text": [
      "9/9 [==============================] - 0s 2ms/step\n",
      "9/9 [==============================] - 0s 1ms/step\n",
      "9/9 [==============================] - 0s 1ms/step\n"
     ]
    },
    {
     "name": "stderr",
     "output_type": "stream",
     "text": [
      "C:\\Users\\James\\AppData\\Local\\Temp\\ipykernel_18756\\1740219387.py:20: RuntimeWarning: invalid value encountered in long_scalars\n",
      "  precision_class_one = TP / (TP + FP)\n",
      "C:\\Users\\James\\AppData\\Local\\Temp\\ipykernel_18756\\1740219387.py:20: RuntimeWarning: invalid value encountered in long_scalars\n",
      "  precision_class_one = TP / (TP + FP)\n",
      "C:\\Users\\James\\AppData\\Local\\Temp\\ipykernel_18756\\1740219387.py:20: RuntimeWarning: invalid value encountered in long_scalars\n",
      "  precision_class_one = TP / (TP + FP)\n"
     ]
    },
    {
     "name": "stdout",
     "output_type": "stream",
     "text": [
      "9/9 [==============================] - 0s 5ms/step\n",
      "9/9 [==============================] - 0s 2ms/step\n",
      "9/9 [==============================] - 0s 2ms/step\n",
      "9/9 [==============================] - 0s 2ms/step\n"
     ]
    },
    {
     "name": "stderr",
     "output_type": "stream",
     "text": [
      "C:\\Users\\James\\AppData\\Local\\Temp\\ipykernel_18756\\1740219387.py:20: RuntimeWarning: invalid value encountered in long_scalars\n",
      "  precision_class_one = TP / (TP + FP)\n",
      "C:\\Users\\James\\AppData\\Local\\Temp\\ipykernel_18756\\1740219387.py:20: RuntimeWarning: invalid value encountered in long_scalars\n",
      "  precision_class_one = TP / (TP + FP)\n"
     ]
    },
    {
     "name": "stdout",
     "output_type": "stream",
     "text": [
      "9/9 [==============================] - 0s 2ms/step\n",
      "9/9 [==============================] - 0s 2ms/step\n"
     ]
    },
    {
     "name": "stderr",
     "output_type": "stream",
     "text": [
      "C:\\Users\\James\\AppData\\Local\\Temp\\ipykernel_18756\\1740219387.py:20: RuntimeWarning: invalid value encountered in long_scalars\n",
      "  precision_class_one = TP / (TP + FP)\n"
     ]
    },
    {
     "name": "stdout",
     "output_type": "stream",
     "text": [
      "9/9 [==============================] - 0s 2ms/step\n",
      "9/9 [==============================] - 0s 2ms/step\n"
     ]
    },
    {
     "name": "stderr",
     "output_type": "stream",
     "text": [
      "C:\\Users\\James\\AppData\\Local\\Temp\\ipykernel_18756\\1740219387.py:20: RuntimeWarning: invalid value encountered in long_scalars\n",
      "  precision_class_one = TP / (TP + FP)\n"
     ]
    },
    {
     "name": "stdout",
     "output_type": "stream",
     "text": [
      "9/9 [==============================] - 0s 2ms/step\n",
      "9/9 [==============================] - 0s 2ms/step\n",
      "9/9 [==============================] - 0s 2ms/step\n",
      "9/9 [==============================] - 0s 2ms/step\n"
     ]
    },
    {
     "name": "stderr",
     "output_type": "stream",
     "text": [
      "C:\\Users\\James\\AppData\\Local\\Temp\\ipykernel_18756\\1740219387.py:20: RuntimeWarning: invalid value encountered in long_scalars\n",
      "  precision_class_one = TP / (TP + FP)\n",
      "C:\\Users\\James\\AppData\\Local\\Temp\\ipykernel_18756\\1740219387.py:20: RuntimeWarning: invalid value encountered in long_scalars\n",
      "  precision_class_one = TP / (TP + FP)\n"
     ]
    },
    {
     "name": "stdout",
     "output_type": "stream",
     "text": [
      "9/9 [==============================] - 0s 2ms/step\n",
      "9/9 [==============================] - 0s 2ms/step\n",
      "1/9 [==>...........................] - ETA: 0s"
     ]
    },
    {
     "name": "stderr",
     "output_type": "stream",
     "text": [
      "C:\\Users\\James\\AppData\\Local\\Temp\\ipykernel_18756\\1740219387.py:20: RuntimeWarning: invalid value encountered in long_scalars\n",
      "  precision_class_one = TP / (TP + FP)\n",
      "C:\\Users\\James\\AppData\\Local\\Temp\\ipykernel_18756\\1740219387.py:20: RuntimeWarning: invalid value encountered in long_scalars\n",
      "  precision_class_one = TP / (TP + FP)\n"
     ]
    },
    {
     "name": "stdout",
     "output_type": "stream",
     "text": [
      "9/9 [==============================] - 0s 2ms/step\n",
      "9/9 [==============================] - 0s 2ms/step\n",
      "1/9 [==>...........................] - ETA: 0s"
     ]
    },
    {
     "name": "stderr",
     "output_type": "stream",
     "text": [
      "C:\\Users\\James\\AppData\\Local\\Temp\\ipykernel_18756\\1740219387.py:20: RuntimeWarning: invalid value encountered in long_scalars\n",
      "  precision_class_one = TP / (TP + FP)\n",
      "C:\\Users\\James\\AppData\\Local\\Temp\\ipykernel_18756\\1740219387.py:20: RuntimeWarning: invalid value encountered in long_scalars\n",
      "  precision_class_one = TP / (TP + FP)\n"
     ]
    },
    {
     "name": "stdout",
     "output_type": "stream",
     "text": [
      "9/9 [==============================] - 0s 2ms/step\n",
      "9/9 [==============================] - 0s 2ms/step\n",
      "9/9 [==============================] - 0s 2ms/step\n",
      "1/9 [==>...........................] - ETA: 0s"
     ]
    },
    {
     "name": "stderr",
     "output_type": "stream",
     "text": [
      "C:\\Users\\James\\AppData\\Local\\Temp\\ipykernel_18756\\1740219387.py:20: RuntimeWarning: invalid value encountered in long_scalars\n",
      "  precision_class_one = TP / (TP + FP)\n"
     ]
    },
    {
     "name": "stdout",
     "output_type": "stream",
     "text": [
      "9/9 [==============================] - 0s 2ms/step\n",
      "9/9 [==============================] - 0s 2ms/step\n",
      "9/9 [==============================] - 0s 2ms/step\n",
      "9/9 [==============================] - 0s 2ms/step\n",
      "9/9 [==============================] - 0s 2ms/step\n",
      "9/9 [==============================] - 0s 2ms/step\n",
      "9/9 [==============================] - 0s 1ms/step\n"
     ]
    },
    {
     "name": "stderr",
     "output_type": "stream",
     "text": [
      "C:\\Users\\James\\AppData\\Local\\Temp\\ipykernel_18756\\1740219387.py:20: RuntimeWarning: invalid value encountered in long_scalars\n",
      "  precision_class_one = TP / (TP + FP)\n",
      "C:\\Users\\James\\AppData\\Local\\Temp\\ipykernel_18756\\1740219387.py:20: RuntimeWarning: invalid value encountered in long_scalars\n",
      "  precision_class_one = TP / (TP + FP)\n"
     ]
    },
    {
     "name": "stdout",
     "output_type": "stream",
     "text": [
      "9/9 [==============================] - 0s 2ms/step\n",
      "9/9 [==============================] - 0s 2ms/step\n",
      "9/9 [==============================] - 0s 2ms/step\n"
     ]
    },
    {
     "name": "stderr",
     "output_type": "stream",
     "text": [
      "C:\\Users\\James\\AppData\\Local\\Temp\\ipykernel_18756\\1740219387.py:20: RuntimeWarning: invalid value encountered in long_scalars\n",
      "  precision_class_one = TP / (TP + FP)\n"
     ]
    },
    {
     "name": "stdout",
     "output_type": "stream",
     "text": [
      "9/9 [==============================] - 0s 1ms/step\n",
      "9/9 [==============================] - 0s 2ms/step\n",
      "9/9 [==============================] - 0s 1ms/step\n",
      "9/9 [==============================] - 0s 2ms/step\n",
      "9/9 [==============================] - 0s 1ms/step\n"
     ]
    },
    {
     "name": "stderr",
     "output_type": "stream",
     "text": [
      "C:\\Users\\James\\AppData\\Local\\Temp\\ipykernel_18756\\1740219387.py:20: RuntimeWarning: invalid value encountered in long_scalars\n",
      "  precision_class_one = TP / (TP + FP)\n"
     ]
    },
    {
     "name": "stdout",
     "output_type": "stream",
     "text": [
      "9/9 [==============================] - 0s 1ms/step\n",
      "9/9 [==============================] - 0s 1ms/step\n",
      "9/9 [==============================] - 0s 1ms/step\n",
      "9/9 [==============================] - 0s 1ms/step\n",
      "9/9 [==============================] - 0s 2ms/step\n",
      "9/9 [==============================] - 0s 1ms/step\n",
      "9/9 [==============================] - 0s 2ms/step\n",
      "9/9 [==============================] - 0s 1ms/step\n",
      "9/9 [==============================] - 0s 1ms/step\n"
     ]
    },
    {
     "name": "stderr",
     "output_type": "stream",
     "text": [
      "C:\\Users\\James\\AppData\\Local\\Temp\\ipykernel_18756\\1740219387.py:20: RuntimeWarning: invalid value encountered in long_scalars\n",
      "  precision_class_one = TP / (TP + FP)\n",
      "C:\\Users\\James\\AppData\\Local\\Temp\\ipykernel_18756\\1740219387.py:20: RuntimeWarning: invalid value encountered in long_scalars\n",
      "  precision_class_one = TP / (TP + FP)\n"
     ]
    },
    {
     "name": "stdout",
     "output_type": "stream",
     "text": [
      "9/9 [==============================] - 0s 2ms/step\n",
      "9/9 [==============================] - 0s 1ms/step\n",
      "9/9 [==============================] - 0s 1ms/step\n"
     ]
    },
    {
     "name": "stderr",
     "output_type": "stream",
     "text": [
      "C:\\Users\\James\\AppData\\Local\\Temp\\ipykernel_18756\\1740219387.py:20: RuntimeWarning: invalid value encountered in long_scalars\n",
      "  precision_class_one = TP / (TP + FP)\n"
     ]
    },
    {
     "name": "stdout",
     "output_type": "stream",
     "text": [
      "9/9 [==============================] - 0s 2ms/step\n",
      "9/9 [==============================] - 0s 2ms/step\n",
      "9/9 [==============================] - 0s 1ms/step\n",
      "9/9 [==============================] - 0s 2ms/step\n",
      "9/9 [==============================] - 0s 2ms/step\n"
     ]
    },
    {
     "name": "stderr",
     "output_type": "stream",
     "text": [
      "C:\\Users\\James\\AppData\\Local\\Temp\\ipykernel_18756\\1740219387.py:20: RuntimeWarning: invalid value encountered in long_scalars\n",
      "  precision_class_one = TP / (TP + FP)\n",
      "C:\\Users\\James\\AppData\\Local\\Temp\\ipykernel_18756\\1740219387.py:20: RuntimeWarning: invalid value encountered in long_scalars\n",
      "  precision_class_one = TP / (TP + FP)\n"
     ]
    },
    {
     "name": "stdout",
     "output_type": "stream",
     "text": [
      "9/9 [==============================] - 0s 2ms/step\n",
      "9/9 [==============================] - 0s 1ms/step\n",
      "9/9 [==============================] - 0s 2ms/step\n"
     ]
    },
    {
     "name": "stderr",
     "output_type": "stream",
     "text": [
      "C:\\Users\\James\\AppData\\Local\\Temp\\ipykernel_18756\\1740219387.py:20: RuntimeWarning: invalid value encountered in long_scalars\n",
      "  precision_class_one = TP / (TP + FP)\n",
      "C:\\Users\\James\\AppData\\Local\\Temp\\ipykernel_18756\\1740219387.py:20: RuntimeWarning: invalid value encountered in long_scalars\n",
      "  precision_class_one = TP / (TP + FP)\n",
      "C:\\Users\\James\\AppData\\Local\\Temp\\ipykernel_18756\\1740219387.py:20: RuntimeWarning: invalid value encountered in long_scalars\n",
      "  precision_class_one = TP / (TP + FP)\n"
     ]
    },
    {
     "name": "stdout",
     "output_type": "stream",
     "text": [
      "9/9 [==============================] - 0s 2ms/step\n",
      "9/9 [==============================] - 0s 1ms/step\n",
      "9/9 [==============================] - 0s 2ms/step\n"
     ]
    },
    {
     "name": "stderr",
     "output_type": "stream",
     "text": [
      "C:\\Users\\James\\AppData\\Local\\Temp\\ipykernel_18756\\1740219387.py:20: RuntimeWarning: invalid value encountered in long_scalars\n",
      "  precision_class_one = TP / (TP + FP)\n",
      "C:\\Users\\James\\AppData\\Local\\Temp\\ipykernel_18756\\1740219387.py:20: RuntimeWarning: invalid value encountered in long_scalars\n",
      "  precision_class_one = TP / (TP + FP)\n",
      "C:\\Users\\James\\AppData\\Local\\Temp\\ipykernel_18756\\1740219387.py:20: RuntimeWarning: invalid value encountered in long_scalars\n",
      "  precision_class_one = TP / (TP + FP)\n"
     ]
    },
    {
     "name": "stdout",
     "output_type": "stream",
     "text": [
      "9/9 [==============================] - 0s 2ms/step\n",
      "9/9 [==============================] - 0s 2ms/step\n",
      "9/9 [==============================] - 0s 2ms/step\n"
     ]
    },
    {
     "name": "stderr",
     "output_type": "stream",
     "text": [
      "C:\\Users\\James\\AppData\\Local\\Temp\\ipykernel_18756\\1740219387.py:20: RuntimeWarning: invalid value encountered in long_scalars\n",
      "  precision_class_one = TP / (TP + FP)\n",
      "C:\\Users\\James\\AppData\\Local\\Temp\\ipykernel_18756\\1740219387.py:20: RuntimeWarning: invalid value encountered in long_scalars\n",
      "  precision_class_one = TP / (TP + FP)\n",
      "C:\\Users\\James\\AppData\\Local\\Temp\\ipykernel_18756\\1740219387.py:20: RuntimeWarning: invalid value encountered in long_scalars\n",
      "  precision_class_one = TP / (TP + FP)\n"
     ]
    },
    {
     "name": "stdout",
     "output_type": "stream",
     "text": [
      "9/9 [==============================] - 0s 2ms/step\n",
      "9/9 [==============================] - 0s 2ms/step\n",
      "9/9 [==============================] - 0s 2ms/step\n"
     ]
    },
    {
     "name": "stderr",
     "output_type": "stream",
     "text": [
      "C:\\Users\\James\\AppData\\Local\\Temp\\ipykernel_18756\\1740219387.py:20: RuntimeWarning: invalid value encountered in long_scalars\n",
      "  precision_class_one = TP / (TP + FP)\n",
      "C:\\Users\\James\\AppData\\Local\\Temp\\ipykernel_18756\\1740219387.py:20: RuntimeWarning: invalid value encountered in long_scalars\n",
      "  precision_class_one = TP / (TP + FP)\n"
     ]
    },
    {
     "name": "stdout",
     "output_type": "stream",
     "text": [
      "9/9 [==============================] - 0s 2ms/step\n",
      "9/9 [==============================] - 0s 1ms/step\n"
     ]
    },
    {
     "name": "stderr",
     "output_type": "stream",
     "text": [
      "C:\\Users\\James\\AppData\\Local\\Temp\\ipykernel_18756\\1740219387.py:20: RuntimeWarning: invalid value encountered in long_scalars\n",
      "  precision_class_one = TP / (TP + FP)\n",
      "C:\\Users\\James\\AppData\\Local\\Temp\\ipykernel_18756\\1740219387.py:20: RuntimeWarning: invalid value encountered in long_scalars\n",
      "  precision_class_one = TP / (TP + FP)\n",
      "C:\\Users\\James\\AppData\\Local\\Temp\\ipykernel_18756\\1740219387.py:20: RuntimeWarning: invalid value encountered in long_scalars\n",
      "  precision_class_one = TP / (TP + FP)\n"
     ]
    },
    {
     "name": "stdout",
     "output_type": "stream",
     "text": [
      "9/9 [==============================] - 0s 2ms/step\n",
      "9/9 [==============================] - 0s 1ms/step\n",
      "9/9 [==============================] - 0s 2ms/step\n"
     ]
    },
    {
     "name": "stderr",
     "output_type": "stream",
     "text": [
      "C:\\Users\\James\\AppData\\Local\\Temp\\ipykernel_18756\\1740219387.py:20: RuntimeWarning: invalid value encountered in long_scalars\n",
      "  precision_class_one = TP / (TP + FP)\n",
      "C:\\Users\\James\\AppData\\Local\\Temp\\ipykernel_18756\\1740219387.py:20: RuntimeWarning: invalid value encountered in long_scalars\n",
      "  precision_class_one = TP / (TP + FP)\n",
      "C:\\Users\\James\\AppData\\Local\\Temp\\ipykernel_18756\\1740219387.py:20: RuntimeWarning: invalid value encountered in long_scalars\n",
      "  precision_class_one = TP / (TP + FP)\n"
     ]
    },
    {
     "name": "stdout",
     "output_type": "stream",
     "text": [
      "9/9 [==============================] - 0s 1ms/step\n",
      "9/9 [==============================] - 0s 1ms/step\n",
      "9/9 [==============================] - 0s 2ms/step\n"
     ]
    },
    {
     "name": "stderr",
     "output_type": "stream",
     "text": [
      "C:\\Users\\James\\AppData\\Local\\Temp\\ipykernel_18756\\1740219387.py:20: RuntimeWarning: invalid value encountered in long_scalars\n",
      "  precision_class_one = TP / (TP + FP)\n",
      "C:\\Users\\James\\AppData\\Local\\Temp\\ipykernel_18756\\1740219387.py:20: RuntimeWarning: invalid value encountered in long_scalars\n",
      "  precision_class_one = TP / (TP + FP)\n",
      "C:\\Users\\James\\AppData\\Local\\Temp\\ipykernel_18756\\1740219387.py:20: RuntimeWarning: invalid value encountered in long_scalars\n",
      "  precision_class_one = TP / (TP + FP)\n"
     ]
    },
    {
     "name": "stdout",
     "output_type": "stream",
     "text": [
      "9/9 [==============================] - 0s 2ms/step\n",
      "9/9 [==============================] - 0s 1ms/step\n",
      "9/9 [==============================] - 0s 1ms/step\n",
      "9/9 [==============================] - 0s 1ms/step\n"
     ]
    },
    {
     "name": "stderr",
     "output_type": "stream",
     "text": [
      "C:\\Users\\James\\AppData\\Local\\Temp\\ipykernel_18756\\1740219387.py:20: RuntimeWarning: invalid value encountered in long_scalars\n",
      "  precision_class_one = TP / (TP + FP)\n",
      "C:\\Users\\James\\AppData\\Local\\Temp\\ipykernel_18756\\1740219387.py:20: RuntimeWarning: invalid value encountered in long_scalars\n",
      "  precision_class_one = TP / (TP + FP)\n",
      "C:\\Users\\James\\AppData\\Local\\Temp\\ipykernel_18756\\1740219387.py:20: RuntimeWarning: invalid value encountered in long_scalars\n",
      "  precision_class_one = TP / (TP + FP)\n"
     ]
    },
    {
     "name": "stdout",
     "output_type": "stream",
     "text": [
      "9/9 [==============================] - 0s 2ms/step\n",
      "9/9 [==============================] - 0s 1ms/step\n"
     ]
    },
    {
     "name": "stderr",
     "output_type": "stream",
     "text": [
      "C:\\Users\\James\\AppData\\Local\\Temp\\ipykernel_18756\\1740219387.py:20: RuntimeWarning: invalid value encountered in long_scalars\n",
      "  precision_class_one = TP / (TP + FP)\n",
      "C:\\Users\\James\\AppData\\Local\\Temp\\ipykernel_18756\\1740219387.py:20: RuntimeWarning: invalid value encountered in long_scalars\n",
      "  precision_class_one = TP / (TP + FP)\n"
     ]
    },
    {
     "name": "stdout",
     "output_type": "stream",
     "text": [
      "9/9 [==============================] - 0s 2ms/step\n",
      "9/9 [==============================] - 0s 1ms/step\n",
      "9/9 [==============================] - 0s 1ms/step\n"
     ]
    },
    {
     "name": "stderr",
     "output_type": "stream",
     "text": [
      "C:\\Users\\James\\AppData\\Local\\Temp\\ipykernel_18756\\1740219387.py:20: RuntimeWarning: invalid value encountered in long_scalars\n",
      "  precision_class_one = TP / (TP + FP)\n",
      "C:\\Users\\James\\AppData\\Local\\Temp\\ipykernel_18756\\1740219387.py:20: RuntimeWarning: invalid value encountered in long_scalars\n",
      "  precision_class_one = TP / (TP + FP)\n",
      "C:\\Users\\James\\AppData\\Local\\Temp\\ipykernel_18756\\1740219387.py:20: RuntimeWarning: invalid value encountered in long_scalars\n",
      "  precision_class_one = TP / (TP + FP)\n"
     ]
    },
    {
     "name": "stdout",
     "output_type": "stream",
     "text": [
      "9/9 [==============================] - 0s 2ms/step\n",
      "9/9 [==============================] - 0s 1ms/step\n",
      "9/9 [==============================] - 0s 2ms/step\n"
     ]
    },
    {
     "name": "stderr",
     "output_type": "stream",
     "text": [
      "C:\\Users\\James\\AppData\\Local\\Temp\\ipykernel_18756\\1740219387.py:20: RuntimeWarning: invalid value encountered in long_scalars\n",
      "  precision_class_one = TP / (TP + FP)\n",
      "C:\\Users\\James\\AppData\\Local\\Temp\\ipykernel_18756\\1740219387.py:20: RuntimeWarning: invalid value encountered in long_scalars\n",
      "  precision_class_one = TP / (TP + FP)\n",
      "C:\\Users\\James\\AppData\\Local\\Temp\\ipykernel_18756\\1740219387.py:20: RuntimeWarning: invalid value encountered in long_scalars\n",
      "  precision_class_one = TP / (TP + FP)\n"
     ]
    },
    {
     "name": "stdout",
     "output_type": "stream",
     "text": [
      "9/9 [==============================] - 0s 1ms/step\n",
      "9/9 [==============================] - 0s 1ms/step\n",
      "9/9 [==============================] - 0s 2ms/step\n"
     ]
    },
    {
     "name": "stderr",
     "output_type": "stream",
     "text": [
      "C:\\Users\\James\\AppData\\Local\\Temp\\ipykernel_18756\\1740219387.py:20: RuntimeWarning: invalid value encountered in long_scalars\n",
      "  precision_class_one = TP / (TP + FP)\n",
      "C:\\Users\\James\\AppData\\Local\\Temp\\ipykernel_18756\\1740219387.py:20: RuntimeWarning: invalid value encountered in long_scalars\n",
      "  precision_class_one = TP / (TP + FP)\n"
     ]
    },
    {
     "name": "stdout",
     "output_type": "stream",
     "text": [
      "9/9 [==============================] - 0s 2ms/step\n",
      "9/9 [==============================] - 0s 1ms/step\n",
      "9/9 [==============================] - 0s 1ms/step\n",
      "9/9 [==============================] - 0s 2ms/step\n",
      "1/9 [==>...........................] - ETA: 0s"
     ]
    },
    {
     "name": "stderr",
     "output_type": "stream",
     "text": [
      "C:\\Users\\James\\AppData\\Local\\Temp\\ipykernel_18756\\1740219387.py:20: RuntimeWarning: invalid value encountered in long_scalars\n",
      "  precision_class_one = TP / (TP + FP)\n",
      "C:\\Users\\James\\AppData\\Local\\Temp\\ipykernel_18756\\1740219387.py:20: RuntimeWarning: invalid value encountered in long_scalars\n",
      "  precision_class_one = TP / (TP + FP)\n"
     ]
    },
    {
     "name": "stdout",
     "output_type": "stream",
     "text": [
      "9/9 [==============================] - 0s 2ms/step\n",
      "9/9 [==============================] - 0s 1ms/step\n",
      "9/9 [==============================] - 0s 1ms/step\n"
     ]
    },
    {
     "name": "stderr",
     "output_type": "stream",
     "text": [
      "C:\\Users\\James\\AppData\\Local\\Temp\\ipykernel_18756\\1740219387.py:20: RuntimeWarning: invalid value encountered in long_scalars\n",
      "  precision_class_one = TP / (TP + FP)\n",
      "C:\\Users\\James\\AppData\\Local\\Temp\\ipykernel_18756\\1740219387.py:20: RuntimeWarning: invalid value encountered in long_scalars\n",
      "  precision_class_one = TP / (TP + FP)\n",
      "C:\\Users\\James\\AppData\\Local\\Temp\\ipykernel_18756\\1740219387.py:20: RuntimeWarning: invalid value encountered in long_scalars\n",
      "  precision_class_one = TP / (TP + FP)\n"
     ]
    },
    {
     "name": "stdout",
     "output_type": "stream",
     "text": [
      "9/9 [==============================] - 0s 2ms/step\n",
      "9/9 [==============================] - 0s 1ms/step\n",
      "9/9 [==============================] - 0s 1ms/step\n",
      "9/9 [==============================] - 0s 2ms/step\n",
      "9/9 [==============================] - 0s 1ms/step\n"
     ]
    },
    {
     "name": "stderr",
     "output_type": "stream",
     "text": [
      "C:\\Users\\James\\AppData\\Local\\Temp\\ipykernel_18756\\1740219387.py:20: RuntimeWarning: invalid value encountered in long_scalars\n",
      "  precision_class_one = TP / (TP + FP)\n"
     ]
    },
    {
     "name": "stdout",
     "output_type": "stream",
     "text": [
      "9/9 [==============================] - 0s 2ms/step\n",
      "9/9 [==============================] - 0s 1ms/step\n",
      "9/9 [==============================] - 0s 1ms/step\n"
     ]
    },
    {
     "name": "stderr",
     "output_type": "stream",
     "text": [
      "C:\\Users\\James\\AppData\\Local\\Temp\\ipykernel_18756\\1740219387.py:20: RuntimeWarning: invalid value encountered in long_scalars\n",
      "  precision_class_one = TP / (TP + FP)\n"
     ]
    },
    {
     "name": "stdout",
     "output_type": "stream",
     "text": [
      "9/9 [==============================] - 0s 1ms/step\n",
      "9/9 [==============================] - 0s 2ms/step\n",
      "9/9 [==============================] - 0s 5ms/step\n"
     ]
    },
    {
     "name": "stderr",
     "output_type": "stream",
     "text": [
      "C:\\Users\\James\\AppData\\Local\\Temp\\ipykernel_18756\\1740219387.py:20: RuntimeWarning: invalid value encountered in long_scalars\n",
      "  precision_class_one = TP / (TP + FP)\n",
      "C:\\Users\\James\\AppData\\Local\\Temp\\ipykernel_18756\\1740219387.py:20: RuntimeWarning: invalid value encountered in long_scalars\n",
      "  precision_class_one = TP / (TP + FP)\n"
     ]
    },
    {
     "name": "stdout",
     "output_type": "stream",
     "text": [
      "9/9 [==============================] - 0s 1ms/step\n",
      "9/9 [==============================] - 0s 2ms/step\n"
     ]
    },
    {
     "name": "stderr",
     "output_type": "stream",
     "text": [
      "C:\\Users\\James\\AppData\\Local\\Temp\\ipykernel_18756\\1740219387.py:20: RuntimeWarning: invalid value encountered in long_scalars\n",
      "  precision_class_one = TP / (TP + FP)\n",
      "C:\\Users\\James\\AppData\\Local\\Temp\\ipykernel_18756\\1740219387.py:20: RuntimeWarning: invalid value encountered in long_scalars\n",
      "  precision_class_one = TP / (TP + FP)\n",
      "C:\\Users\\James\\AppData\\Local\\Temp\\ipykernel_18756\\1740219387.py:20: RuntimeWarning: invalid value encountered in long_scalars\n",
      "  precision_class_one = TP / (TP + FP)\n"
     ]
    },
    {
     "name": "stdout",
     "output_type": "stream",
     "text": [
      "9/9 [==============================] - 0s 2ms/step\n",
      "9/9 [==============================] - 0s 1ms/step\n",
      "9/9 [==============================] - 0s 1ms/step\n"
     ]
    },
    {
     "name": "stderr",
     "output_type": "stream",
     "text": [
      "C:\\Users\\James\\AppData\\Local\\Temp\\ipykernel_18756\\1740219387.py:20: RuntimeWarning: invalid value encountered in long_scalars\n",
      "  precision_class_one = TP / (TP + FP)\n",
      "C:\\Users\\James\\AppData\\Local\\Temp\\ipykernel_18756\\1740219387.py:20: RuntimeWarning: invalid value encountered in long_scalars\n",
      "  precision_class_one = TP / (TP + FP)\n",
      "C:\\Users\\James\\AppData\\Local\\Temp\\ipykernel_18756\\1740219387.py:20: RuntimeWarning: invalid value encountered in long_scalars\n",
      "  precision_class_one = TP / (TP + FP)\n"
     ]
    },
    {
     "name": "stdout",
     "output_type": "stream",
     "text": [
      "9/9 [==============================] - 0s 2ms/step\n",
      "9/9 [==============================] - 0s 1ms/step\n",
      "9/9 [==============================] - 0s 2ms/step\n"
     ]
    },
    {
     "name": "stderr",
     "output_type": "stream",
     "text": [
      "C:\\Users\\James\\AppData\\Local\\Temp\\ipykernel_18756\\1740219387.py:20: RuntimeWarning: invalid value encountered in long_scalars\n",
      "  precision_class_one = TP / (TP + FP)\n",
      "C:\\Users\\James\\AppData\\Local\\Temp\\ipykernel_18756\\1740219387.py:20: RuntimeWarning: invalid value encountered in long_scalars\n",
      "  precision_class_one = TP / (TP + FP)\n",
      "C:\\Users\\James\\AppData\\Local\\Temp\\ipykernel_18756\\1740219387.py:20: RuntimeWarning: invalid value encountered in long_scalars\n",
      "  precision_class_one = TP / (TP + FP)\n"
     ]
    },
    {
     "name": "stdout",
     "output_type": "stream",
     "text": [
      "9/9 [==============================] - 0s 2ms/step\n",
      "9/9 [==============================] - 0s 2ms/step\n",
      "9/9 [==============================] - 0s 1ms/step\n"
     ]
    },
    {
     "name": "stderr",
     "output_type": "stream",
     "text": [
      "C:\\Users\\James\\AppData\\Local\\Temp\\ipykernel_18756\\1740219387.py:20: RuntimeWarning: invalid value encountered in long_scalars\n",
      "  precision_class_one = TP / (TP + FP)\n",
      "C:\\Users\\James\\AppData\\Local\\Temp\\ipykernel_18756\\1740219387.py:20: RuntimeWarning: invalid value encountered in long_scalars\n",
      "  precision_class_one = TP / (TP + FP)\n",
      "C:\\Users\\James\\AppData\\Local\\Temp\\ipykernel_18756\\1740219387.py:20: RuntimeWarning: invalid value encountered in long_scalars\n",
      "  precision_class_one = TP / (TP + FP)\n"
     ]
    },
    {
     "name": "stdout",
     "output_type": "stream",
     "text": [
      "9/9 [==============================] - 0s 2ms/step\n",
      "9/9 [==============================] - 0s 2ms/step\n",
      "9/9 [==============================] - 0s 2ms/step\n"
     ]
    },
    {
     "name": "stderr",
     "output_type": "stream",
     "text": [
      "C:\\Users\\James\\AppData\\Local\\Temp\\ipykernel_18756\\1740219387.py:20: RuntimeWarning: invalid value encountered in long_scalars\n",
      "  precision_class_one = TP / (TP + FP)\n"
     ]
    },
    {
     "name": "stdout",
     "output_type": "stream",
     "text": [
      "9/9 [==============================] - 0s 2ms/step\n",
      "9/9 [==============================] - 0s 2ms/step\n",
      "9/9 [==============================] - 0s 2ms/step\n"
     ]
    },
    {
     "name": "stderr",
     "output_type": "stream",
     "text": [
      "C:\\Users\\James\\AppData\\Local\\Temp\\ipykernel_18756\\1740219387.py:20: RuntimeWarning: invalid value encountered in long_scalars\n",
      "  precision_class_one = TP / (TP + FP)\n",
      "C:\\Users\\James\\AppData\\Local\\Temp\\ipykernel_18756\\1740219387.py:20: RuntimeWarning: invalid value encountered in long_scalars\n",
      "  precision_class_one = TP / (TP + FP)\n",
      "C:\\Users\\James\\AppData\\Local\\Temp\\ipykernel_18756\\1740219387.py:20: RuntimeWarning: invalid value encountered in long_scalars\n",
      "  precision_class_one = TP / (TP + FP)\n"
     ]
    },
    {
     "name": "stdout",
     "output_type": "stream",
     "text": [
      "9/9 [==============================] - 0s 2ms/step\n",
      "9/9 [==============================] - 0s 2ms/step\n",
      "9/9 [==============================] - 0s 2ms/step\n"
     ]
    },
    {
     "name": "stderr",
     "output_type": "stream",
     "text": [
      "C:\\Users\\James\\AppData\\Local\\Temp\\ipykernel_18756\\1740219387.py:20: RuntimeWarning: invalid value encountered in long_scalars\n",
      "  precision_class_one = TP / (TP + FP)\n",
      "C:\\Users\\James\\AppData\\Local\\Temp\\ipykernel_18756\\1740219387.py:20: RuntimeWarning: invalid value encountered in long_scalars\n",
      "  precision_class_one = TP / (TP + FP)\n"
     ]
    },
    {
     "name": "stdout",
     "output_type": "stream",
     "text": [
      "9/9 [==============================] - 0s 2ms/step\n",
      "9/9 [==============================] - 0s 2ms/step\n",
      "9/9 [==============================] - 0s 2ms/step\n"
     ]
    },
    {
     "name": "stderr",
     "output_type": "stream",
     "text": [
      "C:\\Users\\James\\AppData\\Local\\Temp\\ipykernel_18756\\1740219387.py:20: RuntimeWarning: invalid value encountered in long_scalars\n",
      "  precision_class_one = TP / (TP + FP)\n"
     ]
    },
    {
     "name": "stdout",
     "output_type": "stream",
     "text": [
      "9/9 [==============================] - 0s 2ms/step\n",
      "9/9 [==============================] - 0s 5ms/step\n"
     ]
    },
    {
     "name": "stderr",
     "output_type": "stream",
     "text": [
      "C:\\Users\\James\\AppData\\Local\\Temp\\ipykernel_18756\\1740219387.py:20: RuntimeWarning: invalid value encountered in long_scalars\n",
      "  precision_class_one = TP / (TP + FP)\n",
      "C:\\Users\\James\\AppData\\Local\\Temp\\ipykernel_18756\\1740219387.py:20: RuntimeWarning: invalid value encountered in long_scalars\n",
      "  precision_class_one = TP / (TP + FP)\n"
     ]
    },
    {
     "name": "stdout",
     "output_type": "stream",
     "text": [
      "9/9 [==============================] - 0s 2ms/step\n",
      "9/9 [==============================] - 0s 2ms/step\n",
      "1/9 [==>...........................] - ETA: 0s"
     ]
    },
    {
     "name": "stderr",
     "output_type": "stream",
     "text": [
      "C:\\Users\\James\\AppData\\Local\\Temp\\ipykernel_18756\\1740219387.py:20: RuntimeWarning: invalid value encountered in long_scalars\n",
      "  precision_class_one = TP / (TP + FP)\n",
      "C:\\Users\\James\\AppData\\Local\\Temp\\ipykernel_18756\\1740219387.py:20: RuntimeWarning: invalid value encountered in long_scalars\n",
      "  precision_class_one = TP / (TP + FP)\n"
     ]
    },
    {
     "name": "stdout",
     "output_type": "stream",
     "text": [
      "9/9 [==============================] - 0s 2ms/step\n",
      "9/9 [==============================] - 0s 2ms/step\n",
      "9/9 [==============================] - 0s 2ms/step\n"
     ]
    },
    {
     "name": "stderr",
     "output_type": "stream",
     "text": [
      "C:\\Users\\James\\AppData\\Local\\Temp\\ipykernel_18756\\1740219387.py:20: RuntimeWarning: invalid value encountered in long_scalars\n",
      "  precision_class_one = TP / (TP + FP)\n",
      "C:\\Users\\James\\AppData\\Local\\Temp\\ipykernel_18756\\1740219387.py:20: RuntimeWarning: invalid value encountered in long_scalars\n",
      "  precision_class_one = TP / (TP + FP)\n"
     ]
    },
    {
     "name": "stdout",
     "output_type": "stream",
     "text": [
      "9/9 [==============================] - 0s 2ms/step\n",
      "9/9 [==============================] - 0s 1ms/step\n"
     ]
    },
    {
     "name": "stderr",
     "output_type": "stream",
     "text": [
      "C:\\Users\\James\\AppData\\Local\\Temp\\ipykernel_18756\\1740219387.py:20: RuntimeWarning: invalid value encountered in long_scalars\n",
      "  precision_class_one = TP / (TP + FP)\n",
      "C:\\Users\\James\\AppData\\Local\\Temp\\ipykernel_18756\\1740219387.py:20: RuntimeWarning: invalid value encountered in long_scalars\n",
      "  precision_class_one = TP / (TP + FP)\n",
      "C:\\Users\\James\\AppData\\Local\\Temp\\ipykernel_18756\\1740219387.py:20: RuntimeWarning: invalid value encountered in long_scalars\n",
      "  precision_class_one = TP / (TP + FP)\n"
     ]
    },
    {
     "name": "stdout",
     "output_type": "stream",
     "text": [
      "9/9 [==============================] - 0s 1ms/step\n",
      "9/9 [==============================] - 0s 1ms/step\n",
      "9/9 [==============================] - 0s 1ms/step\n"
     ]
    },
    {
     "name": "stderr",
     "output_type": "stream",
     "text": [
      "C:\\Users\\James\\AppData\\Local\\Temp\\ipykernel_18756\\1740219387.py:20: RuntimeWarning: invalid value encountered in long_scalars\n",
      "  precision_class_one = TP / (TP + FP)\n",
      "C:\\Users\\James\\AppData\\Local\\Temp\\ipykernel_18756\\1740219387.py:20: RuntimeWarning: invalid value encountered in long_scalars\n",
      "  precision_class_one = TP / (TP + FP)\n",
      "C:\\Users\\James\\AppData\\Local\\Temp\\ipykernel_18756\\1740219387.py:20: RuntimeWarning: invalid value encountered in long_scalars\n",
      "  precision_class_one = TP / (TP + FP)\n"
     ]
    },
    {
     "name": "stdout",
     "output_type": "stream",
     "text": [
      "9/9 [==============================] - 0s 2ms/step\n",
      "9/9 [==============================] - 0s 1ms/step\n",
      "9/9 [==============================] - 0s 2ms/step\n"
     ]
    },
    {
     "name": "stderr",
     "output_type": "stream",
     "text": [
      "C:\\Users\\James\\AppData\\Local\\Temp\\ipykernel_18756\\1740219387.py:20: RuntimeWarning: invalid value encountered in long_scalars\n",
      "  precision_class_one = TP / (TP + FP)\n"
     ]
    },
    {
     "name": "stdout",
     "output_type": "stream",
     "text": [
      "9/9 [==============================] - 0s 2ms/step\n",
      "9/9 [==============================] - 0s 2ms/step\n",
      "9/9 [==============================] - 0s 2ms/step\n"
     ]
    },
    {
     "name": "stderr",
     "output_type": "stream",
     "text": [
      "C:\\Users\\James\\AppData\\Local\\Temp\\ipykernel_18756\\1740219387.py:20: RuntimeWarning: invalid value encountered in long_scalars\n",
      "  precision_class_one = TP / (TP + FP)\n",
      "C:\\Users\\James\\AppData\\Local\\Temp\\ipykernel_18756\\1740219387.py:20: RuntimeWarning: invalid value encountered in long_scalars\n",
      "  precision_class_one = TP / (TP + FP)\n"
     ]
    },
    {
     "name": "stdout",
     "output_type": "stream",
     "text": [
      "9/9 [==============================] - 0s 2ms/step\n",
      "9/9 [==============================] - 0s 1ms/step\n",
      "9/9 [==============================] - 0s 2ms/step\n"
     ]
    },
    {
     "name": "stderr",
     "output_type": "stream",
     "text": [
      "C:\\Users\\James\\AppData\\Local\\Temp\\ipykernel_18756\\1740219387.py:20: RuntimeWarning: invalid value encountered in long_scalars\n",
      "  precision_class_one = TP / (TP + FP)\n",
      "C:\\Users\\James\\AppData\\Local\\Temp\\ipykernel_18756\\1740219387.py:20: RuntimeWarning: invalid value encountered in long_scalars\n",
      "  precision_class_one = TP / (TP + FP)\n",
      "C:\\Users\\James\\AppData\\Local\\Temp\\ipykernel_18756\\1740219387.py:20: RuntimeWarning: invalid value encountered in long_scalars\n",
      "  precision_class_one = TP / (TP + FP)\n"
     ]
    },
    {
     "name": "stdout",
     "output_type": "stream",
     "text": [
      "9/9 [==============================] - 0s 1ms/step\n",
      "9/9 [==============================] - 0s 1ms/step\n",
      "9/9 [==============================] - 0s 1ms/step\n"
     ]
    },
    {
     "name": "stderr",
     "output_type": "stream",
     "text": [
      "C:\\Users\\James\\AppData\\Local\\Temp\\ipykernel_18756\\1740219387.py:20: RuntimeWarning: invalid value encountered in long_scalars\n",
      "  precision_class_one = TP / (TP + FP)\n",
      "C:\\Users\\James\\AppData\\Local\\Temp\\ipykernel_18756\\1740219387.py:20: RuntimeWarning: invalid value encountered in long_scalars\n",
      "  precision_class_one = TP / (TP + FP)\n"
     ]
    },
    {
     "name": "stdout",
     "output_type": "stream",
     "text": [
      "9/9 [==============================] - 0s 2ms/step\n",
      "9/9 [==============================] - 0s 1ms/step\n",
      "9/9 [==============================] - 0s 1ms/step\n"
     ]
    },
    {
     "name": "stderr",
     "output_type": "stream",
     "text": [
      "C:\\Users\\James\\AppData\\Local\\Temp\\ipykernel_18756\\1740219387.py:20: RuntimeWarning: invalid value encountered in long_scalars\n",
      "  precision_class_one = TP / (TP + FP)\n"
     ]
    },
    {
     "name": "stdout",
     "output_type": "stream",
     "text": [
      "9/9 [==============================] - 0s 1ms/step\n",
      "9/9 [==============================] - 0s 2ms/step\n",
      "1/9 [==>...........................] - ETA: 0s"
     ]
    },
    {
     "name": "stderr",
     "output_type": "stream",
     "text": [
      "C:\\Users\\James\\AppData\\Local\\Temp\\ipykernel_18756\\1740219387.py:20: RuntimeWarning: invalid value encountered in long_scalars\n",
      "  precision_class_one = TP / (TP + FP)\n"
     ]
    },
    {
     "name": "stdout",
     "output_type": "stream",
     "text": [
      "9/9 [==============================] - 0s 2ms/step\n",
      "9/9 [==============================] - 0s 1ms/step\n",
      "9/9 [==============================] - 0s 2ms/step\n"
     ]
    },
    {
     "name": "stderr",
     "output_type": "stream",
     "text": [
      "C:\\Users\\James\\AppData\\Local\\Temp\\ipykernel_18756\\1740219387.py:20: RuntimeWarning: invalid value encountered in long_scalars\n",
      "  precision_class_one = TP / (TP + FP)\n",
      "C:\\Users\\James\\AppData\\Local\\Temp\\ipykernel_18756\\1740219387.py:20: RuntimeWarning: invalid value encountered in long_scalars\n",
      "  precision_class_one = TP / (TP + FP)\n",
      "C:\\Users\\James\\AppData\\Local\\Temp\\ipykernel_18756\\1740219387.py:20: RuntimeWarning: invalid value encountered in long_scalars\n",
      "  precision_class_one = TP / (TP + FP)\n"
     ]
    },
    {
     "name": "stdout",
     "output_type": "stream",
     "text": [
      "9/9 [==============================] - 0s 2ms/step\n",
      "9/9 [==============================] - 0s 1ms/step\n",
      "9/9 [==============================] - 0s 1ms/step\n"
     ]
    },
    {
     "name": "stderr",
     "output_type": "stream",
     "text": [
      "C:\\Users\\James\\AppData\\Local\\Temp\\ipykernel_18756\\1740219387.py:20: RuntimeWarning: invalid value encountered in long_scalars\n",
      "  precision_class_one = TP / (TP + FP)\n",
      "C:\\Users\\James\\AppData\\Local\\Temp\\ipykernel_18756\\1740219387.py:20: RuntimeWarning: invalid value encountered in long_scalars\n",
      "  precision_class_one = TP / (TP + FP)\n",
      "C:\\Users\\James\\AppData\\Local\\Temp\\ipykernel_18756\\1740219387.py:20: RuntimeWarning: invalid value encountered in long_scalars\n",
      "  precision_class_one = TP / (TP + FP)\n"
     ]
    },
    {
     "name": "stdout",
     "output_type": "stream",
     "text": [
      "9/9 [==============================] - 0s 2ms/step\n",
      "9/9 [==============================] - 0s 2ms/step\n",
      "9/9 [==============================] - 0s 2ms/step\n"
     ]
    },
    {
     "name": "stderr",
     "output_type": "stream",
     "text": [
      "C:\\Users\\James\\AppData\\Local\\Temp\\ipykernel_18756\\1740219387.py:20: RuntimeWarning: invalid value encountered in long_scalars\n",
      "  precision_class_one = TP / (TP + FP)\n",
      "C:\\Users\\James\\AppData\\Local\\Temp\\ipykernel_18756\\1740219387.py:20: RuntimeWarning: invalid value encountered in long_scalars\n",
      "  precision_class_one = TP / (TP + FP)\n",
      "C:\\Users\\James\\AppData\\Local\\Temp\\ipykernel_18756\\1740219387.py:20: RuntimeWarning: invalid value encountered in long_scalars\n",
      "  precision_class_one = TP / (TP + FP)\n"
     ]
    },
    {
     "name": "stdout",
     "output_type": "stream",
     "text": [
      "9/9 [==============================] - 0s 2ms/step\n",
      "9/9 [==============================] - 0s 1ms/step\n",
      "9/9 [==============================] - 0s 2ms/step\n"
     ]
    },
    {
     "name": "stderr",
     "output_type": "stream",
     "text": [
      "C:\\Users\\James\\AppData\\Local\\Temp\\ipykernel_18756\\1740219387.py:20: RuntimeWarning: invalid value encountered in long_scalars\n",
      "  precision_class_one = TP / (TP + FP)\n",
      "C:\\Users\\James\\AppData\\Local\\Temp\\ipykernel_18756\\1740219387.py:20: RuntimeWarning: invalid value encountered in long_scalars\n",
      "  precision_class_one = TP / (TP + FP)\n",
      "C:\\Users\\James\\AppData\\Local\\Temp\\ipykernel_18756\\1740219387.py:20: RuntimeWarning: invalid value encountered in long_scalars\n",
      "  precision_class_one = TP / (TP + FP)\n"
     ]
    },
    {
     "name": "stdout",
     "output_type": "stream",
     "text": [
      "9/9 [==============================] - 0s 2ms/step\n",
      "9/9 [==============================] - 0s 1ms/step\n",
      "9/9 [==============================] - 0s 2ms/step\n"
     ]
    },
    {
     "name": "stderr",
     "output_type": "stream",
     "text": [
      "C:\\Users\\James\\AppData\\Local\\Temp\\ipykernel_18756\\1740219387.py:20: RuntimeWarning: invalid value encountered in long_scalars\n",
      "  precision_class_one = TP / (TP + FP)\n",
      "C:\\Users\\James\\AppData\\Local\\Temp\\ipykernel_18756\\1740219387.py:20: RuntimeWarning: invalid value encountered in long_scalars\n",
      "  precision_class_one = TP / (TP + FP)\n"
     ]
    },
    {
     "name": "stdout",
     "output_type": "stream",
     "text": [
      "9/9 [==============================] - 0s 2ms/step\n",
      "9/9 [==============================] - 0s 2ms/step\n"
     ]
    },
    {
     "name": "stderr",
     "output_type": "stream",
     "text": [
      "C:\\Users\\James\\AppData\\Local\\Temp\\ipykernel_18756\\1740219387.py:20: RuntimeWarning: invalid value encountered in long_scalars\n",
      "  precision_class_one = TP / (TP + FP)\n",
      "C:\\Users\\James\\AppData\\Local\\Temp\\ipykernel_18756\\1740219387.py:20: RuntimeWarning: invalid value encountered in long_scalars\n",
      "  precision_class_one = TP / (TP + FP)\n",
      "C:\\Users\\James\\AppData\\Local\\Temp\\ipykernel_18756\\1740219387.py:20: RuntimeWarning: invalid value encountered in long_scalars\n",
      "  precision_class_one = TP / (TP + FP)\n"
     ]
    },
    {
     "name": "stdout",
     "output_type": "stream",
     "text": [
      "9/9 [==============================] - 0s 2ms/step\n",
      "9/9 [==============================] - 0s 1ms/step\n",
      "9/9 [==============================] - 0s 2ms/step\n",
      "9/9 [==============================] - 0s 1ms/step\n",
      "9/9 [==============================] - 0s 1ms/step\n",
      "9/9 [==============================] - 0s 1ms/step\n"
     ]
    },
    {
     "name": "stderr",
     "output_type": "stream",
     "text": [
      "C:\\Users\\James\\AppData\\Local\\Temp\\ipykernel_18756\\1740219387.py:20: RuntimeWarning: invalid value encountered in long_scalars\n",
      "  precision_class_one = TP / (TP + FP)\n",
      "C:\\Users\\James\\AppData\\Local\\Temp\\ipykernel_18756\\1740219387.py:20: RuntimeWarning: invalid value encountered in long_scalars\n",
      "  precision_class_one = TP / (TP + FP)\n",
      "C:\\Users\\James\\AppData\\Local\\Temp\\ipykernel_18756\\1740219387.py:20: RuntimeWarning: invalid value encountered in long_scalars\n",
      "  precision_class_one = TP / (TP + FP)\n"
     ]
    },
    {
     "name": "stdout",
     "output_type": "stream",
     "text": [
      "9/9 [==============================] - 0s 1ms/step\n",
      "9/9 [==============================] - 0s 2ms/step\n",
      "9/9 [==============================] - 0s 1ms/step\n"
     ]
    },
    {
     "name": "stderr",
     "output_type": "stream",
     "text": [
      "C:\\Users\\James\\AppData\\Local\\Temp\\ipykernel_18756\\1740219387.py:20: RuntimeWarning: invalid value encountered in long_scalars\n",
      "  precision_class_one = TP / (TP + FP)\n",
      "C:\\Users\\James\\AppData\\Local\\Temp\\ipykernel_18756\\1740219387.py:20: RuntimeWarning: invalid value encountered in long_scalars\n",
      "  precision_class_one = TP / (TP + FP)\n",
      "C:\\Users\\James\\AppData\\Local\\Temp\\ipykernel_18756\\1740219387.py:20: RuntimeWarning: invalid value encountered in long_scalars\n",
      "  precision_class_one = TP / (TP + FP)\n"
     ]
    },
    {
     "name": "stdout",
     "output_type": "stream",
     "text": [
      "9/9 [==============================] - 0s 1ms/step\n",
      "9/9 [==============================] - 0s 1ms/step\n",
      "9/9 [==============================] - 0s 2ms/step\n"
     ]
    },
    {
     "name": "stderr",
     "output_type": "stream",
     "text": [
      "C:\\Users\\James\\AppData\\Local\\Temp\\ipykernel_18756\\1740219387.py:20: RuntimeWarning: invalid value encountered in long_scalars\n",
      "  precision_class_one = TP / (TP + FP)\n",
      "C:\\Users\\James\\AppData\\Local\\Temp\\ipykernel_18756\\1740219387.py:20: RuntimeWarning: invalid value encountered in long_scalars\n",
      "  precision_class_one = TP / (TP + FP)\n",
      "C:\\Users\\James\\AppData\\Local\\Temp\\ipykernel_18756\\1740219387.py:20: RuntimeWarning: invalid value encountered in long_scalars\n",
      "  precision_class_one = TP / (TP + FP)\n"
     ]
    },
    {
     "name": "stdout",
     "output_type": "stream",
     "text": [
      "9/9 [==============================] - 0s 1ms/step\n",
      "9/9 [==============================] - 0s 2ms/step\n",
      "9/9 [==============================] - 0s 2ms/step\n"
     ]
    },
    {
     "name": "stderr",
     "output_type": "stream",
     "text": [
      "C:\\Users\\James\\AppData\\Local\\Temp\\ipykernel_18756\\1740219387.py:20: RuntimeWarning: invalid value encountered in long_scalars\n",
      "  precision_class_one = TP / (TP + FP)\n",
      "C:\\Users\\James\\AppData\\Local\\Temp\\ipykernel_18756\\1740219387.py:20: RuntimeWarning: invalid value encountered in long_scalars\n",
      "  precision_class_one = TP / (TP + FP)\n"
     ]
    },
    {
     "name": "stdout",
     "output_type": "stream",
     "text": [
      "9/9 [==============================] - 0s 1ms/step\n",
      "9/9 [==============================] - 0s 1ms/step\n",
      "9/9 [==============================] - 0s 1ms/step\n"
     ]
    },
    {
     "name": "stderr",
     "output_type": "stream",
     "text": [
      "C:\\Users\\James\\AppData\\Local\\Temp\\ipykernel_18756\\1740219387.py:20: RuntimeWarning: invalid value encountered in long_scalars\n",
      "  precision_class_one = TP / (TP + FP)\n",
      "C:\\Users\\James\\AppData\\Local\\Temp\\ipykernel_18756\\1740219387.py:20: RuntimeWarning: invalid value encountered in long_scalars\n",
      "  precision_class_one = TP / (TP + FP)\n"
     ]
    },
    {
     "name": "stdout",
     "output_type": "stream",
     "text": [
      "9/9 [==============================] - 0s 1ms/step\n",
      "9/9 [==============================] - 0s 2ms/step\n",
      "9/9 [==============================] - 0s 1ms/step\n",
      "9/9 [==============================] - 0s 1ms/step\n"
     ]
    },
    {
     "name": "stderr",
     "output_type": "stream",
     "text": [
      "C:\\Users\\James\\AppData\\Local\\Temp\\ipykernel_18756\\1740219387.py:20: RuntimeWarning: invalid value encountered in long_scalars\n",
      "  precision_class_one = TP / (TP + FP)\n",
      "C:\\Users\\James\\AppData\\Local\\Temp\\ipykernel_18756\\1740219387.py:20: RuntimeWarning: invalid value encountered in long_scalars\n",
      "  precision_class_one = TP / (TP + FP)\n"
     ]
    },
    {
     "name": "stdout",
     "output_type": "stream",
     "text": [
      "9/9 [==============================] - 0s 1ms/step\n",
      "9/9 [==============================] - 0s 1ms/step\n",
      "9/9 [==============================] - 0s 1ms/step\n"
     ]
    },
    {
     "name": "stderr",
     "output_type": "stream",
     "text": [
      "C:\\Users\\James\\AppData\\Local\\Temp\\ipykernel_18756\\1740219387.py:20: RuntimeWarning: invalid value encountered in long_scalars\n",
      "  precision_class_one = TP / (TP + FP)\n",
      "C:\\Users\\James\\AppData\\Local\\Temp\\ipykernel_18756\\1740219387.py:20: RuntimeWarning: invalid value encountered in long_scalars\n",
      "  precision_class_one = TP / (TP + FP)\n"
     ]
    },
    {
     "name": "stdout",
     "output_type": "stream",
     "text": [
      "9/9 [==============================] - 0s 1ms/step\n",
      "9/9 [==============================] - 0s 2ms/step\n"
     ]
    },
    {
     "name": "stderr",
     "output_type": "stream",
     "text": [
      "C:\\Users\\James\\AppData\\Local\\Temp\\ipykernel_18756\\1740219387.py:20: RuntimeWarning: invalid value encountered in long_scalars\n",
      "  precision_class_one = TP / (TP + FP)\n",
      "C:\\Users\\James\\AppData\\Local\\Temp\\ipykernel_18756\\1740219387.py:20: RuntimeWarning: invalid value encountered in long_scalars\n",
      "  precision_class_one = TP / (TP + FP)\n"
     ]
    },
    {
     "name": "stdout",
     "output_type": "stream",
     "text": [
      "9/9 [==============================] - 0s 2ms/step\n",
      "9/9 [==============================] - 0s 2ms/step\n",
      "9/9 [==============================] - 0s 2ms/step\n"
     ]
    },
    {
     "name": "stderr",
     "output_type": "stream",
     "text": [
      "C:\\Users\\James\\AppData\\Local\\Temp\\ipykernel_18756\\1740219387.py:20: RuntimeWarning: invalid value encountered in long_scalars\n",
      "  precision_class_one = TP / (TP + FP)\n",
      "C:\\Users\\James\\AppData\\Local\\Temp\\ipykernel_18756\\1740219387.py:20: RuntimeWarning: invalid value encountered in long_scalars\n",
      "  precision_class_one = TP / (TP + FP)\n"
     ]
    },
    {
     "name": "stdout",
     "output_type": "stream",
     "text": [
      "9/9 [==============================] - 0s 1ms/step\n",
      "9/9 [==============================] - 0s 2ms/step\n",
      "9/9 [==============================] - 0s 2ms/step\n",
      "1/9 [==>...........................] - ETA: 0s"
     ]
    },
    {
     "name": "stderr",
     "output_type": "stream",
     "text": [
      "C:\\Users\\James\\AppData\\Local\\Temp\\ipykernel_18756\\1740219387.py:20: RuntimeWarning: invalid value encountered in long_scalars\n",
      "  precision_class_one = TP / (TP + FP)\n",
      "C:\\Users\\James\\AppData\\Local\\Temp\\ipykernel_18756\\1740219387.py:20: RuntimeWarning: invalid value encountered in long_scalars\n",
      "  precision_class_one = TP / (TP + FP)\n",
      "C:\\Users\\James\\AppData\\Local\\Temp\\ipykernel_18756\\1740219387.py:20: RuntimeWarning: invalid value encountered in long_scalars\n",
      "  precision_class_one = TP / (TP + FP)\n"
     ]
    },
    {
     "name": "stdout",
     "output_type": "stream",
     "text": [
      "9/9 [==============================] - 0s 1ms/step\n",
      "9/9 [==============================] - 0s 1ms/step\n",
      "9/9 [==============================] - 0s 2ms/step\n"
     ]
    },
    {
     "name": "stderr",
     "output_type": "stream",
     "text": [
      "C:\\Users\\James\\AppData\\Local\\Temp\\ipykernel_18756\\1740219387.py:20: RuntimeWarning: invalid value encountered in long_scalars\n",
      "  precision_class_one = TP / (TP + FP)\n",
      "C:\\Users\\James\\AppData\\Local\\Temp\\ipykernel_18756\\1740219387.py:20: RuntimeWarning: invalid value encountered in long_scalars\n",
      "  precision_class_one = TP / (TP + FP)\n"
     ]
    },
    {
     "name": "stdout",
     "output_type": "stream",
     "text": [
      "9/9 [==============================] - 0s 5ms/step\n",
      "9/9 [==============================] - 0s 2ms/step\n",
      "9/9 [==============================] - 0s 2ms/step\n"
     ]
    },
    {
     "name": "stderr",
     "output_type": "stream",
     "text": [
      "C:\\Users\\James\\AppData\\Local\\Temp\\ipykernel_18756\\1740219387.py:20: RuntimeWarning: invalid value encountered in long_scalars\n",
      "  precision_class_one = TP / (TP + FP)\n"
     ]
    },
    {
     "name": "stdout",
     "output_type": "stream",
     "text": [
      "9/9 [==============================] - 0s 2ms/step\n",
      "9/9 [==============================] - 0s 2ms/step\n",
      "9/9 [==============================] - 0s 2ms/step\n",
      "9/9 [==============================] - 0s 1ms/step\n"
     ]
    },
    {
     "name": "stderr",
     "output_type": "stream",
     "text": [
      "C:\\Users\\James\\AppData\\Local\\Temp\\ipykernel_18756\\1740219387.py:20: RuntimeWarning: invalid value encountered in long_scalars\n",
      "  precision_class_one = TP / (TP + FP)\n"
     ]
    },
    {
     "name": "stdout",
     "output_type": "stream",
     "text": [
      "9/9 [==============================] - 0s 2ms/step\n",
      "1/9 [==>...........................] - ETA: 0s"
     ]
    },
    {
     "name": "stderr",
     "output_type": "stream",
     "text": [
      "C:\\Users\\James\\AppData\\Local\\Temp\\ipykernel_18756\\1740219387.py:20: RuntimeWarning: invalid value encountered in long_scalars\n",
      "  precision_class_one = TP / (TP + FP)\n",
      "C:\\Users\\James\\AppData\\Local\\Temp\\ipykernel_18756\\1740219387.py:20: RuntimeWarning: invalid value encountered in long_scalars\n",
      "  precision_class_one = TP / (TP + FP)\n"
     ]
    },
    {
     "name": "stdout",
     "output_type": "stream",
     "text": [
      "9/9 [==============================] - 0s 2ms/step\n",
      "9/9 [==============================] - 0s 2ms/step\n"
     ]
    },
    {
     "name": "stderr",
     "output_type": "stream",
     "text": [
      "C:\\Users\\James\\AppData\\Local\\Temp\\ipykernel_18756\\1740219387.py:20: RuntimeWarning: invalid value encountered in long_scalars\n",
      "  precision_class_one = TP / (TP + FP)\n",
      "C:\\Users\\James\\AppData\\Local\\Temp\\ipykernel_18756\\1740219387.py:20: RuntimeWarning: invalid value encountered in long_scalars\n",
      "  precision_class_one = TP / (TP + FP)\n"
     ]
    },
    {
     "name": "stdout",
     "output_type": "stream",
     "text": [
      "9/9 [==============================] - 0s 2ms/step\n",
      "9/9 [==============================] - 0s 2ms/step\n",
      "9/9 [==============================] - 0s 2ms/step\n"
     ]
    },
    {
     "name": "stderr",
     "output_type": "stream",
     "text": [
      "C:\\Users\\James\\AppData\\Local\\Temp\\ipykernel_18756\\1740219387.py:20: RuntimeWarning: invalid value encountered in long_scalars\n",
      "  precision_class_one = TP / (TP + FP)\n"
     ]
    },
    {
     "name": "stdout",
     "output_type": "stream",
     "text": [
      "9/9 [==============================] - 0s 2ms/step\n",
      "9/9 [==============================] - 0s 2ms/step\n",
      "9/9 [==============================] - 0s 2ms/step\n",
      "9/9 [==============================] - 0s 2ms/step\n",
      "9/9 [==============================] - 0s 2ms/step\n"
     ]
    },
    {
     "name": "stderr",
     "output_type": "stream",
     "text": [
      "C:\\Users\\James\\AppData\\Local\\Temp\\ipykernel_18756\\1740219387.py:20: RuntimeWarning: invalid value encountered in long_scalars\n",
      "  precision_class_one = TP / (TP + FP)\n",
      "C:\\Users\\James\\AppData\\Local\\Temp\\ipykernel_18756\\1740219387.py:20: RuntimeWarning: invalid value encountered in long_scalars\n",
      "  precision_class_one = TP / (TP + FP)\n",
      "C:\\Users\\James\\AppData\\Local\\Temp\\ipykernel_18756\\1740219387.py:20: RuntimeWarning: invalid value encountered in long_scalars\n",
      "  precision_class_one = TP / (TP + FP)\n"
     ]
    },
    {
     "name": "stdout",
     "output_type": "stream",
     "text": [
      "9/9 [==============================] - 0s 2ms/step\n",
      "9/9 [==============================] - 0s 2ms/step\n",
      "9/9 [==============================] - 0s 2ms/step\n",
      "9/9 [==============================] - 0s 2ms/step\n",
      "9/9 [==============================] - 0s 2ms/step\n"
     ]
    },
    {
     "name": "stderr",
     "output_type": "stream",
     "text": [
      "C:\\Users\\James\\AppData\\Local\\Temp\\ipykernel_18756\\1740219387.py:20: RuntimeWarning: invalid value encountered in long_scalars\n",
      "  precision_class_one = TP / (TP + FP)\n"
     ]
    },
    {
     "name": "stdout",
     "output_type": "stream",
     "text": [
      "By random chance the precision would be 17.88%\n"
     ]
    },
    {
     "name": "stderr",
     "output_type": "stream",
     "text": [
      "C:\\Users\\James\\AppData\\Local\\Temp\\ipykernel_18756\\1740219387.py:20: RuntimeWarning: invalid value encountered in long_scalars\n",
      "  precision_class_one = TP / (TP + FP)\n"
     ]
    }
   ],
   "source": [
    "print(models)\n",
    "from tensorflow.keras.metrics import BinaryAccuracy\n",
    "\n",
    "for i, model in enumerate(models):  \n",
    "      y_pred = model.predict(Dataset_test)  # Assuming Dataset_test is your test data\n",
    "      y_pred = (y_pred > 0.5).astype(int)  # Convert probabilities to class labels (0 or 1)\n",
    "\n",
    "      conf_matrix = np.zeros((2, 2), dtype=int)\n",
    "      conf_matrix[0, 0] = np.sum((Labels_test.values == 0) & (y_pred == 0))  # True Negatives (TN)\n",
    "      conf_matrix[0, 1] = np.sum((Labels_test.values == 0) & (y_pred == 1))  # False Positives (FP)\n",
    "      conf_matrix[1, 0] = np.sum((Labels_test.values == 1) & (y_pred == 0))  # False Negatives (FN)\n",
    "      conf_matrix[1, 1] = np.sum((Labels_test.values == 1) & (y_pred == 1))  # True Positives (TP)\n",
    "\n",
    "      # Extract true negatives (TN), false positives (FP), true positives (TP), and false negatives (FN) from the confusion matrix\n",
    "      TN, FP, TP, FN = conf_matrix[0, 0], conf_matrix[0, 1], conf_matrix[1, 1], conf_matrix[1, 0]\n",
    "\n",
    "      # Calculate specificity, sensitivity, precision, NPV, and accuracy\n",
    "      specificity = TN / (TN + FP)\n",
    "      sensitivity = TP / (TP + FN)\n",
    "      precision_class_one = TP / (TP + FP)\n",
    "      Negative_Predictive_Value = TN / (TN + FN)\n",
    "      accuracy = (TP + TN) / (TP + TN + FP + FN)\n",
    "\n",
    "      # Print the metrics\n",
    "      \"\"\"\n",
    "      print(f\"Model {i+1}\")\n",
    "      print(f\"Sensitivity: {sensitivity * 100:.2f}%,\",\n",
    "            f\"Specificity: {specificity * 100:.2f}%,\",\n",
    "            f\"Accuracy: {accuracy * 100:.2f}%,\",\n",
    "            f\"Negative Predictive Value: {Negative_Predictive_Value * 100:.2f}%,\",\n",
    "            f\"Precision (Class One): {precision_class_one * 100:.2f}%\")\n",
    "      print(f\"True Negatives (TN): {TN},\",\n",
    "            f\"False Positives (FP): {FP},\",\n",
    "            f\"True Positives (TP): {TP},\",\n",
    "            f\"False Negatives (FN): {FN}\")\n",
    "      \"\"\"\n",
    "\n",
    "      if sensitivity > 0.4 and specificity >0.8:\n",
    "            print(\"Green\")\n",
    "            print(f\"Model {i+1}\")\n",
    "            print(f\"Sensitivity: {sensitivity * 100:.2f}%,\",\n",
    "                  f\"Specificity: {specificity * 100:.2f}%,\",\n",
    "                  f\"Accuracy: {accuracy * 100:.2f}%,\",\n",
    "                  f\"Negative Predictive Value: {Negative_Predictive_Value * 100:.2f}%,\",\n",
    "                  f\"Precision (Class One): {precision_class_one * 100:.2f}%\")\n",
    "            print(f\"True Negatives (TN): {TN},\",\n",
    "                  f\"False Positives (FP): {FP},\",\n",
    "                  f\"True Positives (TP): {TP},\",\n",
    "                  f\"False Negatives (FN): {FN}\")\n",
    "\n",
    "Proportion = Labels_test[\"Class\"].value_counts()\n",
    "print(\"By random chance the precision would be {:.2f}%\".format(Proportion[1] / (Proportion[0] + Proportion[1]) * 100))\n"
   ]
  },
  {
   "cell_type": "code",
   "execution_count": 15,
   "metadata": {},
   "outputs": [
    {
     "name": "stdout",
     "output_type": "stream",
     "text": [
      "9/9 [==============================] - 0s 2ms/step\n",
      "Specificity: 99.54% Sensitivity: 6.25% Accuracy: 82.58% Negative Predictive Value: 82.69% Precision (Class One): 75.00%\n",
      "True Negatives (TN): 215 False Positives (FP): 1 True Positives (TP): 3 False Negatives (FN): 45\n"
     ]
    }
   ],
   "source": [
    "import numpy as np\n",
    "\n",
    "# Assuming y_true and y_pred are numpy arrays representing the true labels and predicted labels, respectively.\n",
    "# 1 represents the positive class, and 0 represents the negative class.\n",
    "y_pred=model.predict(Dataset_test)\n",
    "# Compute the confusion matrix\n",
    "conf_matrix = np.zeros((2, 2), dtype=int)\n",
    "conf_matrix[0, 0] = np.sum((Labels_test.values == 0) & (y_pred == 0))  # True Negatives (TN)\n",
    "conf_matrix[0, 1] = np.sum((Labels_test.values== 0) & (y_pred == 1))  # False Positives (FP)\n",
    "conf_matrix[1, 0] = np.sum((Labels_test.values == 1) & (y_pred == 0))  # False Negatives (FN)\n",
    "conf_matrix[1, 1] = np.sum((Labels_test.values == 1) & (y_pred == 1))  # True Positives (TP)\n",
    "\n",
    "# Extract true negatives (TN) and false positives (FP) from the confusion matrix\n",
    "TN = conf_matrix[0, 0]\n",
    "FP = conf_matrix[0, 1]\n",
    "TP = conf_matrix[1, 1]\n",
    "FN = conf_matrix[1, 0]\n",
    "# Calculate specificity\n",
    "specificity = TN / (TN + FP)\n",
    "sensitivity = TP / (TP + FN)\n",
    "precision_class_one=TP/(TP+FP)\n",
    "Negative_Predictive_Value=TN/(TN+FN)\n",
    "accuracy=(TP+TN)/(TP+TN+FP+FN)\n",
    "print(f\"Specificity: {specificity * 100:.2f}%\",\n",
    "      f\"Sensitivity: {sensitivity * 100:.2f}%\",\n",
    "      f\"Accuracy: {accuracy * 100:.2f}%\",\n",
    "      f\"Negative Predictive Value: {Negative_Predictive_Value * 100:.2f}%\",\n",
    "      f\"Precision (Class One): {precision_class_one * 100:.2f}%\")\n",
    "print(f\"True Negatives (TN): {TN}\",\n",
    "      f\"False Positives (FP): {FP}\",\n",
    "      f\"True Positives (TP): {TP}\",\n",
    "      f\"False Negatives (FN): {FN}\")\n"
   ]
  },
  {
   "cell_type": "code",
   "execution_count": null,
   "metadata": {},
   "outputs": [
    {
     "name": "stdout",
     "output_type": "stream",
     "text": [
      "9/9 [==============================] - 0s 4ms/step\n",
      "78.66666666666666 46.93877551020408 72.99270072992701 87.192118226601 32.3943661971831\n",
      "177 48 23 26\n"
     ]
    }
   ],
   "source": [
    "import tensorflow as tf\n",
    "\n",
    "# Assuming `model` is your trained model\n",
    "# Assuming `X_test` is your test data and `y_test` are your test labels\n",
    "y_pred = DiseaseModel.predict(Dataset_test)  # assuming x_test is your test data\n",
    "y_pred = (y_pred > 0.5).astype(int)\n",
    "conf_matrix = np.zeros((2, 2), dtype=int)\n",
    "conf_matrix[0, 0] = np.sum((Labels_test.values == 0) & (y_pred == 0))  # True Negatives (TN)\n",
    "conf_matrix[0, 1] = np.sum((Labels_test.values== 0) & (y_pred == 1))  # False Positives (FP)\n",
    "conf_matrix[1, 0] = np.sum((Labels_test.values == 1) & (y_pred == 0))  # False Negatives (FN)\n",
    "conf_matrix[1, 1] = np.sum((Labels_test.values == 1) & (y_pred == 1))  # True Positives (TP)\n",
    "\n",
    "# Extract true negatives (TN) and false positives (FP) from the confusion matrix\n",
    "TN = conf_matrix[0, 0]\n",
    "FP = conf_matrix[0, 1]\n",
    "TP = conf_matrix[1, 1]\n",
    "FN = conf_matrix[1, 0]\n",
    "# Calculate specificity\n",
    "specificity = TN / (TN + FP)\n",
    "sensitivity = TP / (TP + FN)\n",
    "precision_class_one=TP/(TP+FP)\n",
    "Negative_Predictive_Value=TN/(TN+FN)\n",
    "accuracy=(TP+TN)/(TP+TN+FP+FN)\n",
    "print(specificity*100,sensitivity*100,accuracy*100,Negative_Predictive_Value*100,precision_class_one*100)\n",
    "print(TN,FP,TP,FN)"
   ]
  }
 ],
 "metadata": {
  "kernelspec": {
   "display_name": "base",
   "language": "python",
   "name": "python3"
  },
  "language_info": {
   "codemirror_mode": {
    "name": "ipython",
    "version": 3
   },
   "file_extension": ".py",
   "mimetype": "text/x-python",
   "name": "python",
   "nbconvert_exporter": "python",
   "pygments_lexer": "ipython3",
   "version": "3.9.16"
  },
  "orig_nbformat": 4
 },
 "nbformat": 4,
 "nbformat_minor": 2
}
