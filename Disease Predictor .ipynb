{
 "cells": [
  {
   "attachments": {},
   "cell_type": "markdown",
   "id": "504c7504",
   "metadata": {},
   "source": [
    "# Binary Classification Model for Disease Prediction\n"
   ]
  },
  {
   "attachments": {},
   "cell_type": "markdown",
   "id": "b7e443a0",
   "metadata": {},
   "source": [
    "# Part 1: Installation of necessary libraries"
   ]
  },
  {
   "cell_type": "code",
   "execution_count": 4,
   "id": "075f7d68",
   "metadata": {},
   "outputs": [],
   "source": [
    "import numpy as np\n",
    "import pandas as pd\n",
    "import os \n",
    "import random\n",
    "import tensorflow\n",
    "import plotly\n"
   ]
  },
  {
   "attachments": {},
   "cell_type": "markdown",
   "id": "55effada",
   "metadata": {},
   "source": [
    "# Part 2: Download of patient data with corresponding disease status"
   ]
  },
  {
   "cell_type": "code",
   "execution_count": null,
   "id": "62fced34",
   "metadata": {},
   "outputs": [],
   "source": [
    "Dataframe="
   ]
  },
  {
   "attachments": {},
   "cell_type": "markdown",
   "id": "48b8c0f2",
   "metadata": {},
   "source": [
    "# Part 3 : Exploratory Data Analysis\n"
   ]
  },
  {
   "attachments": {},
   "cell_type": "markdown",
   "id": "dd619990",
   "metadata": {},
   "source": [
    "# Part 4 : Generating New Data Features"
   ]
  },
  {
   "attachments": {},
   "cell_type": "markdown",
   "id": "2c4a3a03",
   "metadata": {},
   "source": [
    "# Part 5 : Creation of a machine learning model"
   ]
  },
  {
   "attachments": {},
   "cell_type": "markdown",
   "id": "6484ebba",
   "metadata": {},
   "source": [
    "# Part 6 : Analysis of models efficiency and loss values"
   ]
  },
  {
   "attachments": {},
   "cell_type": "markdown",
   "id": "cda96f52",
   "metadata": {},
   "source": [
    "# Part 7 : Log of models"
   ]
  },
  {
   "cell_type": "code",
   "execution_count": null,
   "id": "aeac1bc1",
   "metadata": {},
   "outputs": [],
   "source": []
  }
 ],
 "metadata": {
  "kernelspec": {
   "display_name": "Python 3 (ipykernel)",
   "language": "python",
   "name": "python3"
  },
  "language_info": {
   "codemirror_mode": {
    "name": "ipython",
    "version": 3
   },
   "file_extension": ".py",
   "mimetype": "text/x-python",
   "name": "python",
   "nbconvert_exporter": "python",
   "pygments_lexer": "ipython3",
   "version": "3.9.16"
  },
  "varInspector": {
   "cols": {
    "lenName": 16,
    "lenType": 16,
    "lenVar": 40
   },
   "kernels_config": {
    "python": {
     "delete_cmd_postfix": "",
     "delete_cmd_prefix": "del ",
     "library": "var_list.py",
     "varRefreshCmd": "print(var_dic_list())"
    },
    "r": {
     "delete_cmd_postfix": ") ",
     "delete_cmd_prefix": "rm(",
     "library": "var_list.r",
     "varRefreshCmd": "cat(var_dic_list()) "
    }
   },
   "types_to_exclude": [
    "module",
    "function",
    "builtin_function_or_method",
    "instance",
    "_Feature"
   ],
   "window_display": false
  }
 },
 "nbformat": 4,
 "nbformat_minor": 5
}
