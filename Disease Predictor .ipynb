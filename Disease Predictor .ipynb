{
 "cells": [
  {
   "attachments": {},
   "cell_type": "markdown",
   "id": "504c7504",
   "metadata": {},
   "source": [
    "# Binary Classification Model for Disease Prediction\n"
   ]
  },
  {
   "attachments": {},
   "cell_type": "markdown",
   "id": "b7e443a0",
   "metadata": {},
   "source": [
    "# Part 1: Installation of necessary libraries"
   ]
  },
  {
   "cell_type": "code",
   "execution_count": 159,
   "id": "075f7d68",
   "metadata": {},
   "outputs": [],
   "source": [
    "import numpy as np\n",
    "import pandas as pd\n",
    "import os \n",
    "import random\n",
    "import tensorflow\n",
    "from scipy.spatial import distance\n"
   ]
  },
  {
   "attachments": {},
   "cell_type": "markdown",
   "id": "55effada",
   "metadata": {},
   "source": [
    "# Part 2: Download of patient data with corresponding disease status"
   ]
  },
  {
   "cell_type": "code",
   "execution_count": 160,
   "id": "62fced34",
   "metadata": {},
   "outputs": [
    {
     "name": "stdout",
     "output_type": "stream",
     "text": [
      "               Id        AB          AF          AH          AM         AR   \n",
      "0    000ff2bfdfe9  0.209377  3109.03329   85.200147   22.394407   8.138688  \\\n",
      "1    007255e47698  0.145282   978.76416   85.200147   36.968889   8.138688   \n",
      "2    013f2bd269f5  0.470030  2635.10654   85.200147   32.360553   8.138688   \n",
      "3    043ac50845d5  0.252107  3819.65177  120.201618   77.112203   8.138688   \n",
      "4    044fb8a146ec  0.380297  3733.04844   85.200147   14.103738   8.138688   \n",
      "..            ...       ...         ...         ...         ...        ...   \n",
      "612  fd3dafe738fd  0.149555  3130.05946  123.763599    9.513984  13.020852   \n",
      "613  fd895603f071  0.435846  5462.03438   85.200147   46.551007  15.973224   \n",
      "614  fd8ef6377f76  0.427300  2459.10720  130.138587   55.355778  10.005552   \n",
      "615  fe1942975e40  0.363205  1263.53524   85.200147   23.685856   8.138688   \n",
      "616  ffcca4ded3bb  0.482849  2672.53426  546.663930  112.006102   8.138688   \n",
      "\n",
      "           AX        AY         AZ          BC         BD        BN   \n",
      "0    0.699861  0.025578   9.812214    5.555634  4126.58731  22.5984  \\\n",
      "1    3.632190  0.025578  13.517790    1.229900  5496.92824  19.4205   \n",
      "2    6.732840  0.025578  12.824570    1.229900  5135.78024  26.4825   \n",
      "3    3.685344  0.025578  11.053708    1.229900  4169.67738  23.6577   \n",
      "4    3.942255  0.054810   3.396778  102.151980  5728.73412  24.0108   \n",
      "..        ...       ...        ...         ...         ...      ...   \n",
      "612  3.499305  0.077343   8.545512    2.804172  4157.68439  21.1860   \n",
      "613  5.979825  0.025882  12.622906    3.777550  5654.07556  27.1887   \n",
      "614  8.070549  0.025578  15.408390    1.229900  5888.87769  20.4798   \n",
      "615  7.981959  0.025578   7.524588    1.229900  4517.86560  19.0674   \n",
      "616  3.198099  0.116928   3.396778    7.948668  2818.01707  21.1860   \n",
      "\n",
      "             BP          BQ           BR          BZ         CB        CC   \n",
      "0    175.638726  152.707705   823.928241  257.432377  47.223358  0.563481  \\\n",
      "1    155.868030   14.754720    51.216883  257.432377  30.284345  0.484710   \n",
      "2    128.988531  219.320160   482.141594  257.432377  32.563713  0.495852   \n",
      "3    237.282264   11.050410   661.518640  257.432377  15.201914  0.717882   \n",
      "4    324.546318  149.717165  6074.859475  257.432377  82.213495  0.536467   \n",
      "..          ...         ...          ...         ...        ...       ...   \n",
      "612  167.877117   27.287375   365.516874  257.432377  41.368691  0.691257   \n",
      "613  285.628059  344.644105   505.006814  257.432377  61.910576  0.772304   \n",
      "614  178.661133  103.988995  2083.880500  257.432377  90.411867  0.708616   \n",
      "615  119.162529         NaN   722.377629  257.432377  12.499760  0.602254   \n",
      "616  306.127863    6.090490   747.474930  257.432377  67.222974  0.644837   \n",
      "\n",
      "            CD          CF        CH        CL        CR         CS        CU   \n",
      "0     23.387600   4.851915  0.023482  1.050225  0.069225  13.784111  1.302012  \\\n",
      "1     50.628208   6.085041  0.031442  1.113875  1.117800  28.310953  1.357182   \n",
      "2     85.955376   5.376488  0.036218  1.050225  0.700350  39.364743  1.009611   \n",
      "3     88.159360   2.347652  0.029054  1.400300  0.636075  41.116960  0.722727   \n",
      "4     72.644264  30.537722  0.025472  1.050225  0.693150  31.724726  0.827550   \n",
      "..          ...        ...       ...       ...       ...        ...       ...   \n",
      "612   55.163024   4.780452  0.013930  1.177525  0.698250  40.159779  1.070298   \n",
      "613   85.233928   6.682597  0.038208  1.050225  0.761025  39.852923  2.146113   \n",
      "614  142.680216   7.809288  0.027462  1.495775  0.879825  39.364743  1.489590   \n",
      "615  122.939496   2.964975  0.022288  1.050225  0.583125  34.367872  1.428903   \n",
      "616  271.240664  10.479286  0.076018  1.241175  2.404275  42.799438  0.915822   \n",
      "\n",
      "           CW          DA          DE        DF        DH          DI   \n",
      "0    36.205956   69.08340  295.570575  0.238680  0.284232   89.245560  \\\n",
      "1    37.476568   70.79836  178.553100  0.238680  0.363489  110.581815   \n",
      "2    21.459644   70.81970  321.426625  0.238680  0.210441  120.056438   \n",
      "3    21.530392   47.27586  196.607985  0.238680  0.292431  139.824570   \n",
      "4    34.415360   74.06532  200.178160  0.238680  0.207708   97.920120   \n",
      "..         ...        ...         ...       ...       ...         ...   \n",
      "612   7.030640   21.75904  355.930925  0.238680  0.445479  176.977590   \n",
      "613  33.648356   43.90996  157.393715  0.238680  0.437280  192.598575   \n",
      "614  36.807176  104.62032  223.209115  0.238680  0.382620  218.915925   \n",
      "615  36.699352   51.04140  112.196630  0.532818  0.549333  113.526045   \n",
      "616  37.824144   35.72704  889.496905  0.238680  0.172179  156.345390   \n",
      "\n",
      "            DL         DN        DU       DV         DY         EB        EE   \n",
      "0     84.31664  29.657104  5.310690  1.74307  23.187704   7.294176  1.987283  \\\n",
      "1     75.74548  37.532000  0.005518  1.74307  17.222328   4.926396  0.858603   \n",
      "2     65.46984  28.053464  1.289739  1.74307  36.861352   7.813674  8.146651   \n",
      "3     71.57120  24.354856  2.655345  1.74307  52.003884   7.386060  3.813326   \n",
      "4     52.83888  26.019912  1.144902  1.74307   9.064856   7.350720  3.490846   \n",
      "..         ...        ...       ...      ...        ...        ...       ...   \n",
      "612   90.91832  27.957928  0.005518  2.41906  32.508604   8.015112  1.354416   \n",
      "613  123.17624  26.750080  0.648318  1.74307  18.197092   8.976360  0.753797   \n",
      "614  326.23620  26.463472  0.005518  1.74307  47.552312   9.478188  2.225112   \n",
      "615   96.97092  27.104928  0.510378  1.74307  38.271840  10.078968  1.628524   \n",
      "616   82.54008  21.086160  0.005518  1.74307  24.499368   7.873752  2.374259   \n",
      "\n",
      "               EG        EH EJ          EL          EP          EU   \n",
      "0     1433.166750  0.949104  B   30.879420   78.526968    3.828384  \\\n",
      "1     1111.287150  0.003042  A  109.125159   95.415086   52.260480   \n",
      "2     1494.076488  0.377208  B  109.125159   78.526968    5.390628   \n",
      "3    15691.552180  0.614484  B   31.674357   78.526968   31.323372   \n",
      "4     1403.656300  0.164268  B  109.125159   91.994825   51.141336   \n",
      "..            ...       ... ..         ...         ...         ...   \n",
      "612    495.086300  0.003042  A   51.618996   78.526968   65.821872   \n",
      "613   1722.674025  0.139932  B  109.125159  114.801199  447.657600   \n",
      "614   2565.402825  0.003042  A  109.125159   87.397401    3.828384   \n",
      "615   1318.962875  0.139932  B         NaN   99.706633    8.259384   \n",
      "616    912.311525  0.003042  A   15.960087  181.218219   78.370464   \n",
      "\n",
      "             FC        FD             FE         FI         FL        FR   \n",
      "0     13.394640  10.265073   9028.291921   3.583450   7.298162   1.73855  \\\n",
      "1     17.175984   0.296850   6785.003474  10.358927   0.173229   0.49706   \n",
      "2    224.207424   8.745201   8338.906181  11.626917   7.709560   0.97556   \n",
      "3     59.301984   7.884336  10965.766040  14.852022   6.122162   0.49706   \n",
      "4     29.102640   4.274640  16198.049590  13.666727   8.153058  48.50134   \n",
      "..          ...        ...           ...        ...        ...       ...   \n",
      "612   29.708112   0.296850  17167.209610   9.879296   0.173229   1.26092   \n",
      "613   69.343680   6.067614  18460.330020  10.910227  10.223150   1.24236   \n",
      "614   71.725584   0.296850   5088.922912  12.029366   0.173229   0.49706   \n",
      "615   38.133312   6.192291   6464.250832   8.026928   9.256996   0.78764   \n",
      "616   66.893232   0.296850   5895.352262   7.745765   0.173229   1.14492   \n",
      "\n",
      "           FS         GB          GE            GF         GH          GI   \n",
      "0    0.094822  11.339138   72.611063   2003.810319  22.136229   69.834944  \\\n",
      "1    0.568932   9.292698   72.611063  27981.562750  29.135430   32.131996   \n",
      "2    1.198821  37.077772   88.609437  13676.957810  28.022851   35.192676   \n",
      "3    0.284466  18.529584   82.416803   2094.262452  39.948656   90.493248   \n",
      "4    0.121914  16.408728  146.109943   8524.370502  45.381316   36.262628   \n",
      "..        ...        ...         ...           ...        ...         ...   \n",
      "612  0.067730   8.967128  217.148554   8095.932828  24.640462   69.191944   \n",
      "613  0.426699  35.896418  496.994214   3085.308063  29.648928  124.808872   \n",
      "614  0.067730  19.962092  128.896894   6474.652866  26.166072  119.559420   \n",
      "615  0.670527  24.594488   72.611063   1965.343176  25.116750   37.155112   \n",
      "616  0.149006  13.673940   72.611063   6850.484442  45.745974  114.842372   \n",
      "\n",
      "            GL  Class  \n",
      "0     0.120343      1  \n",
      "1    21.978000      0  \n",
      "2     0.196941      0  \n",
      "3     0.155829      0  \n",
      "4     0.096614      1  \n",
      "..         ...    ...  \n",
      "612  21.978000      0  \n",
      "613   0.145340      0  \n",
      "614  21.978000      0  \n",
      "615   0.184622      0  \n",
      "616  21.978000      0  \n",
      "\n",
      "[617 rows x 58 columns]\n"
     ]
    }
   ],
   "source": [
    "pd.set_option(\"display.max_columns\", None) # This ensures the full dataframe is visulised and not truncated\n",
    "disease_data = pd.read_csv('Training.csv')\n",
    "print(disease_data)\n"
   ]
  },
  {
   "attachments": {},
   "cell_type": "markdown",
   "id": "48b8c0f2",
   "metadata": {},
   "source": [
    "# Part 3 : Exploratory Data Analysis\n"
   ]
  },
  {
   "cell_type": "code",
   "execution_count": 161,
   "id": "88541f05",
   "metadata": {},
   "outputs": [
    {
     "name": "stdout",
     "output_type": "stream",
     "text": [
      "Index(['AB', 'AF', 'AH', 'AM', 'AR', 'AX', 'AY', 'AZ', 'BC', 'BD ', 'BN', 'BP',\n",
      "       'BQ', 'BR', 'BZ', 'CB', 'CC', 'CD ', 'CF', 'CH', 'CL', 'CR', 'CS', 'CU',\n",
      "       'CW ', 'DA', 'DE', 'DF', 'DH', 'DI', 'DL', 'DN', 'DU', 'DV', 'DY', 'EB',\n",
      "       'EE', 'EG', 'EH', 'EJ', 'EL', 'EP', 'EU', 'FC', 'FD ', 'FE', 'FI', 'FL',\n",
      "       'FR', 'FS', 'GB', 'GE', 'GF', 'GH', 'GI', 'GL', 'Class'],\n",
      "      dtype='object')\n"
     ]
    }
   ],
   "source": [
    "#print(len(disease_data.columns))\n",
    "disease_data['EJ'] = disease_data['EJ'].map({'A': 0, 'B': 1})\n",
    "disease_data_description = disease_data.describe()\n",
    "print((disease_data_description.columns))\n",
    "#disease_data.dtypes"
   ]
  },
  {
   "cell_type": "code",
   "execution_count": 162,
   "id": "1e87815b",
   "metadata": {},
   "outputs": [
    {
     "name": "stdout",
     "output_type": "stream",
     "text": [
      "Class\n",
      "0    509\n",
      "1    108\n",
      "Name: count, dtype: int64\n"
     ]
    }
   ],
   "source": [
    "\n",
    "Classes=disease_data[\"Class\"].value_counts()\n",
    "print(Classes) # 0 is a disease free individual 1 is a disease carrying individual"
   ]
  },
  {
   "cell_type": "code",
   "execution_count": 163,
   "id": "122bc4df",
   "metadata": {},
   "outputs": [
    {
     "name": "stdout",
     "output_type": "stream",
     "text": [
      "Id        0\n",
      "AB        0\n",
      "AF        0\n",
      "AH        0\n",
      "AM        0\n",
      "AR        0\n",
      "AX        0\n",
      "AY        0\n",
      "AZ        0\n",
      "BC        0\n",
      "BD        0\n",
      "BN        0\n",
      "BP        0\n",
      "BQ       60\n",
      "BR        0\n",
      "BZ        0\n",
      "CB        2\n",
      "CC        3\n",
      "CD        0\n",
      "CF        0\n",
      "CH        0\n",
      "CL        0\n",
      "CR        0\n",
      "CS        0\n",
      "CU        0\n",
      "CW        0\n",
      "DA        0\n",
      "DE        0\n",
      "DF        0\n",
      "DH        0\n",
      "DI        0\n",
      "DL        0\n",
      "DN        0\n",
      "DU        1\n",
      "DV        0\n",
      "DY        0\n",
      "EB        0\n",
      "EE        0\n",
      "EG        0\n",
      "EH        0\n",
      "EJ        0\n",
      "EL       60\n",
      "EP        0\n",
      "EU        0\n",
      "FC        1\n",
      "FD        0\n",
      "FE        0\n",
      "FI        0\n",
      "FL        1\n",
      "FR        0\n",
      "FS        2\n",
      "GB        0\n",
      "GE        0\n",
      "GF        0\n",
      "GH        0\n",
      "GI        0\n",
      "GL        1\n",
      "Class     0\n",
      "dtype: int64\n"
     ]
    },
    {
     "data": {
      "text/plain": [
       "Id       0\n",
       "AB       0\n",
       "AF       0\n",
       "AH       0\n",
       "AM       0\n",
       "AR       0\n",
       "AX       0\n",
       "AY       0\n",
       "AZ       0\n",
       "BC       0\n",
       "BD       0\n",
       "BN       0\n",
       "BP       0\n",
       "BQ       0\n",
       "BR       0\n",
       "BZ       0\n",
       "CB       0\n",
       "CC       0\n",
       "CD       0\n",
       "CF       0\n",
       "CH       0\n",
       "CL       0\n",
       "CR       0\n",
       "CS       0\n",
       "CU       0\n",
       "CW       0\n",
       "DA       0\n",
       "DE       0\n",
       "DF       0\n",
       "DH       0\n",
       "DI       0\n",
       "DL       0\n",
       "DN       0\n",
       "DU       0\n",
       "DV       0\n",
       "DY       0\n",
       "EB       0\n",
       "EE       0\n",
       "EG       0\n",
       "EH       0\n",
       "EJ       0\n",
       "EL       0\n",
       "EP       0\n",
       "EU       0\n",
       "FC       0\n",
       "FD       0\n",
       "FE       0\n",
       "FI       0\n",
       "FL       0\n",
       "FR       0\n",
       "FS       0\n",
       "GB       0\n",
       "GE       0\n",
       "GF       0\n",
       "GH       0\n",
       "GI       0\n",
       "GL       0\n",
       "Class    0\n",
       "dtype: int64"
      ]
     },
     "execution_count": 163,
     "metadata": {},
     "output_type": "execute_result"
    }
   ],
   "source": [
    "\n",
    "print(disease_data.isnull().sum())\n",
    "disease_data=disease_data.dropna()\n",
    "disease_data.isnull().sum()\n"
   ]
  },
  {
   "attachments": {},
   "cell_type": "markdown",
   "id": "dd619990",
   "metadata": {},
   "source": [
    "# Part 4 : Generating New Data Features"
   ]
  },
  {
   "cell_type": "code",
   "execution_count": null,
   "id": "d0a1e0bb",
   "metadata": {},
   "outputs": [],
   "source": []
  },
  {
   "cell_type": "code",
   "execution_count": 164,
   "id": "7b1ce80d",
   "metadata": {},
   "outputs": [],
   "source": [
    "def euclidean_distance(sample1, sample2):\n",
    "    \"\"\"Calculate the Euclidean distance between two samples.\"\"\"\n",
    "    return distance.euclidean(sample1, sample2)\n",
    "\n",
    "def euclidean_feature_generator(Sample_List):\n",
    "    euclidean_feature_dataframe=pandas.DataFrame()\n",
    "    for Sample in Sample_List:\n",
    "        SamplePairsData=[]\n",
    "        SamplePairsColumns=[]\n",
    "        for Alternate_Sample in Sample_List:\n",
    "            if Sample!=Alternate_Sample:\n",
    "                SamplePairsData.append(euclidean_distance(Sample,Alternate_Sample))\n",
    "                SamplePairsColumns.append(\"{A}-{B}\".format(A=Sample,B=Alternate_Sample))\n",
    "            else:\n",
    "                pass\n",
    "        euclidean_feature_dataframe.append(SamplePairsData)\n",
    "        temp_df = pd.DataFrame([SamplePairsData], columns=SamplePairsColumns)\n",
    "        euclidean_feature_dataframe = euclidean_feature_dataframe.append(temp_df, ignore_index=True)\n",
    "    return(euclidean_feature_dataframe)\n",
    "    euclidean_feature_generator()        "
   ]
  },
  {
   "attachments": {},
   "cell_type": "markdown",
   "id": "2c4a3a03",
   "metadata": {},
   "source": [
    "# Part 5 : Creation of a machine learning model"
   ]
  },
  {
   "attachments": {},
   "cell_type": "markdown",
   "id": "6484ebba",
   "metadata": {},
   "source": [
    "# Part 6 : Analysis of models efficiency and loss values"
   ]
  },
  {
   "attachments": {},
   "cell_type": "markdown",
   "id": "cda96f52",
   "metadata": {},
   "source": [
    "# Part 7 : Log of models"
   ]
  },
  {
   "cell_type": "code",
   "execution_count": null,
   "id": "aeac1bc1",
   "metadata": {},
   "outputs": [],
   "source": []
  }
 ],
 "metadata": {
  "kernelspec": {
   "display_name": "Python 3 (ipykernel)",
   "language": "python",
   "name": "python3"
  },
  "language_info": {
   "codemirror_mode": {
    "name": "ipython",
    "version": 3
   },
   "file_extension": ".py",
   "mimetype": "text/x-python",
   "name": "python",
   "nbconvert_exporter": "python",
   "pygments_lexer": "ipython3",
   "version": "3.9.16"
  },
  "varInspector": {
   "cols": {
    "lenName": 16,
    "lenType": 16,
    "lenVar": 40
   },
   "kernels_config": {
    "python": {
     "delete_cmd_postfix": "",
     "delete_cmd_prefix": "del ",
     "library": "var_list.py",
     "varRefreshCmd": "print(var_dic_list())"
    },
    "r": {
     "delete_cmd_postfix": ") ",
     "delete_cmd_prefix": "rm(",
     "library": "var_list.r",
     "varRefreshCmd": "cat(var_dic_list()) "
    }
   },
   "types_to_exclude": [
    "module",
    "function",
    "builtin_function_or_method",
    "instance",
    "_Feature"
   ],
   "window_display": false
  }
 },
 "nbformat": 4,
 "nbformat_minor": 5
}
